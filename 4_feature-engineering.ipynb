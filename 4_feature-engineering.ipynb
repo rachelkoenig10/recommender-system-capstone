{
 "cells": [
  {
   "cell_type": "markdown",
   "metadata": {},
   "source": [
    "## Feature Engineering with NLTK  \n",
    "_By: Rachel Koenig_ \n",
    "____"
   ]
  },
  {
   "cell_type": "markdown",
   "metadata": {},
   "source": [
    "Imports "
   ]
  },
  {
   "cell_type": "code",
   "execution_count": 10,
   "metadata": {},
   "outputs": [],
   "source": [
    "#Import pandas \n",
    "import pandas as pd\n",
    "#Import Natual Language Toolkit\n",
    "import nltk\n",
    "#Import Beautiful Soup\n",
    "from bs4 import BeautifulSoup   \n",
    "#Import string for list of punctuation\n",
    "import string\n",
    "# Import the stop word list\n",
    "from nltk.corpus import stopwords \n",
    "# Import Tokenizer\n",
    "from nltk.tokenize import RegexpTokenizer\n",
    "#Import Lemmatizer\n",
    "from nltk.stem import WordNetLemmatizer\n",
    "# Import stemmer.\n",
    "from nltk.stem.porter import PorterStemmer"
   ]
  },
  {
   "cell_type": "markdown",
   "metadata": {},
   "source": [
    "Read in csv."
   ]
  },
  {
   "cell_type": "code",
   "execution_count": 11,
   "metadata": {},
   "outputs": [],
   "source": [
    "df = pd.read_csv('data/reviews_and_products.csv', index_col=[0], low_memory=False)"
   ]
  },
  {
   "cell_type": "code",
   "execution_count": 12,
   "metadata": {},
   "outputs": [
    {
     "data": {
      "text/html": [
       "<div>\n",
       "<style scoped>\n",
       "    .dataframe tbody tr th:only-of-type {\n",
       "        vertical-align: middle;\n",
       "    }\n",
       "\n",
       "    .dataframe tbody tr th {\n",
       "        vertical-align: top;\n",
       "    }\n",
       "\n",
       "    .dataframe thead th {\n",
       "        text-align: right;\n",
       "    }\n",
       "</style>\n",
       "<table border=\"1\" class=\"dataframe\">\n",
       "  <thead>\n",
       "    <tr style=\"text-align: right;\">\n",
       "      <th></th>\n",
       "      <th>reviewerID</th>\n",
       "      <th>asin</th>\n",
       "      <th>reviewText</th>\n",
       "      <th>overall</th>\n",
       "      <th>summary</th>\n",
       "      <th>unixReviewTime</th>\n",
       "      <th>review_date</th>\n",
       "      <th>color</th>\n",
       "      <th>description</th>\n",
       "      <th>details</th>\n",
       "      <th>...</th>\n",
       "      <th>Tops_Tees</th>\n",
       "      <th>Trunks</th>\n",
       "      <th>Umbrellas</th>\n",
       "      <th>Underwear</th>\n",
       "      <th>Wallets</th>\n",
       "      <th>Wear_to_Work</th>\n",
       "      <th>Wrist_Watches</th>\n",
       "      <th>Arm_Warmers</th>\n",
       "      <th>Baseball_Caps</th>\n",
       "      <th>Berets</th>\n",
       "    </tr>\n",
       "  </thead>\n",
       "  <tbody>\n",
       "    <tr>\n",
       "      <th>0</th>\n",
       "      <td>A1KLRMWW2FWPL4</td>\n",
       "      <td>0000031887</td>\n",
       "      <td>This is a great tutu and at a really great pri...</td>\n",
       "      <td>5.0</td>\n",
       "      <td>Great tutu-  not cheaply made</td>\n",
       "      <td>1297468800</td>\n",
       "      <td>2011-02-12</td>\n",
       "      <td>unavailable</td>\n",
       "      <td>This fits your .     Make sure this fitsby ent...</td>\n",
       "      <td>0</td>\n",
       "      <td>...</td>\n",
       "      <td>0.0</td>\n",
       "      <td>0.0</td>\n",
       "      <td>0.0</td>\n",
       "      <td>0.0</td>\n",
       "      <td>0.0</td>\n",
       "      <td>0.0</td>\n",
       "      <td>0.0</td>\n",
       "      <td>0.0</td>\n",
       "      <td>0.0</td>\n",
       "      <td>0.0</td>\n",
       "    </tr>\n",
       "    <tr>\n",
       "      <th>1</th>\n",
       "      <td>A2G5TCU2WDFZ65</td>\n",
       "      <td>0000031887</td>\n",
       "      <td>I bought this for my 4 yr old daughter for dan...</td>\n",
       "      <td>5.0</td>\n",
       "      <td>Very Cute!!</td>\n",
       "      <td>1358553600</td>\n",
       "      <td>2013-01-19</td>\n",
       "      <td>unavailable</td>\n",
       "      <td>This fits your .     Make sure this fitsby ent...</td>\n",
       "      <td>0</td>\n",
       "      <td>...</td>\n",
       "      <td>0.0</td>\n",
       "      <td>0.0</td>\n",
       "      <td>0.0</td>\n",
       "      <td>0.0</td>\n",
       "      <td>0.0</td>\n",
       "      <td>0.0</td>\n",
       "      <td>0.0</td>\n",
       "      <td>0.0</td>\n",
       "      <td>0.0</td>\n",
       "      <td>0.0</td>\n",
       "    </tr>\n",
       "    <tr>\n",
       "      <th>2</th>\n",
       "      <td>A1RLQXYNCMWRWN</td>\n",
       "      <td>0000031887</td>\n",
       "      <td>What can I say... my daughters have it in oran...</td>\n",
       "      <td>5.0</td>\n",
       "      <td>I have buy more than one</td>\n",
       "      <td>1357257600</td>\n",
       "      <td>2013-01-04</td>\n",
       "      <td>unavailable</td>\n",
       "      <td>This fits your .     Make sure this fitsby ent...</td>\n",
       "      <td>0</td>\n",
       "      <td>...</td>\n",
       "      <td>0.0</td>\n",
       "      <td>0.0</td>\n",
       "      <td>0.0</td>\n",
       "      <td>0.0</td>\n",
       "      <td>0.0</td>\n",
       "      <td>0.0</td>\n",
       "      <td>0.0</td>\n",
       "      <td>0.0</td>\n",
       "      <td>0.0</td>\n",
       "      <td>0.0</td>\n",
       "    </tr>\n",
       "    <tr>\n",
       "      <th>3</th>\n",
       "      <td>A8U3FAMSJVHS5</td>\n",
       "      <td>0000031887</td>\n",
       "      <td>We bought several tutus at once, and they are ...</td>\n",
       "      <td>5.0</td>\n",
       "      <td>Adorable, Sturdy</td>\n",
       "      <td>1398556800</td>\n",
       "      <td>2014-04-27</td>\n",
       "      <td>unavailable</td>\n",
       "      <td>This fits your .     Make sure this fitsby ent...</td>\n",
       "      <td>0</td>\n",
       "      <td>...</td>\n",
       "      <td>0.0</td>\n",
       "      <td>0.0</td>\n",
       "      <td>0.0</td>\n",
       "      <td>0.0</td>\n",
       "      <td>0.0</td>\n",
       "      <td>0.0</td>\n",
       "      <td>0.0</td>\n",
       "      <td>0.0</td>\n",
       "      <td>0.0</td>\n",
       "      <td>0.0</td>\n",
       "    </tr>\n",
       "    <tr>\n",
       "      <th>4</th>\n",
       "      <td>A3GEOILWLK86XM</td>\n",
       "      <td>0000031887</td>\n",
       "      <td>Thank you Halo Heaven great product for Little...</td>\n",
       "      <td>5.0</td>\n",
       "      <td>Grammy's Angels Love it</td>\n",
       "      <td>1394841600</td>\n",
       "      <td>2014-03-15</td>\n",
       "      <td>unavailable</td>\n",
       "      <td>This fits your .     Make sure this fitsby ent...</td>\n",
       "      <td>0</td>\n",
       "      <td>...</td>\n",
       "      <td>0.0</td>\n",
       "      <td>0.0</td>\n",
       "      <td>0.0</td>\n",
       "      <td>0.0</td>\n",
       "      <td>0.0</td>\n",
       "      <td>0.0</td>\n",
       "      <td>0.0</td>\n",
       "      <td>0.0</td>\n",
       "      <td>0.0</td>\n",
       "      <td>0.0</td>\n",
       "    </tr>\n",
       "  </tbody>\n",
       "</table>\n",
       "<p>5 rows × 823 columns</p>\n",
       "</div>"
      ],
      "text/plain": [
       "       reviewerID        asin  \\\n",
       "0  A1KLRMWW2FWPL4  0000031887   \n",
       "1  A2G5TCU2WDFZ65  0000031887   \n",
       "2  A1RLQXYNCMWRWN  0000031887   \n",
       "3   A8U3FAMSJVHS5  0000031887   \n",
       "4  A3GEOILWLK86XM  0000031887   \n",
       "\n",
       "                                          reviewText  overall  \\\n",
       "0  This is a great tutu and at a really great pri...      5.0   \n",
       "1  I bought this for my 4 yr old daughter for dan...      5.0   \n",
       "2  What can I say... my daughters have it in oran...      5.0   \n",
       "3  We bought several tutus at once, and they are ...      5.0   \n",
       "4  Thank you Halo Heaven great product for Little...      5.0   \n",
       "\n",
       "                         summary  unixReviewTime review_date        color  \\\n",
       "0  Great tutu-  not cheaply made      1297468800  2011-02-12  unavailable   \n",
       "1                    Very Cute!!      1358553600  2013-01-19  unavailable   \n",
       "2       I have buy more than one      1357257600  2013-01-04  unavailable   \n",
       "3               Adorable, Sturdy      1398556800  2014-04-27  unavailable   \n",
       "4        Grammy's Angels Love it      1394841600  2014-03-15  unavailable   \n",
       "\n",
       "                                         description details  ... Tops_Tees  \\\n",
       "0  This fits your .     Make sure this fitsby ent...       0  ...       0.0   \n",
       "1  This fits your .     Make sure this fitsby ent...       0  ...       0.0   \n",
       "2  This fits your .     Make sure this fitsby ent...       0  ...       0.0   \n",
       "3  This fits your .     Make sure this fitsby ent...       0  ...       0.0   \n",
       "4  This fits your .     Make sure this fitsby ent...       0  ...       0.0   \n",
       "\n",
       "  Trunks  Umbrellas  Underwear  Wallets  Wear_to_Work  Wrist_Watches  \\\n",
       "0    0.0        0.0        0.0      0.0           0.0            0.0   \n",
       "1    0.0        0.0        0.0      0.0           0.0            0.0   \n",
       "2    0.0        0.0        0.0      0.0           0.0            0.0   \n",
       "3    0.0        0.0        0.0      0.0           0.0            0.0   \n",
       "4    0.0        0.0        0.0      0.0           0.0            0.0   \n",
       "\n",
       "   Arm_Warmers  Baseball_Caps  Berets  \n",
       "0          0.0            0.0     0.0  \n",
       "1          0.0            0.0     0.0  \n",
       "2          0.0            0.0     0.0  \n",
       "3          0.0            0.0     0.0  \n",
       "4          0.0            0.0     0.0  \n",
       "\n",
       "[5 rows x 823 columns]"
      ]
     },
     "execution_count": 12,
     "metadata": {},
     "output_type": "execute_result"
    }
   ],
   "source": [
    "#check first 5 rows \n",
    "df.head()"
   ]
  },
  {
   "cell_type": "code",
   "execution_count": 14,
   "metadata": {},
   "outputs": [
    {
     "data": {
      "text/plain": [
       "reviewerID             object\n",
       "asin                   object\n",
       "reviewText             object\n",
       "overall               float64\n",
       "summary                object\n",
       "unixReviewTime          int64\n",
       "review_date            object\n",
       "color                  object\n",
       "description            object\n",
       "details                object\n",
       "name                   object\n",
       "size                   object\n",
       "Arts_Crafts_Sewing    float64\n",
       "Automotive            float64\n",
       "Baby_Products         float64\n",
       "dtype: object"
      ]
     },
     "execution_count": 14,
     "metadata": {},
     "output_type": "execute_result"
    }
   ],
   "source": [
    "# Check data types \n",
    "df.dtypes.head(15)"
   ]
  },
  {
   "cell_type": "code",
   "execution_count": 15,
   "metadata": {},
   "outputs": [
    {
     "data": {
      "text/plain": [
       "Index(['reviewerID', 'asin', 'reviewText', 'overall', 'summary',\n",
       "       'unixReviewTime', 'review_date', 'color', 'description', 'details',\n",
       "       ...\n",
       "       'Tops_Tees', 'Trunks', 'Umbrellas', 'Underwear', 'Wallets',\n",
       "       'Wear_to_Work', 'Wrist_Watches', 'Arm_Warmers', 'Baseball_Caps',\n",
       "       'Berets'],\n",
       "      dtype='object', length=823)"
      ]
     },
     "execution_count": 15,
     "metadata": {},
     "output_type": "execute_result"
    }
   ],
   "source": [
    "#Check column names \n",
    "df.columns"
   ]
  },
  {
   "cell_type": "markdown",
   "metadata": {},
   "source": [
    "Check size of DataFrame: 168,995 rows, of different products and reviewers."
   ]
  },
  {
   "cell_type": "code",
   "execution_count": 16,
   "metadata": {},
   "outputs": [
    {
     "data": {
      "text/plain": [
       "(168995, 823)"
      ]
     },
     "execution_count": 16,
     "metadata": {},
     "output_type": "execute_result"
    }
   ],
   "source": [
    "df.shape"
   ]
  },
  {
   "cell_type": "code",
   "execution_count": 17,
   "metadata": {},
   "outputs": [
    {
     "data": {
      "text/plain": [
       "reviewerID                  0\n",
       "asin                        0\n",
       "reviewText                 16\n",
       "overall                     0\n",
       "summary                     1\n",
       "unixReviewTime              0\n",
       "review_date                 0\n",
       "color                       0\n",
       "description                 0\n",
       "details                     0\n",
       "name                        0\n",
       "size                        0\n",
       "Arts_Crafts_Sewing          0\n",
       "Automotive                  0\n",
       "Baby_Products               0\n",
       "Beauty_Personal_Care        0\n",
       "Cell_Phones_Accessories     0\n",
       "Clothing_Shoes_Jewelry      0\n",
       "Electronics                 0\n",
       "Health_Household            0\n",
       "Home_Kitchen                0\n",
       "Industrial_Scientific       0\n",
       "Office_Products             0\n",
       "Purchase_Circles            0\n",
       "Software                    0\n",
       "dtype: int64"
      ]
     },
     "execution_count": 17,
     "metadata": {},
     "output_type": "execute_result"
    }
   ],
   "source": [
    "#Check for nulls \n",
    "df.isnull().sum().head(25)"
   ]
  },
  {
   "cell_type": "markdown",
   "metadata": {},
   "source": [
    "Fill nulls with the string `'none'`"
   ]
  },
  {
   "cell_type": "code",
   "execution_count": 18,
   "metadata": {},
   "outputs": [],
   "source": [
    "df.fillna('none', inplace=True)"
   ]
  },
  {
   "cell_type": "code",
   "execution_count": 19,
   "metadata": {},
   "outputs": [
    {
     "data": {
      "text/plain": [
       "0"
      ]
     },
     "execution_count": 19,
     "metadata": {},
     "output_type": "execute_result"
    }
   ],
   "source": [
    "df.isnull().sum().sum()"
   ]
  },
  {
   "cell_type": "markdown",
   "metadata": {},
   "source": [
    "Groupby the reviewerID column for clustering. "
   ]
  },
  {
   "cell_type": "code",
   "execution_count": 45,
   "metadata": {},
   "outputs": [
    {
     "data": {
      "text/html": [
       "<div>\n",
       "<style scoped>\n",
       "    .dataframe tbody tr th:only-of-type {\n",
       "        vertical-align: middle;\n",
       "    }\n",
       "\n",
       "    .dataframe tbody tr th {\n",
       "        vertical-align: top;\n",
       "    }\n",
       "\n",
       "    .dataframe thead th {\n",
       "        text-align: right;\n",
       "    }\n",
       "</style>\n",
       "<table border=\"1\" class=\"dataframe\">\n",
       "  <thead>\n",
       "    <tr style=\"text-align: right;\">\n",
       "      <th></th>\n",
       "      <th>reviewerID</th>\n",
       "      <th>asin</th>\n",
       "      <th>overall</th>\n",
       "      <th>color</th>\n",
       "      <th>name</th>\n",
       "      <th>Arts_Crafts_Sewing</th>\n",
       "      <th>Automotive</th>\n",
       "      <th>Baby_Products</th>\n",
       "      <th>Beauty_Personal_Care</th>\n",
       "      <th>Cell_Phones_Accessories</th>\n",
       "      <th>...</th>\n",
       "      <th>Tops_Tees</th>\n",
       "      <th>Trunks</th>\n",
       "      <th>Umbrellas</th>\n",
       "      <th>Underwear</th>\n",
       "      <th>Wallets</th>\n",
       "      <th>Wear_to_Work</th>\n",
       "      <th>Wrist_Watches</th>\n",
       "      <th>Arm_Warmers</th>\n",
       "      <th>Baseball_Caps</th>\n",
       "      <th>Berets</th>\n",
       "    </tr>\n",
       "  </thead>\n",
       "  <tbody>\n",
       "    <tr>\n",
       "      <th>0</th>\n",
       "      <td>A1KLRMWW2FWPL4</td>\n",
       "      <td>0000031887</td>\n",
       "      <td>5.0</td>\n",
       "      <td>unavailable</td>\n",
       "      <td>Mystiqueshapes Girls Ballet Tutu Neon Lime Green</td>\n",
       "      <td>0.0</td>\n",
       "      <td>0.0</td>\n",
       "      <td>0.0</td>\n",
       "      <td>0.0</td>\n",
       "      <td>0.0</td>\n",
       "      <td>...</td>\n",
       "      <td>0.0</td>\n",
       "      <td>0.0</td>\n",
       "      <td>0.0</td>\n",
       "      <td>0.0</td>\n",
       "      <td>0.0</td>\n",
       "      <td>0.0</td>\n",
       "      <td>0.0</td>\n",
       "      <td>0.0</td>\n",
       "      <td>0.0</td>\n",
       "      <td>0.0</td>\n",
       "    </tr>\n",
       "    <tr>\n",
       "      <th>1</th>\n",
       "      <td>A2G5TCU2WDFZ65</td>\n",
       "      <td>0000031887</td>\n",
       "      <td>5.0</td>\n",
       "      <td>unavailable</td>\n",
       "      <td>Mystiqueshapes Girls Ballet Tutu Neon Lime Green</td>\n",
       "      <td>0.0</td>\n",
       "      <td>0.0</td>\n",
       "      <td>0.0</td>\n",
       "      <td>0.0</td>\n",
       "      <td>0.0</td>\n",
       "      <td>...</td>\n",
       "      <td>0.0</td>\n",
       "      <td>0.0</td>\n",
       "      <td>0.0</td>\n",
       "      <td>0.0</td>\n",
       "      <td>0.0</td>\n",
       "      <td>0.0</td>\n",
       "      <td>0.0</td>\n",
       "      <td>0.0</td>\n",
       "      <td>0.0</td>\n",
       "      <td>0.0</td>\n",
       "    </tr>\n",
       "    <tr>\n",
       "      <th>2</th>\n",
       "      <td>A1RLQXYNCMWRWN</td>\n",
       "      <td>0000031887</td>\n",
       "      <td>5.0</td>\n",
       "      <td>unavailable</td>\n",
       "      <td>Mystiqueshapes Girls Ballet Tutu Neon Lime Green</td>\n",
       "      <td>0.0</td>\n",
       "      <td>0.0</td>\n",
       "      <td>0.0</td>\n",
       "      <td>0.0</td>\n",
       "      <td>0.0</td>\n",
       "      <td>...</td>\n",
       "      <td>0.0</td>\n",
       "      <td>0.0</td>\n",
       "      <td>0.0</td>\n",
       "      <td>0.0</td>\n",
       "      <td>0.0</td>\n",
       "      <td>0.0</td>\n",
       "      <td>0.0</td>\n",
       "      <td>0.0</td>\n",
       "      <td>0.0</td>\n",
       "      <td>0.0</td>\n",
       "    </tr>\n",
       "    <tr>\n",
       "      <th>3</th>\n",
       "      <td>A8U3FAMSJVHS5</td>\n",
       "      <td>0000031887</td>\n",
       "      <td>5.0</td>\n",
       "      <td>unavailable</td>\n",
       "      <td>Mystiqueshapes Girls Ballet Tutu Neon Lime Green</td>\n",
       "      <td>0.0</td>\n",
       "      <td>0.0</td>\n",
       "      <td>0.0</td>\n",
       "      <td>0.0</td>\n",
       "      <td>0.0</td>\n",
       "      <td>...</td>\n",
       "      <td>0.0</td>\n",
       "      <td>0.0</td>\n",
       "      <td>0.0</td>\n",
       "      <td>0.0</td>\n",
       "      <td>0.0</td>\n",
       "      <td>0.0</td>\n",
       "      <td>0.0</td>\n",
       "      <td>0.0</td>\n",
       "      <td>0.0</td>\n",
       "      <td>0.0</td>\n",
       "    </tr>\n",
       "    <tr>\n",
       "      <th>4</th>\n",
       "      <td>A3GEOILWLK86XM</td>\n",
       "      <td>0000031887</td>\n",
       "      <td>5.0</td>\n",
       "      <td>unavailable</td>\n",
       "      <td>Mystiqueshapes Girls Ballet Tutu Neon Lime Green</td>\n",
       "      <td>0.0</td>\n",
       "      <td>0.0</td>\n",
       "      <td>0.0</td>\n",
       "      <td>0.0</td>\n",
       "      <td>0.0</td>\n",
       "      <td>...</td>\n",
       "      <td>0.0</td>\n",
       "      <td>0.0</td>\n",
       "      <td>0.0</td>\n",
       "      <td>0.0</td>\n",
       "      <td>0.0</td>\n",
       "      <td>0.0</td>\n",
       "      <td>0.0</td>\n",
       "      <td>0.0</td>\n",
       "      <td>0.0</td>\n",
       "      <td>0.0</td>\n",
       "    </tr>\n",
       "  </tbody>\n",
       "</table>\n",
       "<p>5 rows × 816 columns</p>\n",
       "</div>"
      ],
      "text/plain": [
       "       reviewerID        asin  overall        color  \\\n",
       "0  A1KLRMWW2FWPL4  0000031887      5.0  unavailable   \n",
       "1  A2G5TCU2WDFZ65  0000031887      5.0  unavailable   \n",
       "2  A1RLQXYNCMWRWN  0000031887      5.0  unavailable   \n",
       "3   A8U3FAMSJVHS5  0000031887      5.0  unavailable   \n",
       "4  A3GEOILWLK86XM  0000031887      5.0  unavailable   \n",
       "\n",
       "                                               name  Arts_Crafts_Sewing  \\\n",
       "0  Mystiqueshapes Girls Ballet Tutu Neon Lime Green                 0.0   \n",
       "1  Mystiqueshapes Girls Ballet Tutu Neon Lime Green                 0.0   \n",
       "2  Mystiqueshapes Girls Ballet Tutu Neon Lime Green                 0.0   \n",
       "3  Mystiqueshapes Girls Ballet Tutu Neon Lime Green                 0.0   \n",
       "4  Mystiqueshapes Girls Ballet Tutu Neon Lime Green                 0.0   \n",
       "\n",
       "   Automotive  Baby_Products  Beauty_Personal_Care  Cell_Phones_Accessories  \\\n",
       "0         0.0            0.0                   0.0                      0.0   \n",
       "1         0.0            0.0                   0.0                      0.0   \n",
       "2         0.0            0.0                   0.0                      0.0   \n",
       "3         0.0            0.0                   0.0                      0.0   \n",
       "4         0.0            0.0                   0.0                      0.0   \n",
       "\n",
       "   ...  Tops_Tees  Trunks  Umbrellas  Underwear  Wallets  Wear_to_Work  \\\n",
       "0  ...        0.0     0.0        0.0        0.0      0.0           0.0   \n",
       "1  ...        0.0     0.0        0.0        0.0      0.0           0.0   \n",
       "2  ...        0.0     0.0        0.0        0.0      0.0           0.0   \n",
       "3  ...        0.0     0.0        0.0        0.0      0.0           0.0   \n",
       "4  ...        0.0     0.0        0.0        0.0      0.0           0.0   \n",
       "\n",
       "   Wrist_Watches  Arm_Warmers  Baseball_Caps  Berets  \n",
       "0            0.0          0.0            0.0     0.0  \n",
       "1            0.0          0.0            0.0     0.0  \n",
       "2            0.0          0.0            0.0     0.0  \n",
       "3            0.0          0.0            0.0     0.0  \n",
       "4            0.0          0.0            0.0     0.0  \n",
       "\n",
       "[5 rows x 816 columns]"
      ]
     },
     "execution_count": 45,
     "metadata": {},
     "output_type": "execute_result"
    }
   ],
   "source": [
    "users = df.drop(columns=['reviewText', 'summary', 'unixReviewTime', \n",
    "                 'review_date', 'description', 'details', 'size'])\n",
    "users.head()"
   ]
  },
  {
   "cell_type": "code",
   "execution_count": 46,
   "metadata": {},
   "outputs": [],
   "source": [
    "users_cats = users.groupby(['reviewerID']).sum().iloc[:, 2:]\n",
    "users_cats.head(3)"
   ]
  },
  {
   "cell_type": "code",
   "execution_count": 64,
   "metadata": {},
   "outputs": [
    {
     "data": {
      "text/plain": [
       "{'Clothing_Shoes_Jewelry': 4.0,\n",
       " 'Sports_Outdoors': 1.0,\n",
       " 'Novelty_More': 1.0,\n",
       " 'Sports_Fitness': 1.0,\n",
       " 'Novelty': 1.0,\n",
       " 'Exercise_Fitness': 1.0,\n",
       " 'Casual': 1.0,\n",
       " 'Leggings': 1.0,\n",
       " 'Men': 2.0,\n",
       " 'Shorts': 1.0,\n",
       " 'Skirts': 1.0,\n",
       " 'T-Shirts': 1.0,\n",
       " 'Women': 2.0,\n",
       " 'Clothing': 4.0,\n",
       " 'Shoes': 1.0,\n",
       " 'Fashion_Sneakers': 1.0,\n",
       " 'Running': 1.0}"
      ]
     },
     "execution_count": 64,
     "metadata": {},
     "output_type": "execute_result"
    }
   ],
   "source": [
    "user1 = users_cats.loc['A001114613O3F18Q5NVR6'].to_dict()\n",
    "\n",
    "{k:v for k,v in user1.items() if v != 0}"
   ]
  },
  {
   "cell_type": "code",
   "execution_count": 47,
   "metadata": {},
   "outputs": [],
   "source": [
    "num_reviews = users.groupby(['reviewerID']).count()['asin']"
   ]
  },
  {
   "cell_type": "code",
   "execution_count": 48,
   "metadata": {},
   "outputs": [
    {
     "data": {
      "text/plain": [
       "0    3\n",
       "1    6\n",
       "2    5\n",
       "3    7\n",
       "4    4\n",
       "Name: number_of_reviews, dtype: int64"
      ]
     },
     "execution_count": 48,
     "metadata": {},
     "output_type": "execute_result"
    }
   ],
   "source": [
    "users['number_of_reviews'] = users['reviewerID'].map(num_reviews)\n",
    "users['number_of_reviews'].head()"
   ]
  },
  {
   "cell_type": "code",
   "execution_count": 49,
   "metadata": {},
   "outputs": [
    {
     "data": {
      "text/plain": [
       "0    5.00\n",
       "1    4.17\n",
       "2    4.20\n",
       "3    4.00\n",
       "4    4.50\n",
       "Name: average_stars_given, dtype: float64"
      ]
     },
     "execution_count": 49,
     "metadata": {},
     "output_type": "execute_result"
    }
   ],
   "source": [
    "user_stars = users.groupby(['reviewerID']).mean().round(2)['overall']\n",
    "\n",
    "users['average_stars_given'] = users['reviewerID'].map(user_stars)\n",
    "users['average_stars_given'].head()"
   ]
  },
  {
   "cell_type": "code",
   "execution_count": 51,
   "metadata": {},
   "outputs": [
    {
     "data": {
      "text/html": [
       "<div>\n",
       "<style scoped>\n",
       "    .dataframe tbody tr th:only-of-type {\n",
       "        vertical-align: middle;\n",
       "    }\n",
       "\n",
       "    .dataframe tbody tr th {\n",
       "        vertical-align: top;\n",
       "    }\n",
       "\n",
       "    .dataframe thead th {\n",
       "        text-align: right;\n",
       "    }\n",
       "</style>\n",
       "<table border=\"1\" class=\"dataframe\">\n",
       "  <thead>\n",
       "    <tr style=\"text-align: right;\">\n",
       "      <th></th>\n",
       "      <th>reviewerID</th>\n",
       "      <th>asin</th>\n",
       "      <th>overall</th>\n",
       "      <th>color</th>\n",
       "      <th>name</th>\n",
       "      <th>Arts_Crafts_Sewing</th>\n",
       "      <th>Automotive</th>\n",
       "      <th>Baby_Products</th>\n",
       "      <th>Beauty_Personal_Care</th>\n",
       "      <th>Cell_Phones_Accessories</th>\n",
       "      <th>...</th>\n",
       "      <th>Umbrellas</th>\n",
       "      <th>Underwear</th>\n",
       "      <th>Wallets</th>\n",
       "      <th>Wear_to_Work</th>\n",
       "      <th>Wrist_Watches</th>\n",
       "      <th>Arm_Warmers</th>\n",
       "      <th>Baseball_Caps</th>\n",
       "      <th>Berets</th>\n",
       "      <th>number_of_reviews</th>\n",
       "      <th>average_stars_given</th>\n",
       "    </tr>\n",
       "  </thead>\n",
       "  <tbody>\n",
       "    <tr>\n",
       "      <th>0</th>\n",
       "      <td>A1KLRMWW2FWPL4</td>\n",
       "      <td>0000031887</td>\n",
       "      <td>5.0</td>\n",
       "      <td>unavailable</td>\n",
       "      <td>Mystiqueshapes Girls Ballet Tutu Neon Lime Green</td>\n",
       "      <td>0.0</td>\n",
       "      <td>0.0</td>\n",
       "      <td>0.0</td>\n",
       "      <td>0.0</td>\n",
       "      <td>0.0</td>\n",
       "      <td>...</td>\n",
       "      <td>0.0</td>\n",
       "      <td>0.0</td>\n",
       "      <td>0.0</td>\n",
       "      <td>0.0</td>\n",
       "      <td>0.0</td>\n",
       "      <td>0.0</td>\n",
       "      <td>0.0</td>\n",
       "      <td>0.0</td>\n",
       "      <td>3</td>\n",
       "      <td>5.00</td>\n",
       "    </tr>\n",
       "    <tr>\n",
       "      <th>1</th>\n",
       "      <td>A2G5TCU2WDFZ65</td>\n",
       "      <td>0000031887</td>\n",
       "      <td>5.0</td>\n",
       "      <td>unavailable</td>\n",
       "      <td>Mystiqueshapes Girls Ballet Tutu Neon Lime Green</td>\n",
       "      <td>0.0</td>\n",
       "      <td>0.0</td>\n",
       "      <td>0.0</td>\n",
       "      <td>0.0</td>\n",
       "      <td>0.0</td>\n",
       "      <td>...</td>\n",
       "      <td>0.0</td>\n",
       "      <td>0.0</td>\n",
       "      <td>0.0</td>\n",
       "      <td>0.0</td>\n",
       "      <td>0.0</td>\n",
       "      <td>0.0</td>\n",
       "      <td>0.0</td>\n",
       "      <td>0.0</td>\n",
       "      <td>6</td>\n",
       "      <td>4.17</td>\n",
       "    </tr>\n",
       "    <tr>\n",
       "      <th>2</th>\n",
       "      <td>A1RLQXYNCMWRWN</td>\n",
       "      <td>0000031887</td>\n",
       "      <td>5.0</td>\n",
       "      <td>unavailable</td>\n",
       "      <td>Mystiqueshapes Girls Ballet Tutu Neon Lime Green</td>\n",
       "      <td>0.0</td>\n",
       "      <td>0.0</td>\n",
       "      <td>0.0</td>\n",
       "      <td>0.0</td>\n",
       "      <td>0.0</td>\n",
       "      <td>...</td>\n",
       "      <td>0.0</td>\n",
       "      <td>0.0</td>\n",
       "      <td>0.0</td>\n",
       "      <td>0.0</td>\n",
       "      <td>0.0</td>\n",
       "      <td>0.0</td>\n",
       "      <td>0.0</td>\n",
       "      <td>0.0</td>\n",
       "      <td>5</td>\n",
       "      <td>4.20</td>\n",
       "    </tr>\n",
       "    <tr>\n",
       "      <th>3</th>\n",
       "      <td>A8U3FAMSJVHS5</td>\n",
       "      <td>0000031887</td>\n",
       "      <td>5.0</td>\n",
       "      <td>unavailable</td>\n",
       "      <td>Mystiqueshapes Girls Ballet Tutu Neon Lime Green</td>\n",
       "      <td>0.0</td>\n",
       "      <td>0.0</td>\n",
       "      <td>0.0</td>\n",
       "      <td>0.0</td>\n",
       "      <td>0.0</td>\n",
       "      <td>...</td>\n",
       "      <td>0.0</td>\n",
       "      <td>0.0</td>\n",
       "      <td>0.0</td>\n",
       "      <td>0.0</td>\n",
       "      <td>0.0</td>\n",
       "      <td>0.0</td>\n",
       "      <td>0.0</td>\n",
       "      <td>0.0</td>\n",
       "      <td>7</td>\n",
       "      <td>4.00</td>\n",
       "    </tr>\n",
       "    <tr>\n",
       "      <th>4</th>\n",
       "      <td>A3GEOILWLK86XM</td>\n",
       "      <td>0000031887</td>\n",
       "      <td>5.0</td>\n",
       "      <td>unavailable</td>\n",
       "      <td>Mystiqueshapes Girls Ballet Tutu Neon Lime Green</td>\n",
       "      <td>0.0</td>\n",
       "      <td>0.0</td>\n",
       "      <td>0.0</td>\n",
       "      <td>0.0</td>\n",
       "      <td>0.0</td>\n",
       "      <td>...</td>\n",
       "      <td>0.0</td>\n",
       "      <td>0.0</td>\n",
       "      <td>0.0</td>\n",
       "      <td>0.0</td>\n",
       "      <td>0.0</td>\n",
       "      <td>0.0</td>\n",
       "      <td>0.0</td>\n",
       "      <td>0.0</td>\n",
       "      <td>4</td>\n",
       "      <td>4.50</td>\n",
       "    </tr>\n",
       "  </tbody>\n",
       "</table>\n",
       "<p>5 rows × 818 columns</p>\n",
       "</div>"
      ],
      "text/plain": [
       "       reviewerID        asin  overall        color  \\\n",
       "0  A1KLRMWW2FWPL4  0000031887      5.0  unavailable   \n",
       "1  A2G5TCU2WDFZ65  0000031887      5.0  unavailable   \n",
       "2  A1RLQXYNCMWRWN  0000031887      5.0  unavailable   \n",
       "3   A8U3FAMSJVHS5  0000031887      5.0  unavailable   \n",
       "4  A3GEOILWLK86XM  0000031887      5.0  unavailable   \n",
       "\n",
       "                                               name  Arts_Crafts_Sewing  \\\n",
       "0  Mystiqueshapes Girls Ballet Tutu Neon Lime Green                 0.0   \n",
       "1  Mystiqueshapes Girls Ballet Tutu Neon Lime Green                 0.0   \n",
       "2  Mystiqueshapes Girls Ballet Tutu Neon Lime Green                 0.0   \n",
       "3  Mystiqueshapes Girls Ballet Tutu Neon Lime Green                 0.0   \n",
       "4  Mystiqueshapes Girls Ballet Tutu Neon Lime Green                 0.0   \n",
       "\n",
       "   Automotive  Baby_Products  Beauty_Personal_Care  Cell_Phones_Accessories  \\\n",
       "0         0.0            0.0                   0.0                      0.0   \n",
       "1         0.0            0.0                   0.0                      0.0   \n",
       "2         0.0            0.0                   0.0                      0.0   \n",
       "3         0.0            0.0                   0.0                      0.0   \n",
       "4         0.0            0.0                   0.0                      0.0   \n",
       "\n",
       "   ...  Umbrellas  Underwear  Wallets  Wear_to_Work  Wrist_Watches  \\\n",
       "0  ...        0.0        0.0      0.0           0.0            0.0   \n",
       "1  ...        0.0        0.0      0.0           0.0            0.0   \n",
       "2  ...        0.0        0.0      0.0           0.0            0.0   \n",
       "3  ...        0.0        0.0      0.0           0.0            0.0   \n",
       "4  ...        0.0        0.0      0.0           0.0            0.0   \n",
       "\n",
       "   Arm_Warmers  Baseball_Caps  Berets  number_of_reviews  average_stars_given  \n",
       "0          0.0            0.0     0.0                  3                 5.00  \n",
       "1          0.0            0.0     0.0                  6                 4.17  \n",
       "2          0.0            0.0     0.0                  5                 4.20  \n",
       "3          0.0            0.0     0.0                  7                 4.00  \n",
       "4          0.0            0.0     0.0                  4                 4.50  \n",
       "\n",
       "[5 rows x 818 columns]"
      ]
     },
     "execution_count": 51,
     "metadata": {},
     "output_type": "execute_result"
    }
   ],
   "source": [
    "users.head()"
   ]
  },
  {
   "cell_type": "code",
   "execution_count": 55,
   "metadata": {},
   "outputs": [],
   "source": [
    "users['asin'] = users['asin'] + \", \""
   ]
  },
  {
   "cell_type": "code",
   "execution_count": 57,
   "metadata": {},
   "outputs": [],
   "source": [
    "all_asins = dict(users.groupby('reviewerID')['asin'].sum())"
   ]
  },
  {
   "cell_type": "code",
   "execution_count": 59,
   "metadata": {},
   "outputs": [],
   "source": [
    "users['asins'] = users['reviewerID'].map(all_asins)"
   ]
  },
  {
   "cell_type": "code",
   "execution_count": 68,
   "metadata": {},
   "outputs": [],
   "source": [
    "users['color'] = users['color'] + \" \"\n",
    "all_colors = dict(users.groupby('reviewerID')['color'].sum())\n",
    "users['colors'] = users['reviewerID'].map(all_colors)"
   ]
  },
  {
   "cell_type": "code",
   "execution_count": 69,
   "metadata": {},
   "outputs": [
    {
     "data": {
      "text/html": [
       "<div>\n",
       "<style scoped>\n",
       "    .dataframe tbody tr th:only-of-type {\n",
       "        vertical-align: middle;\n",
       "    }\n",
       "\n",
       "    .dataframe tbody tr th {\n",
       "        vertical-align: top;\n",
       "    }\n",
       "\n",
       "    .dataframe thead th {\n",
       "        text-align: right;\n",
       "    }\n",
       "</style>\n",
       "<table border=\"1\" class=\"dataframe\">\n",
       "  <thead>\n",
       "    <tr style=\"text-align: right;\">\n",
       "      <th></th>\n",
       "      <th>reviewerID</th>\n",
       "      <th>asin</th>\n",
       "      <th>overall</th>\n",
       "      <th>color</th>\n",
       "      <th>name</th>\n",
       "      <th>Arts_Crafts_Sewing</th>\n",
       "      <th>Automotive</th>\n",
       "      <th>Baby_Products</th>\n",
       "      <th>Beauty_Personal_Care</th>\n",
       "      <th>Cell_Phones_Accessories</th>\n",
       "      <th>...</th>\n",
       "      <th>Wallets</th>\n",
       "      <th>Wear_to_Work</th>\n",
       "      <th>Wrist_Watches</th>\n",
       "      <th>Arm_Warmers</th>\n",
       "      <th>Baseball_Caps</th>\n",
       "      <th>Berets</th>\n",
       "      <th>number_of_reviews</th>\n",
       "      <th>average_stars_given</th>\n",
       "      <th>asins</th>\n",
       "      <th>colors</th>\n",
       "    </tr>\n",
       "  </thead>\n",
       "  <tbody>\n",
       "    <tr>\n",
       "      <th>0</th>\n",
       "      <td>A1KLRMWW2FWPL4</td>\n",
       "      <td>0000031887,</td>\n",
       "      <td>5.0</td>\n",
       "      <td>unavailable</td>\n",
       "      <td>Mystiqueshapes Girls Ballet Tutu Neon Lime Green</td>\n",
       "      <td>0.0</td>\n",
       "      <td>0.0</td>\n",
       "      <td>0.0</td>\n",
       "      <td>0.0</td>\n",
       "      <td>0.0</td>\n",
       "      <td>...</td>\n",
       "      <td>0.0</td>\n",
       "      <td>0.0</td>\n",
       "      <td>0.0</td>\n",
       "      <td>0.0</td>\n",
       "      <td>0.0</td>\n",
       "      <td>0.0</td>\n",
       "      <td>3</td>\n",
       "      <td>5.00</td>\n",
       "      <td>0000031887, B000FH4JJQ, B009H6NPBE,</td>\n",
       "      <td>unavailable Black unavailable</td>\n",
       "    </tr>\n",
       "    <tr>\n",
       "      <th>1</th>\n",
       "      <td>A2G5TCU2WDFZ65</td>\n",
       "      <td>0000031887,</td>\n",
       "      <td>5.0</td>\n",
       "      <td>unavailable</td>\n",
       "      <td>Mystiqueshapes Girls Ballet Tutu Neon Lime Green</td>\n",
       "      <td>0.0</td>\n",
       "      <td>0.0</td>\n",
       "      <td>0.0</td>\n",
       "      <td>0.0</td>\n",
       "      <td>0.0</td>\n",
       "      <td>...</td>\n",
       "      <td>0.0</td>\n",
       "      <td>0.0</td>\n",
       "      <td>0.0</td>\n",
       "      <td>0.0</td>\n",
       "      <td>0.0</td>\n",
       "      <td>0.0</td>\n",
       "      <td>6</td>\n",
       "      <td>4.17</td>\n",
       "      <td>0000031887, B0019K9WDQ, B005JJ2762, B005OZ9LB0...</td>\n",
       "      <td>unavailable unavailable Black Black unavailabl...</td>\n",
       "    </tr>\n",
       "    <tr>\n",
       "      <th>2</th>\n",
       "      <td>A1RLQXYNCMWRWN</td>\n",
       "      <td>0000031887,</td>\n",
       "      <td>5.0</td>\n",
       "      <td>unavailable</td>\n",
       "      <td>Mystiqueshapes Girls Ballet Tutu Neon Lime Green</td>\n",
       "      <td>0.0</td>\n",
       "      <td>0.0</td>\n",
       "      <td>0.0</td>\n",
       "      <td>0.0</td>\n",
       "      <td>0.0</td>\n",
       "      <td>...</td>\n",
       "      <td>0.0</td>\n",
       "      <td>0.0</td>\n",
       "      <td>0.0</td>\n",
       "      <td>0.0</td>\n",
       "      <td>0.0</td>\n",
       "      <td>0.0</td>\n",
       "      <td>5</td>\n",
       "      <td>4.20</td>\n",
       "      <td>0000031887, B0007YVP1W, B000LSWXWO, B001GR05W4...</td>\n",
       "      <td>unavailable Inspector missing missing missing</td>\n",
       "    </tr>\n",
       "  </tbody>\n",
       "</table>\n",
       "<p>3 rows × 820 columns</p>\n",
       "</div>"
      ],
      "text/plain": [
       "       reviewerID          asin  overall         color  \\\n",
       "0  A1KLRMWW2FWPL4  0000031887,       5.0  unavailable    \n",
       "1  A2G5TCU2WDFZ65  0000031887,       5.0  unavailable    \n",
       "2  A1RLQXYNCMWRWN  0000031887,       5.0  unavailable    \n",
       "\n",
       "                                               name  Arts_Crafts_Sewing  \\\n",
       "0  Mystiqueshapes Girls Ballet Tutu Neon Lime Green                 0.0   \n",
       "1  Mystiqueshapes Girls Ballet Tutu Neon Lime Green                 0.0   \n",
       "2  Mystiqueshapes Girls Ballet Tutu Neon Lime Green                 0.0   \n",
       "\n",
       "   Automotive  Baby_Products  Beauty_Personal_Care  Cell_Phones_Accessories  \\\n",
       "0         0.0            0.0                   0.0                      0.0   \n",
       "1         0.0            0.0                   0.0                      0.0   \n",
       "2         0.0            0.0                   0.0                      0.0   \n",
       "\n",
       "   ...  Wallets  Wear_to_Work  Wrist_Watches  Arm_Warmers  Baseball_Caps  \\\n",
       "0  ...      0.0           0.0            0.0          0.0            0.0   \n",
       "1  ...      0.0           0.0            0.0          0.0            0.0   \n",
       "2  ...      0.0           0.0            0.0          0.0            0.0   \n",
       "\n",
       "   Berets  number_of_reviews  average_stars_given  \\\n",
       "0     0.0                  3                 5.00   \n",
       "1     0.0                  6                 4.17   \n",
       "2     0.0                  5                 4.20   \n",
       "\n",
       "                                               asins  \\\n",
       "0               0000031887, B000FH4JJQ, B009H6NPBE,    \n",
       "1  0000031887, B0019K9WDQ, B005JJ2762, B005OZ9LB0...   \n",
       "2  0000031887, B0007YVP1W, B000LSWXWO, B001GR05W4...   \n",
       "\n",
       "                                              colors  \n",
       "0                     unavailable Black unavailable   \n",
       "1  unavailable unavailable Black Black unavailabl...  \n",
       "2     unavailable Inspector missing missing missing   \n",
       "\n",
       "[3 rows x 820 columns]"
      ]
     },
     "execution_count": 69,
     "metadata": {},
     "output_type": "execute_result"
    }
   ],
   "source": [
    "users.head(3)"
   ]
  },
  {
   "cell_type": "markdown",
   "metadata": {},
   "source": [
    "Save to a csv to cluster in a separate notebook."
   ]
  },
  {
   "cell_type": "code",
   "execution_count": 72,
   "metadata": {},
   "outputs": [],
   "source": [
    "# pd.merge((users[['reviewerID', 'name', 'number_of_reviews', \n",
    "#                  'average_stars_given', 'asins', 'colors']].set_index('reviewerID')), \n",
    "#          users_cats, \n",
    "#          right_index=True,\n",
    "#          left_index=True).to_csv('data/user_clustering.csv')\n",
    "         \n",
    "         \n",
    "         "
   ]
  },
  {
   "cell_type": "markdown",
   "metadata": {},
   "source": [
    "Add all columns with text together into one new column."
   ]
  },
  {
   "cell_type": "code",
   "execution_count": null,
   "metadata": {},
   "outputs": [],
   "source": [
    "df['summary'] = df['summary'] + \" \"\n",
    "df['summary'].head()"
   ]
  },
  {
   "cell_type": "code",
   "execution_count": null,
   "metadata": {},
   "outputs": [],
   "source": [
    "summary = dict(df.groupby('asin')['summary'].sum())"
   ]
  },
  {
   "cell_type": "code",
   "execution_count": null,
   "metadata": {},
   "outputs": [],
   "source": [
    "df['one_sum'] = df['asin'].map(summary)\n",
    "df['one_sum'].head()"
   ]
  },
  {
   "cell_type": "code",
   "execution_count": null,
   "metadata": {},
   "outputs": [],
   "source": [
    "df['reviewText'] = df['reviewText'] + \" \"\n",
    "\n",
    "reviewText = dict(df.groupby('asin')['reviewText'].sum())\n",
    "df['all_reviews'] = df['asin'].map(reviewText)\n",
    "df['all_reviews'].head()"
   ]
  },
  {
   "cell_type": "code",
   "execution_count": null,
   "metadata": {},
   "outputs": [],
   "source": [
    "overall_mean = dict(df.groupby(['asin']).mean().round(2)['overall'])\n",
    "overall_mean\n"
   ]
  },
  {
   "cell_type": "markdown",
   "metadata": {},
   "source": [
    "Create a new column for the average rating out of 5 stars for each `asin`."
   ]
  },
  {
   "cell_type": "code",
   "execution_count": null,
   "metadata": {
    "scrolled": false
   },
   "outputs": [],
   "source": [
    "df['overall_mean'] = df['asin'].map(overall_mean)\n",
    "df['overall_mean'].tail()"
   ]
  },
  {
   "cell_type": "markdown",
   "metadata": {},
   "source": [
    "Now that matching `asin` rows have the same values for summary and reviews and average overall score, we can drop all th duplicate asin rows."
   ]
  },
  {
   "cell_type": "code",
   "execution_count": null,
   "metadata": {},
   "outputs": [],
   "source": [
    "df.drop_duplicates(subset='asin', inplace=True)"
   ]
  },
  {
   "cell_type": "code",
   "execution_count": null,
   "metadata": {},
   "outputs": [],
   "source": [
    "# Check shape to confirm rows were dropped \n",
    "df.shape"
   ]
  },
  {
   "cell_type": "code",
   "execution_count": null,
   "metadata": {},
   "outputs": [],
   "source": [
    "# Change types to string so that all rows are the same (some were integers before)\n",
    "df['details'] = df['details'].astype(str)\n",
    "df['description'] = df['description'].astype(str)"
   ]
  },
  {
   "cell_type": "code",
   "execution_count": null,
   "metadata": {},
   "outputs": [],
   "source": [
    "df['details'].value_counts()"
   ]
  },
  {
   "cell_type": "code",
   "execution_count": null,
   "metadata": {},
   "outputs": [],
   "source": [
    "df['all_text'] = df['all_reviews'] + \" \" + df['one_sum'] + \" \" + df['description']\n",
    "df['all_text'].head()"
   ]
  },
  {
   "cell_type": "code",
   "execution_count": null,
   "metadata": {},
   "outputs": [],
   "source": [
    "df.dtypes.head(15)"
   ]
  },
  {
   "cell_type": "code",
   "execution_count": null,
   "metadata": {},
   "outputs": [],
   "source": [
    "#Check value counts of size column \n",
    "df['size'].value_counts() "
   ]
  },
  {
   "cell_type": "code",
   "execution_count": null,
   "metadata": {},
   "outputs": [],
   "source": [
    "# After reviewing size, I think it is not going to be helpful so I'll drop it.\n",
    "df.drop(columns='size', inplace=True)"
   ]
  },
  {
   "cell_type": "code",
   "execution_count": null,
   "metadata": {
    "scrolled": true
   },
   "outputs": [],
   "source": [
    "df.columns"
   ]
  },
  {
   "cell_type": "code",
   "execution_count": null,
   "metadata": {},
   "outputs": [],
   "source": [
    "df.shape"
   ]
  },
  {
   "cell_type": "code",
   "execution_count": null,
   "metadata": {},
   "outputs": [],
   "source": [
    "df.head()"
   ]
  },
  {
   "cell_type": "code",
   "execution_count": null,
   "metadata": {},
   "outputs": [],
   "source": [
    "# df.drop(columns=['reviewerID','reviewText', 'overall', 'summary', 'unixReviewTime', 'review_date', 'color', 'description', 'details', 'all_text', 'one_sum', 'all_reviews']).to_csv('data/category_only.csv')\n"
   ]
  },
  {
   "cell_type": "code",
   "execution_count": null,
   "metadata": {},
   "outputs": [],
   "source": [
    "df_text = df[['asin', 'name', 'color', 'details', 'description', 'all_text', 'one_sum', 'all_reviews']]"
   ]
  },
  {
   "cell_type": "code",
   "execution_count": null,
   "metadata": {},
   "outputs": [],
   "source": [
    "df_text.head(25)"
   ]
  },
  {
   "cell_type": "code",
   "execution_count": null,
   "metadata": {},
   "outputs": [],
   "source": [
    "df_text['all_text'][0]"
   ]
  },
  {
   "cell_type": "code",
   "execution_count": null,
   "metadata": {},
   "outputs": [],
   "source": [
    "df_text['one_sum'][0]"
   ]
  },
  {
   "cell_type": "code",
   "execution_count": null,
   "metadata": {},
   "outputs": [],
   "source": [
    "df['description'][0]"
   ]
  },
  {
   "cell_type": "code",
   "execution_count": null,
   "metadata": {},
   "outputs": [],
   "source": [
    "#Instantiate Tokenizer \n",
    "tokenizer = RegexpTokenizer(r'\\w+')"
   ]
  },
  {
   "cell_type": "code",
   "execution_count": null,
   "metadata": {},
   "outputs": [],
   "source": [
    "# Tokenize the color column and make all words lowercase \n",
    "df_text['color'] = df_text['color'].apply(lambda x: tokenizer.tokenize(x.lower()))"
   ]
  },
  {
   "cell_type": "code",
   "execution_count": null,
   "metadata": {},
   "outputs": [],
   "source": [
    "df_text['color'].head()"
   ]
  },
  {
   "cell_type": "code",
   "execution_count": null,
   "metadata": {},
   "outputs": [],
   "source": [
    "# Tokenize the all_text column\n",
    "df_text['all_text'] = df_text['all_text'].apply(lambda x: tokenizer.tokenize(x.lower()))"
   ]
  },
  {
   "cell_type": "code",
   "execution_count": null,
   "metadata": {},
   "outputs": [],
   "source": [
    "df_text['all_text'][0]"
   ]
  },
  {
   "cell_type": "code",
   "execution_count": null,
   "metadata": {},
   "outputs": [],
   "source": [
    "# Check value counts of name column\n",
    "df_text['name'].value_counts().head(10)"
   ]
  },
  {
   "cell_type": "code",
   "execution_count": null,
   "metadata": {},
   "outputs": [],
   "source": [
    "# Tokenize the name column and give it a new column, do not override it \n",
    "df_text['name_split'] = df_text['name'].apply(lambda x: tokenizer.tokenize(x.lower()))"
   ]
  },
  {
   "cell_type": "code",
   "execution_count": null,
   "metadata": {},
   "outputs": [],
   "source": [
    "print(df_text['name'][0])\n",
    "\n",
    "print(df_text['name_split'][0])"
   ]
  },
  {
   "cell_type": "code",
   "execution_count": null,
   "metadata": {},
   "outputs": [],
   "source": [
    "# Define a funtion to remove stop words \n",
    "def remove_stopwords(text):\n",
    "    words = [w for w in text if w not in stopwords.words('english')]\n",
    "    return words"
   ]
  },
  {
   "cell_type": "code",
   "execution_count": null,
   "metadata": {},
   "outputs": [],
   "source": [
    "# Apply the stop words function to the color column\n",
    "df_text['color'] = df_text['color'].apply(lambda x : remove_stopwords(x))\n",
    "df_text['color'].value_counts().head(10)"
   ]
  },
  {
   "cell_type": "code",
   "execution_count": null,
   "metadata": {},
   "outputs": [],
   "source": [
    "df_text['name_split'] = df_text['name_split'].apply(lambda x : remove_stopwords(x))\n"
   ]
  },
  {
   "cell_type": "code",
   "execution_count": null,
   "metadata": {},
   "outputs": [],
   "source": [
    "# Instantiate lemmatizer\n",
    "lemmatizer = WordNetLemmatizer()\n",
    "\n",
    "# Create a function for lemmatizing \n",
    "def word_lemmatizer(text):\n",
    "    lem_text = \" \".join([lemmatizer.lemmatize(i) for i in text])\n",
    "    return lem_text"
   ]
  },
  {
   "cell_type": "code",
   "execution_count": null,
   "metadata": {},
   "outputs": [],
   "source": [
    "# Apply lemmatizer to all_text column \n",
    "# df_text['all_text'] = df['all_text'].apply(lambda x: word_lemmatizer(x))"
   ]
  },
  {
   "cell_type": "code",
   "execution_count": null,
   "metadata": {},
   "outputs": [],
   "source": [
    "df_text['name_split'] = df_text['name_split'].apply(lambda x : word_lemmatizer(x))\n"
   ]
  },
  {
   "cell_type": "code",
   "execution_count": null,
   "metadata": {},
   "outputs": [],
   "source": [
    "df_text.columns"
   ]
  },
  {
   "cell_type": "code",
   "execution_count": null,
   "metadata": {},
   "outputs": [],
   "source": [
    "colors = pd.read_csv('wikipedia_color_names.csv')"
   ]
  },
  {
   "cell_type": "code",
   "execution_count": null,
   "metadata": {},
   "outputs": [],
   "source": [
    "colors.head()"
   ]
  },
  {
   "cell_type": "code",
   "execution_count": null,
   "metadata": {},
   "outputs": [],
   "source": [
    "colors_list = list(colors['Name'])\n",
    "[x.lower() for x in colors_list]"
   ]
  },
  {
   "cell_type": "code",
   "execution_count": null,
   "metadata": {},
   "outputs": [],
   "source": [
    "df_text['color'].head(25)"
   ]
  },
  {
   "cell_type": "code",
   "execution_count": null,
   "metadata": {},
   "outputs": [],
   "source": [
    "def colors_only(words):\n",
    "    colors = []\n",
    "    for i in [x.lower() for x in colors_list]:\n",
    "        if i in words:\n",
    "            colors.append(i)\n",
    "    return colors"
   ]
  },
  {
   "cell_type": "code",
   "execution_count": null,
   "metadata": {},
   "outputs": [],
   "source": [
    "colors_only('the sky blue table is flat')"
   ]
  },
  {
   "cell_type": "code",
   "execution_count": null,
   "metadata": {},
   "outputs": [],
   "source": [
    "df_text['name_color'] = df_text['name_split'].apply(colors_only)"
   ]
  },
  {
   "cell_type": "code",
   "execution_count": null,
   "metadata": {},
   "outputs": [],
   "source": [
    "# Lemmatize color column and join list of words back together \n",
    "df_text['color'] = df_text['color'].apply(lambda x: word_lemmatizer(x))"
   ]
  },
  {
   "cell_type": "code",
   "execution_count": null,
   "metadata": {
    "scrolled": true
   },
   "outputs": [],
   "source": [
    "df_text['color'] = df_text['color'].apply(colors_only)"
   ]
  },
  {
   "cell_type": "code",
   "execution_count": null,
   "metadata": {
    "scrolled": true
   },
   "outputs": [],
   "source": [
    "df_text[['color', 'name_color']].head(25)"
   ]
  },
  {
   "cell_type": "code",
   "execution_count": null,
   "metadata": {},
   "outputs": [],
   "source": [
    "df_text['colors_only'] = df_text['color'] + df_text['name_color']"
   ]
  },
  {
   "cell_type": "code",
   "execution_count": null,
   "metadata": {},
   "outputs": [],
   "source": [
    "# df_text[['asin', 'name', 'name_split']].to_csv('data/names_to_vectorize.csv')"
   ]
  },
  {
   "cell_type": "code",
   "execution_count": null,
   "metadata": {},
   "outputs": [],
   "source": [
    "df_text['colors_only'][0]"
   ]
  },
  {
   "cell_type": "code",
   "execution_count": null,
   "metadata": {},
   "outputs": [],
   "source": [
    "# Generate list of products.\n",
    "list_of_colors = {color for product in df_text['colors_only'] for color in product}"
   ]
  },
  {
   "cell_type": "code",
   "execution_count": null,
   "metadata": {},
   "outputs": [],
   "source": [
    "list_of_colors"
   ]
  },
  {
   "cell_type": "code",
   "execution_count": null,
   "metadata": {},
   "outputs": [],
   "source": [
    "import time"
   ]
  },
  {
   "cell_type": "code",
   "execution_count": null,
   "metadata": {},
   "outputs": [],
   "source": [
    "# Begin timer.\n",
    "t0 = time.time()\n",
    "# Instantiate counter (for progress statement).\n",
    "count = 0\n",
    "# Iterate through list of colors.\n",
    "for color in list_of_colors:\n",
    "    # Print out progress statement.\n",
    "    if count % 100 == 0:\n",
    "        print(\"Completed \" + str(count) + \" out of \" + str(len(list_of_colors)) + \\\n",
    "            \" columns in \" + str(round(time.time() - t0,4)) + \" seconds.\")\n",
    "        \n",
    "        \n",
    "# Create column for each color.\n",
    "# Each value is 1 if the product is represented by that color .\n",
    "# Each value is 0 if the product does not have that color in the description.        \n",
    "    df_text[color] = [1 if color in df_text.loc[row, 'colors_only'] else 0 for row in df.index]\n",
    "# Add one to counter (for progress statement).\n",
    "    count += 1\n",
    "\n",
    "# Code adapted from Matt Brems"
   ]
  },
  {
   "cell_type": "code",
   "execution_count": null,
   "metadata": {},
   "outputs": [],
   "source": [
    "df_text.iloc[:, -366:].sum()"
   ]
  },
  {
   "cell_type": "code",
   "execution_count": null,
   "metadata": {},
   "outputs": [],
   "source": [
    "tutu = df_text.loc[29].to_dict()\n",
    "\n",
    "{k:v for k,v in tutu.items() if v != 0}"
   ]
  },
  {
   "cell_type": "code",
   "execution_count": null,
   "metadata": {},
   "outputs": [],
   "source": [
    "df_text.iloc[:5, :12]"
   ]
  },
  {
   "cell_type": "code",
   "execution_count": null,
   "metadata": {},
   "outputs": [],
   "source": [
    "# df_text.drop(columns=['color', 'details', 'description', 'all_text', \n",
    "                    'one_sum', 'all_reviews', 'name_color', 'name_split', 'colors_only']).to_csv('data/colors_split.csv')"
   ]
  }
 ],
 "metadata": {
  "kernelspec": {
   "display_name": "Python 3",
   "language": "python",
   "name": "python3"
  },
  "language_info": {
   "codemirror_mode": {
    "name": "ipython",
    "version": 3
   },
   "file_extension": ".py",
   "mimetype": "text/x-python",
   "name": "python",
   "nbconvert_exporter": "python",
   "pygments_lexer": "ipython3",
   "version": "3.7.3"
  }
 },
 "nbformat": 4,
 "nbformat_minor": 2
}
