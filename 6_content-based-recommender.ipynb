{
 "cells": [
  {
   "cell_type": "markdown",
   "metadata": {},
   "source": [
    "## Content-based Recommender System\n",
    "_Author: Rachel Koenig_\n",
    "_____"
   ]
  },
  {
   "cell_type": "markdown",
   "metadata": {},
   "source": [
    "Imports"
   ]
  },
  {
   "cell_type": "code",
   "execution_count": 1,
   "metadata": {},
   "outputs": [],
   "source": [
    "import pandas as pd\n",
    "\n",
    "from scipy import sparse\n",
    "from sklearn.metrics.pairwise import pairwise_distances\n",
    "from bs4 import BeautifulSoup\n",
    "from nltk.corpus import stopwords "
   ]
  },
  {
   "cell_type": "markdown",
   "metadata": {},
   "source": [
    "Read in Category csv."
   ]
  },
  {
   "cell_type": "code",
   "execution_count": 2,
   "metadata": {},
   "outputs": [],
   "source": [
    "categories = pd.read_csv('data/category_only.csv')\n",
    "categories.head()\n",
    "pd.set_option('display.max_colwidth',1000)"
   ]
  },
  {
   "cell_type": "code",
   "execution_count": 3,
   "metadata": {},
   "outputs": [
    {
     "data": {
      "text/html": [
       "<div>\n",
       "<style scoped>\n",
       "    .dataframe tbody tr th:only-of-type {\n",
       "        vertical-align: middle;\n",
       "    }\n",
       "\n",
       "    .dataframe tbody tr th {\n",
       "        vertical-align: top;\n",
       "    }\n",
       "\n",
       "    .dataframe thead th {\n",
       "        text-align: right;\n",
       "    }\n",
       "</style>\n",
       "<table border=\"1\" class=\"dataframe\">\n",
       "  <thead>\n",
       "    <tr style=\"text-align: right;\">\n",
       "      <th></th>\n",
       "      <th>asin</th>\n",
       "      <th>name</th>\n",
       "      <th>Arts_Crafts_Sewing</th>\n",
       "      <th>Automotive</th>\n",
       "      <th>Baby_Products</th>\n",
       "      <th>Beauty_Personal_Care</th>\n",
       "      <th>Cell_Phones_Accessories</th>\n",
       "      <th>Clothing_Shoes_Jewelry</th>\n",
       "      <th>Electronics</th>\n",
       "      <th>Health_Household</th>\n",
       "      <th>...</th>\n",
       "      <th>Trunks</th>\n",
       "      <th>Umbrellas</th>\n",
       "      <th>Underwear</th>\n",
       "      <th>Wallets</th>\n",
       "      <th>Wear_to_Work</th>\n",
       "      <th>Wrist_Watches</th>\n",
       "      <th>Arm_Warmers</th>\n",
       "      <th>Baseball_Caps</th>\n",
       "      <th>Berets</th>\n",
       "      <th>overall_mean</th>\n",
       "    </tr>\n",
       "  </thead>\n",
       "  <tbody>\n",
       "    <tr>\n",
       "      <th>0</th>\n",
       "      <td>0000031887</td>\n",
       "      <td>Mystiqueshapes Girls Ballet Tutu Neon Lime Green</td>\n",
       "      <td>0.0</td>\n",
       "      <td>0.0</td>\n",
       "      <td>0.0</td>\n",
       "      <td>0.0</td>\n",
       "      <td>0.0</td>\n",
       "      <td>0.0</td>\n",
       "      <td>0.0</td>\n",
       "      <td>0.0</td>\n",
       "      <td>...</td>\n",
       "      <td>0.0</td>\n",
       "      <td>0.0</td>\n",
       "      <td>0.0</td>\n",
       "      <td>0.0</td>\n",
       "      <td>0.0</td>\n",
       "      <td>0.0</td>\n",
       "      <td>0.0</td>\n",
       "      <td>0.0</td>\n",
       "      <td>0.0</td>\n",
       "      <td>4.61</td>\n",
       "    </tr>\n",
       "    <tr>\n",
       "      <th>1</th>\n",
       "      <td>0123456479</td>\n",
       "      <td>SHINING IMAGE HUGE PINK LEATHER JEWELRY BOX / CASE / STORAGE / ORGANIZER WITH TRAVEL CASE AND LOCK</td>\n",
       "      <td>0.0</td>\n",
       "      <td>0.0</td>\n",
       "      <td>0.0</td>\n",
       "      <td>0.0</td>\n",
       "      <td>0.0</td>\n",
       "      <td>1.0</td>\n",
       "      <td>0.0</td>\n",
       "      <td>0.0</td>\n",
       "      <td>...</td>\n",
       "      <td>0.0</td>\n",
       "      <td>0.0</td>\n",
       "      <td>0.0</td>\n",
       "      <td>0.0</td>\n",
       "      <td>0.0</td>\n",
       "      <td>0.0</td>\n",
       "      <td>0.0</td>\n",
       "      <td>0.0</td>\n",
       "      <td>0.0</td>\n",
       "      <td>4.17</td>\n",
       "    </tr>\n",
       "    <tr>\n",
       "      <th>2</th>\n",
       "      <td>1608299953</td>\n",
       "      <td>Learn French: Rosetta Stone French - Level 1</td>\n",
       "      <td>0.0</td>\n",
       "      <td>0.0</td>\n",
       "      <td>0.0</td>\n",
       "      <td>0.0</td>\n",
       "      <td>0.0</td>\n",
       "      <td>0.0</td>\n",
       "      <td>0.0</td>\n",
       "      <td>0.0</td>\n",
       "      <td>...</td>\n",
       "      <td>0.0</td>\n",
       "      <td>0.0</td>\n",
       "      <td>0.0</td>\n",
       "      <td>0.0</td>\n",
       "      <td>0.0</td>\n",
       "      <td>0.0</td>\n",
       "      <td>0.0</td>\n",
       "      <td>0.0</td>\n",
       "      <td>0.0</td>\n",
       "      <td>4.31</td>\n",
       "    </tr>\n",
       "    <tr>\n",
       "      <th>3</th>\n",
       "      <td>1617160377</td>\n",
       "      <td>Learn Italian: Rosetta Stone Italian - Level 1</td>\n",
       "      <td>0.0</td>\n",
       "      <td>0.0</td>\n",
       "      <td>0.0</td>\n",
       "      <td>0.0</td>\n",
       "      <td>0.0</td>\n",
       "      <td>0.0</td>\n",
       "      <td>0.0</td>\n",
       "      <td>0.0</td>\n",
       "      <td>...</td>\n",
       "      <td>0.0</td>\n",
       "      <td>0.0</td>\n",
       "      <td>0.0</td>\n",
       "      <td>0.0</td>\n",
       "      <td>0.0</td>\n",
       "      <td>0.0</td>\n",
       "      <td>0.0</td>\n",
       "      <td>0.0</td>\n",
       "      <td>0.0</td>\n",
       "      <td>4.62</td>\n",
       "    </tr>\n",
       "    <tr>\n",
       "      <th>4</th>\n",
       "      <td>B00001W0KA</td>\n",
       "      <td>Buzz Lightyear Boy's Deluxe Toy Story Costume</td>\n",
       "      <td>0.0</td>\n",
       "      <td>0.0</td>\n",
       "      <td>0.0</td>\n",
       "      <td>0.0</td>\n",
       "      <td>0.0</td>\n",
       "      <td>0.0</td>\n",
       "      <td>0.0</td>\n",
       "      <td>0.0</td>\n",
       "      <td>...</td>\n",
       "      <td>0.0</td>\n",
       "      <td>0.0</td>\n",
       "      <td>0.0</td>\n",
       "      <td>0.0</td>\n",
       "      <td>0.0</td>\n",
       "      <td>0.0</td>\n",
       "      <td>0.0</td>\n",
       "      <td>0.0</td>\n",
       "      <td>0.0</td>\n",
       "      <td>4.62</td>\n",
       "    </tr>\n",
       "  </tbody>\n",
       "</table>\n",
       "<p>5 rows × 814 columns</p>\n",
       "</div>"
      ],
      "text/plain": [
       "         asin  \\\n",
       "0  0000031887   \n",
       "1  0123456479   \n",
       "2  1608299953   \n",
       "3  1617160377   \n",
       "4  B00001W0KA   \n",
       "\n",
       "                                                                                                 name  \\\n",
       "0                                                    Mystiqueshapes Girls Ballet Tutu Neon Lime Green   \n",
       "1  SHINING IMAGE HUGE PINK LEATHER JEWELRY BOX / CASE / STORAGE / ORGANIZER WITH TRAVEL CASE AND LOCK   \n",
       "2                                                        Learn French: Rosetta Stone French - Level 1   \n",
       "3                                                      Learn Italian: Rosetta Stone Italian - Level 1   \n",
       "4                                                       Buzz Lightyear Boy's Deluxe Toy Story Costume   \n",
       "\n",
       "   Arts_Crafts_Sewing  Automotive  Baby_Products  Beauty_Personal_Care  \\\n",
       "0                 0.0         0.0            0.0                   0.0   \n",
       "1                 0.0         0.0            0.0                   0.0   \n",
       "2                 0.0         0.0            0.0                   0.0   \n",
       "3                 0.0         0.0            0.0                   0.0   \n",
       "4                 0.0         0.0            0.0                   0.0   \n",
       "\n",
       "   Cell_Phones_Accessories  Clothing_Shoes_Jewelry  Electronics  \\\n",
       "0                      0.0                     0.0          0.0   \n",
       "1                      0.0                     1.0          0.0   \n",
       "2                      0.0                     0.0          0.0   \n",
       "3                      0.0                     0.0          0.0   \n",
       "4                      0.0                     0.0          0.0   \n",
       "\n",
       "   Health_Household  ...  Trunks  Umbrellas  Underwear  Wallets  Wear_to_Work  \\\n",
       "0               0.0  ...     0.0        0.0        0.0      0.0           0.0   \n",
       "1               0.0  ...     0.0        0.0        0.0      0.0           0.0   \n",
       "2               0.0  ...     0.0        0.0        0.0      0.0           0.0   \n",
       "3               0.0  ...     0.0        0.0        0.0      0.0           0.0   \n",
       "4               0.0  ...     0.0        0.0        0.0      0.0           0.0   \n",
       "\n",
       "   Wrist_Watches  Arm_Warmers  Baseball_Caps  Berets  overall_mean  \n",
       "0            0.0          0.0            0.0     0.0          4.61  \n",
       "1            0.0          0.0            0.0     0.0          4.17  \n",
       "2            0.0          0.0            0.0     0.0          4.31  \n",
       "3            0.0          0.0            0.0     0.0          4.62  \n",
       "4            0.0          0.0            0.0     0.0          4.62  \n",
       "\n",
       "[5 rows x 814 columns]"
      ]
     },
     "execution_count": 3,
     "metadata": {},
     "output_type": "execute_result"
    }
   ],
   "source": [
    "categories.drop(columns='Unnamed: 0', inplace=True)  #drop unnamed column \n",
    "categories.head()  # check first 5 rows of the dataset "
   ]
  },
  {
   "cell_type": "code",
   "execution_count": 4,
   "metadata": {},
   "outputs": [
    {
     "data": {
      "text/plain": [
       "(13732, 814)"
      ]
     },
     "execution_count": 4,
     "metadata": {},
     "output_type": "execute_result"
    }
   ],
   "source": [
    "# Check number of rows and columns \n",
    "categories.shape"
   ]
  },
  {
   "cell_type": "code",
   "execution_count": 5,
   "metadata": {},
   "outputs": [],
   "source": [
    "# change all columns to lowercase \n",
    "categories.columns = [x.lower() for x in categories.columns]"
   ]
  },
  {
   "cell_type": "code",
   "execution_count": 6,
   "metadata": {},
   "outputs": [
    {
     "data": {
      "text/plain": [
       "asin                        object\n",
       "name                        object\n",
       "arts_crafts_sewing         float64\n",
       "automotive                 float64\n",
       "baby_products              float64\n",
       "beauty_personal_care       float64\n",
       "cell_phones_accessories    float64\n",
       "clothing_shoes_jewelry     float64\n",
       "electronics                float64\n",
       "health_household           float64\n",
       "home_kitchen               float64\n",
       "industrial_scientific      float64\n",
       "office_products            float64\n",
       "purchase_circles           float64\n",
       "software                   float64\n",
       "sports_outdoors            float64\n",
       "tools_home_improvement     float64\n",
       "toys_games                 float64\n",
       "accessories_supplies       float64\n",
       "antivirus_security         float64\n",
       "arts_crafts                float64\n",
       "baby_toddler_toys          float64\n",
       "bath                       float64\n",
       "beading_jewelry_making     float64\n",
       "bedding                    float64\n",
       "dtype: object"
      ]
     },
     "execution_count": 6,
     "metadata": {},
     "output_type": "execute_result"
    }
   ],
   "source": [
    "# check data types \n",
    "categories.dtypes.head(25)"
   ]
  },
  {
   "cell_type": "code",
   "execution_count": 7,
   "metadata": {},
   "outputs": [
    {
     "data": {
      "text/plain": [
       "0"
      ]
     },
     "execution_count": 7,
     "metadata": {},
     "output_type": "execute_result"
    }
   ],
   "source": [
    "# Check for nulls \n",
    "categories.isnull().sum().sum()"
   ]
  },
  {
   "cell_type": "code",
   "execution_count": 8,
   "metadata": {},
   "outputs": [
    {
     "data": {
      "text/plain": [
       "\"Leading Lady Women's Plus Size Sleep Leisure Cotton Bra\""
      ]
     },
     "execution_count": 8,
     "metadata": {},
     "output_type": "execute_result"
    }
   ],
   "source": [
    "# Check column/row output \n",
    "categories['name'][143]"
   ]
  },
  {
   "cell_type": "markdown",
   "metadata": {},
   "source": [
    "Create new dataframe with only category columns."
   ]
  },
  {
   "cell_type": "code",
   "execution_count": 9,
   "metadata": {},
   "outputs": [
    {
     "data": {
      "text/html": [
       "<div>\n",
       "<style scoped>\n",
       "    .dataframe tbody tr th:only-of-type {\n",
       "        vertical-align: middle;\n",
       "    }\n",
       "\n",
       "    .dataframe tbody tr th {\n",
       "        vertical-align: top;\n",
       "    }\n",
       "\n",
       "    .dataframe thead th {\n",
       "        text-align: right;\n",
       "    }\n",
       "</style>\n",
       "<table border=\"1\" class=\"dataframe\">\n",
       "  <thead>\n",
       "    <tr style=\"text-align: right;\">\n",
       "      <th></th>\n",
       "      <th>arts_crafts_sewing</th>\n",
       "      <th>automotive</th>\n",
       "      <th>baby_products</th>\n",
       "      <th>beauty_personal_care</th>\n",
       "      <th>cell_phones_accessories</th>\n",
       "      <th>clothing_shoes_jewelry</th>\n",
       "      <th>electronics</th>\n",
       "      <th>health_household</th>\n",
       "      <th>home_kitchen</th>\n",
       "      <th>industrial_scientific</th>\n",
       "      <th>...</th>\n",
       "      <th>trunks</th>\n",
       "      <th>umbrellas</th>\n",
       "      <th>underwear</th>\n",
       "      <th>wallets</th>\n",
       "      <th>wear_to_work</th>\n",
       "      <th>wrist_watches</th>\n",
       "      <th>arm_warmers</th>\n",
       "      <th>baseball_caps</th>\n",
       "      <th>berets</th>\n",
       "      <th>overall_mean</th>\n",
       "    </tr>\n",
       "  </thead>\n",
       "  <tbody>\n",
       "    <tr>\n",
       "      <th>0</th>\n",
       "      <td>0.0</td>\n",
       "      <td>0.0</td>\n",
       "      <td>0.0</td>\n",
       "      <td>0.0</td>\n",
       "      <td>0.0</td>\n",
       "      <td>0.0</td>\n",
       "      <td>0.0</td>\n",
       "      <td>0.0</td>\n",
       "      <td>0.0</td>\n",
       "      <td>0.0</td>\n",
       "      <td>...</td>\n",
       "      <td>0.0</td>\n",
       "      <td>0.0</td>\n",
       "      <td>0.0</td>\n",
       "      <td>0.0</td>\n",
       "      <td>0.0</td>\n",
       "      <td>0.0</td>\n",
       "      <td>0.0</td>\n",
       "      <td>0.0</td>\n",
       "      <td>0.0</td>\n",
       "      <td>4.61</td>\n",
       "    </tr>\n",
       "    <tr>\n",
       "      <th>1</th>\n",
       "      <td>0.0</td>\n",
       "      <td>0.0</td>\n",
       "      <td>0.0</td>\n",
       "      <td>0.0</td>\n",
       "      <td>0.0</td>\n",
       "      <td>1.0</td>\n",
       "      <td>0.0</td>\n",
       "      <td>0.0</td>\n",
       "      <td>0.0</td>\n",
       "      <td>0.0</td>\n",
       "      <td>...</td>\n",
       "      <td>0.0</td>\n",
       "      <td>0.0</td>\n",
       "      <td>0.0</td>\n",
       "      <td>0.0</td>\n",
       "      <td>0.0</td>\n",
       "      <td>0.0</td>\n",
       "      <td>0.0</td>\n",
       "      <td>0.0</td>\n",
       "      <td>0.0</td>\n",
       "      <td>4.17</td>\n",
       "    </tr>\n",
       "    <tr>\n",
       "      <th>2</th>\n",
       "      <td>0.0</td>\n",
       "      <td>0.0</td>\n",
       "      <td>0.0</td>\n",
       "      <td>0.0</td>\n",
       "      <td>0.0</td>\n",
       "      <td>0.0</td>\n",
       "      <td>0.0</td>\n",
       "      <td>0.0</td>\n",
       "      <td>0.0</td>\n",
       "      <td>0.0</td>\n",
       "      <td>...</td>\n",
       "      <td>0.0</td>\n",
       "      <td>0.0</td>\n",
       "      <td>0.0</td>\n",
       "      <td>0.0</td>\n",
       "      <td>0.0</td>\n",
       "      <td>0.0</td>\n",
       "      <td>0.0</td>\n",
       "      <td>0.0</td>\n",
       "      <td>0.0</td>\n",
       "      <td>4.31</td>\n",
       "    </tr>\n",
       "    <tr>\n",
       "      <th>3</th>\n",
       "      <td>0.0</td>\n",
       "      <td>0.0</td>\n",
       "      <td>0.0</td>\n",
       "      <td>0.0</td>\n",
       "      <td>0.0</td>\n",
       "      <td>0.0</td>\n",
       "      <td>0.0</td>\n",
       "      <td>0.0</td>\n",
       "      <td>0.0</td>\n",
       "      <td>0.0</td>\n",
       "      <td>...</td>\n",
       "      <td>0.0</td>\n",
       "      <td>0.0</td>\n",
       "      <td>0.0</td>\n",
       "      <td>0.0</td>\n",
       "      <td>0.0</td>\n",
       "      <td>0.0</td>\n",
       "      <td>0.0</td>\n",
       "      <td>0.0</td>\n",
       "      <td>0.0</td>\n",
       "      <td>4.62</td>\n",
       "    </tr>\n",
       "    <tr>\n",
       "      <th>4</th>\n",
       "      <td>0.0</td>\n",
       "      <td>0.0</td>\n",
       "      <td>0.0</td>\n",
       "      <td>0.0</td>\n",
       "      <td>0.0</td>\n",
       "      <td>0.0</td>\n",
       "      <td>0.0</td>\n",
       "      <td>0.0</td>\n",
       "      <td>0.0</td>\n",
       "      <td>0.0</td>\n",
       "      <td>...</td>\n",
       "      <td>0.0</td>\n",
       "      <td>0.0</td>\n",
       "      <td>0.0</td>\n",
       "      <td>0.0</td>\n",
       "      <td>0.0</td>\n",
       "      <td>0.0</td>\n",
       "      <td>0.0</td>\n",
       "      <td>0.0</td>\n",
       "      <td>0.0</td>\n",
       "      <td>4.62</td>\n",
       "    </tr>\n",
       "  </tbody>\n",
       "</table>\n",
       "<p>5 rows × 812 columns</p>\n",
       "</div>"
      ],
      "text/plain": [
       "   arts_crafts_sewing  automotive  baby_products  beauty_personal_care  \\\n",
       "0                 0.0         0.0            0.0                   0.0   \n",
       "1                 0.0         0.0            0.0                   0.0   \n",
       "2                 0.0         0.0            0.0                   0.0   \n",
       "3                 0.0         0.0            0.0                   0.0   \n",
       "4                 0.0         0.0            0.0                   0.0   \n",
       "\n",
       "   cell_phones_accessories  clothing_shoes_jewelry  electronics  \\\n",
       "0                      0.0                     0.0          0.0   \n",
       "1                      0.0                     1.0          0.0   \n",
       "2                      0.0                     0.0          0.0   \n",
       "3                      0.0                     0.0          0.0   \n",
       "4                      0.0                     0.0          0.0   \n",
       "\n",
       "   health_household  home_kitchen  industrial_scientific  ...  trunks  \\\n",
       "0               0.0           0.0                    0.0  ...     0.0   \n",
       "1               0.0           0.0                    0.0  ...     0.0   \n",
       "2               0.0           0.0                    0.0  ...     0.0   \n",
       "3               0.0           0.0                    0.0  ...     0.0   \n",
       "4               0.0           0.0                    0.0  ...     0.0   \n",
       "\n",
       "   umbrellas  underwear  wallets  wear_to_work  wrist_watches  arm_warmers  \\\n",
       "0        0.0        0.0      0.0           0.0            0.0          0.0   \n",
       "1        0.0        0.0      0.0           0.0            0.0          0.0   \n",
       "2        0.0        0.0      0.0           0.0            0.0          0.0   \n",
       "3        0.0        0.0      0.0           0.0            0.0          0.0   \n",
       "4        0.0        0.0      0.0           0.0            0.0          0.0   \n",
       "\n",
       "   baseball_caps  berets  overall_mean  \n",
       "0            0.0     0.0          4.61  \n",
       "1            0.0     0.0          4.17  \n",
       "2            0.0     0.0          4.31  \n",
       "3            0.0     0.0          4.62  \n",
       "4            0.0     0.0          4.62  \n",
       "\n",
       "[5 rows x 812 columns]"
      ]
     },
     "execution_count": 9,
     "metadata": {},
     "output_type": "execute_result"
    }
   ],
   "source": [
    "cats = categories.iloc[:, 2:]\n",
    "cats.head()"
   ]
  },
  {
   "cell_type": "markdown",
   "metadata": {},
   "source": [
    "Set index to product name."
   ]
  },
  {
   "cell_type": "code",
   "execution_count": 10,
   "metadata": {},
   "outputs": [],
   "source": [
    "cats = cats.set_index(categories['name'])"
   ]
  },
  {
   "cell_type": "code",
   "execution_count": 11,
   "metadata": {},
   "outputs": [
    {
     "data": {
      "text/html": [
       "<div>\n",
       "<style scoped>\n",
       "    .dataframe tbody tr th:only-of-type {\n",
       "        vertical-align: middle;\n",
       "    }\n",
       "\n",
       "    .dataframe tbody tr th {\n",
       "        vertical-align: top;\n",
       "    }\n",
       "\n",
       "    .dataframe thead th {\n",
       "        text-align: right;\n",
       "    }\n",
       "</style>\n",
       "<table border=\"1\" class=\"dataframe\">\n",
       "  <thead>\n",
       "    <tr style=\"text-align: right;\">\n",
       "      <th></th>\n",
       "      <th>arts_crafts_sewing</th>\n",
       "      <th>automotive</th>\n",
       "      <th>baby_products</th>\n",
       "      <th>beauty_personal_care</th>\n",
       "      <th>cell_phones_accessories</th>\n",
       "      <th>clothing_shoes_jewelry</th>\n",
       "      <th>electronics</th>\n",
       "      <th>health_household</th>\n",
       "      <th>home_kitchen</th>\n",
       "      <th>industrial_scientific</th>\n",
       "      <th>...</th>\n",
       "      <th>trunks</th>\n",
       "      <th>umbrellas</th>\n",
       "      <th>underwear</th>\n",
       "      <th>wallets</th>\n",
       "      <th>wear_to_work</th>\n",
       "      <th>wrist_watches</th>\n",
       "      <th>arm_warmers</th>\n",
       "      <th>baseball_caps</th>\n",
       "      <th>berets</th>\n",
       "      <th>overall_mean</th>\n",
       "    </tr>\n",
       "    <tr>\n",
       "      <th>name</th>\n",
       "      <th></th>\n",
       "      <th></th>\n",
       "      <th></th>\n",
       "      <th></th>\n",
       "      <th></th>\n",
       "      <th></th>\n",
       "      <th></th>\n",
       "      <th></th>\n",
       "      <th></th>\n",
       "      <th></th>\n",
       "      <th></th>\n",
       "      <th></th>\n",
       "      <th></th>\n",
       "      <th></th>\n",
       "      <th></th>\n",
       "      <th></th>\n",
       "      <th></th>\n",
       "      <th></th>\n",
       "      <th></th>\n",
       "      <th></th>\n",
       "      <th></th>\n",
       "    </tr>\n",
       "  </thead>\n",
       "  <tbody>\n",
       "    <tr>\n",
       "      <th>Mystiqueshapes Girls Ballet Tutu Neon Lime Green</th>\n",
       "      <td>0.0</td>\n",
       "      <td>0.0</td>\n",
       "      <td>0.0</td>\n",
       "      <td>0.0</td>\n",
       "      <td>0.0</td>\n",
       "      <td>0.0</td>\n",
       "      <td>0.0</td>\n",
       "      <td>0.0</td>\n",
       "      <td>0.0</td>\n",
       "      <td>0.0</td>\n",
       "      <td>...</td>\n",
       "      <td>0.0</td>\n",
       "      <td>0.0</td>\n",
       "      <td>0.0</td>\n",
       "      <td>0.0</td>\n",
       "      <td>0.0</td>\n",
       "      <td>0.0</td>\n",
       "      <td>0.0</td>\n",
       "      <td>0.0</td>\n",
       "      <td>0.0</td>\n",
       "      <td>4.61</td>\n",
       "    </tr>\n",
       "    <tr>\n",
       "      <th>SHINING IMAGE HUGE PINK LEATHER JEWELRY BOX / CASE / STORAGE / ORGANIZER WITH TRAVEL CASE AND LOCK</th>\n",
       "      <td>0.0</td>\n",
       "      <td>0.0</td>\n",
       "      <td>0.0</td>\n",
       "      <td>0.0</td>\n",
       "      <td>0.0</td>\n",
       "      <td>1.0</td>\n",
       "      <td>0.0</td>\n",
       "      <td>0.0</td>\n",
       "      <td>0.0</td>\n",
       "      <td>0.0</td>\n",
       "      <td>...</td>\n",
       "      <td>0.0</td>\n",
       "      <td>0.0</td>\n",
       "      <td>0.0</td>\n",
       "      <td>0.0</td>\n",
       "      <td>0.0</td>\n",
       "      <td>0.0</td>\n",
       "      <td>0.0</td>\n",
       "      <td>0.0</td>\n",
       "      <td>0.0</td>\n",
       "      <td>4.17</td>\n",
       "    </tr>\n",
       "    <tr>\n",
       "      <th>Learn French: Rosetta Stone French - Level 1</th>\n",
       "      <td>0.0</td>\n",
       "      <td>0.0</td>\n",
       "      <td>0.0</td>\n",
       "      <td>0.0</td>\n",
       "      <td>0.0</td>\n",
       "      <td>0.0</td>\n",
       "      <td>0.0</td>\n",
       "      <td>0.0</td>\n",
       "      <td>0.0</td>\n",
       "      <td>0.0</td>\n",
       "      <td>...</td>\n",
       "      <td>0.0</td>\n",
       "      <td>0.0</td>\n",
       "      <td>0.0</td>\n",
       "      <td>0.0</td>\n",
       "      <td>0.0</td>\n",
       "      <td>0.0</td>\n",
       "      <td>0.0</td>\n",
       "      <td>0.0</td>\n",
       "      <td>0.0</td>\n",
       "      <td>4.31</td>\n",
       "    </tr>\n",
       "    <tr>\n",
       "      <th>Learn Italian: Rosetta Stone Italian - Level 1</th>\n",
       "      <td>0.0</td>\n",
       "      <td>0.0</td>\n",
       "      <td>0.0</td>\n",
       "      <td>0.0</td>\n",
       "      <td>0.0</td>\n",
       "      <td>0.0</td>\n",
       "      <td>0.0</td>\n",
       "      <td>0.0</td>\n",
       "      <td>0.0</td>\n",
       "      <td>0.0</td>\n",
       "      <td>...</td>\n",
       "      <td>0.0</td>\n",
       "      <td>0.0</td>\n",
       "      <td>0.0</td>\n",
       "      <td>0.0</td>\n",
       "      <td>0.0</td>\n",
       "      <td>0.0</td>\n",
       "      <td>0.0</td>\n",
       "      <td>0.0</td>\n",
       "      <td>0.0</td>\n",
       "      <td>4.62</td>\n",
       "    </tr>\n",
       "    <tr>\n",
       "      <th>Buzz Lightyear Boy's Deluxe Toy Story Costume</th>\n",
       "      <td>0.0</td>\n",
       "      <td>0.0</td>\n",
       "      <td>0.0</td>\n",
       "      <td>0.0</td>\n",
       "      <td>0.0</td>\n",
       "      <td>0.0</td>\n",
       "      <td>0.0</td>\n",
       "      <td>0.0</td>\n",
       "      <td>0.0</td>\n",
       "      <td>0.0</td>\n",
       "      <td>...</td>\n",
       "      <td>0.0</td>\n",
       "      <td>0.0</td>\n",
       "      <td>0.0</td>\n",
       "      <td>0.0</td>\n",
       "      <td>0.0</td>\n",
       "      <td>0.0</td>\n",
       "      <td>0.0</td>\n",
       "      <td>0.0</td>\n",
       "      <td>0.0</td>\n",
       "      <td>4.62</td>\n",
       "    </tr>\n",
       "  </tbody>\n",
       "</table>\n",
       "<p>5 rows × 812 columns</p>\n",
       "</div>"
      ],
      "text/plain": [
       "                                                                                                    arts_crafts_sewing  \\\n",
       "name                                                                                                                     \n",
       "Mystiqueshapes Girls Ballet Tutu Neon Lime Green                                                                   0.0   \n",
       "SHINING IMAGE HUGE PINK LEATHER JEWELRY BOX / CASE / STORAGE / ORGANIZER WITH TRAVEL CASE AND LOCK                 0.0   \n",
       "Learn French: Rosetta Stone French - Level 1                                                                       0.0   \n",
       "Learn Italian: Rosetta Stone Italian - Level 1                                                                     0.0   \n",
       "Buzz Lightyear Boy's Deluxe Toy Story Costume                                                                      0.0   \n",
       "\n",
       "                                                                                                    automotive  \\\n",
       "name                                                                                                             \n",
       "Mystiqueshapes Girls Ballet Tutu Neon Lime Green                                                           0.0   \n",
       "SHINING IMAGE HUGE PINK LEATHER JEWELRY BOX / CASE / STORAGE / ORGANIZER WITH TRAVEL CASE AND LOCK         0.0   \n",
       "Learn French: Rosetta Stone French - Level 1                                                               0.0   \n",
       "Learn Italian: Rosetta Stone Italian - Level 1                                                             0.0   \n",
       "Buzz Lightyear Boy's Deluxe Toy Story Costume                                                              0.0   \n",
       "\n",
       "                                                                                                    baby_products  \\\n",
       "name                                                                                                                \n",
       "Mystiqueshapes Girls Ballet Tutu Neon Lime Green                                                              0.0   \n",
       "SHINING IMAGE HUGE PINK LEATHER JEWELRY BOX / CASE / STORAGE / ORGANIZER WITH TRAVEL CASE AND LOCK            0.0   \n",
       "Learn French: Rosetta Stone French - Level 1                                                                  0.0   \n",
       "Learn Italian: Rosetta Stone Italian - Level 1                                                                0.0   \n",
       "Buzz Lightyear Boy's Deluxe Toy Story Costume                                                                 0.0   \n",
       "\n",
       "                                                                                                    beauty_personal_care  \\\n",
       "name                                                                                                                       \n",
       "Mystiqueshapes Girls Ballet Tutu Neon Lime Green                                                                     0.0   \n",
       "SHINING IMAGE HUGE PINK LEATHER JEWELRY BOX / CASE / STORAGE / ORGANIZER WITH TRAVEL CASE AND LOCK                   0.0   \n",
       "Learn French: Rosetta Stone French - Level 1                                                                         0.0   \n",
       "Learn Italian: Rosetta Stone Italian - Level 1                                                                       0.0   \n",
       "Buzz Lightyear Boy's Deluxe Toy Story Costume                                                                        0.0   \n",
       "\n",
       "                                                                                                    cell_phones_accessories  \\\n",
       "name                                                                                                                          \n",
       "Mystiqueshapes Girls Ballet Tutu Neon Lime Green                                                                        0.0   \n",
       "SHINING IMAGE HUGE PINK LEATHER JEWELRY BOX / CASE / STORAGE / ORGANIZER WITH TRAVEL CASE AND LOCK                      0.0   \n",
       "Learn French: Rosetta Stone French - Level 1                                                                            0.0   \n",
       "Learn Italian: Rosetta Stone Italian - Level 1                                                                          0.0   \n",
       "Buzz Lightyear Boy's Deluxe Toy Story Costume                                                                           0.0   \n",
       "\n",
       "                                                                                                    clothing_shoes_jewelry  \\\n",
       "name                                                                                                                         \n",
       "Mystiqueshapes Girls Ballet Tutu Neon Lime Green                                                                       0.0   \n",
       "SHINING IMAGE HUGE PINK LEATHER JEWELRY BOX / CASE / STORAGE / ORGANIZER WITH TRAVEL CASE AND LOCK                     1.0   \n",
       "Learn French: Rosetta Stone French - Level 1                                                                           0.0   \n",
       "Learn Italian: Rosetta Stone Italian - Level 1                                                                         0.0   \n",
       "Buzz Lightyear Boy's Deluxe Toy Story Costume                                                                          0.0   \n",
       "\n",
       "                                                                                                    electronics  \\\n",
       "name                                                                                                              \n",
       "Mystiqueshapes Girls Ballet Tutu Neon Lime Green                                                            0.0   \n",
       "SHINING IMAGE HUGE PINK LEATHER JEWELRY BOX / CASE / STORAGE / ORGANIZER WITH TRAVEL CASE AND LOCK          0.0   \n",
       "Learn French: Rosetta Stone French - Level 1                                                                0.0   \n",
       "Learn Italian: Rosetta Stone Italian - Level 1                                                              0.0   \n",
       "Buzz Lightyear Boy's Deluxe Toy Story Costume                                                               0.0   \n",
       "\n",
       "                                                                                                    health_household  \\\n",
       "name                                                                                                                   \n",
       "Mystiqueshapes Girls Ballet Tutu Neon Lime Green                                                                 0.0   \n",
       "SHINING IMAGE HUGE PINK LEATHER JEWELRY BOX / CASE / STORAGE / ORGANIZER WITH TRAVEL CASE AND LOCK               0.0   \n",
       "Learn French: Rosetta Stone French - Level 1                                                                     0.0   \n",
       "Learn Italian: Rosetta Stone Italian - Level 1                                                                   0.0   \n",
       "Buzz Lightyear Boy's Deluxe Toy Story Costume                                                                    0.0   \n",
       "\n",
       "                                                                                                    home_kitchen  \\\n",
       "name                                                                                                               \n",
       "Mystiqueshapes Girls Ballet Tutu Neon Lime Green                                                             0.0   \n",
       "SHINING IMAGE HUGE PINK LEATHER JEWELRY BOX / CASE / STORAGE / ORGANIZER WITH TRAVEL CASE AND LOCK           0.0   \n",
       "Learn French: Rosetta Stone French - Level 1                                                                 0.0   \n",
       "Learn Italian: Rosetta Stone Italian - Level 1                                                               0.0   \n",
       "Buzz Lightyear Boy's Deluxe Toy Story Costume                                                                0.0   \n",
       "\n",
       "                                                                                                    industrial_scientific  \\\n",
       "name                                                                                                                        \n",
       "Mystiqueshapes Girls Ballet Tutu Neon Lime Green                                                                      0.0   \n",
       "SHINING IMAGE HUGE PINK LEATHER JEWELRY BOX / CASE / STORAGE / ORGANIZER WITH TRAVEL CASE AND LOCK                    0.0   \n",
       "Learn French: Rosetta Stone French - Level 1                                                                          0.0   \n",
       "Learn Italian: Rosetta Stone Italian - Level 1                                                                        0.0   \n",
       "Buzz Lightyear Boy's Deluxe Toy Story Costume                                                                         0.0   \n",
       "\n",
       "                                                                                                    ...  \\\n",
       "name                                                                                                ...   \n",
       "Mystiqueshapes Girls Ballet Tutu Neon Lime Green                                                    ...   \n",
       "SHINING IMAGE HUGE PINK LEATHER JEWELRY BOX / CASE / STORAGE / ORGANIZER WITH TRAVEL CASE AND LOCK  ...   \n",
       "Learn French: Rosetta Stone French - Level 1                                                        ...   \n",
       "Learn Italian: Rosetta Stone Italian - Level 1                                                      ...   \n",
       "Buzz Lightyear Boy's Deluxe Toy Story Costume                                                       ...   \n",
       "\n",
       "                                                                                                    trunks  \\\n",
       "name                                                                                                         \n",
       "Mystiqueshapes Girls Ballet Tutu Neon Lime Green                                                       0.0   \n",
       "SHINING IMAGE HUGE PINK LEATHER JEWELRY BOX / CASE / STORAGE / ORGANIZER WITH TRAVEL CASE AND LOCK     0.0   \n",
       "Learn French: Rosetta Stone French - Level 1                                                           0.0   \n",
       "Learn Italian: Rosetta Stone Italian - Level 1                                                         0.0   \n",
       "Buzz Lightyear Boy's Deluxe Toy Story Costume                                                          0.0   \n",
       "\n",
       "                                                                                                    umbrellas  \\\n",
       "name                                                                                                            \n",
       "Mystiqueshapes Girls Ballet Tutu Neon Lime Green                                                          0.0   \n",
       "SHINING IMAGE HUGE PINK LEATHER JEWELRY BOX / CASE / STORAGE / ORGANIZER WITH TRAVEL CASE AND LOCK        0.0   \n",
       "Learn French: Rosetta Stone French - Level 1                                                              0.0   \n",
       "Learn Italian: Rosetta Stone Italian - Level 1                                                            0.0   \n",
       "Buzz Lightyear Boy's Deluxe Toy Story Costume                                                             0.0   \n",
       "\n",
       "                                                                                                    underwear  \\\n",
       "name                                                                                                            \n",
       "Mystiqueshapes Girls Ballet Tutu Neon Lime Green                                                          0.0   \n",
       "SHINING IMAGE HUGE PINK LEATHER JEWELRY BOX / CASE / STORAGE / ORGANIZER WITH TRAVEL CASE AND LOCK        0.0   \n",
       "Learn French: Rosetta Stone French - Level 1                                                              0.0   \n",
       "Learn Italian: Rosetta Stone Italian - Level 1                                                            0.0   \n",
       "Buzz Lightyear Boy's Deluxe Toy Story Costume                                                             0.0   \n",
       "\n",
       "                                                                                                    wallets  \\\n",
       "name                                                                                                          \n",
       "Mystiqueshapes Girls Ballet Tutu Neon Lime Green                                                        0.0   \n",
       "SHINING IMAGE HUGE PINK LEATHER JEWELRY BOX / CASE / STORAGE / ORGANIZER WITH TRAVEL CASE AND LOCK      0.0   \n",
       "Learn French: Rosetta Stone French - Level 1                                                            0.0   \n",
       "Learn Italian: Rosetta Stone Italian - Level 1                                                          0.0   \n",
       "Buzz Lightyear Boy's Deluxe Toy Story Costume                                                           0.0   \n",
       "\n",
       "                                                                                                    wear_to_work  \\\n",
       "name                                                                                                               \n",
       "Mystiqueshapes Girls Ballet Tutu Neon Lime Green                                                             0.0   \n",
       "SHINING IMAGE HUGE PINK LEATHER JEWELRY BOX / CASE / STORAGE / ORGANIZER WITH TRAVEL CASE AND LOCK           0.0   \n",
       "Learn French: Rosetta Stone French - Level 1                                                                 0.0   \n",
       "Learn Italian: Rosetta Stone Italian - Level 1                                                               0.0   \n",
       "Buzz Lightyear Boy's Deluxe Toy Story Costume                                                                0.0   \n",
       "\n",
       "                                                                                                    wrist_watches  \\\n",
       "name                                                                                                                \n",
       "Mystiqueshapes Girls Ballet Tutu Neon Lime Green                                                              0.0   \n",
       "SHINING IMAGE HUGE PINK LEATHER JEWELRY BOX / CASE / STORAGE / ORGANIZER WITH TRAVEL CASE AND LOCK            0.0   \n",
       "Learn French: Rosetta Stone French - Level 1                                                                  0.0   \n",
       "Learn Italian: Rosetta Stone Italian - Level 1                                                                0.0   \n",
       "Buzz Lightyear Boy's Deluxe Toy Story Costume                                                                 0.0   \n",
       "\n",
       "                                                                                                    arm_warmers  \\\n",
       "name                                                                                                              \n",
       "Mystiqueshapes Girls Ballet Tutu Neon Lime Green                                                            0.0   \n",
       "SHINING IMAGE HUGE PINK LEATHER JEWELRY BOX / CASE / STORAGE / ORGANIZER WITH TRAVEL CASE AND LOCK          0.0   \n",
       "Learn French: Rosetta Stone French - Level 1                                                                0.0   \n",
       "Learn Italian: Rosetta Stone Italian - Level 1                                                              0.0   \n",
       "Buzz Lightyear Boy's Deluxe Toy Story Costume                                                               0.0   \n",
       "\n",
       "                                                                                                    baseball_caps  \\\n",
       "name                                                                                                                \n",
       "Mystiqueshapes Girls Ballet Tutu Neon Lime Green                                                              0.0   \n",
       "SHINING IMAGE HUGE PINK LEATHER JEWELRY BOX / CASE / STORAGE / ORGANIZER WITH TRAVEL CASE AND LOCK            0.0   \n",
       "Learn French: Rosetta Stone French - Level 1                                                                  0.0   \n",
       "Learn Italian: Rosetta Stone Italian - Level 1                                                                0.0   \n",
       "Buzz Lightyear Boy's Deluxe Toy Story Costume                                                                 0.0   \n",
       "\n",
       "                                                                                                    berets  \\\n",
       "name                                                                                                         \n",
       "Mystiqueshapes Girls Ballet Tutu Neon Lime Green                                                       0.0   \n",
       "SHINING IMAGE HUGE PINK LEATHER JEWELRY BOX / CASE / STORAGE / ORGANIZER WITH TRAVEL CASE AND LOCK     0.0   \n",
       "Learn French: Rosetta Stone French - Level 1                                                           0.0   \n",
       "Learn Italian: Rosetta Stone Italian - Level 1                                                         0.0   \n",
       "Buzz Lightyear Boy's Deluxe Toy Story Costume                                                          0.0   \n",
       "\n",
       "                                                                                                    overall_mean  \n",
       "name                                                                                                              \n",
       "Mystiqueshapes Girls Ballet Tutu Neon Lime Green                                                            4.61  \n",
       "SHINING IMAGE HUGE PINK LEATHER JEWELRY BOX / CASE / STORAGE / ORGANIZER WITH TRAVEL CASE AND LOCK          4.17  \n",
       "Learn French: Rosetta Stone French - Level 1                                                                4.31  \n",
       "Learn Italian: Rosetta Stone Italian - Level 1                                                              4.62  \n",
       "Buzz Lightyear Boy's Deluxe Toy Story Costume                                                               4.62  \n",
       "\n",
       "[5 rows x 812 columns]"
      ]
     },
     "execution_count": 11,
     "metadata": {},
     "output_type": "execute_result"
    }
   ],
   "source": [
    "cats.head()"
   ]
  },
  {
   "cell_type": "code",
   "execution_count": 12,
   "metadata": {},
   "outputs": [
    {
     "data": {
      "text/plain": [
       "(13732, 812)"
      ]
     },
     "execution_count": 12,
     "metadata": {},
     "output_type": "execute_result"
    }
   ],
   "source": [
    "# check number of columns and rows \n",
    "cats.shape"
   ]
  },
  {
   "cell_type": "markdown",
   "metadata": {},
   "source": [
    "Check a value count example."
   ]
  },
  {
   "cell_type": "code",
   "execution_count": 13,
   "metadata": {},
   "outputs": [
    {
     "data": {
      "text/plain": [
       "0.0    13714\n",
       "1.0       18\n",
       "Name: trunks, dtype: int64"
      ]
     },
     "execution_count": 13,
     "metadata": {},
     "output_type": "execute_result"
    }
   ],
   "source": [
    "cats['trunks'].value_counts()"
   ]
  },
  {
   "cell_type": "markdown",
   "metadata": {},
   "source": [
    "Convert to sparse matrix to make smaller file size "
   ]
  },
  {
   "cell_type": "code",
   "execution_count": 14,
   "metadata": {},
   "outputs": [],
   "source": [
    "categories_sparse = sparse.csr_matrix(cats.fillna(0))"
   ]
  },
  {
   "cell_type": "markdown",
   "metadata": {},
   "source": [
    "Shape is still the same but each only cells with values are shown."
   ]
  },
  {
   "cell_type": "code",
   "execution_count": 15,
   "metadata": {
    "scrolled": true
   },
   "outputs": [
    {
     "data": {
      "text/plain": [
       "(13732, 812)"
      ]
     },
     "execution_count": 15,
     "metadata": {},
     "output_type": "execute_result"
    }
   ],
   "source": [
    "categories_sparse.shape"
   ]
  },
  {
   "cell_type": "markdown",
   "metadata": {},
   "source": [
    "Check the first 5 categories."
   ]
  },
  {
   "cell_type": "code",
   "execution_count": 16,
   "metadata": {
    "scrolled": true
   },
   "outputs": [
    {
     "name": "stdout",
     "output_type": "stream",
     "text": [
      "  (0, 13)\t1.0\n",
      "  (0, 72)\t1.0\n",
      "  (0, 396)\t1.0\n",
      "  (0, 725)\t1.0\n",
      "  (0, 733)\t1.0\n",
      "  (0, 757)\t1.0\n",
      "  (0, 811)\t4.61\n",
      "  (1, 5)\t1.0\n",
      "  (1, 70)\t1.0\n",
      "  (1, 197)\t1.0\n",
      "  (1, 368)\t1.0\n",
      "  (1, 582)\t1.0\n",
      "  (1, 811)\t4.17\n",
      "  (2, 12)\t1.0\n",
      "  (2, 31)\t1.0\n",
      "  (2, 377)\t1.0\n",
      "  (2, 811)\t4.31\n",
      "  (3, 12)\t1.0\n",
      "  (3, 31)\t1.0\n",
      "  (3, 377)\t1.0\n",
      "  (3, 811)\t4.62\n",
      "  (4, 15)\t1.0\n",
      "  (4, 30)\t1.0\n",
      "  (4, 755)\t1.0\n",
      "  (4, 811)\t4.62\n"
     ]
    }
   ],
   "source": [
    "print(categories_sparse[:5])"
   ]
  },
  {
   "cell_type": "markdown",
   "metadata": {},
   "source": [
    "Check similiarity of every item to every other item with pairwise distances. "
   ]
  },
  {
   "cell_type": "code",
   "execution_count": 17,
   "metadata": {},
   "outputs": [],
   "source": [
    "recommender = pairwise_distances(cats, metric='cosine')"
   ]
  },
  {
   "cell_type": "code",
   "execution_count": 18,
   "metadata": {},
   "outputs": [
    {
     "data": {
      "text/plain": [
       "(13732, 13732)"
      ]
     },
     "execution_count": 18,
     "metadata": {},
     "output_type": "execute_result"
    }
   ],
   "source": [
    "#Checking to make sure it's a square. \n",
    "recommender.shape"
   ]
  },
  {
   "cell_type": "code",
   "execution_count": 19,
   "metadata": {},
   "outputs": [
    {
     "data": {
      "text/plain": [
       "numpy.ndarray"
      ]
     },
     "execution_count": 19,
     "metadata": {},
     "output_type": "execute_result"
    }
   ],
   "source": [
    "type(recommender)"
   ]
  },
  {
   "cell_type": "markdown",
   "metadata": {},
   "source": [
    "Convert to DataFrame with the index from categories as the index for both rows and columns."
   ]
  },
  {
   "cell_type": "code",
   "execution_count": 20,
   "metadata": {},
   "outputs": [],
   "source": [
    "recommender_df = pd.DataFrame(recommender, index=cats.index, columns=cats.index)"
   ]
  },
  {
   "cell_type": "code",
   "execution_count": 21,
   "metadata": {},
   "outputs": [
    {
     "data": {
      "text/html": [
       "<div>\n",
       "<style scoped>\n",
       "    .dataframe tbody tr th:only-of-type {\n",
       "        vertical-align: middle;\n",
       "    }\n",
       "\n",
       "    .dataframe tbody tr th {\n",
       "        vertical-align: top;\n",
       "    }\n",
       "\n",
       "    .dataframe thead th {\n",
       "        text-align: right;\n",
       "    }\n",
       "</style>\n",
       "<table border=\"1\" class=\"dataframe\">\n",
       "  <thead>\n",
       "    <tr style=\"text-align: right;\">\n",
       "      <th>name</th>\n",
       "      <th>Mystiqueshapes Girls Ballet Tutu Neon Lime Green</th>\n",
       "      <th>SHINING IMAGE HUGE PINK LEATHER JEWELRY BOX / CASE / STORAGE / ORGANIZER WITH TRAVEL CASE AND LOCK</th>\n",
       "      <th>Learn French: Rosetta Stone French - Level 1</th>\n",
       "      <th>Learn Italian: Rosetta Stone Italian - Level 1</th>\n",
       "      <th>Buzz Lightyear Boy's Deluxe Toy Story Costume</th>\n",
       "      <th>Woody Deluxe Child - Size: Child S(4-6)</th>\n",
       "      <th>Lewis N. Clark Stash</th>\n",
       "      <th>Lewis N. Clark Deluxe Neck Stash, Beige</th>\n",
       "      <th>Lewis N. Clark Add-A-Bag Travel Luggage Strap, Black, One Size</th>\n",
       "      <th>Buzz Lightyear Jet Pack</th>\n",
       "      <th>...</th>\n",
       "      <th>Sakkas Everyday Essentials Caftan Tank Dress/Cover Up</th>\n",
       "      <th>Sakkas Natalie Sequin Tie Dye Blouse</th>\n",
       "      <th>Sakkas Malvina Marbled Embroidery Cap Sleeves Blouse/Top</th>\n",
       "      <th>Lindy Bop 'Ophelia' Vintage 1950's Floral Spring Garden Party Picnic Dress</th>\n",
       "      <th>Free to Live Women's Fold Over High Waisted Flowy Floor Length Maxi Skirt</th>\n",
       "      <th>Rampage Womens Ultra Cute Embroidered Heather Jersey Night Shirt (Small-3X)</th>\n",
       "      <th>14k Gold-Bonded Sterling Silver Tri-Color Hoop Earrings</th>\n",
       "      <th>Classic Designs Stretch Poplin Elastic Waist Cargo Capri</th>\n",
       "      <th>TendzArt Azules Poly Span Floral Print Full Length Long Maxi Skirt - Made in USA (Medium, Purple+Mint+Yellow)</th>\n",
       "      <th>Kenneth Cole Reaction Easy To Remember, Black, One Size</th>\n",
       "    </tr>\n",
       "    <tr>\n",
       "      <th>name</th>\n",
       "      <th></th>\n",
       "      <th></th>\n",
       "      <th></th>\n",
       "      <th></th>\n",
       "      <th></th>\n",
       "      <th></th>\n",
       "      <th></th>\n",
       "      <th></th>\n",
       "      <th></th>\n",
       "      <th></th>\n",
       "      <th></th>\n",
       "      <th></th>\n",
       "      <th></th>\n",
       "      <th></th>\n",
       "      <th></th>\n",
       "      <th></th>\n",
       "      <th></th>\n",
       "      <th></th>\n",
       "      <th></th>\n",
       "      <th></th>\n",
       "      <th></th>\n",
       "    </tr>\n",
       "  </thead>\n",
       "  <tbody>\n",
       "    <tr>\n",
       "      <th>Mystiqueshapes Girls Ballet Tutu Neon Lime Green</th>\n",
       "      <td>0.000000</td>\n",
       "      <td>0.221747</td>\n",
       "      <td>0.180608</td>\n",
       "      <td>0.173118</td>\n",
       "      <td>0.173118</td>\n",
       "      <td>0.233270</td>\n",
       "      <td>0.188230</td>\n",
       "      <td>0.191571</td>\n",
       "      <td>0.210148</td>\n",
       "      <td>0.232939</td>\n",
       "      <td>...</td>\n",
       "      <td>0.166517</td>\n",
       "      <td>0.232997</td>\n",
       "      <td>0.187382</td>\n",
       "      <td>0.169129</td>\n",
       "      <td>0.113773</td>\n",
       "      <td>0.194185</td>\n",
       "      <td>0.206780</td>\n",
       "      <td>0.319598</td>\n",
       "      <td>0.130877</td>\n",
       "      <td>0.173562</td>\n",
       "    </tr>\n",
       "    <tr>\n",
       "      <th>SHINING IMAGE HUGE PINK LEATHER JEWELRY BOX / CASE / STORAGE / ORGANIZER WITH TRAVEL CASE AND LOCK</th>\n",
       "      <td>0.221747</td>\n",
       "      <td>0.000000</td>\n",
       "      <td>0.182269</td>\n",
       "      <td>0.174794</td>\n",
       "      <td>0.174794</td>\n",
       "      <td>0.182397</td>\n",
       "      <td>0.148275</td>\n",
       "      <td>0.150688</td>\n",
       "      <td>0.164491</td>\n",
       "      <td>0.187664</td>\n",
       "      <td>...</td>\n",
       "      <td>0.164311</td>\n",
       "      <td>0.229286</td>\n",
       "      <td>0.184627</td>\n",
       "      <td>0.166848</td>\n",
       "      <td>0.149660</td>\n",
       "      <td>0.191270</td>\n",
       "      <td>0.166848</td>\n",
       "      <td>0.314547</td>\n",
       "      <td>0.166071</td>\n",
       "      <td>0.132241</td>\n",
       "    </tr>\n",
       "    <tr>\n",
       "      <th>Learn French: Rosetta Stone French - Level 1</th>\n",
       "      <td>0.180608</td>\n",
       "      <td>0.182269</td>\n",
       "      <td>0.000000</td>\n",
       "      <td>0.000274</td>\n",
       "      <td>0.131173</td>\n",
       "      <td>0.194376</td>\n",
       "      <td>0.147051</td>\n",
       "      <td>0.150562</td>\n",
       "      <td>0.170081</td>\n",
       "      <td>0.194028</td>\n",
       "      <td>...</td>\n",
       "      <td>0.163110</td>\n",
       "      <td>0.246636</td>\n",
       "      <td>0.190082</td>\n",
       "      <td>0.166542</td>\n",
       "      <td>0.149071</td>\n",
       "      <td>0.198692</td>\n",
       "      <td>0.166542</td>\n",
       "      <td>0.349247</td>\n",
       "      <td>0.165493</td>\n",
       "      <td>0.131639</td>\n",
       "    </tr>\n",
       "    <tr>\n",
       "      <th>Learn Italian: Rosetta Stone Italian - Level 1</th>\n",
       "      <td>0.173118</td>\n",
       "      <td>0.174794</td>\n",
       "      <td>0.000274</td>\n",
       "      <td>0.000000</td>\n",
       "      <td>0.123232</td>\n",
       "      <td>0.187013</td>\n",
       "      <td>0.139255</td>\n",
       "      <td>0.142798</td>\n",
       "      <td>0.162495</td>\n",
       "      <td>0.186661</td>\n",
       "      <td>...</td>\n",
       "      <td>0.155461</td>\n",
       "      <td>0.239750</td>\n",
       "      <td>0.182679</td>\n",
       "      <td>0.158924</td>\n",
       "      <td>0.141293</td>\n",
       "      <td>0.191368</td>\n",
       "      <td>0.158924</td>\n",
       "      <td>0.343299</td>\n",
       "      <td>0.157866</td>\n",
       "      <td>0.123702</td>\n",
       "    </tr>\n",
       "    <tr>\n",
       "      <th>Buzz Lightyear Boy's Deluxe Toy Story Costume</th>\n",
       "      <td>0.173118</td>\n",
       "      <td>0.174794</td>\n",
       "      <td>0.131173</td>\n",
       "      <td>0.123232</td>\n",
       "      <td>0.000000</td>\n",
       "      <td>0.187013</td>\n",
       "      <td>0.139255</td>\n",
       "      <td>0.142798</td>\n",
       "      <td>0.162495</td>\n",
       "      <td>0.186661</td>\n",
       "      <td>...</td>\n",
       "      <td>0.155461</td>\n",
       "      <td>0.239750</td>\n",
       "      <td>0.182679</td>\n",
       "      <td>0.158924</td>\n",
       "      <td>0.141293</td>\n",
       "      <td>0.191368</td>\n",
       "      <td>0.158924</td>\n",
       "      <td>0.343299</td>\n",
       "      <td>0.157866</td>\n",
       "      <td>0.123702</td>\n",
       "    </tr>\n",
       "  </tbody>\n",
       "</table>\n",
       "<p>5 rows × 13732 columns</p>\n",
       "</div>"
      ],
      "text/plain": [
       "name                                                                                                Mystiqueshapes Girls Ballet Tutu Neon Lime Green  \\\n",
       "name                                                                                                                                                   \n",
       "Mystiqueshapes Girls Ballet Tutu Neon Lime Green                                                                                            0.000000   \n",
       "SHINING IMAGE HUGE PINK LEATHER JEWELRY BOX / CASE / STORAGE / ORGANIZER WITH TRAVEL CASE AND LOCK                                          0.221747   \n",
       "Learn French: Rosetta Stone French - Level 1                                                                                                0.180608   \n",
       "Learn Italian: Rosetta Stone Italian - Level 1                                                                                              0.173118   \n",
       "Buzz Lightyear Boy's Deluxe Toy Story Costume                                                                                               0.173118   \n",
       "\n",
       "name                                                                                                SHINING IMAGE HUGE PINK LEATHER JEWELRY BOX / CASE / STORAGE / ORGANIZER WITH TRAVEL CASE AND LOCK  \\\n",
       "name                                                                                                                                                                                                     \n",
       "Mystiqueshapes Girls Ballet Tutu Neon Lime Green                                                                                                                                              0.221747   \n",
       "SHINING IMAGE HUGE PINK LEATHER JEWELRY BOX / CASE / STORAGE / ORGANIZER WITH TRAVEL CASE AND LOCK                                                                                            0.000000   \n",
       "Learn French: Rosetta Stone French - Level 1                                                                                                                                                  0.182269   \n",
       "Learn Italian: Rosetta Stone Italian - Level 1                                                                                                                                                0.174794   \n",
       "Buzz Lightyear Boy's Deluxe Toy Story Costume                                                                                                                                                 0.174794   \n",
       "\n",
       "name                                                                                                Learn French: Rosetta Stone French - Level 1  \\\n",
       "name                                                                                                                                               \n",
       "Mystiqueshapes Girls Ballet Tutu Neon Lime Green                                                                                        0.180608   \n",
       "SHINING IMAGE HUGE PINK LEATHER JEWELRY BOX / CASE / STORAGE / ORGANIZER WITH TRAVEL CASE AND LOCK                                      0.182269   \n",
       "Learn French: Rosetta Stone French - Level 1                                                                                            0.000000   \n",
       "Learn Italian: Rosetta Stone Italian - Level 1                                                                                          0.000274   \n",
       "Buzz Lightyear Boy's Deluxe Toy Story Costume                                                                                           0.131173   \n",
       "\n",
       "name                                                                                                Learn Italian: Rosetta Stone Italian - Level 1  \\\n",
       "name                                                                                                                                                 \n",
       "Mystiqueshapes Girls Ballet Tutu Neon Lime Green                                                                                          0.173118   \n",
       "SHINING IMAGE HUGE PINK LEATHER JEWELRY BOX / CASE / STORAGE / ORGANIZER WITH TRAVEL CASE AND LOCK                                        0.174794   \n",
       "Learn French: Rosetta Stone French - Level 1                                                                                              0.000274   \n",
       "Learn Italian: Rosetta Stone Italian - Level 1                                                                                            0.000000   \n",
       "Buzz Lightyear Boy's Deluxe Toy Story Costume                                                                                             0.123232   \n",
       "\n",
       "name                                                                                                Buzz Lightyear Boy's Deluxe Toy Story Costume  \\\n",
       "name                                                                                                                                                \n",
       "Mystiqueshapes Girls Ballet Tutu Neon Lime Green                                                                                         0.173118   \n",
       "SHINING IMAGE HUGE PINK LEATHER JEWELRY BOX / CASE / STORAGE / ORGANIZER WITH TRAVEL CASE AND LOCK                                       0.174794   \n",
       "Learn French: Rosetta Stone French - Level 1                                                                                             0.131173   \n",
       "Learn Italian: Rosetta Stone Italian - Level 1                                                                                           0.123232   \n",
       "Buzz Lightyear Boy's Deluxe Toy Story Costume                                                                                            0.000000   \n",
       "\n",
       "name                                                                                                Woody Deluxe Child - Size: Child S(4-6)  \\\n",
       "name                                                                                                                                          \n",
       "Mystiqueshapes Girls Ballet Tutu Neon Lime Green                                                                                   0.233270   \n",
       "SHINING IMAGE HUGE PINK LEATHER JEWELRY BOX / CASE / STORAGE / ORGANIZER WITH TRAVEL CASE AND LOCK                                 0.182397   \n",
       "Learn French: Rosetta Stone French - Level 1                                                                                       0.194376   \n",
       "Learn Italian: Rosetta Stone Italian - Level 1                                                                                     0.187013   \n",
       "Buzz Lightyear Boy's Deluxe Toy Story Costume                                                                                      0.187013   \n",
       "\n",
       "name                                                                                                Lewis N. Clark Stash  \\\n",
       "name                                                                                                                       \n",
       "Mystiqueshapes Girls Ballet Tutu Neon Lime Green                                                                0.188230   \n",
       "SHINING IMAGE HUGE PINK LEATHER JEWELRY BOX / CASE / STORAGE / ORGANIZER WITH TRAVEL CASE AND LOCK              0.148275   \n",
       "Learn French: Rosetta Stone French - Level 1                                                                    0.147051   \n",
       "Learn Italian: Rosetta Stone Italian - Level 1                                                                  0.139255   \n",
       "Buzz Lightyear Boy's Deluxe Toy Story Costume                                                                   0.139255   \n",
       "\n",
       "name                                                                                                Lewis N. Clark Deluxe Neck Stash, Beige  \\\n",
       "name                                                                                                                                          \n",
       "Mystiqueshapes Girls Ballet Tutu Neon Lime Green                                                                                   0.191571   \n",
       "SHINING IMAGE HUGE PINK LEATHER JEWELRY BOX / CASE / STORAGE / ORGANIZER WITH TRAVEL CASE AND LOCK                                 0.150688   \n",
       "Learn French: Rosetta Stone French - Level 1                                                                                       0.150562   \n",
       "Learn Italian: Rosetta Stone Italian - Level 1                                                                                     0.142798   \n",
       "Buzz Lightyear Boy's Deluxe Toy Story Costume                                                                                      0.142798   \n",
       "\n",
       "name                                                                                                Lewis N. Clark Add-A-Bag Travel Luggage Strap, Black, One Size  \\\n",
       "name                                                                                                                                                                 \n",
       "Mystiqueshapes Girls Ballet Tutu Neon Lime Green                                                                                                          0.210148   \n",
       "SHINING IMAGE HUGE PINK LEATHER JEWELRY BOX / CASE / STORAGE / ORGANIZER WITH TRAVEL CASE AND LOCK                                                        0.164491   \n",
       "Learn French: Rosetta Stone French - Level 1                                                                                                              0.170081   \n",
       "Learn Italian: Rosetta Stone Italian - Level 1                                                                                                            0.162495   \n",
       "Buzz Lightyear Boy's Deluxe Toy Story Costume                                                                                                             0.162495   \n",
       "\n",
       "name                                                                                                Buzz Lightyear Jet Pack  \\\n",
       "name                                                                                                                          \n",
       "Mystiqueshapes Girls Ballet Tutu Neon Lime Green                                                                   0.232939   \n",
       "SHINING IMAGE HUGE PINK LEATHER JEWELRY BOX / CASE / STORAGE / ORGANIZER WITH TRAVEL CASE AND LOCK                 0.187664   \n",
       "Learn French: Rosetta Stone French - Level 1                                                                       0.194028   \n",
       "Learn Italian: Rosetta Stone Italian - Level 1                                                                     0.186661   \n",
       "Buzz Lightyear Boy's Deluxe Toy Story Costume                                                                      0.186661   \n",
       "\n",
       "name                                                                                                ...  \\\n",
       "name                                                                                                ...   \n",
       "Mystiqueshapes Girls Ballet Tutu Neon Lime Green                                                    ...   \n",
       "SHINING IMAGE HUGE PINK LEATHER JEWELRY BOX / CASE / STORAGE / ORGANIZER WITH TRAVEL CASE AND LOCK  ...   \n",
       "Learn French: Rosetta Stone French - Level 1                                                        ...   \n",
       "Learn Italian: Rosetta Stone Italian - Level 1                                                      ...   \n",
       "Buzz Lightyear Boy's Deluxe Toy Story Costume                                                       ...   \n",
       "\n",
       "name                                                                                                Sakkas Everyday Essentials Caftan Tank Dress/Cover Up  \\\n",
       "name                                                                                                                                                        \n",
       "Mystiqueshapes Girls Ballet Tutu Neon Lime Green                                                                                                 0.166517   \n",
       "SHINING IMAGE HUGE PINK LEATHER JEWELRY BOX / CASE / STORAGE / ORGANIZER WITH TRAVEL CASE AND LOCK                                               0.164311   \n",
       "Learn French: Rosetta Stone French - Level 1                                                                                                     0.163110   \n",
       "Learn Italian: Rosetta Stone Italian - Level 1                                                                                                   0.155461   \n",
       "Buzz Lightyear Boy's Deluxe Toy Story Costume                                                                                                    0.155461   \n",
       "\n",
       "name                                                                                                Sakkas Natalie Sequin Tie Dye Blouse  \\\n",
       "name                                                                                                                                       \n",
       "Mystiqueshapes Girls Ballet Tutu Neon Lime Green                                                                                0.232997   \n",
       "SHINING IMAGE HUGE PINK LEATHER JEWELRY BOX / CASE / STORAGE / ORGANIZER WITH TRAVEL CASE AND LOCK                              0.229286   \n",
       "Learn French: Rosetta Stone French - Level 1                                                                                    0.246636   \n",
       "Learn Italian: Rosetta Stone Italian - Level 1                                                                                  0.239750   \n",
       "Buzz Lightyear Boy's Deluxe Toy Story Costume                                                                                   0.239750   \n",
       "\n",
       "name                                                                                                Sakkas Malvina Marbled Embroidery Cap Sleeves Blouse/Top  \\\n",
       "name                                                                                                                                                           \n",
       "Mystiqueshapes Girls Ballet Tutu Neon Lime Green                                                                                                    0.187382   \n",
       "SHINING IMAGE HUGE PINK LEATHER JEWELRY BOX / CASE / STORAGE / ORGANIZER WITH TRAVEL CASE AND LOCK                                                  0.184627   \n",
       "Learn French: Rosetta Stone French - Level 1                                                                                                        0.190082   \n",
       "Learn Italian: Rosetta Stone Italian - Level 1                                                                                                      0.182679   \n",
       "Buzz Lightyear Boy's Deluxe Toy Story Costume                                                                                                       0.182679   \n",
       "\n",
       "name                                                                                                Lindy Bop 'Ophelia' Vintage 1950's Floral Spring Garden Party Picnic Dress  \\\n",
       "name                                                                                                                                                                             \n",
       "Mystiqueshapes Girls Ballet Tutu Neon Lime Green                                                                                                                      0.169129   \n",
       "SHINING IMAGE HUGE PINK LEATHER JEWELRY BOX / CASE / STORAGE / ORGANIZER WITH TRAVEL CASE AND LOCK                                                                    0.166848   \n",
       "Learn French: Rosetta Stone French - Level 1                                                                                                                          0.166542   \n",
       "Learn Italian: Rosetta Stone Italian - Level 1                                                                                                                        0.158924   \n",
       "Buzz Lightyear Boy's Deluxe Toy Story Costume                                                                                                                         0.158924   \n",
       "\n",
       "name                                                                                                Free to Live Women's Fold Over High Waisted Flowy Floor Length Maxi Skirt  \\\n",
       "name                                                                                                                                                                            \n",
       "Mystiqueshapes Girls Ballet Tutu Neon Lime Green                                                                                                                     0.113773   \n",
       "SHINING IMAGE HUGE PINK LEATHER JEWELRY BOX / CASE / STORAGE / ORGANIZER WITH TRAVEL CASE AND LOCK                                                                   0.149660   \n",
       "Learn French: Rosetta Stone French - Level 1                                                                                                                         0.149071   \n",
       "Learn Italian: Rosetta Stone Italian - Level 1                                                                                                                       0.141293   \n",
       "Buzz Lightyear Boy's Deluxe Toy Story Costume                                                                                                                        0.141293   \n",
       "\n",
       "name                                                                                                Rampage Womens Ultra Cute Embroidered Heather Jersey Night Shirt (Small-3X)  \\\n",
       "name                                                                                                                                                                              \n",
       "Mystiqueshapes Girls Ballet Tutu Neon Lime Green                                                                                                                       0.194185   \n",
       "SHINING IMAGE HUGE PINK LEATHER JEWELRY BOX / CASE / STORAGE / ORGANIZER WITH TRAVEL CASE AND LOCK                                                                     0.191270   \n",
       "Learn French: Rosetta Stone French - Level 1                                                                                                                           0.198692   \n",
       "Learn Italian: Rosetta Stone Italian - Level 1                                                                                                                         0.191368   \n",
       "Buzz Lightyear Boy's Deluxe Toy Story Costume                                                                                                                          0.191368   \n",
       "\n",
       "name                                                                                                14k Gold-Bonded Sterling Silver Tri-Color Hoop Earrings  \\\n",
       "name                                                                                                                                                          \n",
       "Mystiqueshapes Girls Ballet Tutu Neon Lime Green                                                                                                   0.206780   \n",
       "SHINING IMAGE HUGE PINK LEATHER JEWELRY BOX / CASE / STORAGE / ORGANIZER WITH TRAVEL CASE AND LOCK                                                 0.166848   \n",
       "Learn French: Rosetta Stone French - Level 1                                                                                                       0.166542   \n",
       "Learn Italian: Rosetta Stone Italian - Level 1                                                                                                     0.158924   \n",
       "Buzz Lightyear Boy's Deluxe Toy Story Costume                                                                                                      0.158924   \n",
       "\n",
       "name                                                                                                Classic Designs Stretch Poplin Elastic Waist Cargo Capri  \\\n",
       "name                                                                                                                                                           \n",
       "Mystiqueshapes Girls Ballet Tutu Neon Lime Green                                                                                                    0.319598   \n",
       "SHINING IMAGE HUGE PINK LEATHER JEWELRY BOX / CASE / STORAGE / ORGANIZER WITH TRAVEL CASE AND LOCK                                                  0.314547   \n",
       "Learn French: Rosetta Stone French - Level 1                                                                                                        0.349247   \n",
       "Learn Italian: Rosetta Stone Italian - Level 1                                                                                                      0.343299   \n",
       "Buzz Lightyear Boy's Deluxe Toy Story Costume                                                                                                       0.343299   \n",
       "\n",
       "name                                                                                                TendzArt Azules Poly Span Floral Print Full Length Long Maxi Skirt - Made in USA (Medium, Purple+Mint+Yellow)  \\\n",
       "name                                                                                                                                                                                                                \n",
       "Mystiqueshapes Girls Ballet Tutu Neon Lime Green                                                                                                                                                         0.130877   \n",
       "SHINING IMAGE HUGE PINK LEATHER JEWELRY BOX / CASE / STORAGE / ORGANIZER WITH TRAVEL CASE AND LOCK                                                                                                       0.166071   \n",
       "Learn French: Rosetta Stone French - Level 1                                                                                                                                                             0.165493   \n",
       "Learn Italian: Rosetta Stone Italian - Level 1                                                                                                                                                           0.157866   \n",
       "Buzz Lightyear Boy's Deluxe Toy Story Costume                                                                                                                                                            0.157866   \n",
       "\n",
       "name                                                                                                Kenneth Cole Reaction Easy To Remember, Black, One Size  \n",
       "name                                                                                                                                                         \n",
       "Mystiqueshapes Girls Ballet Tutu Neon Lime Green                                                                                                   0.173562  \n",
       "SHINING IMAGE HUGE PINK LEATHER JEWELRY BOX / CASE / STORAGE / ORGANIZER WITH TRAVEL CASE AND LOCK                                                 0.132241  \n",
       "Learn French: Rosetta Stone French - Level 1                                                                                                       0.131639  \n",
       "Learn Italian: Rosetta Stone Italian - Level 1                                                                                                     0.123702  \n",
       "Buzz Lightyear Boy's Deluxe Toy Story Costume                                                                                                      0.123702  \n",
       "\n",
       "[5 rows x 13732 columns]"
      ]
     },
     "execution_count": 21,
     "metadata": {},
     "output_type": "execute_result"
    }
   ],
   "source": [
    "# Check first 5 rows \n",
    "recommender_df.head()"
   ]
  },
  {
   "cell_type": "markdown",
   "metadata": {},
   "source": [
    "### Ready to recommend!"
   ]
  },
  {
   "cell_type": "markdown",
   "metadata": {},
   "source": [
    "A search query to find an exact item name"
   ]
  },
  {
   "cell_type": "code",
   "execution_count": 22,
   "metadata": {},
   "outputs": [
    {
     "data": {
      "text/plain": [
       "96                    Skagen Women's Ancher Stainless Steel Mesh Dress Quartz Watch\n",
       "227    Timex Men's T56371 Ironman Triathlon 42 Lap Combo Analog Digital Dress Watch\n",
       "322                                   Gold Toe Men's Metropolitan Dress Sock 3-Pack\n",
       "324                    Gold Toe Men's 3-Pack Metropolitan Over-The-Calf Dress Socks\n",
       "328                                          Gold Toe Men's Windsor Wool Dress Sock\n",
       "329         Gold Toe Men's Windsor Wool-Blend Over-The-Calf Dress Sock (Three-Pack)\n",
       "363              CTM Men's Elastic Button End Dress Suspenders with Silver Hardware\n",
       "391                                       Seiko Women's SWZ054 Two-Tone Dress Watch\n",
       "443                              Anne Klein Women's 104899SVTT Two-Tone Dress Watch\n",
       "475                      50s Strapless Satin Bridesmaid Bridesmaid Dress Homecoming\n",
       "Name: name, dtype: object"
      ]
     },
     "execution_count": 22,
     "metadata": {},
     "output_type": "execute_result"
    }
   ],
   "source": [
    "q = \"Dress\"\n",
    "categories.loc[categories['name'].str.contains(q), 'name'][:10]\n"
   ]
  },
  {
   "cell_type": "markdown",
   "metadata": {},
   "source": [
    "Search for a product's index # "
   ]
  },
  {
   "cell_type": "code",
   "execution_count": 23,
   "metadata": {},
   "outputs": [
    {
     "data": {
      "text/html": [
       "<div>\n",
       "<style scoped>\n",
       "    .dataframe tbody tr th:only-of-type {\n",
       "        vertical-align: middle;\n",
       "    }\n",
       "\n",
       "    .dataframe tbody tr th {\n",
       "        vertical-align: top;\n",
       "    }\n",
       "\n",
       "    .dataframe thead th {\n",
       "        text-align: right;\n",
       "    }\n",
       "</style>\n",
       "<table border=\"1\" class=\"dataframe\">\n",
       "  <thead>\n",
       "    <tr style=\"text-align: right;\">\n",
       "      <th></th>\n",
       "      <th>asin</th>\n",
       "      <th>name</th>\n",
       "      <th>arts_crafts_sewing</th>\n",
       "      <th>automotive</th>\n",
       "      <th>baby_products</th>\n",
       "      <th>beauty_personal_care</th>\n",
       "      <th>cell_phones_accessories</th>\n",
       "      <th>clothing_shoes_jewelry</th>\n",
       "      <th>electronics</th>\n",
       "      <th>health_household</th>\n",
       "      <th>...</th>\n",
       "      <th>trunks</th>\n",
       "      <th>umbrellas</th>\n",
       "      <th>underwear</th>\n",
       "      <th>wallets</th>\n",
       "      <th>wear_to_work</th>\n",
       "      <th>wrist_watches</th>\n",
       "      <th>arm_warmers</th>\n",
       "      <th>baseball_caps</th>\n",
       "      <th>berets</th>\n",
       "      <th>overall_mean</th>\n",
       "    </tr>\n",
       "  </thead>\n",
       "  <tbody>\n",
       "    <tr>\n",
       "      <th>2</th>\n",
       "      <td>1608299953</td>\n",
       "      <td>Learn French: Rosetta Stone French - Level 1</td>\n",
       "      <td>0.0</td>\n",
       "      <td>0.0</td>\n",
       "      <td>0.0</td>\n",
       "      <td>0.0</td>\n",
       "      <td>0.0</td>\n",
       "      <td>0.0</td>\n",
       "      <td>0.0</td>\n",
       "      <td>0.0</td>\n",
       "      <td>...</td>\n",
       "      <td>0.0</td>\n",
       "      <td>0.0</td>\n",
       "      <td>0.0</td>\n",
       "      <td>0.0</td>\n",
       "      <td>0.0</td>\n",
       "      <td>0.0</td>\n",
       "      <td>0.0</td>\n",
       "      <td>0.0</td>\n",
       "      <td>0.0</td>\n",
       "      <td>4.31</td>\n",
       "    </tr>\n",
       "  </tbody>\n",
       "</table>\n",
       "<p>1 rows × 814 columns</p>\n",
       "</div>"
      ],
      "text/plain": [
       "         asin                                          name  \\\n",
       "2  1608299953  Learn French: Rosetta Stone French - Level 1   \n",
       "\n",
       "   arts_crafts_sewing  automotive  baby_products  beauty_personal_care  \\\n",
       "2                 0.0         0.0            0.0                   0.0   \n",
       "\n",
       "   cell_phones_accessories  clothing_shoes_jewelry  electronics  \\\n",
       "2                      0.0                     0.0          0.0   \n",
       "\n",
       "   health_household  ...  trunks  umbrellas  underwear  wallets  wear_to_work  \\\n",
       "2               0.0  ...     0.0        0.0        0.0      0.0           0.0   \n",
       "\n",
       "   wrist_watches  arm_warmers  baseball_caps  berets  overall_mean  \n",
       "2            0.0          0.0            0.0     0.0          4.31  \n",
       "\n",
       "[1 rows x 814 columns]"
      ]
     },
     "execution_count": 23,
     "metadata": {},
     "output_type": "execute_result"
    }
   ],
   "source": [
    "categories[categories['name'] == \"Learn French: Rosetta Stone French - Level 1\"]"
   ]
  },
  {
   "cell_type": "markdown",
   "metadata": {},
   "source": [
    "Turn one row (a product) into a dictionary & take a closer look at its key value pairs."
   ]
  },
  {
   "cell_type": "code",
   "execution_count": 24,
   "metadata": {},
   "outputs": [],
   "source": [
    "foo = categories.loc[2].to_dict()"
   ]
  },
  {
   "cell_type": "code",
   "execution_count": 25,
   "metadata": {
    "scrolled": true
   },
   "outputs": [
    {
     "data": {
      "text/plain": [
       "{'asin': '1608299953',\n",
       " 'name': 'Learn French: Rosetta Stone French - Level 1',\n",
       " 'software': 1.0,\n",
       " 'education_reference': 1.0,\n",
       " 'languages': 1.0,\n",
       " 'overall_mean': 4.31}"
      ]
     },
     "execution_count": 25,
     "metadata": {},
     "output_type": "execute_result"
    }
   ],
   "source": [
    "{k:v for k,v in foo.items() if v != 0}"
   ]
  },
  {
   "cell_type": "markdown",
   "metadata": {},
   "source": [
    "Create a second dictionary so we can compare two products and see if they have any value similarities."
   ]
  },
  {
   "cell_type": "code",
   "execution_count": 26,
   "metadata": {},
   "outputs": [],
   "source": [
    "bar = categories.loc[2888].to_dict()"
   ]
  },
  {
   "cell_type": "code",
   "execution_count": 27,
   "metadata": {},
   "outputs": [
    {
     "data": {
      "text/plain": [
       "{'asin': 'B001FYWBOI',\n",
       " 'name': 'Elegance Long Stem Ring Holder, 9\", Silver',\n",
       " 'home_kitchen': 1.0,\n",
       " 'home_décor': 1.0,\n",
       " 'overall_mean': 5.0}"
      ]
     },
     "execution_count": 27,
     "metadata": {},
     "output_type": "execute_result"
    }
   ],
   "source": [
    "{k:v for k,v in bar.items() if v != 0}"
   ]
  },
  {
   "cell_type": "markdown",
   "metadata": {},
   "source": [
    "Top 10 recommendations for products using only categories as features."
   ]
  },
  {
   "cell_type": "code",
   "execution_count": 28,
   "metadata": {},
   "outputs": [
    {
     "data": {
      "text/plain": [
       "name\n",
       "Rubies Star Wars Classic Child's Deluxe Jedi Knight Costume, Medium                                                 0.000001\n",
       "Halloween Concepts Children's Costumes Pirate King - Child's Medium                                                 0.000029\n",
       "DC Super Heroes Child's Batgirl Costume, Large                                                                      0.000038\n",
       "Super DC Heroes Deluxe Muscle Chest Superman Costume, Child's Large                                                 0.000038\n",
       "Kids Army Camouflage Combat Vest - Fits Ages 5-13 Yrs                                                               0.000077\n",
       "Melissa & Doug Chef Role-Play Costume Set (Pretend Play, Materials, Machine-Washable, 17.5” H x 24” W x 0.75” L)    0.000094\n",
       "Spiderman Muscle - Size: Child M(7-8)                                                                               0.000133\n",
       "California Costumes Toys Hercules                                                                                   0.000133\n",
       "California Costumes Toys Vampire Girl                                                                               0.000133\n",
       "Star Wars Child's Clone Trooper Costume, Large                                                                      0.000238\n",
       "Name: Buzz Lightyear Boy's Deluxe Toy Story Costume, dtype: float64"
      ]
     },
     "execution_count": 28,
     "metadata": {},
     "output_type": "execute_result"
    }
   ],
   "source": [
    "recommender_df[\"Buzz Lightyear Boy's Deluxe Toy Story Costume\"].sort_values()[1:11]\n"
   ]
  },
  {
   "cell_type": "code",
   "execution_count": 29,
   "metadata": {},
   "outputs": [
    {
     "data": {
      "text/plain": [
       "name\n",
       "NYDJ Women's Basic Pull on Leggings                                0.000000\n",
       "Steve Madden Legwear Women's Basic Legging                         0.000002\n",
       "Angelina Plush-Lined Leggings                                      0.000002\n",
       "jntworld Women's Faux Leather High Waisted Leggings                0.000004\n",
       "HUE Women's Solid Color Original Jeanz Denim Legging               0.000015\n",
       "D&K Monarchy Women's Seamless Capri Thin Leggings                  0.000033\n",
       "HUE Women's Solid Color Original Jeanz Denim Legging               0.000033\n",
       "Modern Kiwi Cable Knit Leggings                                    0.000041\n",
       "Sakkas Footless Liquid Wet Look Shiny Metallic Stretch Leggings    0.000050\n",
       "Maidenform Flexees Women's Shapewear Legging                       0.000050\n",
       "Name: NYDJ Women's Basic Pull on Leggings, dtype: float64"
      ]
     },
     "execution_count": 29,
     "metadata": {},
     "output_type": "execute_result"
    }
   ],
   "source": [
    "recommender_df[\"NYDJ Women's Basic Pull on Leggings\"].sort_values()[1:11]"
   ]
  },
  {
   "cell_type": "code",
   "execution_count": 30,
   "metadata": {},
   "outputs": [
    {
     "data": {
      "text/plain": [
       "name\n",
       "Hanes Ultimate Men's 3-Pack Classics Lightweight Slim-Fit V-Neck T-Shirt                          0.000506\n",
       "Columbia Men's Low Drag Offshore Long Sleeve Shirt, UPF 40 Protection, Moisture Wicking Fabric    0.000927\n",
       "Hanes Ultimate Men's 3-Pack Classics Lightweight Slim-Fit V-Neck T-Shirt                          0.001036\n",
       "Noble Mount Mens 100% Cotton Casual Shirt - Regular Fit                                           0.019183\n",
       "Charles River Apparel Men's Classic Rugby Shirt                                                   0.019183\n",
       "Calvin Klein Men's Single Welt Pocket Polo                                                        0.019183\n",
       "Russell Athletic Men's Big & Tall Dri Power Short-Sleeve Polo Shirt                               0.019183\n",
       "Carhartt Men's Hines Solid Long-Sleeve Shirt Long-Sleeve Button-Front Twill                       0.019183\n",
       "Carhartt Men's Chamois Button Front Original Fit Shirt                                            0.019183\n",
       "PGA TOUR Men's Stacked Polo Shirt                                                                 0.019183\n",
       "Name: Russell Athletic Men's Basic Cotton T-Shirt, dtype: float64"
      ]
     },
     "execution_count": 30,
     "metadata": {},
     "output_type": "execute_result"
    }
   ],
   "source": [
    "recommender_df[\"Russell Athletic Men's Basic Cotton T-Shirt\"].sort_values()[1:11]"
   ]
  },
  {
   "cell_type": "markdown",
   "metadata": {},
   "source": [
    "While it appears some of products are of a similar type, based on their names at least, the scores are too close to 0 and some are identical which means there must be a problem somewhere. Taking a closer look, I find that many items have the exact same features in common.  To fix this, I know I need to add more features."
   ]
  },
  {
   "cell_type": "markdown",
   "metadata": {},
   "source": [
    "## Iterations to make model better "
   ]
  },
  {
   "cell_type": "markdown",
   "metadata": {},
   "source": [
    "Read in text csv with product names to count vectorize."
   ]
  },
  {
   "cell_type": "code",
   "execution_count": 31,
   "metadata": {},
   "outputs": [],
   "source": [
    "names = pd.read_csv('data/names_to_vectorize.csv')"
   ]
  },
  {
   "cell_type": "code",
   "execution_count": 32,
   "metadata": {},
   "outputs": [
    {
     "data": {
      "text/html": [
       "<div>\n",
       "<style scoped>\n",
       "    .dataframe tbody tr th:only-of-type {\n",
       "        vertical-align: middle;\n",
       "    }\n",
       "\n",
       "    .dataframe tbody tr th {\n",
       "        vertical-align: top;\n",
       "    }\n",
       "\n",
       "    .dataframe thead th {\n",
       "        text-align: right;\n",
       "    }\n",
       "</style>\n",
       "<table border=\"1\" class=\"dataframe\">\n",
       "  <thead>\n",
       "    <tr style=\"text-align: right;\">\n",
       "      <th></th>\n",
       "      <th>Unnamed: 0</th>\n",
       "      <th>asin</th>\n",
       "      <th>name</th>\n",
       "      <th>name_split</th>\n",
       "    </tr>\n",
       "  </thead>\n",
       "  <tbody>\n",
       "    <tr>\n",
       "      <th>0</th>\n",
       "      <td>0</td>\n",
       "      <td>0000031887</td>\n",
       "      <td>Mystiqueshapes Girls Ballet Tutu Neon Lime Green</td>\n",
       "      <td>mystiqueshapes girl ballet tutu neon lime green</td>\n",
       "    </tr>\n",
       "    <tr>\n",
       "      <th>1</th>\n",
       "      <td>23</td>\n",
       "      <td>0123456479</td>\n",
       "      <td>SHINING IMAGE HUGE PINK LEATHER JEWELRY BOX / CASE / STORAGE / ORGANIZER WITH TRAVEL CASE AND LOCK</td>\n",
       "      <td>shining image huge pink leather jewelry box case storage organizer travel case lock</td>\n",
       "    </tr>\n",
       "    <tr>\n",
       "      <th>2</th>\n",
       "      <td>29</td>\n",
       "      <td>1608299953</td>\n",
       "      <td>Learn French: Rosetta Stone French - Level 1</td>\n",
       "      <td>learn french rosetta stone french level 1</td>\n",
       "    </tr>\n",
       "    <tr>\n",
       "      <th>3</th>\n",
       "      <td>42</td>\n",
       "      <td>1617160377</td>\n",
       "      <td>Learn Italian: Rosetta Stone Italian - Level 1</td>\n",
       "      <td>learn italian rosetta stone italian level 1</td>\n",
       "    </tr>\n",
       "    <tr>\n",
       "      <th>4</th>\n",
       "      <td>58</td>\n",
       "      <td>B00001W0KA</td>\n",
       "      <td>Buzz Lightyear Boy's Deluxe Toy Story Costume</td>\n",
       "      <td>buzz lightyear boy deluxe toy story costume</td>\n",
       "    </tr>\n",
       "  </tbody>\n",
       "</table>\n",
       "</div>"
      ],
      "text/plain": [
       "   Unnamed: 0        asin  \\\n",
       "0           0  0000031887   \n",
       "1          23  0123456479   \n",
       "2          29  1608299953   \n",
       "3          42  1617160377   \n",
       "4          58  B00001W0KA   \n",
       "\n",
       "                                                                                                 name  \\\n",
       "0                                                    Mystiqueshapes Girls Ballet Tutu Neon Lime Green   \n",
       "1  SHINING IMAGE HUGE PINK LEATHER JEWELRY BOX / CASE / STORAGE / ORGANIZER WITH TRAVEL CASE AND LOCK   \n",
       "2                                                        Learn French: Rosetta Stone French - Level 1   \n",
       "3                                                      Learn Italian: Rosetta Stone Italian - Level 1   \n",
       "4                                                       Buzz Lightyear Boy's Deluxe Toy Story Costume   \n",
       "\n",
       "                                                                            name_split  \n",
       "0                                      mystiqueshapes girl ballet tutu neon lime green  \n",
       "1  shining image huge pink leather jewelry box case storage organizer travel case lock  \n",
       "2                                            learn french rosetta stone french level 1  \n",
       "3                                          learn italian rosetta stone italian level 1  \n",
       "4                                          buzz lightyear boy deluxe toy story costume  "
      ]
     },
     "execution_count": 32,
     "metadata": {},
     "output_type": "execute_result"
    }
   ],
   "source": [
    "# check first 5 rows \n",
    "names.head()"
   ]
  },
  {
   "cell_type": "code",
   "execution_count": 33,
   "metadata": {},
   "outputs": [
    {
     "data": {
      "text/plain": [
       "Unnamed: 0    0\n",
       "asin          0\n",
       "name          0\n",
       "name_split    0\n",
       "dtype: int64"
      ]
     },
     "execution_count": 33,
     "metadata": {},
     "output_type": "execute_result"
    }
   ],
   "source": [
    "# Check for nulls \n",
    "names.isnull().sum()"
   ]
  },
  {
   "cell_type": "code",
   "execution_count": 34,
   "metadata": {},
   "outputs": [],
   "source": [
    "# drop unnamed index column \n",
    "names.drop(columns='Unnamed: 0', inplace=True)"
   ]
  },
  {
   "cell_type": "code",
   "execution_count": 35,
   "metadata": {},
   "outputs": [
    {
     "data": {
      "text/html": [
       "<div>\n",
       "<style scoped>\n",
       "    .dataframe tbody tr th:only-of-type {\n",
       "        vertical-align: middle;\n",
       "    }\n",
       "\n",
       "    .dataframe tbody tr th {\n",
       "        vertical-align: top;\n",
       "    }\n",
       "\n",
       "    .dataframe thead th {\n",
       "        text-align: right;\n",
       "    }\n",
       "</style>\n",
       "<table border=\"1\" class=\"dataframe\">\n",
       "  <thead>\n",
       "    <tr style=\"text-align: right;\">\n",
       "      <th></th>\n",
       "      <th>asin</th>\n",
       "      <th>name</th>\n",
       "      <th>name_split</th>\n",
       "    </tr>\n",
       "  </thead>\n",
       "  <tbody>\n",
       "    <tr>\n",
       "      <th>0</th>\n",
       "      <td>0000031887</td>\n",
       "      <td>Mystiqueshapes Girls Ballet Tutu Neon Lime Green</td>\n",
       "      <td>mystiqueshapes girl ballet tutu neon lime green</td>\n",
       "    </tr>\n",
       "    <tr>\n",
       "      <th>1</th>\n",
       "      <td>0123456479</td>\n",
       "      <td>SHINING IMAGE HUGE PINK LEATHER JEWELRY BOX / CASE / STORAGE / ORGANIZER WITH TRAVEL CASE AND LOCK</td>\n",
       "      <td>shining image huge pink leather jewelry box case storage organizer travel case lock</td>\n",
       "    </tr>\n",
       "    <tr>\n",
       "      <th>2</th>\n",
       "      <td>1608299953</td>\n",
       "      <td>Learn French: Rosetta Stone French - Level 1</td>\n",
       "      <td>learn french rosetta stone french level 1</td>\n",
       "    </tr>\n",
       "    <tr>\n",
       "      <th>3</th>\n",
       "      <td>1617160377</td>\n",
       "      <td>Learn Italian: Rosetta Stone Italian - Level 1</td>\n",
       "      <td>learn italian rosetta stone italian level 1</td>\n",
       "    </tr>\n",
       "    <tr>\n",
       "      <th>4</th>\n",
       "      <td>B00001W0KA</td>\n",
       "      <td>Buzz Lightyear Boy's Deluxe Toy Story Costume</td>\n",
       "      <td>buzz lightyear boy deluxe toy story costume</td>\n",
       "    </tr>\n",
       "  </tbody>\n",
       "</table>\n",
       "</div>"
      ],
      "text/plain": [
       "         asin  \\\n",
       "0  0000031887   \n",
       "1  0123456479   \n",
       "2  1608299953   \n",
       "3  1617160377   \n",
       "4  B00001W0KA   \n",
       "\n",
       "                                                                                                 name  \\\n",
       "0                                                    Mystiqueshapes Girls Ballet Tutu Neon Lime Green   \n",
       "1  SHINING IMAGE HUGE PINK LEATHER JEWELRY BOX / CASE / STORAGE / ORGANIZER WITH TRAVEL CASE AND LOCK   \n",
       "2                                                        Learn French: Rosetta Stone French - Level 1   \n",
       "3                                                      Learn Italian: Rosetta Stone Italian - Level 1   \n",
       "4                                                       Buzz Lightyear Boy's Deluxe Toy Story Costume   \n",
       "\n",
       "                                                                            name_split  \n",
       "0                                      mystiqueshapes girl ballet tutu neon lime green  \n",
       "1  shining image huge pink leather jewelry box case storage organizer travel case lock  \n",
       "2                                            learn french rosetta stone french level 1  \n",
       "3                                          learn italian rosetta stone italian level 1  \n",
       "4                                          buzz lightyear boy deluxe toy story costume  "
      ]
     },
     "execution_count": 35,
     "metadata": {},
     "output_type": "execute_result"
    }
   ],
   "source": [
    "names.head()"
   ]
  },
  {
   "cell_type": "markdown",
   "metadata": {},
   "source": [
    "Read in colors csv."
   ]
  },
  {
   "cell_type": "code",
   "execution_count": 36,
   "metadata": {},
   "outputs": [
    {
     "data": {
      "text/html": [
       "<div>\n",
       "<style scoped>\n",
       "    .dataframe tbody tr th:only-of-type {\n",
       "        vertical-align: middle;\n",
       "    }\n",
       "\n",
       "    .dataframe tbody tr th {\n",
       "        vertical-align: top;\n",
       "    }\n",
       "\n",
       "    .dataframe thead th {\n",
       "        text-align: right;\n",
       "    }\n",
       "</style>\n",
       "<table border=\"1\" class=\"dataframe\">\n",
       "  <thead>\n",
       "    <tr style=\"text-align: right;\">\n",
       "      <th></th>\n",
       "      <th>Unnamed: 0</th>\n",
       "      <th>asin</th>\n",
       "      <th>name</th>\n",
       "      <th>turquoise</th>\n",
       "      <th>nickel</th>\n",
       "      <th>diamond</th>\n",
       "      <th>cream</th>\n",
       "      <th>maize</th>\n",
       "      <th>sea green</th>\n",
       "      <th>dark green</th>\n",
       "      <th>...</th>\n",
       "      <th>copper</th>\n",
       "      <th>apricot</th>\n",
       "      <th>mustard</th>\n",
       "      <th>yellow</th>\n",
       "      <th>jade</th>\n",
       "      <th>bronze</th>\n",
       "      <th>cardinal</th>\n",
       "      <th>rose</th>\n",
       "      <th>golden brown</th>\n",
       "      <th>platinum</th>\n",
       "    </tr>\n",
       "  </thead>\n",
       "  <tbody>\n",
       "    <tr>\n",
       "      <th>0</th>\n",
       "      <td>0</td>\n",
       "      <td>0000031887</td>\n",
       "      <td>Mystiqueshapes Girls Ballet Tutu Neon Lime Green</td>\n",
       "      <td>0</td>\n",
       "      <td>0</td>\n",
       "      <td>0</td>\n",
       "      <td>0</td>\n",
       "      <td>0</td>\n",
       "      <td>0</td>\n",
       "      <td>0</td>\n",
       "      <td>...</td>\n",
       "      <td>0</td>\n",
       "      <td>0</td>\n",
       "      <td>0</td>\n",
       "      <td>0</td>\n",
       "      <td>0</td>\n",
       "      <td>0</td>\n",
       "      <td>0</td>\n",
       "      <td>0</td>\n",
       "      <td>0</td>\n",
       "      <td>0</td>\n",
       "    </tr>\n",
       "    <tr>\n",
       "      <th>1</th>\n",
       "      <td>23</td>\n",
       "      <td>0123456479</td>\n",
       "      <td>SHINING IMAGE HUGE PINK LEATHER JEWELRY BOX / CASE / STORAGE / ORGANIZER WITH TRAVEL CASE AND LOCK</td>\n",
       "      <td>0</td>\n",
       "      <td>0</td>\n",
       "      <td>0</td>\n",
       "      <td>0</td>\n",
       "      <td>0</td>\n",
       "      <td>0</td>\n",
       "      <td>0</td>\n",
       "      <td>...</td>\n",
       "      <td>0</td>\n",
       "      <td>0</td>\n",
       "      <td>0</td>\n",
       "      <td>0</td>\n",
       "      <td>0</td>\n",
       "      <td>0</td>\n",
       "      <td>0</td>\n",
       "      <td>0</td>\n",
       "      <td>0</td>\n",
       "      <td>0</td>\n",
       "    </tr>\n",
       "    <tr>\n",
       "      <th>2</th>\n",
       "      <td>29</td>\n",
       "      <td>1608299953</td>\n",
       "      <td>Learn French: Rosetta Stone French - Level 1</td>\n",
       "      <td>0</td>\n",
       "      <td>0</td>\n",
       "      <td>0</td>\n",
       "      <td>0</td>\n",
       "      <td>0</td>\n",
       "      <td>0</td>\n",
       "      <td>0</td>\n",
       "      <td>...</td>\n",
       "      <td>0</td>\n",
       "      <td>0</td>\n",
       "      <td>0</td>\n",
       "      <td>0</td>\n",
       "      <td>0</td>\n",
       "      <td>0</td>\n",
       "      <td>0</td>\n",
       "      <td>1</td>\n",
       "      <td>0</td>\n",
       "      <td>0</td>\n",
       "    </tr>\n",
       "    <tr>\n",
       "      <th>3</th>\n",
       "      <td>42</td>\n",
       "      <td>1617160377</td>\n",
       "      <td>Learn Italian: Rosetta Stone Italian - Level 1</td>\n",
       "      <td>0</td>\n",
       "      <td>0</td>\n",
       "      <td>0</td>\n",
       "      <td>0</td>\n",
       "      <td>0</td>\n",
       "      <td>0</td>\n",
       "      <td>0</td>\n",
       "      <td>...</td>\n",
       "      <td>0</td>\n",
       "      <td>0</td>\n",
       "      <td>0</td>\n",
       "      <td>0</td>\n",
       "      <td>0</td>\n",
       "      <td>0</td>\n",
       "      <td>0</td>\n",
       "      <td>1</td>\n",
       "      <td>0</td>\n",
       "      <td>0</td>\n",
       "    </tr>\n",
       "    <tr>\n",
       "      <th>4</th>\n",
       "      <td>58</td>\n",
       "      <td>B00001W0KA</td>\n",
       "      <td>Buzz Lightyear Boy's Deluxe Toy Story Costume</td>\n",
       "      <td>0</td>\n",
       "      <td>0</td>\n",
       "      <td>0</td>\n",
       "      <td>0</td>\n",
       "      <td>0</td>\n",
       "      <td>0</td>\n",
       "      <td>0</td>\n",
       "      <td>...</td>\n",
       "      <td>0</td>\n",
       "      <td>0</td>\n",
       "      <td>0</td>\n",
       "      <td>0</td>\n",
       "      <td>0</td>\n",
       "      <td>0</td>\n",
       "      <td>0</td>\n",
       "      <td>0</td>\n",
       "      <td>0</td>\n",
       "      <td>0</td>\n",
       "    </tr>\n",
       "  </tbody>\n",
       "</table>\n",
       "<p>5 rows × 369 columns</p>\n",
       "</div>"
      ],
      "text/plain": [
       "   Unnamed: 0        asin  \\\n",
       "0           0  0000031887   \n",
       "1          23  0123456479   \n",
       "2          29  1608299953   \n",
       "3          42  1617160377   \n",
       "4          58  B00001W0KA   \n",
       "\n",
       "                                                                                                 name  \\\n",
       "0                                                    Mystiqueshapes Girls Ballet Tutu Neon Lime Green   \n",
       "1  SHINING IMAGE HUGE PINK LEATHER JEWELRY BOX / CASE / STORAGE / ORGANIZER WITH TRAVEL CASE AND LOCK   \n",
       "2                                                        Learn French: Rosetta Stone French - Level 1   \n",
       "3                                                      Learn Italian: Rosetta Stone Italian - Level 1   \n",
       "4                                                       Buzz Lightyear Boy's Deluxe Toy Story Costume   \n",
       "\n",
       "   turquoise  nickel  diamond  cream  maize  sea green  dark green  ...  \\\n",
       "0          0       0        0      0      0          0           0  ...   \n",
       "1          0       0        0      0      0          0           0  ...   \n",
       "2          0       0        0      0      0          0           0  ...   \n",
       "3          0       0        0      0      0          0           0  ...   \n",
       "4          0       0        0      0      0          0           0  ...   \n",
       "\n",
       "   copper  apricot  mustard  yellow  jade  bronze  cardinal  rose  \\\n",
       "0       0        0        0       0     0       0         0     0   \n",
       "1       0        0        0       0     0       0         0     0   \n",
       "2       0        0        0       0     0       0         0     1   \n",
       "3       0        0        0       0     0       0         0     1   \n",
       "4       0        0        0       0     0       0         0     0   \n",
       "\n",
       "   golden brown  platinum  \n",
       "0             0         0  \n",
       "1             0         0  \n",
       "2             0         0  \n",
       "3             0         0  \n",
       "4             0         0  \n",
       "\n",
       "[5 rows x 369 columns]"
      ]
     },
     "execution_count": 36,
     "metadata": {},
     "output_type": "execute_result"
    }
   ],
   "source": [
    "colors = pd.read_csv('data/colors_split.csv')\n",
    "colors.head()"
   ]
  },
  {
   "cell_type": "code",
   "execution_count": 37,
   "metadata": {},
   "outputs": [],
   "source": [
    "# drop unnamed index column \n",
    "colors.drop(columns=['Unnamed: 0', 'asin',], inplace=True)"
   ]
  },
  {
   "cell_type": "code",
   "execution_count": 38,
   "metadata": {},
   "outputs": [],
   "source": [
    "# list of all colors from colors dataset to use as stopwords when CountVectorizing the names \n",
    "list_of_colors = ['acid green', 'aero', 'african violet', 'alabaster', 'alice blue', 'almond', 'amaranth', 'amazon', 'amber', 'amethyst',\n",
    " 'antique brass', 'antique bronze', 'antique white', 'apple green', 'apricot', 'aqua', 'aquamarine', 'army green', 'ash grey',\n",
    " 'auburn', 'avocado', 'awesome', 'azure', 'azure mist', 'baby blue', 'baby pink', 'banana yellow', 'barn red', 'begonia',\n",
    " 'beige', 'bisque', 'bittersweet', 'black', 'black olive', 'blond', 'blue', 'blue bell', 'blue lagoon', 'blue sapphire',\n",
    " 'blueberry', 'blush', 'bole', 'bondi blue', 'bone', 'boysenberry', 'brass', 'brick red', 'bright green', 'bright lavender',\n",
    " 'bright pink', 'bronze', 'brown sugar', 'brown yellow', 'bubble gum', 'buff', 'burgundy', 'burnished brown', 'burnt orange', 'byzantine', 'cadet', 'cadet blue', 'camel',\n",
    " 'camouflage green', 'canary', 'canary yellow', 'candy pink', 'capri', 'cardinal', 'carmine', 'carnelian', 'carolina blue', 'ceil',\n",
    " 'celeste', 'celestial blue', 'cerise', 'cerulean', 'cerulean blue', 'champagne', 'charcoal', 'charm pink', 'cherry', 'chestnut', 'chinese red',\n",
    " 'citrine', 'citron', 'cobalt blue', 'cocoa brown', 'coconut', 'coffee', 'columbia blue', 'cool grey', 'copper', 'copper red',\n",
    " 'coral', 'coral pink', 'coral red', 'coral reef', 'cordovan', 'corn', 'cornflower blue', 'cornsilk', 'cotton candy', 'coyote brown',\n",
    " 'cream', 'crimson', 'crimson red', 'cultured', 'cyan', 'cyber yellow', 'daffodil', 'dandelion', 'dark blue', 'dark brown',\n",
    " 'dark coral', 'dark green', 'dark khaki', 'dark pink', 'dark purple', 'dark red', 'dark tan', 'dark taupe', 'dark yellow', 'deep fuchsia',\n",
    " 'deep green', 'deep red', 'deer', 'denim', 'denim blue', 'desert', 'desert sand', 'desire', 'diamond', 'dirt', 'dodger blue', 'drab','ebony',\n",
    " 'ecru', 'eggplant', 'eggshell', 'electric blue', 'electric green', 'electric lime', 'electric purple', 'electric yellow', 'emerald',\n",
    " 'fandango', 'fawn', 'fern green', 'flame', 'flax', 'flirt', 'folly', 'french blue', 'french pink', 'french rose', 'frostbite', 'fuchsia', 'fuchsia purple',\n",
    " 'ginger', 'glitter', 'go green', 'gold fusion', 'golden brown', 'golden yellow', 'grape', 'gray', 'green sheen', 'grizzly', 'gunmetal', 'harvest gold', 'heart gold',\n",
    " 'hollywood cerise', 'hot pink', 'hunter green', 'iceberg', 'imperial', 'imperial blue', 'indigo', 'iris', 'irresistible', 'ivory',\n",
    " 'jade', 'jasper', 'jet', 'jungle green', 'kelly green', 'kiwi', 'lapis lazuli', 'lava', 'lavender purple', 'lemon', 'lemon yellow', 'liberty',\n",
    " 'light blue', 'light brown', 'light gray', 'light green', 'light pink', 'light taupe', 'light yellow', 'lilac', 'lime green',\n",
    " 'linen', 'liver', 'lust', 'magenta', 'magnolia', 'mahogany', 'maize', 'malachite', 'mandarin', 'mango tango', 'mardi gras',\n",
    " 'marigold', 'mauve', 'medium blue', 'medium purple', 'melon', 'midnight', 'midnight blue', 'milk','ming', 'mint', 'mint green', 'moccasin',\n",
    " 'moss green', 'mulberry', 'mustard', 'mystic', 'navy', 'neon green', 'new car', 'nickel', 'ocean blue', 'ocean green', 'ochre', 'old gold',\n",
    " 'old lavender', 'old rose', 'old silver', 'olive', 'onyx', 'orchid', 'oxford blue', 'pacific blue', 'pale green', 'pale pink',\n",
    " 'paradise pink', 'pastel brown', 'pastel green', 'pastel pink', 'pastel red', 'peach', 'pear', 'pearl', 'peridot', 'periwinkle', 'persian red',\n",
    " 'persimmon', 'peru', 'pine green', 'pink', 'pink flamingo','pink lace', 'pink pearl','pistachio', 'platinum', 'plum', 'popstar',\n",
    " 'powder blue', 'pumpkin', 'purple heart', 'quartz', 'quick silver', 'raspberry', 'raspberry rose', 'red', 'redwood', 'regalia',\n",
    " 'rhythm', 'rose', 'rose dust', 'rose gold', 'rose pink', 'rose quartz', 'rose red', 'rosewood', 'royal blue', 'royal purple',\n",
    " 'ruby', 'ruby red', 'rust', 'safety orange', 'safety yellow', 'saffron', 'sage', 'salmon', 'sand', 'sand dune', 'sangria', 'sap green', 'sapphire', 'sapphire blue', 'scarlet',\n",
    " 'sea blue', 'sea green', 'sepia', 'shadow', 'shadow blue', 'shamrock green', 'shocking pink', 'sienna', 'silver', 'silver pink', 'silver sand', 'sky blue', 'slate blue', \n",
    " 'slate gray', 'smitten', 'smoke', 'snow', 'solid pink',\n",
    " 'spring green', 'steel blue', 'steel pink', 'straw', 'strawberry', 'sugar plum', 'sunny', 'sunset', 'sweet brown', 'tan', 'tangelo', 'tangerine', 'taupe', 'teal',\n",
    " 'teal blue', 'teal green', 'terra cotta', 'thistle', 'timberwolf', 'titanium yellow', 'tomato', 'topaz', 'true blue', 'tulip', 'turquoise', 'turquoise blue', \n",
    " 'turquoise green', 'tuscan', 'tuscany', 'ua blue', 'ube', 'ultra pink', 'ultramarine', 'ultramarine blue', 'umber', 'vanilla', 'vegas gold', 'veronica', \n",
    " 'violet', 'vivid yellow', 'volt', 'wenge', 'wheat', 'white', 'wild strawberry', 'wine','yale blue','yellow','yellow rose']\n"
   ]
  },
  {
   "cell_type": "code",
   "execution_count": 39,
   "metadata": {},
   "outputs": [
    {
     "data": {
      "text/plain": [
       "list"
      ]
     },
     "execution_count": 39,
     "metadata": {},
     "output_type": "execute_result"
    }
   ],
   "source": [
    "type(list_of_colors)"
   ]
  },
  {
   "cell_type": "code",
   "execution_count": 40,
   "metadata": {},
   "outputs": [
    {
     "data": {
      "text/plain": [
       "0    13724\n",
       "1        8\n",
       "Name: lime green, dtype: int64"
      ]
     },
     "execution_count": 40,
     "metadata": {},
     "output_type": "execute_result"
    }
   ],
   "source": [
    "colors['lime green'].value_counts()"
   ]
  },
  {
   "cell_type": "code",
   "execution_count": 41,
   "metadata": {},
   "outputs": [
    {
     "data": {
      "text/plain": [
       "(13732, 367)"
      ]
     },
     "execution_count": 41,
     "metadata": {},
     "output_type": "execute_result"
    }
   ],
   "source": [
    "colors.shape"
   ]
  },
  {
   "cell_type": "code",
   "execution_count": 42,
   "metadata": {},
   "outputs": [
    {
     "data": {
      "text/html": [
       "<div>\n",
       "<style scoped>\n",
       "    .dataframe tbody tr th:only-of-type {\n",
       "        vertical-align: middle;\n",
       "    }\n",
       "\n",
       "    .dataframe tbody tr th {\n",
       "        vertical-align: top;\n",
       "    }\n",
       "\n",
       "    .dataframe thead th {\n",
       "        text-align: right;\n",
       "    }\n",
       "</style>\n",
       "<table border=\"1\" class=\"dataframe\">\n",
       "  <thead>\n",
       "    <tr style=\"text-align: right;\">\n",
       "      <th></th>\n",
       "      <th>name</th>\n",
       "      <th>turquoise</th>\n",
       "      <th>nickel</th>\n",
       "      <th>diamond</th>\n",
       "      <th>cream</th>\n",
       "      <th>maize</th>\n",
       "      <th>sea green</th>\n",
       "      <th>dark green</th>\n",
       "      <th>amber</th>\n",
       "      <th>jet</th>\n",
       "      <th>...</th>\n",
       "      <th>copper</th>\n",
       "      <th>apricot</th>\n",
       "      <th>mustard</th>\n",
       "      <th>yellow</th>\n",
       "      <th>jade</th>\n",
       "      <th>bronze</th>\n",
       "      <th>cardinal</th>\n",
       "      <th>rose</th>\n",
       "      <th>golden brown</th>\n",
       "      <th>platinum</th>\n",
       "    </tr>\n",
       "  </thead>\n",
       "  <tbody>\n",
       "    <tr>\n",
       "      <th>0</th>\n",
       "      <td>Mystiqueshapes Girls Ballet Tutu Neon Lime Green</td>\n",
       "      <td>0</td>\n",
       "      <td>0</td>\n",
       "      <td>0</td>\n",
       "      <td>0</td>\n",
       "      <td>0</td>\n",
       "      <td>0</td>\n",
       "      <td>0</td>\n",
       "      <td>0</td>\n",
       "      <td>0</td>\n",
       "      <td>...</td>\n",
       "      <td>0</td>\n",
       "      <td>0</td>\n",
       "      <td>0</td>\n",
       "      <td>0</td>\n",
       "      <td>0</td>\n",
       "      <td>0</td>\n",
       "      <td>0</td>\n",
       "      <td>0</td>\n",
       "      <td>0</td>\n",
       "      <td>0</td>\n",
       "    </tr>\n",
       "    <tr>\n",
       "      <th>1</th>\n",
       "      <td>SHINING IMAGE HUGE PINK LEATHER JEWELRY BOX / CASE / STORAGE / ORGANIZER WITH TRAVEL CASE AND LOCK</td>\n",
       "      <td>0</td>\n",
       "      <td>0</td>\n",
       "      <td>0</td>\n",
       "      <td>0</td>\n",
       "      <td>0</td>\n",
       "      <td>0</td>\n",
       "      <td>0</td>\n",
       "      <td>0</td>\n",
       "      <td>0</td>\n",
       "      <td>...</td>\n",
       "      <td>0</td>\n",
       "      <td>0</td>\n",
       "      <td>0</td>\n",
       "      <td>0</td>\n",
       "      <td>0</td>\n",
       "      <td>0</td>\n",
       "      <td>0</td>\n",
       "      <td>0</td>\n",
       "      <td>0</td>\n",
       "      <td>0</td>\n",
       "    </tr>\n",
       "    <tr>\n",
       "      <th>2</th>\n",
       "      <td>Learn French: Rosetta Stone French - Level 1</td>\n",
       "      <td>0</td>\n",
       "      <td>0</td>\n",
       "      <td>0</td>\n",
       "      <td>0</td>\n",
       "      <td>0</td>\n",
       "      <td>0</td>\n",
       "      <td>0</td>\n",
       "      <td>0</td>\n",
       "      <td>0</td>\n",
       "      <td>...</td>\n",
       "      <td>0</td>\n",
       "      <td>0</td>\n",
       "      <td>0</td>\n",
       "      <td>0</td>\n",
       "      <td>0</td>\n",
       "      <td>0</td>\n",
       "      <td>0</td>\n",
       "      <td>1</td>\n",
       "      <td>0</td>\n",
       "      <td>0</td>\n",
       "    </tr>\n",
       "    <tr>\n",
       "      <th>3</th>\n",
       "      <td>Learn Italian: Rosetta Stone Italian - Level 1</td>\n",
       "      <td>0</td>\n",
       "      <td>0</td>\n",
       "      <td>0</td>\n",
       "      <td>0</td>\n",
       "      <td>0</td>\n",
       "      <td>0</td>\n",
       "      <td>0</td>\n",
       "      <td>0</td>\n",
       "      <td>0</td>\n",
       "      <td>...</td>\n",
       "      <td>0</td>\n",
       "      <td>0</td>\n",
       "      <td>0</td>\n",
       "      <td>0</td>\n",
       "      <td>0</td>\n",
       "      <td>0</td>\n",
       "      <td>0</td>\n",
       "      <td>1</td>\n",
       "      <td>0</td>\n",
       "      <td>0</td>\n",
       "    </tr>\n",
       "    <tr>\n",
       "      <th>4</th>\n",
       "      <td>Buzz Lightyear Boy's Deluxe Toy Story Costume</td>\n",
       "      <td>0</td>\n",
       "      <td>0</td>\n",
       "      <td>0</td>\n",
       "      <td>0</td>\n",
       "      <td>0</td>\n",
       "      <td>0</td>\n",
       "      <td>0</td>\n",
       "      <td>0</td>\n",
       "      <td>0</td>\n",
       "      <td>...</td>\n",
       "      <td>0</td>\n",
       "      <td>0</td>\n",
       "      <td>0</td>\n",
       "      <td>0</td>\n",
       "      <td>0</td>\n",
       "      <td>0</td>\n",
       "      <td>0</td>\n",
       "      <td>0</td>\n",
       "      <td>0</td>\n",
       "      <td>0</td>\n",
       "    </tr>\n",
       "  </tbody>\n",
       "</table>\n",
       "<p>5 rows × 367 columns</p>\n",
       "</div>"
      ],
      "text/plain": [
       "                                                                                                 name  \\\n",
       "0                                                    Mystiqueshapes Girls Ballet Tutu Neon Lime Green   \n",
       "1  SHINING IMAGE HUGE PINK LEATHER JEWELRY BOX / CASE / STORAGE / ORGANIZER WITH TRAVEL CASE AND LOCK   \n",
       "2                                                        Learn French: Rosetta Stone French - Level 1   \n",
       "3                                                      Learn Italian: Rosetta Stone Italian - Level 1   \n",
       "4                                                       Buzz Lightyear Boy's Deluxe Toy Story Costume   \n",
       "\n",
       "   turquoise  nickel  diamond  cream  maize  sea green  dark green  amber  \\\n",
       "0          0       0        0      0      0          0           0      0   \n",
       "1          0       0        0      0      0          0           0      0   \n",
       "2          0       0        0      0      0          0           0      0   \n",
       "3          0       0        0      0      0          0           0      0   \n",
       "4          0       0        0      0      0          0           0      0   \n",
       "\n",
       "   jet  ...  copper  apricot  mustard  yellow  jade  bronze  cardinal  rose  \\\n",
       "0    0  ...       0        0        0       0     0       0         0     0   \n",
       "1    0  ...       0        0        0       0     0       0         0     0   \n",
       "2    0  ...       0        0        0       0     0       0         0     1   \n",
       "3    0  ...       0        0        0       0     0       0         0     1   \n",
       "4    0  ...       0        0        0       0     0       0         0     0   \n",
       "\n",
       "   golden brown  platinum  \n",
       "0             0         0  \n",
       "1             0         0  \n",
       "2             0         0  \n",
       "3             0         0  \n",
       "4             0         0  \n",
       "\n",
       "[5 rows x 367 columns]"
      ]
     },
     "execution_count": 42,
     "metadata": {},
     "output_type": "execute_result"
    }
   ],
   "source": [
    "colors.head()"
   ]
  },
  {
   "cell_type": "markdown",
   "metadata": {},
   "source": [
    "## CountVectorizer "
   ]
  },
  {
   "cell_type": "code",
   "execution_count": 43,
   "metadata": {},
   "outputs": [],
   "source": [
    "# Import CountVectorizer.\n",
    "from sklearn.feature_extraction.text import CountVectorizer"
   ]
  },
  {
   "cell_type": "code",
   "execution_count": 44,
   "metadata": {},
   "outputs": [],
   "source": [
    "# Instantiate the \"CountVectorizer\" object, which is scikit-learn's bag of words tool.\n",
    "cvec = CountVectorizer(analyzer = \"word\",   # default, says features should be made of words \n",
    "                       tokenizer = None,    #default \n",
    "                       preprocessor = None, # default \n",
    "                       stop_words = list_of_colors,  # list of words I do not want counted \n",
    "                       max_features=10000,  # maximum number of features, n most frequent \n",
    "                       min_df=2,            # minimum number of documents a word must appear in   \n",
    "                       ngram_range=(1, 3),  # a range of number of words to look at \n",
    "                       binary=True)         # returns a 1 or a 0 if a word is in the document "
   ]
  },
  {
   "cell_type": "code",
   "execution_count": 45,
   "metadata": {},
   "outputs": [
    {
     "name": "stderr",
     "output_type": "stream",
     "text": [
      "/Users/rachelkoenig/anaconda3/lib/python3.7/site-packages/sklearn/feature_extraction/text.py:301: UserWarning: Your stop_words may be inconsistent with your preprocessing. Tokenizing the stop words generated tokens ['acid', 'african', 'alice', 'antique', 'apple', 'army', 'ash', 'baby', 'banana', 'barn', 'bell', 'bondi', 'brick', 'bright', 'brown', 'bubble', 'burnished', 'burnt', 'camouflage', 'candy', 'car', 'carolina', 'celestial', 'charm', 'chinese', 'cobalt', 'cocoa', 'columbia', 'cool', 'cornflower', 'cotta', 'cotton', 'coyote', 'cyber', 'dark', 'deep', 'dodger', 'dune', 'dust', 'electric', 'fern', 'flamingo', 'french', 'fusion', 'go', 'gold', 'golden', 'gras', 'green', 'grey', 'gum', 'harvest', 'heart', 'hollywood', 'hot', 'hunter', 'jungle', 'kelly', 'khaki', 'lace', 'lagoon', 'lapis', 'lavender', 'lazuli', 'light', 'lime', 'mango', 'mardi', 'medium', 'mist', 'moss', 'neon', 'new', 'ocean', 'old', 'orange', 'oxford', 'pacific', 'pale', 'paradise', 'pastel', 'persian', 'pine', 'powder', 'purple', 'quick', 'reef', 'royal', 'safety', 'sap', 'sea', 'shamrock', 'sheen', 'shocking', 'sky', 'slate', 'solid', 'spring', 'steel', 'sugar', 'sweet', 'tango', 'terra', 'titanium', 'true', 'ua', 'ultra', 'vegas', 'vivid', 'wild', 'yale'] not in stop_words.\n",
      "  'stop_words.' % sorted(inconsistent))\n"
     ]
    }
   ],
   "source": [
    "names_features = cvec.fit_transform(names['name_split'])"
   ]
  },
  {
   "cell_type": "code",
   "execution_count": 46,
   "metadata": {},
   "outputs": [
    {
     "data": {
      "text/plain": [
       "(13732, 10000)"
      ]
     },
     "execution_count": 46,
     "metadata": {},
     "output_type": "execute_result"
    }
   ],
   "source": [
    "# check the shape \n",
    "names_features.shape"
   ]
  },
  {
   "cell_type": "code",
   "execution_count": 47,
   "metadata": {},
   "outputs": [
    {
     "data": {
      "text/plain": [
       "scipy.sparse.csr.csr_matrix"
      ]
     },
     "execution_count": 47,
     "metadata": {},
     "output_type": "execute_result"
    }
   ],
   "source": [
    "type(names_features)"
   ]
  },
  {
   "cell_type": "code",
   "execution_count": 48,
   "metadata": {},
   "outputs": [
    {
     "name": "stdout",
     "output_type": "stream",
     "text": [
      "['00', '00 carat', '00 carat total', '00g', '01', '02', '03', '05', '0mm', '10', '10 13', '10 cttw', '10 cttw color', '10 inch', '10 pack', '10 pack cotton', '10 running', '10 running shoe', '10 watch', '10 year', '10 year battery', '100', '100 cashmere', '100 cashmere long', '100 cashmere neck', '100 cotton', '100 cotton flannel', '100 facet', '100 facet collection', '100 leather', '1000', '1000 running', '1000 running shoe', '100cm', '100pc', '100pc belly', '1050', '1050 hd', '1050 hd tuff', '10k', '10k gold', '10kt', '10kt gold', '10mm', '11', '11 12', '11 inch', '12', '12 14', '12 24', '12 inch', '12 mm', '12 month', '12 pack', '12 pair', '12 piece', '12 running', '12 running shoe', '120', '12mm', '13', '13 inch', '13 running', '13 running shoe', '14', '14 16', '14 16 18', '14 40', '14 40 inch', '14 running', '14 running shoe', '1440', '1440 sport', '1440 sport digital', '14g', '14k', '14k ball', '14k gold', '14k gold accent', '14k gold bonded', '14k gold filled', '14k gold hoop', '14k gold plated', '14k gold round', '14mm', '15', '150', '16', '16 18', '16 18 20', '16 extender', '16 inch', '16g', '17', '17 inch', '18', '18 20', '18 20 22', '18 20 24', '18 hour', '18 inch', '18 inch chain', '18 inch rolo', '18 woman', '180', '180s', '180s woman', '18k', '18k gold', '18k gold ion', '18k gold plated', '18mm', '19', '19 inch', '1928', '1928 jewelry', '1950', '1950 rockabilly', '1950 rockabilly swing', '1a', '1a classic', '1av', '1av ana', '1av ana digi', '1bv', '1cr', '1ev', '1mm', '1mm box', '1mm box chain', '1v', '20', '20 22', '20 22 24', '20 24', '20 inch', '200', '2000', '2012', '20g', '20mm', '21', '21 inch', '22', '22 24', '22 24 26', '22 24 30', '22 inch', '22mm', '23', '24', '24 26', '24 30', '24 30 36', '24 30 inch', '24 inch', '25', '25 inch', '250', '26', '27', '28', '28 inch', '29', '29 inch', '2av', '2ct', '2mm', '2mm 3mm', '2mm 3mm 4mm', '2mm sterling cut', '2nd', '2nd shift', '2pcs', '2pcs men', '2xl', '30', '30 32', '30 32 34', '30 36', '30 inch', '30 mid', '30 mid size', '30mm', '31', '316l', '316l stainless', '316l stainless steel', '316l surgical', '316l surgical steel', '32', '32 34', '32 34 36', '32 inch', '32mm', '33', '34', '34 36', '35', '36', '36 inch', '360', '360 degree', '361', '361 vintage', '361 vintage straight', '37', '38', '38mm', '38mm watch', '3d', '3mm', '3mm 4mm', '3mm 4mm 5mm', '3mm band', '3mm band ring', '3pc', '3pk', '3x', '3xl', '40', '40 inch', '42', '42 inch', '43', '45', '46', '48', '48 section', '4ct', '4ct round', '4mm', '4mm 5mm', '4mm 5mm 6mm', '50', '50 50', '50 carat', '50 classic', '50 classic watch', '50 long', '50 long sleeve', '501', '501 original', '501 original fit', '505', '505 regular', '505 regular fit', '50mm', '51', '511', '511 slim', '511 slim fit', '512', '514', '514 straight', '514 straight fit', '515', '52', '524', '525', '529', '529 curvy', '53', '53 inch', '54', '54 inch', '55', '550', '55mm', '56', '560', '5bv', '5inches', '5mm', '5mm 6mm', '5mm 6mm 7mm', '5mm freshwater', '5mm round', '5v', '60', '62', '66', '68', '6886', '6mm', '6mm 7mm', '6mm gemstone', '6mm gemstone round', '6mm round', '6mm stud', '6mm stud earring', '6mm tungsten', '70', '72', '75', '7a', '7mm', '80', '81', '874', '874 work', '874 work pant', '8mm', '8mm gemstone', '8mm gemstone round', '8mm tungsten', '8pc', '8x6mm', '90', '92', '925', '925 sterling', '925 sterling 00', '925 sterling 100', '925 sterling 1mm', '925 sterling 7mm', '925 sterling birthstone', '925 sterling birthstones', '925 sterling cluster', '925 sterling core', '925 sterling crystal', '925 sterling cubic', '925 sterling fit', '925 sterling heart', '925 sterling leverback', '925 sterling princess', '925 sterling simulated', '925 sterling stud', '925 sterling swarovski', '9mm', 'aaa', 'aaa cubic', 'aaa cubic zirconia', 'ab', 'abbey', 'abby', 'abigail', 'absolute', 'absolute workout', 'absolute workout legging', 'absorber', 'absorber woman', 'accent', 'accent multi', 'accent multi color', 'accented', 'accented ceramic', 'accented dial', 'accented gold', 'accented gold tone', 'accented leather', 'accented silicon', 'accented silicon link', 'accented silicone', 'accented silicone link', 'accented stainless', 'accented stainless steel', 'accented tone', 'accented two', 'accented two tone', 'accented watch', 'access', 'accessory', 'ace', 'ace cargo', 'acorn', 'acorn men', 'acorn woman', 'acrylic', 'acrylic ball', 'action', 'action sport', 'active', 'active basic', 'active basic woman', 'active jacket', 'acu', 'acutint', 'acutint uv', 'acutint uv blocker', 'adam', 'adam men', 'adam men big', 'adam men regular', 'adapter', 'add', 'addiction', 'adhesive', 'adhesive silicone', 'adhesive silicone nu', 'adidas', 'adidas men', 'adidas men athletic', 'adidas men sport', 'adidas original', 'adidas original men', 'adidas performance', 'adidas woman', 'adissage', 'adjustable', 'adjustable bracelet', 'adjustable finger', 'adjustable finger ring', 'adjustable size', 'adjustable spaghetti', 'adjustable spaghetti strap', 'adjustable strap', 'adjuster', 'adjuster size', 'adrenaline', 'adrenaline gts', 'adrina', 'adult', 'adult costume', 'adult shirt', 'adult size', 'advance', 'advantage', 'adventure', 'adventure time', 'aeromax', 'aerosoles', 'aerosoles woman', 'aerosoles woman plush', 'african', 'agb', 'agb woman', 'age', 'ahnu', 'ahnu woman', 'aigner', 'aigner woman', 'air', 'ak', 'ak anne', 'ak anne klein', 'alamosa', 'alarm', 'alarm timer', 'alegria', 'alegria woman', 'alex', 'alex ani', 'alex ani bangle', 'alex ani woman', 'alex stevens', 'alex stevens men', 'alexa', 'alexander', 'alexander del', 'alexander del rossa', 'alice', 'alivila', 'alivila fashion', 'alki', 'alki one', 'alki one size', 'allegra', 'allegra lady', 'allegra woman', 'allegra woman long', 'allegra woman shoulder', 'allen', 'allen edmonds', 'allen edmonds men', 'alliance', 'alloy', 'alloy genuine', 'alloy genuine leather', 'allstrap', 'aloha', 'alp', 'alpha', 'alphabet', 'alpine', 'alpine swiss', 'alpine swiss men', 'alpine swiss woman', 'alternative', 'alternative men', 'alternative woman', 'altimeter', 'altimeter barometer', 'altra', 'aluminum', 'amazing', 'amc', 'amc adult', 'amc adult shirt', 'ameribag', 'ameribag small', 'america', 'america shield', 'american', 'american flag', 'american heritage', 'american tourister', 'american tourister luggage', 'amour', 'amour woman', 'amsterdam', 'amy', 'ana', 'ana digi', 'analog', 'analog bracelet', 'analog bracelet watch', 'analog dial', 'analog digital', 'analog digital watch', 'analog dive', 'analog dive watch', 'analog elastic', 'analog elastic fabric', 'analog japanese', 'analog leather', 'analog leather strap', 'analog watch', 'anchor', 'andes', 'andes fleece', 'andrew', 'angel', 'angel collection', 'angel wing', 'angelfish', 'angelina', 'angelina woman', 'angiolini', 'angiolini woman', 'angora', 'ani', 'ani bangle', 'ani bangle bar', 'ani woman', 'anika', 'anika dali', 'animal', 'animal hat', 'animal pendant', 'animal print', 'animal sock', 'animal sock casual', 'anita', 'anita woman', 'ankle', 'ankle boot', 'ankle bootie', 'ankle bracelet', 'ankle bracelet woman', 'ankle legging', 'ankle length', 'ankle length footless', 'ankle pant', 'ankle sock', 'ankle sock pack', 'ankle strap', 'ankle strap sandal', 'anklet', 'anklet ankle', 'anklet ankle bracelet', 'anna', 'anne', 'anne klein', 'anne klein perfect', 'anne klein sport', 'anne klein woman', 'annie', 'annie shoe', 'annie shoe woman', 'anniversary', 'anniversary wedding', 'anti', 'anti fatigue', 'anti theft', 'antique', 'antique finish', 'antiqued', 'antonio', 'antonio woman', 'anvil', 'apparel', 'apparel men', 'apparel men long', 'apparel woman', 'appeal', 'approved', 'april', 'apron', 'arabic', 'arc', 'arch', 'arch support', 'arctic', 'arctic quilt', 'arctic quilt lined', 'argyle', 'arianne', 'arianne woman', 'ariat', 'ariat men', 'ariat woman', 'ariat woman fatbaby', 'arm', 'arm warmer', 'armitron', 'armitron sport', 'armitron sport men', 'armitron sport woman', 'armitron woman', 'armitron woman 75', 'armoire', 'armour', 'armour coldgear', 'armour fleece', 'armour heatgear', 'armour men', 'armour men heatgear', 'armour men resistor', 'armour men ua', 'armour pth', 'armour pth victory', 'armour woman', 'army', 'around', 'around leather', 'around leather bracelet', 'arrow', 'art', 'art deco', 'art deco style', 'artisan', 'artisan clark', 'ascend', 'ascender', 'ascender ii', 'ascender ii softshell', 'ash', 'ashland', 'asics', 'asics gel', 'asics men', 'asics men core', 'asics men gel', 'asics men gt', 'asics unisex', 'asics woman', 'asics woman core', 'asics woman gel', 'asics woman gt', 'aspire', 'aspire sport', 'asset', 'assn', 'assn classic', 'assn classic men', 'assn junior', 'assn junior solid', 'assn men', 'assn sport', 'assn sport men', 'assn woman', 'assorted', 'assorted color', 'assorted design', 'assorted pack', 'assortment', 'astoria', 'asymmetrical', 'athletic', 'athletic men', 'athletic men athletic', 'athletic men basic', 'athletic men big', 'athletic men cotton', 'athletic men dri', 'athletic sandal', 'athletic sock', 'athletic sock pack', 'athletic supporter', 'athletic woman', 'athletic woman dri', 'athletic woman pro', 'atomic', 'atomic solar', 'atomic watch', 'au', 'audio', 'audrey', 'audrey classy', 'audrey classy vintage', 'augusta', 'augusta sportswear', 'aurora', 'austin', 'australia', 'australia woman', 'austrian', 'austrian crystal', 'authentic', 'authentic stud', 'authentic stud earring', 'authority', 'authority lady', 'authority men', 'authority woman', 'auto', 'auto close', 'auto open', 'auto open close', 'automatic', 'automatic dial', 'automatic dive', 'automatic dive watch', 'automatic stainless', 'automatic stainless steel', 'automatic watch', 'autumn', 'aux', 'aux audio', 'avail', 'available', 'available size', 'available size 11', 'avenue', 'avenue 925', 'avenue 925 sterling', 'avenue woman', 'avenue woman fence', 'avenue woman nylon', 'avenue woman opaque', 'avenue woman piece', 'avenue woman plus', 'avenue woman sheer', 'avia', 'avia men', 'avia woman', 'aviator', 'aviator hat', 'aviator sunglass', 'aw', 'aw80v', 'awareness', 'away', 'aztec', 'baby', 'baby boy', 'baby boy newborn', 'baby boy pack', 'baby boy piece', 'baby girl', 'baby girl newborn', 'baby girl pack', 'baby pack', 'baby rib', 'baby sock', 'baby toddler', 'babydoll', 'babydoll lingerie', 'babysoy', 'back', 'back bag', 'back bra', 'back earring', 'back full', 'back opener', 'back pocket', 'back slipper', 'back zip', 'backless', 'backless strapless', 'backless strapless bra', 'backpack', 'backseam', 'bad', 'bad men', 'baddabing', 'baffin', 'bag', 'bag backpack', 'bag clear', 'bag handbag', 'bag medium', 'bag one', 'bag one size', 'bag pocket', 'bag tote', 'bag travel', 'bagg', 'baggallini', 'baggallini luggage', 'baggy', 'bahama', 'bailey', 'balaclava', 'balance', 'balance kid', 'balance men', 'balance woman', 'balconette', 'balconnet', 'balconnet bra', 'bali', 'bali woman', 'bali woman comfort', 'bali woman line', 'bali woman microfiber', 'bali woman one', 'bali woman passion', 'bali woman shapewear', 'ball', 'ball bead', 'ball drop', 'ball drop earring', 'ball pendant', 'ball pendant necklace', 'ball stud', 'ball stud earring', 'ballerina', 'ballerina ballet', 'ballerina ballet flat', 'ballerina flat', 'ballerina slipper', 'ballet', 'ballet flat', 'ballet flat shoe', 'ballet shoe', 'ballet slipper', 'bamboo', 'bamboo viscose', 'ban', 'ban men', 'ban woman', 'banana', 'banana barbell', 'banana barbell 14g', 'band', 'band 20mm', 'band crystal', 'band crystal bezel', 'band ring', 'band ring come', 'band ring comfort', 'band thumb', 'band thumb ring', 'band tungsten', 'band tungsten ring', 'band watch', 'bandage', 'bandana', 'bandanna', 'bandeau', 'bandeau bra', 'bandeau strapless', 'bandeau strapless tube', 'banded', 'bandless', 'bandolino', 'bandolino woman', 'bang', 'bang theory', 'bangle', 'bangle bar', 'bangle bar st', 'bangle bracelet', 'bangle bracelet 75', 'bangle cuff', 'bangle cuff bracelet', 'bangle jewelry', 'bangle watch', 'bank', 'bar', 'bar chain', 'bar mix', 'bar mix color', 'bar pin', 'bar st', 'barbell', 'barbell 14g', 'barbell 14g steel', 'bare', 'bare access', 'barefoot', 'barely', 'barely bootcut', 'barely woman', 'barely woman custom', 'barometer', 'baroque', 'barracuda', 'base', 'base layer', 'baseball', 'basic', 'basic cotton', 'basic crew', 'basic long', 'basic short', 'basic short sleeve', 'basic solid', 'basic solid color', 'basic woman', 'basket', 'basket set', 'bass', 'bass co', 'bass co men', 'bass co woman', 'bates', 'bates men', 'bath', 'bathing', 'bathing suit', 'bathrobe', 'bathrobe made', 'bathrobe made turkey', 'batman', 'batman child', 'batman logo', 'battery', 'batwing', 'batwing sleeve', 'bay', 'bay collection', 'bdu', 'beach', 'beach cover', 'bead', 'bead ball', 'bead ball drop', 'bead charm', 'bead european', 'bead european charm', 'bead fit', 'bead fit european', 'bead hunter', 'bead sterling', 'bead woman', 'bead woman teen', 'beaded', 'beaded halter', 'beaded halter smocked', 'beaded stretch', 'beaded stretch bracelet', 'beanie', 'beanie cap', 'beanie cap hat', 'beanie hat', 'beanie one', 'beanie one size', 'beanie snowboarding', 'beanie snowboarding winter', 'bear', 'bearpaw', 'bearpaw woman', 'beautiful', 'beautiful sparkly', 'beauty', 'beene', 'beene men', 'beer', 'bell', 'bell sock', 'bell sock woman', 'bella', 'bella canvas', 'bella canvas woman', 'bella lady', 'bella vita', 'bella vita woman', 'belle', 'belly', 'belly button', 'belly button ring', 'belly compression', 'belly compression short', 'belly dance', 'bellylady', 'bellylady belly', 'bellylady belly dance', 'belt', 'belt buckle', 'belted', 'benton', 'benton spring', 'beret', 'berkshire', 'berkshire woman', 'berkshire woman plus', 'bermuda', 'bermuda short', 'berricle', 'berricle rhodium', 'berricle rhodium plated', 'berry', 'berryessa', 'best', 'betsey', 'betsey johnson', 'betsey johnson woman', 'beveled', 'beveled edge', 'bezel', 'bi', 'bi fold', 'bi fold wallet', 'bib', 'bib overall', 'bicycle', 'bifold', 'bifold wallet', 'big', 'big bang', 'big bang theory', 'big boy', 'big buddha', 'big buddha woman', 'big fat', 'big girl', 'big kid', 'big logo', 'big tall', 'big tall dri', 'big tall fleece', 'big tall short', 'big tall size', 'bike', 'bike short', 'biker', 'bikers', 'bikini', 'bikini panty', 'bill', 'billfold', 'birch', 'bird', 'birkenstock', 'birkenstock unisex', 'birkenstock woman', 'birkenstock woman gizeh', 'birkenstock woman mayari', 'birko', 'birko flor', 'birko flor sandal', 'birthstone', 'birthstone color', 'birthstones', 'birthstones color', 'blackhawk', 'blank', 'blanket', 'blast', 'blazer', 'blend', 'bling', 'bling bling', 'bling jewelry', 'bliss', 'blk', 'bloch', 'bloch dance', 'bloch dance woman', 'block', 'blocker', 'blocker fishing', 'blocker fishing outdoor', 'blocking', 'bloom', 'bloomer', 'blossom', 'blouse', 'blouse india', 'blouse shirt', 'blouse top', 'bluetooth', 'blur33', 'blur33 running', 'blur33 running shoe', 'blvd', 'blvd woman', 'bmc', 'boa', 'board', 'board short', 'boarding', 'boarding pas', 'boarding pas holder', 'boat', 'boat neck', 'boat shoe', 'boat shoe toddler', 'bob', 'bob skechers', 'bob skechers woman', 'bodice', 'bodice handkerchief', 'bodice handkerchief hem', 'body', 'body bag', 'body briefer', 'body candy', 'body candy handcrafted', 'body candy stainless', 'body caress', 'body creation', 'body handbag', 'body jewelry', 'body piercing', 'bodycon', 'bodyj4you', 'bodystocking', 'bodysuit', 'bodysuits', 'bodyzone', 'bodyzone woman', 'bog', 'bog men', 'bohemian', 'boho', 'boho woman', 'bold', 'bolero', 'bolero shrug', 'bombayfashions', 'bomber', 'bonamart', 'bonded', 'bonded sterling', 'boned', 'boned corset', 'bonehead', 'book', 'boost', 'boot', 'boot cut', 'boot cut jean', 'boot men', 'boot shoe', 'boot sock', 'boot toddler', 'boot toddler little', 'boot woman', 'bootcut', 'bootcut jean', 'bootcut pant', 'bootie', 'bootie infant', 'bootie slipper', 'booty', 'bop', 'bop audrey', 'bop woman', 'born', 'bos', 'bos hugo', 'bos hugo bos', 'bos men', 'boston', 'bostonian', 'bostonian men', 'bottom', 'bottom men', 'bottom pant', 'bounce', 'boutique', 'bow', 'bow tie', 'bowknot', 'bowknot colorblock', 'bowknot colorblock casual', 'bowling', 'bowtie', 'box', 'box case', 'box chain', 'box chain necklace', 'box woman', 'boxed', 'boxer', 'boxer brief', 'boxer brief pack', 'boxer multipack', 'boxer short', 'boy', 'boy brief', 'boy classic', 'boy girl', 'boy long', 'boy long sleeve', 'boy newborn', 'boy newborn pack', 'boy pack', 'boy piece', 'boy short', 'boy spiderman', 'boy time', 'boy time machine', 'boyfriend', 'boyshort', 'boyshort panty', 'bra', 'bra extender', 'bra pack', 'bra strap', 'bra top', 'bracelet', 'bracelet 25', 'bracelet 75', 'bracelet adjustable', 'bracelet bangle', 'bracelet gift', 'bracelet inch', 'bracelet necklace', 'bracelet one', 'bracelet one size', 'bracelet rhinestone', 'bracelet set', 'bracelet watch', 'bracelet woman', 'bracelet woman teen', 'bradley', 'braided', 'braided belt', 'braided leather', 'bralette', 'brand', 'brand men', 'brand men 361', 'brand woman', 'bravado', 'bravado design', 'bravado design woman', 'braza', 'breaking', 'breaking bad', 'breaking bad men', 'breast', 'breast cancer', 'breasted', 'breathable', 'breathe', 'breckelle', 'breeze', 'breeze woman', 'bridal', 'bridal wedding', 'brief', 'brief color', 'brief color may', 'brief pack', 'brief panty', 'brief panty pack', 'brief underwear', 'bright', 'brilliant', 'brim', 'brinley', 'brinley co', 'brinley co woman', 'british', 'brocade', 'brooch', 'brook', 'brook men', 'brook woman', 'brother', 'brown', 'brown dial', 'brown leather', 'brown leather strap', 'brush', 'brushed', 'brutini', 'brutini men', 'bslingerie', 'bslingerie woman', 'bubble', 'bucket', 'bucket hat', 'buckle', 'buddha', 'buddha woman', 'buddhist', 'bugaboot', 'built', 'bulk', 'bullet', 'bulova', 'bundle', 'bundle monster', 'bundle monster woman', 'burnout', 'business', 'bust', 'bustier', 'butt', 'butterfly', 'button', 'button front', 'button ring', 'buxton', 'buxton heiress', 'ca', 'cable', 'cable chain', 'cable knit', 'cable tie', 'cabrillo', 'cabrillo universal', 'caddy', 'caddy bay', 'caddy bay collection', 'caf', 'caftan', 'calendar', 'calf', 'calf boot', 'cali', 'cali woman', 'cali woman rumblers', 'california', 'california costume', 'california costume men', 'california costume woman', 'calvin', 'calvin klein', 'calvin klein jean', 'calvin klein men', 'calvin klein woman', 'camera', 'cami', 'camisole', 'camo', 'camo shirt', 'camouflage', 'camp', 'camper', 'cancer', 'candy', 'candy color', 'candy handcrafted', 'cantina', 'canvas', 'canvas messenger', 'canvas military', 'canvas military web', 'canvas woman', 'cap', 'cap hat', 'cap set', 'cap sleeve', 'capacity', 'cape', 'capezio', 'capezio girl', 'capezio girl team', 'capezio woman', 'captain', 'captain america', 'car', 'car coat', 'carat', 'carat round', 'carat total', 'carat total weight', 'carbide', 'carbon', 'carbon fiber', 'carbon fiber inlay', 'card', 'card case', 'card holder', 'card id', 'card wallet', 'cardigan', 'cardigan shawl', 'cardigan sweater', 'care', 'caress', 'cargo', 'cargo pant', 'cargo scrub', 'cargo scrub pant', 'cargo short', 'cargo work', 'carhartt', 'carhartt men', 'carhartt men arctic', 'carhartt men big', 'carhartt men pack', 'carhartt men relaxed', 'carhartt men signature', 'carhartt men washed', 'carhartt men workwear', 'carhartt woman', 'carnival', 'carnival woman', 'carpenter', 'carpenter jean', 'carrie', 'carry', 'carrying', 'carrying case', 'carter', 'carter baby', 'cartilage', 'cartilage earring', 'cartilage nose', 'cartilage nose lip', 'carved', 'case', 'case dial', 'case lock', 'cashmere', 'cashmere feel', 'cashmere feel men', 'cashmere lined', 'cashmere long', 'cashmere long sleeve', 'cashmere neck', 'cashmerlon', 'casio', 'casio men', 'casio men aw80v', 'casio men ft500wvb', 'casio men mq24', 'casio men pro', 'casio men shock', 'casio men solar', 'casio men xl', 'casio shock', 'casio woman', 'casio woman lrw200h', 'casio woman ltp1165a', 'casio woman lws200h', 'casio wristwatch', 'casio wristwatch model', 'caslynn', 'castaway', 'casual', 'casual belt', 'casual classic', 'casual comfort', 'casual cotton', 'casual cotton crew', 'casual crew', 'casual jean', 'casual leather', 'casual moment', 'casual moment woman', 'casual slim', 'casual slim fit', 'casual tunic', 'casual tunic shirt', 'casual watch', 'cat', 'cat eye', 'cat eye sunglass', 'catalina', 'catcher', 'caterpillar', 'caterpillar men', 'cb', 'cedar', 'celebrity', 'cell', 'celtic', 'celtic knot', 'celtic knot dragon', 'center', 'ceramic', 'ceramic bracelet', 'ceramic bracelet watch', 'ceramic style', 'ceramic watch', 'certified', 'chain', 'chain 14', 'chain 14 40', 'chain bracelet', 'chain bracelet one', 'chain link', 'chain necklace', 'chain necklace 14', 'chain necklace 16', 'chain necklace 18', 'chain necklace length', 'chambray', 'champion', 'champion big boy', 'champion men', 'champion men double', 'champion men jersey', 'champion men long', 'champion men pack', 'champion men tech', 'champion woman', 'champion woman absolute', 'champion woman double', 'champion woman favorite', 'champion woman fitness', 'champion woman pack', 'champion woman powertrain', 'champion woman shape', 'champion woman training', 'chandelier', 'chandelier earring', 'change', 'channel', 'channel set', 'charged', 'charged cotton', 'charger', 'charging', 'charity', 'charles', 'charles river', 'charles river apparel', 'charlie', 'charlotte', 'charm', 'charm bead', 'charm bead woman', 'charm bracelet', 'charm bracelet 25', 'charm bracelet woman', 'charm european', 'charm fit', 'charm locket', 'charm necklace', 'charm pendant', 'charm woman', 'charm woman teen', 'charmed', 'charmed feeling', 'charmed feeling murano', 'charmeuse', 'check', 'checkbook', 'checkbook cover', 'checkbook wallet', 'cheeky', 'cheeky panty', 'cheetah', 'chef', 'chef work', 'chelsea', 'chemise', 'cherokee', 'cherokee woman', 'cherokee woman neck', 'chest', 'chevron', 'chic', 'chic vintage', 'chic woman', 'chief', 'chiffon', 'chiffon blouse', 'chiffon dress', 'child', 'child costume', 'child pendant', 'child pendant necklace', 'chill', 'chin', 'chinchilla', 'chinese', 'chinese laundry', 'chinese laundry woman', 'chino', 'chino pant', 'chino short', 'chip', 'chocolate', 'choice', 'choice color', 'choice sterling', 'choice sterling gold', 'choker', 'choker necklace', 'choose', 'chop', 'chop mall', 'chris', 'christian', 'christmas', 'chrome', 'chrome plated', 'chrono', 'chrono alarm', 'chrono alarm timer', 'chronograph', 'chronograph 18k', 'chronograph 18k gold', 'chronograph dial', 'chronograph dial stainless', 'chronograph resin', 'chronograph silicone', 'chronograph stainless', 'chronograph stainless steel', 'chronograph watch', 'chuck', 'chuck taylor', 'chuck taylor star', 'chukka', 'chukka boot', 'chunky', 'churn', 'chuvora', 'chuvora 925', 'chuvora 925 sterling', 'cinch', 'cinch belt', 'cincher', 'cincher bustier', 'cincher bustier boned', 'circle', 'circle pendant', 'circle pendant necklace', 'circle scarf', 'circle sunglass', 'circuit', 'citizen', 'citizen men', 'citizen men eco', 'citizen watch', 'citizen watch men', 'citizen woman', 'citizen woman eco', 'city', 'citysafe', 'ck', 'ck one', 'cl', 'cl chinese', 'cl chinese laundry', 'claddagh', 'clarity', 'clarity 18', 'clark', 'clark lexi', 'clark men', 'clark men un', 'clark original', 'clark original men', 'clark rfid', 'clark woman', 'clark woman artisan', 'clark woman ashland', 'clark woman caslynn', 'clark woman chris', 'clark woman clark', 'clark woman ella', 'clark woman haley', 'clark woman ina', 'clark woman kessa', 'clark woman latin', 'clark woman lexi', 'clark woman leyden', 'clark woman loyal', 'clark woman sugar', 'clark woman un', 'clark woman wave', 'clasp', 'clasp converter', 'class', 'classic', 'classic 30', 'classic 30 mid', 'classic analog', 'classic analog watch', 'classic casual', 'classic clog', 'classic cotton', 'classic crew', 'classic design', 'classic digital', 'classic fit', 'classic fit flat', 'classic fit jean', 'classic high', 'classic leather', 'classic lightweight', 'classic men', 'classic neck', 'classic nylon', 'classic nylon nato', 'classic pant', 'classic round', 'classic running', 'classic running shoe', 'classic sneaker', 'classic watch', 'classy', 'classy vintage', 'claw', 'cleaner', 'cleaning', 'clear', 'clear crystal', 'clear cubic', 'clear cubic zirconia', 'clear cz', 'clear iced', 'clearance', 'clearance glass', 'cleat', 'cleo', 'cleo woman', 'cliff', 'cliff mountain', 'cliff mountain cliff', 'climalite', 'clip', 'cloche', 'clockwork', 'clockwork synergy', 'clockwork synergy classic', 'clog', 'clog slipper', 'cloris', 'cloris murphy', 'close', 'close umbrella', 'closed', 'closed back', 'closed bottom', 'closed toe', 'closure', 'cloth', 'cloth ripstop', 'cloth ripstop series', 'clothes', 'clothing', 'clover', 'clover pendant', 'clover pendant necklace', 'club', 'clubwear', 'cluster', 'clutch', 'cnx', 'co', 'co men', 'co woman', 'coast', 'coat', 'cobb', 'cobb hill', 'cobb hill woman', 'cobbler', 'cobra', 'cocktail', 'cocktail dress', 'cocktail dress made', 'cocktail party', 'cohesion', 'cohesion running', 'cohesion running shoe', 'coin', 'coin purse', 'cold', 'cold weather', 'cold weather boot', 'coldgear', 'cole', 'cole haan', 'cole haan men', 'cole haan woman', 'cole new', 'cole new york', 'cole reaction', 'cole reaction men', 'cole reaction woman', 'collar', 'collar necklace', 'collar shirt', 'collar stay', 'collection', 'collection 14k', 'collection 14k ball', 'collection 18k', 'collection 18k gold', 'collection chronograph', 'collection chronograph dial', 'collection chronograph watch', 'collection crystal', 'collection crystal accented', 'collection stainless', 'collection stainless steel', 'collection woman', 'college', 'color', 'color avail', 'color available', 'color backless', 'color backless strapless', 'color block', 'color crystal', 'color cubic', 'color cubic zirconia', 'color flat', 'color i2', 'color i2 i3', 'color i3', 'color i3 clarity', 'color may', 'color may vary', 'color model', 'color one', 'color one size', 'color pump', 'color size', 'color style', 'colorblock', 'colorblock casual', 'colorblock casual tunic', 'colored', 'colorful', 'colorful crystal', 'columbia', 'columbia big', 'columbia big girl', 'columbia men', 'columbia men baddabing', 'columbia men big', 'columbia men ridge', 'columbia men techsun', 'columbia sportswear', 'columbia sportswear woman', 'columbia woman', 'columbia woman pfg', 'com', 'com exclusive', 'combat', 'combat boot', 'combination', 'combo', 'come', 'come box', 'come free', 'come free gift', 'comfort', 'comfort cotton', 'comfort cotton stretch', 'comfort fit', 'comfort fit 8mm', 'comfort fit high', 'comfort fit wedding', 'comfort flex', 'comfort flex waistband', 'comfort revolution', 'comfort slip', 'comfort woman', 'comfortable', 'comfortblend', 'comfortflex', 'comfortshape', 'comfortsoft', 'comfortsoft cotton', 'comfortsoft cotton stretch', 'comfy', 'comic', 'comp', 'compact', 'company', 'compartment', 'compass', 'compatible', 'complete', 'compression', 'compression shirt', 'compression short', 'compression short length', 'concept', 'connoisseur', 'contend', 'contend running', 'contend running shoe', 'contour', 'contour bra', 'contour pouch', 'contrast', 'control', 'control slip', 'control top', 'converse', 'converse chuck', 'converse chuck taylor', 'converter', 'convertible', 'cool', 'cool comfort', 'cool comfort cotton', 'coolmax', 'coolmesh', 'coolmesh ii', 'coquette', 'cord', 'cord necklace', 'corduroy', 'corduroy pant', 'core', 'core 925', 'core 925 sterling', 'core european', 'core ox', 'core spacer', 'core spacer bead', 'corset', 'corset top', 'corso', 'corso como', 'corso como woman', 'cosmetic', 'cosplay', 'cosplay festival', 'cosplay party', 'cosplay wig', 'costume', 'costume accessory', 'costume co', 'costume cosplay', 'costume culture', 'costume culture woman', 'costume deluxe', 'costume hat', 'costume kit', 'costume large', 'costume mask', 'costume men', 'costume men adult', 'costume party', 'costume set', 'costume shirt', 'costume small', 'costume toy', 'costume woman', 'cotton', 'cotton bikini', 'cotton bikini panty', 'cotton blend', 'cotton blouse', 'cotton boyshort', 'cotton brief', 'cotton brief panty', 'cotton classic', 'cotton crew', 'cotton crew sock', 'cotton flannel', 'cotton fleece', 'cotton handkerchief', 'cotton hi', 'cotton hi cut', 'cotton hipster', 'cotton jersey', 'cotton legging', 'cotton long', 'cotton long sleeve', 'cotton men', 'cotton men shirt', 'cotton pack', 'cotton robe', 'cotton shirt', 'cotton show', 'cotton show sock', 'cotton spandex', 'cotton stretch', 'cotton stretch bikini', 'cotton stretch boy', 'cotton tank', 'cotton top', 'cotton twill', 'cotton twill cap', 'cotton underwire', 'country', 'country walking', 'country walking shoe', 'couple', 'couple wedding', 'couple wedding band', 'couture', 'couture elegant', 'couture elegant reversible', 'cover', 'coverage', 'coverage bra', 'coverage underwire', 'coverage underwire bra', 'coverall', 'covered', 'covered gold', 'covered gold pushbacks', 'coverup', 'cowboy', 'cowboy boot', 'cowboy cut', 'cowboy hat', 'cowgirl', 'cowhide', 'cowl', 'cowl neck', 'cozy', 'cradle', 'cradle woman', 'crafted', 'crazy', 'crazy girl', 'crazy girl woman', 'created', 'created gemstone', 'creation', 'creative', 'credit', 'credit card', 'credit card holder', 'credit card wallet', 'creek', 'creek travel', 'creek travel gear', 'creeper', 'crew', 'crew athletic', 'crew athletic sock', 'crew neck', 'crew neck shirt', 'crew neck tee', 'crew pack', 'crew pack sock', 'crew shirt', 'crew sock', 'crew sock pack', 'crew sock pair', 'crewneck', 'crewneck sweatshirt', 'crinkle', 'crinkle scarf', 'crinoline', 'criss', 'criss cross', 'croakies', 'crocband', 'crocband ii', 'crochet', 'crocs', 'crocs kid', 'crocs kid crocband', 'crocs men', 'crocs men woman', 'crocs unisex', 'crocs unisex duet', 'crocs woman', 'crocs woman berryessa', 'crocs woman cobbler', 'crocs woman cyprus', 'crocs woman kadee', 'crocs woman leigh', 'crocs woman melbourne', 'crocs woman patricia', 'crop', 'crop top', 'cropped', 'cross', 'cross body', 'cross body bag', 'cross body handbag', 'cross pendant', 'cross pendant necklace', 'cross trainer', 'cross training', 'cross training shoe', 'crossbody', 'crossbody bag', 'crossover', 'crotch', 'crotchless', 'crotchless lace', 'crotchless panty', 'crown', 'cruise', 'cruz', 'crystal', 'crystal accented', 'crystal accented gold', 'crystal accented watch', 'crystal ball', 'crystal ball bead', 'crystal ball pendant', 'crystal bead', 'crystal bezel', 'crystal heart', 'crystal heart shape', 'crystal leverback', 'crystal leverback drop', 'crystal leverback handmade', 'crystal necklace', 'crystal pendant', 'crystal pendant necklace', 'crystal rhinestone', 'ct', 'ctm', 'ctm men', 'ctm men elastic', 'ctm woman', 'cttw', 'cttw color', 'cttw color i2', 'cttw color i3', 'ctw', 'cuban', 'cubavera', 'cubavera men', 'cube', 'cubic', 'cubic zirconia', 'cubic zirconia cz', 'cubic zirconia engagement', 'cubic zirconia halo', 'cubic zirconia pendant', 'cubic zirconia ring', 'cubic zirconia stud', 'cuddl', 'cuddl dud', 'cuddl dud woman', 'cuddly', 'cuddly bodysuit', 'cuff', 'cuff bracelet', 'cuff sock', 'cuffed', 'cufflink', 'culture', 'culture woman', 'cumulus', 'cup', 'cup bra', 'cupcake', 'curve', 'curve skinny', 'curve skinny jean', 'curvy', 'curvy bootcut', 'curvy bootcut jean', 'curvy kate', 'curvy kate woman', 'curvy skinny', 'curvy skinny jean', 'cushe', 'cushe woman', 'cushion', 'cushion crew', 'cushion crew sock', 'cushion cut', 'cushion sock', 'cushioned', 'cushioned crew', 'cushrun', 'cushrun running', 'cushrun running shoe', 'custom', 'custom fit', 'custom flex', 'custom flex fit', 'cut', 'cut brief', 'cut brief panty', 'cut cubic', 'cut cubic zirconia', 'cut cz', 'cut earring', 'cut jean', 'cut panty', 'cut rope', 'cut rope chain', 'cut sock', 'cut sock pack', 'cut swarovski', 'cut swarovski zirconia', 'cute', 'cycling', 'cyprus', 'cz', 'cz accented', 'cz accented silicon', 'cz crystal', 'cz eternity', 'cz eternity wedding', 'cz stud', 'cz stud earring', 'cz wedding', 'cz wedding band', 'd2', 'd3', 'd3 classic', 'd3 classic fit', 'dahlia', 'dahlia woman', 'daily', 'daisy', 'dan', 'dan post', 'dance', 'dance sneaker', 'dance woman', 'dancing', 'dangle', 'dangle bead', 'dangle earring', 'dangle hook', 'dangle hook earring', 'daniel', 'daniel green', 'daniel green woman', 'danskin', 'danskin girl', 'danskin woman', 'dansko', 'dansko woman', 'dansko woman professional', 'dare', 'dare wear', 'darice', 'dark', 'dark brown', 'dark grey', 'dark knight', 'dark knight rise', 'darn', 'darn tough', 'darth', 'darth vader', 'dash', 'databank', 'date', 'date expansion', 'date expansion band', 'date feature', 'date leather', 'date leather strap', 'daughter', 'david', 'dawgs', 'day', 'day date', 'dazzlingrock', 'dazzlingrock collection', 'dazzlingrock collection 14k', 'dc', 'dc comic', 'dc men', 'dc shoe', 'dc shoe men', 'dc woman', 'de', 'dead', 'deal', 'dearfoams', 'dearfoams woman', 'deck', 'deco', 'deco style', 'decor', 'deep', 'deep neck', 'deerskin', 'defender', 'del', 'del rossa', 'del rossa men', 'del rossa woman', 'delsey', 'delsey luggage', 'delsey luggage helium', 'deluxe', 'demi', 'demi bra', 'demi curve', 'derby', 'design', 'design infinity', 'design woman', 'designed', 'designer', 'designer inspired', 'detail', 'detailed', 'devon', 'devon jones', 'dg', 'dg eyewear', 'diabetic', 'diadora', 'dial', 'dial leather', 'dial rubber', 'dial rubber watch', 'dial stainless', 'dial stainless steel', 'dial watch', 'diameter', 'diaper', 'dichroic', 'dichroic glass', 'dicky', 'dicky girl', 'dicky girl junior', 'dicky junior', 'dicky men', 'dicky men 13', 'dicky men big', 'dicky men pack', 'dicky men regular', 'dicky men relaxed', 'dicky men short', 'dicky scrub', 'dicky scrub woman', 'dicky woman', 'dicky woman relaxed', 'dicky woman slim', 'diesel', 'diesel men', 'diff', 'diff color', 'diff color avail', 'different', 'different color', 'different color available', 'digi', 'digital', 'digital chrono', 'digital chrono alarm', 'digital chronograph', 'digital chronograph watch', 'digital compass', 'digital luggage', 'digital luggage scale', 'digital sport', 'digital sport watch', 'digital watch', 'dinosaur', 'disc', 'disco', 'discontinued', 'discontinued manufacturer', 'disguise', 'disney', 'disney cuddly', 'disney cuddly bodysuit', 'disney little', 'disney little girl', 'display', 'disposable', 'distressed', 'diva', 'dive', 'dive watch', 'diver', 'diver automatic', 'diver collection', 'diver collection chronograph', 'diver dial', 'diver gold', 'diver stainless', 'diver stainless steel', 'dmx', 'docker', 'docker men', 'docker men pack', 'docker woman', 'docker woman soft', 'doctor', 'dog', 'dog woman', 'dolce', 'dolce vita', 'dolce vita woman', 'doll', 'dolman', 'dolphin', 'dome', 'dome couple', 'dome couple wedding', 'dome tarnish', 'dome tarnish resistant', 'domed', 'domed comfort', 'domed comfort fit', 'domed wedding', 'domed wedding band', 'door', 'dora', 'dorfman', 'dorfman pacific', 'dorfman pacific men', 'dot', 'double', 'double dry', 'double dry training', 'double heart', 'double knee', 'double layer', 'double prong', 'double ring', 'double sided', 'double support', 'doublju', 'doublju men', 'doublju men casual', 'doublju men neck', 'doublju woman', 'doug', 'dove', 'dozen', 'dr', 'dr marten', 'dr marten woman', 'dr rey', 'dr rey shapewear', 'dr scholl', 'dr scholl woman', 'dr weil', 'dragon', 'dragonfly', 'drape', 'drape pocket', 'drawstring', 'drawstring backpack', 'drawstring cargo', 'drawstring pant', 'dream', 'dream catcher', 'dreamgirl', 'dreamgirl woman', 'dreamgirl woman plus', 'dreamgirl woman sheer', 'dress', 'dress belt', 'dress boot', 'dress comfort', 'dress cover', 'dress coverup', 'dress made', 'dress made usa', 'dress pant', 'dress pump', 'dress sandal', 'dress shirt', 'dress shoe', 'dress sock', 'dress watch', 'dressing', 'dri', 'dri fit', 'dri power', 'drive', 'drive stainless', 'drive stainless steel', 'driver', 'driving', 'drop', 'drop dangle', 'drop dangle earring', 'drop earring', 'drop earring woman', 'drop shoulder', 'dry', 'dry training', 'dryer', 'drying', 'dslr', 'dual', 'duck', 'duck bib', 'duck carpenter', 'duck carpenter jean', 'dud', 'dud woman', 'duet', 'duffel', 'duffel bag', 'duffle', 'duffle bag', 'dungaree', 'dungaree belted', 'dungaree belted wyoming', 'dungaree relaxed', 'dunham', 'dunham men', 'duofold', 'duofold men', 'duofold men midweight', 'duofold woman', 'durable', 'durafast', 'duramo', 'durango', 'durango lil', 'dust', 'duster', 'dusty', 'duty', 'duty reinforced', 'duty reinforced cushion', 'dv', 'dv dolce', 'dv dolce vita', 'dye', 'dyed', 'dyed cotton', 'dyed cotton twill', 'eagle', 'eagle creek', 'eagle creek travel', 'ear', 'ear cuff', 'ear muff', 'ear stretching', 'ear warmer', 'earbuds', 'earphone', 'earring', 'earring 00', 'earring 00 carat', 'earring 00 cttw', 'earring 10', 'earring 10 cttw', 'earring 14k', 'earring 14k gold', 'earring 5mm', 'earring 6mm', 'earring 8mm', 'earring 925', 'earring 925 sterling', 'earring bracelet', 'earring color', 'earring created', 'earring created swarovski', 'earring crystal', 'earring cttw', 'earring diameter', 'earring gothic', 'earring handmade', 'earring handmade swarovski', 'earring holder', 'earring ip', 'earring ip edge', 'earring jewelry', 'earring made', 'earring made swarovski', 'earring necklace', 'earring pair', 'earring pendant', 'earring set', 'earring silicone', 'earring silicone covered', 'earring sterling', 'earring stud', 'earring woman', 'earring woman teen', 'earth', 'earth woman', 'earthkeepers', 'eastland', 'eastland woman', 'easy', 'easy khaki', 'easy reader', 'easy reader analog', 'easy reader date', 'easy reader day', 'easy spirit', 'easy spirit woman', 'easy street', 'easy street woman', 'easytone', 'ebags', 'ecco', 'ecco men', 'ecco woman', 'eco', 'eco drive', 'eco drive stainless', 'eco fleece', 'eco fleece sweatpant', 'edelman', 'edelman woman', 'edge', 'edifice', 'edition', 'edmonds', 'edmonds men', 'effect', 'egg', 'egg woman', 'el', 'elance', 'elastic', 'elastic belt', 'elastic cinch', 'elastic fabric', 'elastic fabric strap', 'elastic waist', 'electra', 'electric', 'electro', 'elegant', 'elegant moment', 'elegant moment woman', 'elegant reversible', 'elegant reversible paisley', 'element', 'element clear', 'element clear crystal', 'element crystal', 'element multicolor', 'element multicolor crystal', 'elephant', 'elite', 'ella', 'ellazhu', 'elli', 'elli men', 'ellie', 'ellie shoe', 'ellie shoe woman', 'elope', 'elope harry', 'elope harry potter', 'ema', 'ema jane', 'ema jane grosgrain', 'embassy', 'embassy solid', 'embassy solid genuine', 'embellished', 'embossed', 'embossed cotton', 'embossed cotton men', 'embroidered', 'embroidery', 'emma', 'empire', 'empire waist', 'emu', 'emu australia', 'emu australia woman', 'enamel', 'enchantment', 'encore', 'end', 'endless', 'endless hoop', 'endless hoop earring', 'endless necklace', 'endurance', 'energy', 'engagement', 'engagement ring', 'engraved', 'enzo', 'enzo angiolini', 'enzo angiolini woman', 'epoxy', 'equipment', 'escante', 'escante woman', 'espadrille', 'essential', 'essential cotton', 'essential cotton pack', 'essential gold', 'essential plated', 'essential plated sterling', 'eternity', 'eternity ring', 'eternity wedding', 'eternity wedding 3mm', 'etienne', 'etienne aigner', 'etienne aigner woman', 'eu', 'european', 'european bead', 'european bead charm', 'european bracelet', 'european charm', 'european charm bracelet', 'european style', 'european style bead', 'evans', 'evans men', 'evening', 'evening dress', 'ever', 'ever pretty', 'ever pretty woman', 'everest', 'everest luggage', 'everyday', 'evil', 'evil eye', 'evo', 'evogues', 'evogues plus', 'evogues plus size', 'evogues woman', 'exclusive', 'exercise', 'exofficio', 'exofficio men', 'exofficio men give', 'exofficio woman', 'exofficio woman give', 'expandable', 'expandable bracelet', 'expandable spinner', 'expandable waist', 'expandable wheeled', 'expandable wire', 'expansion', 'expansion band', 'expansion band watch', 'expedition', 'expedition classic', 'expedition metal', 'expedition metal field', 'expedition weight', 'expedition weight two', 'explorer', 'exposed', 'exposed waistband', 'express', 'exquisite', 'exquisite form', 'exquisite form fully', 'ext', 'extended', 'extender', 'extra', 'extra capacity', 'extra large', 'extra long', 'extreme', 'eye', 'eye boat', 'eye boat shoe', 'eye owl', 'eye sunglass', 'eyeglass', 'eyewear', 'eyewear oversized', 'eyewear retainer', 'eyewear woman', 'ez', 'fab', 'fab fit', 'fabric', 'fabric strap', 'fabric strap watch', 'fabulous', 'face', 'face mask', 'face shirt', 'facet', 'facet collection', 'faceted', 'factory', 'factory 316l', 'factory 316l stainless', 'fair', 'fair woman', 'fair woman body', 'fair woman illumination', 'fair woman plus', 'fairy', 'fake', 'fall', 'family', 'fancy', 'fanning', 'fantom', 'fantom jewelry', 'fash', 'fashion', 'fashion austrian', 'fashion austrian crystal', 'fashion boot', 'fashion eyewear', 'fashion form', 'fashion form woman', 'fashion girl', 'fashion girl dress', 'fashion jewelry', 'fashion long', 'fashion scarf', 'fashion sneaker', 'fashion sunglass', 'fashion woman', 'fast', 'fast trek', 'fat', 'fatigue', 'faux', 'faux fur', 'faux fur slipper', 'faux leather', 'faux suede', 'favorite', 'feather', 'feature', 'fedora', 'fedora hat', 'feel', 'feeling', 'felina', 'felina woman', 'felt', 'fence', 'fence net', 'festival', 'fever', 'fg', 'fhmz', 'fiber', 'fiber inlay', 'field', 'field watch', 'fieldbrook', 'figaro', 'figaro link', 'figure', 'figure underwire', 'figure underwire bra', 'filigree', 'filigree heart', 'filigree ring', 'filigree teardrop', 'filled', 'filum', 'filum men', 'filum woman', 'filum woman skele', 'fine', 'finger', 'finger ring', 'finger ring hand', 'fingerless', 'fingerless glove', 'finish', 'finish size', 'fiona', 'fire', 'firm', 'firm control', 'first', 'fisherman', 'fisherman sandal', 'fishing', 'fishing outdoor', 'fishing outdoor sport', 'fishnet', 'fit', 'fit 8mm', 'fit cargo', 'fit carpenter', 'fit carpenter jean', 'fit double', 'fit european', 'fit european bracelet', 'fit european charm', 'fit five', 'fit five pocket', 'fit flat', 'fit flat front', 'fit high', 'fit high polish', 'fit jean', 'fit memory', 'fit memory foam', 'fit pack', 'fit pandora', 'fit pant', 'fit plain', 'fit pleated', 'fit pleated pant', 'fit pocket', 'fit pull', 'fit shirt', 'fit short', 'fit solid', 'fit straight', 'fit straight leg', 'fit tube', 'fit tube dress', 'fit wedding', 'fit wedding band', 'fit woman', 'fitflop', 'fitflop woman', 'fitflop woman walkstar', 'fitness', 'fitness walking', 'fitted', 'fitted long', 'five', 'five pocket', 'five pocket jean', 'fivefingers', 'fl', 'fl oz', 'flag', 'flannel', 'flannel lined', 'flannel pajama', 'flannel shirt', 'flap', 'flap hat', 'flare', 'flared', 'flared hem', 'flash', 'flashed', 'flat', 'flat belly', 'flat belly compression', 'flat boot', 'flat front', 'flat front pant', 'flat sandal', 'flat shoe', 'flat woman', 'flattering', 'flawless', 'fleece', 'fleece balaclava', 'fleece ear', 'fleece hooded', 'fleece hoodie', 'fleece jacket', 'fleece lined', 'fleece lined legging', 'fleece lining', 'fleece pant', 'fleece robe', 'fleece sweatpant', 'fleece vest', 'fleece zip', 'fleur', 'flex', 'flex fit', 'flex waistband', 'flexees', 'flexees maidenform', 'flexees maidenform woman', 'flexees woman', 'flexees woman shapewear', 'flexfit', 'flexible', 'flight', 'flip', 'flip flop', 'flip flop men', 'flip flop sandal', 'flop', 'flop men', 'flop sandal', 'floppy', 'flor', 'flor sandal', 'floral', 'floral lace', 'floral print', 'florsheim', 'florsheim men', 'flower', 'flower accent', 'flower pendant', 'flower print', 'flower print scarf', 'flower ring', 'flower style', 'flowy', 'flutter', 'flutter sleeve', 'fly', 'flyaway', 'flying', 'flying fisherman', 'fm42', 'fm42 tone', 'foam', 'foam superior', 'foamtreads', 'fog', 'fog luggage', 'fog men', 'foil', 'fold', 'fold cotton', 'fold cotton spandex', 'fold wallet', 'foldable', 'foldable ballet', 'foldable ballet flat', 'folding', 'foot', 'foot petal', 'foot petal woman', 'foot traffic', 'foot traffic woman', 'footbed', 'footbed waterproof', 'footed', 'footed pajama', 'footed tight', 'footie', 'footies', 'footless', 'footless legging', 'footless tights', 'footwear', 'footwear woman', 'force', 'force collection', 'forced', 'forced entry', 'forever', 'forever heart', 'form', 'form fully', 'form fully woman', 'form woman', 'formal', 'formal dress', 'forum', 'forum novelty', 'forum novelty men', 'forza', 'fossil', 'fossil woman', 'foundation', 'four', 'four leaf', 'four leaf clover', 'fox', 'fox river', 'foxriver', 'frame', 'france', 'france woman', 'franco', 'franco sarto', 'franco sarto woman', 'free', 'free bra', 'free chain', 'free gift', 'free gift box', 'free italy', 'free poplin', 'free poplin solid', 'free size', 'freedom', 'freeform', 'french', 'french terry', 'french toast', 'french wire', 'french wire earring', 'fresh', 'freshiq', 'freshwater', 'freshwater earring', 'freshwater endless', 'freshwater endless necklace', 'freshwater necklace', 'freshwater necklace earring', 'freshwater stud', 'freshwater stud earring', 'freya', 'freya woman', 'frickin', 'friend', 'friend baby', 'friend girl', 'friend men', 'friend woman', 'friendly', 'friendship', 'fringe', 'fringe boot', 'fringed', 'frog', 'frogg', 'frogg toggs', 'front', 'front chino', 'front close', 'front close bra', 'front dress', 'front dress pant', 'front hoodie', 'front pant', 'front pocket', 'front pocket wallet', 'front shirt', 'front short', 'front straight', 'front straight leg', 'front zip', 'fruit', 'fruit loom', 'fruit loom big', 'fruit loom boy', 'fruit loom girl', 'fruit loom little', 'fruit loom men', 'fruit loom toddler', 'fruit loom woman', 'frye', 'frye woman', 'frye woman carson', 'ft500wvb', 'fuji', 'fuji racer', 'full', 'full coverage', 'full coverage bra', 'full coverage underwire', 'full crew', 'full crew sock', 'full cup', 'full cut', 'full figure', 'full figure underwire', 'full fit', 'full grain', 'full hunter', 'full length', 'full rise', 'full rise brief', 'full size', 'full size ironman', 'full size watch', 'full slip', 'full sole', 'full support', 'full toe', 'full zip', 'full zip hood', 'fully', 'fully lined', 'fully woman', 'fulton', 'fun', 'fun express', 'fun world', 'function', 'function sport', 'function sport watch', 'funfash', 'funfash plus', 'funfash plus size', 'funky', 'funny', 'funny animal', 'funny animal sock', 'funny shirt', 'funpals', 'funtasma', 'funtasma pleaser', 'funtasma pleaser woman', 'funtasma woman', 'fur', 'fur animal', 'fur slipper', 'fur trim', 'fur trimmed', 'furry', 'fuschia', 'fusion', 'future', 'fuzzy', 'g2', 'g2 chic', 'g2 chic woman', 'g2 fashion', 'g2 fashion square', 'ga', 'galaxy', 'game', 'gangster', 'garden', 'garden clog', 'garment', 'garment bag', 'garnet', 'garter', 'garter belt', 'gathered', 'gauge', 'gauge 16', 'gauge kit', 'gauzy', 'gauzy cotton', 'gear', 'gear bag', 'gear duffle', 'gear duffle bag', 'gear pack', 'gel', 'gel blur33', 'gel blur33 running', 'gel contend', 'gel contend running', 'gel cumulus', 'gel kahana', 'gel kayano', 'gel lyte33', 'gel nimbus', 'gel noosa', 'gel noosa tri', 'gem', 'gem avenue', 'gem avenue 925', 'gem stone', 'gem stone king', 'gemstone', 'gemstone birthstone', 'gemstone round', 'gemstone round ball', 'gemstone solitaire', 'gemstone stud', 'gemstone stud earring', 'gen', 'gen flex', 'generic', 'geneva', 'geneva cz', 'geneva cz accented', 'geneva silicone', 'geneva woman', 'geneva woman 6886', 'genie', 'genius', 'genuine', 'genuine created', 'genuine lambskin', 'genuine lambskin leather', 'genuine leather', 'genuine solid', 'geoffrey', 'geoffrey beene', 'geoffrey beene men', 'gerber', 'gerber baby', 'gerber baby boy', 'gerber baby girl', 'gerber unisex', 'gerber unisex baby', 'ggi', 'ghost', 'gift', 'gift box', 'gift boxed', 'gift idea', 'gift set', 'gift woman', 'gii', 'gildan', 'gildan men', 'gildan men heavy', 'giorgio', 'giorgio brutini', 'giorgio brutini men', 'giraffe', 'giraffe print', 'giraffe print faux', 'girdle', 'girdle medium', 'girl', 'girl big', 'girl boy', 'girl classic', 'girl cotton', 'girl dress', 'girl dress flower', 'girl dress heart', 'girl flat', 'girl junior', 'girl little', 'girl long', 'girl long sleeve', 'girl newborn', 'girl newborn pack', 'girl pack', 'girl piece', 'girl princess', 'girl seamless', 'girl team', 'girl team basic', 'girl toddler', 'girl ultra', 'girl ultra soft', 'girl woman', 'girl woman getta', 'girl woman lady', 'girlfriend', 'give', 'give go', 'give go lacy', 'gizeh', 'gizeh thong', 'gizeh thong sandal', 'glacier', 'gladiator', 'gladiator sandal', 'gladiator sandal flat', 'glam', 'glamorise', 'glamorise woman', 'glamour', 'glass', 'glass 925', 'glass 925 sterling', 'glass bead', 'glass bead charm', 'glass top', 'glass top jewelry', 'glass window', 'glitz', 'glitz jewelz', 'glossy', 'glove', 'glove trail', 'glove trail running', 'glow', 'glued', 'go', 'go lacy', 'go run', 'go run ride', 'go run running', 'go walk', 'go2bras', 'goddess', 'goddess woman', 'gogh', 'gogo', 'gold', 'gold accent', 'gold bonded', 'gold bonded sterling', 'gold filled', 'gold hoop', 'gold hoop earring', 'gold ion', 'gold ion plated', 'gold ip', 'gold plated', 'gold plated stainless', 'gold plated sterling', 'gold pushbacks', 'gold pushbacks gold', 'gold round', 'gold stainless', 'gold stainless steel', 'gold stud', 'gold toe', 'gold toe men', 'gold toe woman', 'gold tone', 'gold tone bracelet', 'gold tone stainless', 'gold tone watch', 'golden', 'goldtone', 'goldtone clear', 'goldtone clear iced', 'golf', 'golf shoe', 'good', 'gore', 'gore tex', 'gorgeous', 'goson', 'gothic', 'gothic boho', 'gothic boho woman', 'gown', 'grade', 'grain', 'grand', 'graphic', 'graphic print', 'graphite', 'gras', 'grasshopper', 'grasshopper woman', 'great', 'green', 'green one', 'green one size', 'green toy', 'green woman', 'grey', 'grey simulated', 'grid', 'grip', 'grosgrain', 'gt', 'gt 1000', 'gt 1000 running', 'gt 2000', 'gts', 'gtx', 'guard', 'guard ring', 'guard ring size', 'guess', 'guess woman', 'guide', 'gun', 'gym', 'gym bag', 'gypsy', 'gypsy lightweight', 'h2', 'h2 sandal', 'haan', 'haan men', 'haan woman', 'haan woman air', 'haflinger', 'haflinger woman', 'haggar', 'haggar men', 'haggar men work', 'hair', 'hairband', 'haley', 'half', 'half cushion', 'half frame', 'half slip', 'halloween', 'halloween costume', 'halo', 'halter', 'halter smocked', 'halter smocked bodice', 'hamilton', 'hammered', 'hand', 'hand chain', 'hand chain bracelet', 'hand painted', 'hand wind', 'handbag', 'handbag one', 'handbag one size', 'handbag purse', 'handcrafted', 'handkerchief', 'handkerchief set', 'handle', 'handled', 'handmade', 'handmade drop', 'handmade drop earring', 'handmade swarovski', 'handmade swarovski crystal', 'hanes', 'hanes boy', 'hanes girl', 'hanes men', 'hanes men classic', 'hanes men pack', 'hanes men tagless', 'hanes men woven', 'hanes silk', 'hanes silk reflection', 'hanes ultimate', 'hanes ultimate men', 'hanes woman', 'hanes woman comfort', 'hanes woman cool', 'hanes woman cotton', 'hanger', 'hanging', 'hanging toiletry', 'happy', 'harbor', 'harbor woman', 'hard', 'hard case', 'hardside', 'hardsole', 'hardware', 'harem', 'harley', 'harness', 'harriton', 'harriton men', 'harry', 'harry potter', 'harry potter officially', 'hart', 'hat', 'hat company', 'havaianas', 'havaianas woman', 'havaianas woman slim', 'hawaii', 'hawaiian', 'hawaiian shirt', 'hd', 'hd tuff', 'hd tuff cloth', 'hde', 'head', 'headband', 'headphone', 'headphone jack', 'headwear', 'health', 'health walking', 'health walking shoe', 'healthy', 'healthy back', 'healthy back bag', 'heart', 'heart charm', 'heart earring', 'heart locket', 'heart pendant', 'heart pendant necklace', 'heart ring', 'heart shape', 'heart shaped', 'heat', 'heat holder', 'heat holder thermal', 'heatgear', 'heatgear sonic', 'heath', 'heather', 'heathered', 'heavenly', 'heavenly shapewear', 'heavenly shapewear woman', 'heavy', 'heavy blend', 'heavy duty', 'heavyweight', 'hee', 'hee grand', 'heel', 'heel multi', 'heel multi color', 'height', 'heiress', 'helium', 'hello', 'hello kitty', 'helmet', 'hem', 'henley', 'henley shirt', 'heritage', 'hero', 'herringbone', 'heusen', 'heusen men', 'heusen men dress', 'hi', 'hi cut', 'hi cut brief', 'hi cut panty', 'hi tec', 'hi tec men', 'hi tec woman', 'hi waist', 'hibiscus', 'hidden', 'hidden expandable', 'hidden expandable waist', 'high', 'high boot', 'high heel', 'high heel multi', 'high low', 'high performance', 'high polish', 'high polish plain', 'high polish size', 'high polished', 'high riding', 'high riding boot', 'high sierra', 'high sock', 'high stocking', 'high top', 'high waist', 'high waist stretch', 'high waisted', 'hike', 'hiker', 'hiking', 'hiking boot', 'hiking shoe', 'hiking thick', 'hiking thick padded', 'hilfiger', 'hilfiger men', 'hilfiger woman', 'hill', 'hill woman', 'hinged', 'hip', 'hip brief', 'hip scarf', 'hippie', 'hipster', 'hipster pack', 'hipster panty', 'hobo', 'hobo handbag', 'hogwarts', 'hold', 'hold tight', 'holder', 'holder jewelry', 'holder thermal', 'holder thermal sock', 'hole', 'hollow', 'holly', 'hollywood', 'hollywood star', 'hollywood star fashion', 'hollywood woman', 'hood', 'hooded', 'hooded jacket', 'hooded sweatshirt', 'hoodie', 'hoodie hat', 'hoodie jacket', 'hoodie sweatshirt', 'hoody', 'hook', 'hook earring', 'hook loop', 'hoop', 'hoop earring', 'hoop earring diameter', 'hop', 'hope', 'horn', 'horn rimmed', 'horse', 'hose', 'hosiery', 'hot', 'hot hollywood', 'hotel', 'houndstooth', 'hour', 'house', 'hover', 'howlite', 'huarache', 'hue', 'hue woman', 'huggie', 'huggie earring', 'huggie hoop', 'huggie hoop earring', 'hugo', 'hugo bos', 'hugo bos men', 'hunger', 'hunger game', 'hunter', 'hunting', 'hurricane', 'hush', 'hush puppy', 'hush puppy men', 'hush puppy woman', 'hybrid', 'hyperspace', 'hypoallergenic', 'i2', 'i2 i3', 'i2 i3 clarity', 'i3', 'i3 clarity', 'i3 clarity 18', 'ice', 'icebreaker', 'iced', 'iced bow', 'iced cross', 'id', 'id boarding', 'id boarding pas', 'id wallet', 'id window', 'idea', 'ideal', 'ii', 'ii clog', 'ii collection', 'ii collection chronograph', 'ii hiking', 'ii jacket', 'ii sandal', 'ii short', 'iii', 'illumination', 'illuminator', 'illusion', 'imitation', 'impact', 'ina', 'inblue', 'inblue men', 'inc', 'inch', 'inch adjustable', 'inch chain', 'inch expandable', 'inch inseam', 'inch length', 'inch long', 'inch rolo', 'inch rolo chain', 'inch tactical', 'inch wide', 'incharacter', 'included', 'includes', 'indera', 'indera men', 'india', 'indian', 'indiana', 'indiglo', 'indiglo easy', 'indiglo easy reader', 'indoor', 'industrial', 'infant', 'infant toddler', 'infant toddler little', 'infinity', 'infinity loop', 'infinity loop scarf', 'infinity ring', 'infinity scarf', 'infinity symbol', 'initial', 'injinji', 'injinji 2012', 'inlay', 'inseam', 'insert', 'inset', 'inside', 'insole', 'inspire', 'inspired', 'instant', 'insulated', 'insulated boot', 'intensity', 'interchangeable', 'interchangeable strap', 'interior', 'interlock', 'international', 'international men', 'international woman', 'intimate', 'intimate woman', 'intimo', 'intimo men', 'intimo woman', 'invicta', 'invicta men', 'invicta men pro', 'invicta woman', 'invisibelt', 'invisible', 'invisible look', 'ion', 'ion plated', 'ion plated stainless', 'ion plated watch', 'ionix', 'ip', 'ip edge', 'ipanema', 'ipanema woman', 'iridescent', 'irish', 'iron', 'iron essential', 'iron essential khaki', 'ironman', 'ironman classic', 'ironman classic 30', 'ironman sleek', 'ironman sleek 50', 'ironman triathlon', 'island', 'island novelty', 'isotoner', 'isotoner men', 'isotoner men microsuede', 'isotoner woman', 'isotoner woman embroidered', 'isotoner woman microsuede', 'isotoner woman terry', 'ist', 'ist men', 'ist men essential', 'italian', 'italian 925', 'italian 925 sterling', 'italian sterling', 'italy', 'italy 14', 'italy mm', 'italy mm width', 'ity', 'ity fabric', 'iv', 'ivy', 'ivy shi', 'ivy shi woman', 'izod', 'izod men', 'izumi', 'izumi men', 'jack', 'jack adapter', 'jacket', 'jacket coat', 'jacket xl', 'jackie', 'jackson', 'jackson com', 'jackson com exclusive', 'jacobson', 'jacobson hat', 'jacobson hat company', 'jacquard', 'jag', 'jag jean', 'jag jean woman', 'jake', 'jam', 'jambu', 'jambu woman', 'jammer', 'jammer swimsuit', 'jane', 'jane flat', 'jane grosgrain', 'jane pump', 'jane sneaker', 'jane toddler', 'jane toddler little', 'janey', 'jansport', 'japanese', 'jayna', 'jayna slingback', 'jayna slingback flat', 'jazz', 'jazz low', 'jazz low pro', 'jazz sneaker', 'jean', 'jean belt', 'jean legging', 'jean men', 'jean woman', 'jedi', 'jefferies', 'jefferies sock', 'jefferies sock big', 'jefferies sock little', 'jelly', 'jelly watch', 'jersey', 'jersey pant', 'jersey short', 'jersey tee', 'jerzees', 'jerzees men', 'jessica', 'jessica london', 'jessica london woman', 'jessica simpson', 'jessica simpson woman', 'jewel', 'jeweled', 'jewelili', 'jewelili 10kt', 'jewelili 10kt gold', 'jewelrieshop', 'jewelry', 'jewelry 14k', 'jewelry 14k gold', 'jewelry 925', 'jewelry 925 sterling', 'jewelry armoire', 'jewelry box', 'jewelry box case', 'jewelry box faux', 'jewelry bracelet', 'jewelry case', 'jewelry case organizer', 'jewelry cleaner', 'jewelry company', 'jewelry display', 'jewelry earring', 'jewelry gift', 'jewelry gift box', 'jewelry organizer', 'jewelry plain', 'jewelry plain simple', 'jewelry set', 'jewelry stainless', 'jewelry stainless steel', 'jewelry sterling', 'jewelry tree', 'jewelry turkish', 'jewelry turkish glass', 'jewelz', 'jezebel', 'jezebel woman', 'jillian', 'jillian michael', 'jim', 'jimarti', 'jinique', 'jinique str', 'jinique tir', 'jinx', 'jinx minecraft', 'jock', 'jockey', 'jockey men', 'jockey men underwear', 'jockey woman', 'jockey woman underwear', 'joe', 'jogging', 'john', 'johnson', 'johnson woman', 'johnston', 'johnston murphy', 'johnston murphy men', 'joint', 'jones', 'jones new', 'jones new york', 'jordan', 'joseph', 'jotw', 'jotw goldtone', 'jotw piece', 'jotw piece goldtone', 'jotw piece silvertone', 'jotw silvertone', 'journee', 'journee collection', 'journee collection woman', 'joy', 'jr', 'juliet', 'jump', 'jumpsuit', 'junction', 'junction doctor', 'jungle', 'jungle boot', 'jungle moc', 'junior', 'junior 524', 'junior basic', 'junior basic solid', 'junior basic uniform', 'junior color', 'junior fit', 'junior fold', 'junior fold cotton', 'junior plus', 'junior plus size', 'junior shirt', 'junior solid', 'junior solid polo', 'justin', 'justin boot', 'justin boot woman', 'jute', 'kadee', 'kahana', 'kamalikulture', 'kamalikulture woman', 'kamik', 'kamik men', 'kamik woman', 'kanu', 'kanu surf', 'kanu surf men', 'kanu surf woman', 'kate', 'kate woman', 'katgi', 'katgi fashion', 'katgi fashion austrian', 'kayano', 'kayla', 'keds', 'keds woman', 'keds woman champion', 'keen', 'keen men', 'keen woman', 'keen woman mercer', 'keen woman sterling', 'keep', 'keeper', 'keepsake', 'keira', 'kendal', 'kendra', 'kenneth', 'kenneth cole', 'kenneth cole new', 'kenneth cole reaction', 'kessa', 'key', 'key apparel', 'key apparel men', 'keyboard', 'keychain', 'keyhole', 'khaki', 'khaki d3', 'khaki d3 classic', 'khaki pant', 'khaki relaxed', 'kid', 'kid adult', 'kid baby', 'kid big', 'kid big kid', 'kid classic', 'kid costume', 'kid crocband', 'kid crocband ii', 'kid little', 'kid toddler', 'kid toddler pajama', 'kilty', 'kilty suede', 'kim', 'kimono', 'kimono robe', 'kindle', 'kindle paperwhite', 'kindle touch', 'kinetic', 'king', 'king 925', 'king 925 sterling', 'king sterling', 'kinvara', 'kinvara running', 'kinvara running shoe', 'kipling', 'kirkland', 'kiss', 'kit', 'kitten', 'kitty', 'klein', 'klein jean', 'klein jean men', 'klein jean woman', 'klein men', 'klein men body', 'klein men cotton', 'klein men pack', 'klein perfect', 'klein sport', 'klein sport woman', 'klein woman', 'klein woman 10', 'klein woman ak', 'klein woman essential', 'klein woman perfectly', 'klogs', 'klogs footwear', 'klondike', 'knee', 'knee high', 'knee high boot', 'knee high riding', 'knee high sock', 'knee length', 'knee pant', 'knee sock', 'knee thigh', 'knee thigh high', 'knee work', 'knee work pant', 'knight', 'knight rise', 'knit', 'knit beanie', 'knit boxer', 'knit hat', 'knit infinity', 'knit leg', 'knit leg warmer', 'knit neck', 'knit pajama', 'knit pant', 'knit scarf', 'knit short', 'knit sock', 'knit thermal', 'knit top', 'knitted', 'knitting', 'knot', 'knot dragon', 'knot dragon inlay', 'knot front', 'koh', 'koh koh', 'konov', 'konov 2mm', 'konov 2pcs', 'konov 2pcs men', 'konov jewelry', 'konov jewelry stainless', 'konov stainless', 'konov stainless steel', 'konov vintage', 'konov vintage stainless', 'kooljewelry', 'kooljewelry sterling', 'kooljewelry sterling mm', 'kor', 'kor men', 'kor woman', 'kurti', 'kylie', 'la', 'lab', 'label', 'label woman', 'lace', 'lace back', 'lace bikini', 'lace boot', 'lace boyshort', 'lace corset', 'lace dress', 'lace elastic', 'lace elastic tie', 'lace fashion', 'lace fashion sneaker', 'lace garter', 'lace garter belt', 'lace hipster', 'lace long', 'lace mini', 'lace mini dress', 'lace oxford', 'lace pair', 'lace pair pack', 'lace panty', 'lace ruffle', 'lace running', 'lace running shoe', 'lace shoe', 'lace smooth', 'lace sneaker', 'lace thong', 'lace top', 'lace top thigh', 'lace trim', 'lace underwire', 'lace underwire bra', 'lace waistband', 'laced', 'lacy', 'lacy skamp', 'lacy skamp hikini', 'lady', 'lady girl', 'lady leather', 'lady long', 'lady long sleeve', 'lady oz', 'lady sheer', 'lady sheer mini', 'lady tote', 'lady tote shoulder', 'lady watch', 'lady woman', 'lady woman wrist', 'lake', 'lambskin', 'lambskin leather', 'lamo', 'lampwork', 'landen', 'landen woman', 'lander', 'lap', 'lap shoulder', 'lap watch', 'lapel', 'laptop', 'laptop backpack', 'laredo', 'laredo men', 'large', 'large 12', 'large compartment', 'large face', 'large large', 'large oversized', 'large round', 'large round face', 'large shoulder', 'large size', 'large tote', 'large watch', 'larry', 'larry levine', 'larry levine woman', 'laser', 'laser cut', 'laser cut metal', 'lasting', 'lat', 'latex', 'latin', 'lattice', 'laugh', 'laundry', 'laundry woman', 'laurel', 'laurel burch', 'lauren', 'lauren men', 'lauren ralph', 'lauren ralph lauren', 'lauren woman', 'lavender', 'lay', 'lay flat', 'lay flat woman', 'layer', 'layer premier', 'layer premier leather', 'layer thermal', 'layered', 'layering', 'le', 'le mystere', 'le mystere woman', 'leading', 'leading lady', 'leading lady woman', 'leaf', 'leaf clover', 'leaf clover pendant', 'learn', 'leather', 'leather 48', 'leather 48 section', 'leather ballet', 'leather band', 'leather belt', 'leather bi', 'leather bi fold', 'leather bifold', 'leather bifold wallet', 'leather bracelet', 'leather bracelet collection', 'leather bracelet lady', 'leather casual', 'leather checkbook', 'leather checkbook wallet', 'leather clog', 'leather cord', 'leather cord necklace', 'leather display', 'leather display glass', 'leather double', 'leather flip', 'leather flip flop', 'leather glove', 'leather inch', 'leather jewelry', 'leather jewelry box', 'leather lady', 'leather lady tote', 'leather loafer', 'leather men', 'leather mesh', 'leather mesh inset', 'leather mini', 'leather money', 'leather nylon', 'leather oxford', 'leather oxford dress', 'leather purse', 'leather reversible', 'leather reversible belt', 'leather rope', 'leather sandal', 'leather shoe', 'leather slim', 'leather steel', 'leather strap', 'leather strap watch', 'leather thin', 'leather tote', 'leather tote shoulder', 'leather wallet', 'leather watch', 'leather woman', 'leather zip', 'leathercraft', 'led', 'led digital', 'led light', 'led shoelace', 'led shoelace light', 'led watch', 'ledge', 'lee', 'lee men', 'lee men big', 'lee men dungaree', 'lee men regular', 'lee uniform', 'lee uniform men', 'lee woman', 'lee woman classic', 'lee woman comfort', 'lee woman perfect', 'lee woman petite', 'lee woman plus', 'lee woman relaxed', 'lee woman slender', 'leegoal', 'left', 'left ear', 'leg', 'leg avenue', 'leg avenue woman', 'leg boxer', 'leg boxer brief', 'leg jean', 'leg pant', 'leg warmer', 'legend', 'legendary', 'legging', 'legging cotton', 'legging jean', 'legging pant', 'legging tights', 'lego', 'legwear', 'legwear woman', 'leia', 'leia costume', 'leigh', 'leisa', 'leisure', 'length', 'length 14', 'length 14 16', 'length footless', 'length girdle', 'length girdle medium', 'lens', 'leopard', 'leopard print', 'leotard', 'lesportsac', 'letter', 'level', 'level apparel', 'level woman', 'lever', 'lever back', 'leverback', 'leverback dangle', 'leverback dangle earring', 'leverback drop', 'leverback drop earring', 'leverback earring', 'leverback handmade', 'leverback handmade drop', 'leverback round', 'leverback round gemstone', 'leveret', 'leveret kid', 'leveret kid toddler', 'levi', 'levi big', 'levi big boy', 'levi big girl', 'levi boy', 'levi junior', 'levi junior 524', 'levi men', 'levi men 100', 'levi men 501', 'levi men 511', 'levi men 514', 'levi men ace', 'levi men big', 'levi men leather', 'levi woman', 'levi woman 512', 'levi woman 515', 'levi woman 524', 'levi woman 529', 'levi woman classic', 'levi woman mid', 'levi woman petite', 'levi woman plus', 'levine', 'levine woman', 'lewis', 'lewis clark', 'lewis clark rfid', 'lexi', 'leyden', 'libbysue', 'libbysue silk', 'library', 'library collection', 'licensed', 'lido', 'life', 'life khaki', 'life lycra', 'lifestride', 'lifestride woman', 'lifestyle', 'lift', 'lift bra', 'lift full', 'lift full figure', 'lift spinner', 'light', 'light control', 'light crew', 'light hiking', 'light hiking thick', 'light running', 'light running thin', 'light shoe', 'light sneaker', 'light sneaker little', 'light weight', 'lightly', 'lightly lined', 'lightweight', 'lightweight satin', 'lightweight satin robe', 'lightweight slim', 'lightweight slim fit', 'like', 'likemary', 'likemary harem', 'lil', 'lila', 'lila earring', 'lila earring ring', 'lily', 'lily france', 'lily france woman', 'lilyette', 'lilyette bali', 'lilyette bali woman', 'lilyette woman', 'lilyette woman enchantment', 'lime', 'limited', 'lindsay', 'lindsay phillips', 'lindsay phillips woman', 'lindy', 'lindy bop', 'lindy bop audrey', 'lindy bop woman', 'line', 'line slimming', 'line slip', 'linear', 'lined', 'lined clog', 'lined duck', 'lined glove', 'lined legging', 'lined sandstone', 'lined sweatshirt', 'lined yukon', 'liner', 'liner sock', 'lingerie', 'lingstar', 'lingstar tm', 'lining', 'link', 'link band', 'link bracelet', 'link chain', 'link chain necklace', 'link remover', 'link watch', 'link watch large', 'lion', 'lip', 'liquid', 'liroyal', 'lite', 'lite sandal', 'lites', 'lites inch', 'lites inch tactical', 'little', 'little adventure', 'little baby', 'little boy', 'little boy spiderman', 'little girl', 'little kid', 'little kid big', 'live', 'liz', 'lizard', 'lo', 'load', 'loafer', 'loafer smoking', 'lobster', 'lobster clasp', 'lock', 'locket', 'locket necklace', 'locket pendant', 'locket pendant necklace', 'locomo', 'locomo woman', 'locs', 'logger', 'logo', 'logo shirt', 'lolita', 'lollipop', 'london', 'london fog', 'london fog luggage', 'london fog men', 'london woman', 'london woman plus', 'long', 'long cami', 'long chain', 'long chain necklace', 'long cosplay', 'long cosplay party', 'long dress', 'long gown', 'long handle', 'long handled', 'long john', 'long leg', 'long leg boxer', 'long legging', 'long legging cotton', 'long line', 'long maxi', 'long necklace', 'long pant', 'long robe', 'long satin', 'long scarf', 'long skirt', 'long sleeve', 'long sleeve blouse', 'long sleeve button', 'long sleeve cardigan', 'long sleeve crew', 'long sleeve dress', 'long sleeve jersey', 'long sleeve leotard', 'long sleeve neck', 'long sleeve open', 'long sleeve pajama', 'long sleeve pullover', 'long sleeve rashguard', 'long sleeve scoop', 'long sleeve shirt', 'long sleeve snap', 'long sleeve tee', 'long sleeve thermal', 'long sleeve top', 'long sleeve tunic', 'long sleeve turtleneck', 'long sleeve work', 'long sleeved', 'longer', 'longer length', 'longline', 'look', 'look thigh', 'look thigh high', 'loom', 'loom big', 'loom big boy', 'loom big girl', 'loom boy', 'loom girl', 'loom girl cotton', 'loom little', 'loom little boy', 'loom men', 'loom men boxer', 'loom men pack', 'loom men pocket', 'loom men shirt', 'loom toddler', 'loom toddler boy', 'loom woman', 'loom woman 10', 'loom woman pack', 'loom woman plus', 'loop', 'loop backpack', 'loop scarf', 'loose', 'loose fit', 'loose tunic', 'lord', 'lorelei', 'lorenzo', 'lot', 'lotus', 'lounge', 'lounge pajama', 'lounge pant', 'lounge sleep', 'love', 'love curve', 'love heart', 'love knot', 'love pendant', 'love pendant necklace', 'lovefifi', 'lovefifi woman', 'lovely', 'lover', 'lovers2009', 'lovers2009 retro', 'loving', 'loving family', 'low', 'low cut', 'low cut neck', 'low cut sock', 'low heel', 'low pro', 'low pro vegan', 'low profile', 'low profile dyed', 'low rise', 'low rise brief', 'low top', 'low top sneaker', 'loyal', 'lrw200h', 'ltp1165a', 'lucky', 'lucky brand', 'lucky brand men', 'lucky brand woman', 'lug', 'luggage', 'luggage aspire', 'luggage aspire sport', 'luggage citysafe', 'luggage coversafe', 'luggage fieldbrook', 'luggage helium', 'luggage hyperspace', 'luggage hyperspace spinner', 'luggage lock', 'luggage maxlite', 'luggage metrosafe', 'luggage one', 'luggage one size', 'luggage rfid', 'luggage rfid blocking', 'luggage rolling', 'luggage scale', 'luggage set', 'luggage spinner', 'luggage spinner wheel', 'luggage splash', 'luggage tag', 'luks', 'luks woman', 'lulu', 'lunaire', 'lunaire woman', 'lunaire woman plus', 'lunar', 'lupah', 'luscious', 'luvable', 'luvable friend', 'luvable friend baby', 'luvable friend girl', 'lux', 'luxe', 'luxurious', 'luxury', 'luxury mask', 'luxury mask woman', 'luxury skeleton', 'lws200h', 'lycra', 'lyte33', 'machine', 'machine analog', 'machine analog elastic', 'machine washable', 'macrame', 'mad', 'madden', 'madden girl', 'madden girl woman', 'madden legwear', 'madden legwear woman', 'madden men', 'madden woman', 'made', 'made italy', 'made swarovski', 'made swarovski crystal', 'made swarovski element', 'made swarovski zirconia', 'made turkey', 'made usa', 'madison', 'magic', 'magiclift', 'magnetic', 'magnetic clasp', 'magnetic clasp converter', 'maiden', 'maidenform', 'maidenform flexees', 'maidenform flexees woman', 'maidenform woman', 'maidenform woman dream', 'maidenform woman one', 'maidenform woman pure', 'majdell', 'majdell sport', 'majdell sport men', 'mako', 'mala', 'malco', 'malco mode', 'male', 'mall', 'mama', 'mama cowl', 'mama cowl neck', 'man', 'manitobah', 'manitobah mukluks', 'manitobah mukluks woman', 'mantra', 'manufacturer', 'many', 'many color', 'many color available', 'maple', 'mapofbeauty', 'marathon', 'mardi', 'mardi gras', 'maria', 'marina', 'marine', 'mariner', 'marten', 'marten woman', 'marvel', 'marvel captain', 'marvel captain america', 'marvel men', 'marware', 'mary', 'mary jane', 'mary jane flat', 'mary jane pump', 'mary jane sneaker', 'mary jane toddler', 'maryjane', 'mask', 'mask woman', 'masquerade', 'master', 'mat', 'match', 'match men', 'match men cargo', 'matching', 'mate', 'material', 'maternity', 'maternity bra', 'maternity dress', 'maternity nursing', 'maternity nursing bra', 'maternity woman', 'matte', 'matte finish', 'matte finish size', 'maui', 'max', 'max support', 'maxi', 'maxi dress', 'maxi evening', 'maxi skirt', 'maxlite', 'maxpedition', 'may', 'may vary', 'mayari', 'mayari birko', 'mayari birko flor', 'maze', 'mbox', 'mbox vintage', 'mbox vintage design', 'mbt', 'mbt woman', 'mechanical', 'med', 'medical', 'meditation', 'medium', 'medium duffel', 'medium large', 'medium wide', 'melbourne', 'melbourne ii', 'mele', 'mele co', 'mele co lila', 'melissa', 'melissa doug', 'melton', 'melton peacoat', 'memory', 'memory foam', 'memory foam superior', 'men', 'men 10', 'men 100', 'men 100 cotton', 'men 12', 'men 13', 'men 13 inch', 'men 2nd', 'men 2nd shift', 'men 361', 'men 361 vintage', 'men 40', 'men 501', 'men 501 original', 'men 511', 'men 511 slim', 'men 514', 'men 514 straight', 'men ace', 'men ace cargo', 'men adult', 'men air', 'men alloy', 'men alloy genuine', 'men american', 'men american heritage', 'men arctic', 'men arctic quilt', 'men athletic', 'men automatic', 'men aw80v', 'men baddabing', 'men barracuda', 'men base', 'men basic', 'men basic cotton', 'men big', 'men big tall', 'men body', 'men body modal', 'men boot', 'men bow', 'men bow tie', 'men boxer', 'men boxer brief', 'men bracelet', 'men braided', 'men braided belt', 'men bugaboot', 'men button', 'men camper', 'men canvas', 'men captain', 'men cargo', 'men casual', 'men casual leather', 'men casual slim', 'men cathedral', 'men cathedral peak', 'men charged', 'men charged cotton', 'men classic', 'men classic fit', 'men comfort', 'men comfort fit', 'men cool', 'men core', 'men cotton', 'men cotton handkerchief', 'men cotton stretch', 'men cowboy', 'men cowboy cut', 'men crew', 'men cushion', 'men cushion bounce', 'men diameter', 'men double', 'men double dry', 'men double prong', 'men dress', 'men dress shirt', 'men dri', 'men dri power', 'men dungaree', 'men dungaree belted', 'men earthkeepers', 'men easy', 'men easy khaki', 'men easy reader', 'men eco', 'men eco drive', 'men el', 'men elastic', 'men energy', 'men enforcer', 'men essential', 'men essential cotton', 'men expedition', 'men expedition weight', 'men extra', 'men extra capacity', 'men fashion', 'men faux', 'men faux leather', 'men fitted', 'men flannel', 'men flat', 'men flat front', 'men fleece', 'men frickin', 'men ft500wvb', 'men full', 'men full zip', 'men gel', 'men gel cumulus', 'men gel kayano', 'men gel noosa', 'men genuine', 'men genuine leather', 'men genuine regular', 'men ghost', 'men give', 'men give go', 'men go', 'men go run', 'men gt', 'men gx', 'men heatgear', 'men heatgear sonic', 'men heathered', 'men heavy', 'men heavy blend', 'men heavy duty', 'men heavyweight', 'men heritage', 'men inch', 'men industrial', 'men jazz', 'men jazz low', 'men jersey', 'men knit', 'men leather', 'men leather display', 'men leather reversible', 'men leather zip', 'men lightweight', 'men long', 'men long sleeve', 'men loose', 'men loose fit', 'men low', 'men luxury', 'men melton', 'men micro', 'men microsuede', 'men mid', 'men mid weight', 'men midweight', 'men military', 'men moab', 'men moc', 'men modern', 'men mountain', 'men mq24', 'men multi', 'men mx608v3', 'men mx608v3 cross', 'men neck', 'men neck shirt', 'men neck sweater', 'men necklace', 'men necklace chain', 'men never', 'men never iron', 'men new', 'men one', 'men original', 'men original shoe', 'men oz', 'men pack', 'men pack boxer', 'men pack calf', 'men pack classic', 'men pack cotton', 'men pack crew', 'men pack full', 'men pack heavy', 'men pack performance', 'men pack ultimate', 'men pack yarn', 'men passcase', 'men performance', 'men performance cotton', 'men piece', 'men pleated', 'men pocket', 'men pocket crew', 'men premium', 'men pro', 'men pro diver', 'men pro trek', 'men progrid', 'men pullover', 'men pure', 'men quilted', 'men quilted flannel', 'men raglan', 'men realflex', 'men regular', 'men regular fit', 'men relaxed', 'men relaxed fit', 'men relaxed straight', 'men resistor', 'men reversible', 'men ribbed', 'men ridge', 'men riggs', 'men riggs workwear', 'men road', 'men rugged', 'men rugged wear', 'men sandal', 'men sandal flip', 'men sandstone', 'men santa', 'men santa cruz', 'men satin', 'men scuff', 'men select', 'men select edition', 'men shirt', 'men shirt multipack', 'men shock', 'men shoe', 'men short', 'men short sleeve', 'men signature', 'men signature casual', 'men single', 'men size', 'men skele', 'men skele toe', 'men slim', 'men slim fit', 'men slim straight', 'men slipper', 'men smooth', 'men soft', 'men solar', 'men solid', 'men solid color', 'men speedcross', 'men sport', 'men sport performance', 'men stain', 'men stainless', 'men stainless steel', 'men steel', 'men straight', 'men straight fit', 'men stretch', 'men stripe', 'men striped', 'men super', 'men sweater', 'men system', 'men tagless', 'men tall', 'men tech', 'men tech performance', 'men techsun', 'men teen', 'men textured', 'men thermal', 'men thermasilk', 'men tie', 'men tie necktie', 'men tricot', 'men trifold', 'men trifold wallet', 'men twill', 'men two', 'men two tone', 'men ua', 'men ultra', 'men un', 'men underwear', 'men underwear classic', 'men unisex', 'men unlined', 'men upf', 'men upf 50', 'men vagabond', 'men vigor', 'men vintage', 'men wallet', 'men washed', 'men watch', 'men wave', 'men wedding', 'men wedding band', 'men winter', 'men winter scarf', 'men woman', 'men woman classic', 'men woman comfort', 'men woman warm', 'men wool', 'men work', 'men work weekend', 'men workwear', 'men workwear pocket', 'men woven', 'men woven plain', 'men wrinkle', 'men wrinkle free', 'men xl', 'men xl series', 'men yukon', 'men zip', 'mercer', 'merida', 'merino', 'merino wool', 'merino wool blend', 'merino wool boot', 'mermaid', 'merrell', 'merrell men', 'merrell men moab', 'merrell woman', 'merrell woman barefoot', 'merrell woman captiva', 'merrell woman encore', 'merrell woman lorelei', 'merrell woman luxe', 'merrell woman mimosa', 'mesh', 'mesh bracelet', 'mesh inset', 'mesh short', 'mesh watch', 'messenger', 'messenger bag', 'metal', 'metal factory', 'metal factory 316l', 'metal field', 'metal field watch', 'metal frame', 'metal link', 'metal link band', 'metal men', 'metal men wedding', 'metal necklace', 'metal shoe', 'metal shoe horn', 'metal sunglass', 'metal watch', 'metallic', 'metallic embossed', 'metallic embossed cotton', 'metallic sandal', 'meter', 'metro', 'metro trouser', 'metro trouser pant', 'metrosafe', 'mg', 'mg collection', 'mg low', 'mg low profile', 'mia', 'mia woman', 'michael', 'michael antonio', 'michael antonio woman', 'michael kor', 'michael kor men', 'michael kor woman', 'michael michael', 'michael michael kor', 'michi', 'michi woman', 'mickey', 'mickey mouse', 'micro', 'micro fiber', 'micro fleece', 'microfiber', 'microfiber brief', 'microfiber footed', 'microfiber men', 'microfiber men tie', 'microfleece', 'microsuede', 'microsuede faux', 'microsuede faux fur', 'microterry', 'mid', 'mid boot', 'mid calf', 'mid calf boot', 'mid cut', 'mid hiking', 'mid hiking boot', 'mid length', 'mid rise', 'mid size', 'mid size ironman', 'mid size tear', 'mid size watch', 'mid thigh', 'mid waterproof', 'mid waterproof hiking', 'mid weight', 'midi', 'midrise', 'midweight', 'midweight long', 'midweight long sleeve', 'mighty', 'military', 'military lace', 'military web', 'military web belt', 'mill', 'millennium', 'mimi', 'mimosa', 'minecraft', 'minecraft creeper', 'mini', 'mini crew', 'mini dress', 'mini rib', 'mini skirt', 'minimal', 'minimal trail', 'minimal trail running', 'minimalist', 'minimalist thin', 'minimalist thin stackable', 'minimizer', 'minimizer bra', 'minimizer underwire', 'minimizer underwire bra', 'minimus', 'minimus cross', 'minimus cross training', 'minimus running', 'minimus running shoe', 'minimus trail', 'minimus trail running', 'minnetonka', 'minnetonka men', 'minnetonka woman', 'minnetonka woman el', 'minnetonka woman kilty', 'minnetonka woman thunderbird', 'minnie', 'minnie mouse', 'mirror', 'mirror lens', 'mirror polished', 'mismatched', 'miss', 'miss woman', 'mission', 'missy', 'mitten', 'mix', 'mix color', 'mix color body', 'mix master', 'mixed', 'miz', 'miz mooz', 'miz mooz woman', 'mizuno', 'mizuno men', 'mizuno men wave', 'mizuno woman', 'mizuno woman wave', 'mj', 'mj shoe', 'mm', 'mm 16', 'mm magnetic', 'mm magnetic clasp', 'mm mm', 'mm mm mm', 'mm wide', 'mm width', 'moab', 'moab ventilator', 'moc', 'moc slipper', 'moc toe', 'mocassin', 'mock', 'mock neck', 'mock wrap', 'mockingjay', 'mod', 'moda', 'moda woman', 'modal', 'mode', 'model', 'model ga', 'moderate', 'modern', 'modern fit', 'moisture', 'moisture wicking', 'molded', 'molded cup', 'moleton', 'moment', 'moment woman', 'momentum', 'monarch', 'money', 'money belt', 'money clip', 'money clip credit', 'monkey', 'monkey woman', 'monokini', 'monster', 'monster automatic', 'monster automatic dive', 'monster high', 'monster woman', 'monster woman pu', 'month', 'mood', 'moon', 'moon shirt', 'mooz', 'mooz woman', 'mossy', 'mossy oak', 'mother', 'mother daughter', 'mother dial', 'motherhood', 'motion', 'moto', 'motor', 'motorcycle', 'motorcycle boot', 'mount', 'mount jewelry', 'mount jewelry armoire', 'mount men', 'mount men premium', 'mount woman', 'mountain', 'mountain cliff', 'mountain men', 'mountain woman', 'mouse', 'movement', 'movie', 'moving', 'moving comfort', 'moving comfort woman', 'mq24', 'mr', 'mrw200h', 'mt', 'mud', 'mud pie', 'mud pie baby', 'mudman', 'muff', 'muk', 'muk luks', 'muk luks woman', 'muka', 'mukluks', 'mukluks woman', 'mule', 'mule slipper', 'multi', 'multi color', 'multi color flat', 'multi color pump', 'multi colored', 'multi colored freshwater', 'multi function', 'multi function sport', 'multi pocket', 'multi sport', 'multi strand', 'multicolor', 'multicolor crystal', 'multicolored', 'multifunction', 'multifunction watch', 'multipack', 'multipack assorted', 'multiple', 'multiple color', 'multiple color one', 'multisport', 'multisport hiking', 'multisport hiking shoe', 'mundi', 'mundi big', 'mundi big fat', 'murano', 'murano glass', 'murano glass 925', 'murano glass bead', 'murano style', 'murphy', 'murphy men', 'muscle', 'muscle chest', 'muscle costume', 'muscle shirt', 'muse', 'mush', 'mush flip', 'mush flip flop', 'mush ii', 'mush ii flip', 'music', 'mustache', 'mustang', 'mx608v3', 'mx608v3 cross', 'mx608v3 cross training', 'mygift', 'myia', 'myia passiello', 'myia passiello timeless', 'mylux', 'mystere', 'mystere woman', 'naked', 'nakiska', 'name', 'naot', 'narrow', 'national', 'native', 'nato', 'nato watch', 'nato watch strap', 'natori', 'natori woman', 'natural', 'natural fit', 'natural fit pull', 'natural uniform', 'natural uniform woman', 'naturalizer', 'naturalizer woman', 'nature', 'nature breeze', 'nature breeze woman', 'naughty', 'naughty monkey', 'naughty monkey woman', 'nautica', 'nautica men', 'nautical', 'navajo', 'navel', 'navel belly', 'navel ring', 'naya', 'naya woman', 'nbx', 'neck', 'neck button', 'neck cap', 'neck cap sleeve', 'neck cardigan', 'neck cut', 'neck floral', 'neck gaiter', 'neck jersey', 'neck long', 'neck long sleeve', 'neck pajama', 'neck ruched', 'neck scrub', 'neck scrub shirt', 'neck shirt', 'neck shirt pack', 'neck short', 'neck short sleeve', 'neck sweater', 'neck tee', 'neck tie', 'neck top', 'neck tunic', 'neck tunic sweater', 'neck undershirt', 'necklace', 'necklace 10', 'necklace 10 cttw', 'necklace 14', 'necklace 14 16', 'necklace 16', 'necklace 16 18', 'necklace 18', 'necklace 18 inch', 'necklace 30', 'necklace 8mm', 'necklace bracelet', 'necklace chain', 'necklace chain 14', 'necklace charm', 'necklace choice', 'necklace earring', 'necklace earring set', 'necklace holder', 'necklace italy', 'necklace length', 'necklace length 14', 'necklace mm', 'necklace pendant', 'necklace set', 'necklace sterling', 'necklace woman', 'necktie', 'necktie various', 'necktie various color', 'needle', 'neff', 'neo', 'neon', 'neoprene', 'neptune', 'net', 'neutral', 'neutral running', 'neutral running shoe', 'nevados', 'nevados woman', 'never', 'never iron', 'never iron essential', 'new', 'new balance', 'new balance kid', 'new balance men', 'new balance woman', 'new fashion', 'new men', 'new retro', 'new woman', 'new york', 'new york men', 'new york woman', 'newborn', 'newborn pack', 'newborn piece', 'newly', 'newly upgraded', 'newly upgraded versa', 'newport', 'newport h2', 'newport h2 sandal', 'newsboy', 'newsboy cap', 'newton', 'newton ridge', 'newton ridge plus', 'next', 'next level', 'next level apparel', 'next level woman', 'nice', 'niceeshop', 'niceeshop tm', 'niceeshop tm vintage', 'nickelodeon', 'nicole', 'night', 'nightgown', 'nightshirt', 'nightwear', 'nike', 'nike dri', 'nike dri fit', 'nike men', 'nike men air', 'nike new', 'nike woman', 'nikki', 'nile', 'nimbus', 'nimbus 14', 'nimbus 14 running', 'nina', 'nine', 'nine west', 'nine west woman', 'ninimour', 'ninimour fashion', 'ninja', 'ninja turtle', 'nipple', 'nipple cover', 'nipple ring', 'nl', 'nm', 'noble', 'noble mount', 'noble mount men', 'noble mount woman', 'nomad', 'non', 'non iron', 'non skid', 'non skid slipper', 'non slip', 'noosa', 'noosa tri', 'noosa tri running', 'north', 'north face', 'north face woman', 'northside', 'northstar', 'northstar 1050', 'northstar 1050 hd', 'nose', 'nose lip', 'nose ring', 'nose stud', 'nose stud hoop', 'notch', 'novelty', 'novelty men', 'nu', 'nu color', 'nu color backless', 'nublend', 'nubuck', 'nubuck leather', 'nude', 'number', 'numeral', 'nunn', 'nunn bush', 'nunn bush men', 'nurse', 'nursing', 'nursing bra', 'ny', 'ny deal', 'ny deal woman', 'nydj', 'nydj woman', 'nylon', 'nylon band', 'nylon brief', 'nylon brief panty', 'nylon nato', 'nylon nato watch', 'nylon spandex', 'nylon strap', 'nylon strap watch', 'oak', 'oakley', 'oakley men', 'oasis', 'oblong', 'ocean', 'ocean avenue', 'ocean avenue woman', 'office', 'officially', 'officially licensed', 'ogio', 'oil', 'okabashi', 'ol', 'old', 'old friend', 'old friend men', 'old friend woman', 'olga', 'olga woman', 'olga woman signature', 'ollio', 'ollio woman', 'ollio woman ballet', 'ollio woman shoe', 'olukai', 'olympia', 'olympia luggage', 'ombre', 'omni', 'omni heat', 'one', 'one dozen', 'one fab', 'one fab fit', 'one pair', 'one per', 'one per order', 'one piece', 'one piece swimsuit', 'one shoulder', 'one size', 'one size canvas', 'one size fit', 'one size plus', 'one smooth', 'onesie', 'onesies', 'onesies brand', 'onesies brand bodysuit', 'onesize', 'onitsuka', 'onitsuka tiger', 'onitsuka tiger unisex', 'opal', 'opaque', 'opaque sheer', 'opaque sheer waist', 'opaque thigh', 'opaque thigh high', 'opaque tights', 'open', 'open auto', 'open auto close', 'open bottom', 'open cardigan', 'open close', 'open close umbrella', 'open crotch', 'open front', 'open heart', 'open heart pendant', 'open toe', 'open toe pump', 'opener', 'opening', 'opera', 'opera length', 'ops', 'optical', 'optimal', 'orange', 'orange rubber', 'order', 'organic', 'organic cotton', 'organization', 'organizer', 'organizer travel', 'organizer travel case', 'organza', 'orient', 'orient men', 'original', 'original 874', 'original 874 work', 'original boot', 'original fit', 'original fit jean', 'original men', 'original men jazz', 'original shoe', 'original shoe size', 'original woman', 'original woman bullet', 'original woman jazz', 'orinocco', 'ornament', 'ornate', 'orthaheel', 'orthaheel technology', 'orthaheel woman', 'orthotic', 'orthotic insole', 'ostrich', 'otbt', 'otbt woman', 'otc', 'ounce', 'outdoor', 'outdoor research', 'outdoor sport', 'outside', 'oval', 'oval shaped', 'ovalbuy', 'overall', 'overbust', 'overbust corset', 'overland', 'overland equipment', 'overlay', 'overnighter', 'overshoe', 'oversize', 'oversized', 'oversized sunglass', 'oversized woman', 'oversized woman sunglass', 'owl', 'owl filled', 'owl filled pendant', 'owl pendant', 'ox', 'oxford', 'oxford dress', 'oxford dress shoe', 'oxford ivy', 'oxford shirt', 'oxford shoe', 'oxidized', 'oxidized 925', 'oxidized 925 sterling', 'oz', 'ozone', 'ozone woman', 'pace', 'pace glove', 'pacific', 'pacific legend', 'pacific men', 'pack', 'pack 10', 'pack 100', 'pack ankle', 'pack assorted', 'pack assorted color', 'pack boxer', 'pack boxer brief', 'pack brief', 'pack calf', 'pack calf tube', 'pack classic', 'pack classic lightweight', 'pack comfortsoft', 'pack cotton', 'pack cotton brief', 'pack crew', 'pack crew sock', 'pack double', 'pack fashion', 'pack full', 'pack heather', 'pack heavy', 'pack heavy duty', 'pack high', 'pack low', 'pack low cut', 'pack microfiber', 'pack neck', 'pack one', 'pack one size', 'pack onesies', 'pack pair', 'pack panty', 'pack performance', 'pack seamless', 'pack short', 'pack short sleeve', 'pack show', 'pack size', 'pack size 10', 'pack sock', 'pack soft', 'pack soft stretch', 'pack solid', 'pack sport', 'pack training', 'pack training pant', 'pack ultimate', 'pack variety', 'pack variety onesies', 'pack yarn', 'pack yarn dye', 'packed', 'packed omni', 'packed omni heat', 'packing', 'packing cube', 'pacsafe', 'pacsafe luggage', 'pacsafe luggage citysafe', 'pacsafe luggage coversafe', 'pacsafe luggage metrosafe', 'pacsafe luggage rfid', 'pad', 'padded', 'padded ankle', 'padded ankle sock', 'padded crew', 'padded crew sock', 'padded low', 'padded low cut', 'padded sock', 'page', 'page plastic', 'pain', 'pain relief', 'painted', 'pair', 'pair 316l', 'pair 316l stainless', 'pair crew', 'pair pack', 'pair set', 'pair silvertone', 'pair size', 'pair woman', 'pair woman cute', 'paisley', 'paisley design', 'paisley pashmina', 'paisley pashmina shawl', 'pajama', 'pajama pant', 'pajama set', 'palazzo', 'palette', 'paley', 'palladium', 'palm', 'palm tree', 'palmbeach', 'palmbeach jewelry', 'pammyj', 'panache', 'panache woman', 'panache woman porcelain', 'panda', 'pandora', 'panel', 'pant', 'pant pack', 'pant petite', 'pant solid', 'pant trouser', 'pant vest', 'panty', 'panty assorted', 'panty assorted color', 'panty assorted pack', 'panty hose', 'panty lace', 'panty lace waistband', 'panty multipack', 'panty pack', 'panty set', 'pantyhose', 'paperwhite', 'parade', 'paradise', 'paratrooper', 'paratrooper fatigue', 'paratrooper short', 'paris', 'paris helium', 'paris helium hardside', 'parisian', 'park', 'parka', 'parrot', 'party', 'party ball', 'party dress', 'pas', 'pas holder', 'pashmina', 'pashmina scarf', 'pashmina shawl', 'pashmina shawl wrap', 'paso', 'passcase', 'passcase wallet', 'passiello', 'passiello timeless', 'passion', 'passion comfort', 'passport', 'passport case', 'passport holder', 'pastel', 'pasty', 'patch', 'patent', 'patent leather', 'patented', 'pathfinder', 'patricia', 'patricia ii', 'patricia ii wedge', 'pattern', 'patterned', 'pattyboutik', 'pattyboutik mama', 'pattyboutik mama cowl', 'pattyboutik woman', 'pattyboutik woman cowl', 'pattyboutik woman faux', 'pattyboutik woman neck', 'pattyboutik woman pleated', 'patzino', 'patzino signature', 'patzino signature edition', 'paul', 'paul taylor', 'paul taylor men', 'pave', 'pave cz', 'paw', 'paw print', 'paylak', 'pc', 'pc stainless', 'pc stainless steel', 'pc watch', 'pea', 'peace', 'peace sign', 'peacoat', 'peacock', 'peacock feather', 'peacock feather print', 'peak', 'peasant', 'pedi', 'pediped', 'pediped flex', 'peek', 'peep', 'peep toe', 'peep toe pump', 'pencil', 'pencil skirt', 'pencil wiggle', 'pencil wiggle dress', 'pendant', 'pendant 18', 'pendant 18 inch', 'pendant 20', 'pendant 20 inch', 'pendant chain', 'pendant charm', 'pendant leather', 'pendant long', 'pendant long chain', 'pendant necklace', 'pendant necklace 10', 'pendant necklace 18', 'pendant necklace charm', 'pendant necklace sterling', 'pendant plated', 'pendant plated metal', 'penguin', 'penny', 'penny loafer', 'peony', 'peplum', 'peplum top', 'pepper', 'per', 'per order', 'per pack', 'perfect', 'perfect fit', 'perfectly', 'perfectly fit', 'perfectly smooth', 'performance', 'performance boxer', 'performance boxer brief', 'performance cotton', 'performance crew', 'performance men', 'performance men go', 'performance polo', 'performance shirt', 'performance woman', 'performance woman go', 'perpetual', 'perry', 'perry elli', 'perry elli men', 'personalized', 'personalized name', 'petal', 'petal woman', 'petite', 'petite high', 'petite high waist', 'petite size', 'petticoat', 'petticoat skirt', 'pettipants', 'pewter', 'pfg', 'pfg bahama', 'phantom', 'phantom men', 'phantom men sandal', 'phillips', 'phillips woman', 'phoenix', 'phone', 'photo', 'piano', 'picnic', 'picture', 'pie', 'pie baby', 'pie baby girl', 'piece', 'piece bundle', 'piece goldtone', 'piece lace', 'piece luggage', 'piece luggage set', 'piece pajama', 'piece pajama set', 'piece pjs', 'piece pjs set', 'piece set', 'piece silvertone', 'piece silvertone iced', 'piece swimsuit', 'piece watch', 'pierced', 'piercing', 'piercing jewelry', 'pillow', 'pilot', 'pin', 'pinch', 'pinpoint', 'pinup', 'pique', 'pique polo', 'pique polo shirt', 'pirate', 'pirate costume', 'pixel', 'pj', 'pj set', 'pjs', 'pjs set', 'pjs set 100', 'pk', 'placket', 'plaid', 'plaid boxer', 'plaid flannel', 'plaid flannel shirt', 'plaid long', 'plaid shirt', 'plain', 'plain dome', 'plain dome tarnish', 'plain front', 'plain front pant', 'plain front straight', 'plain simple', 'plain toe', 'plain weave', 'plain weave pajama', 'plain wedding', 'plain wedding band', 'plantar', 'plantar fasciitis', 'plaque', 'plaque buckle', 'plastic', 'plastic watch', 'plate', 'plated', 'plated 925', 'plated 925 sterling', 'plated classic', 'plated classic round', 'plated color', 'plated gold', 'plated metal', 'plated metal necklace', 'plated stainless', 'plated stainless steel', 'plated sterling', 'plated sterling cubic', 'plated sterling genuine', 'plated sterling round', 'plated sterling swarovski', 'plated tungsten', 'plated tungsten ring', 'plated watch', 'platform', 'platform pump', 'platform sandal', 'platform wedge', 'play', 'play baby', 'play baby boy', 'play baby girl', 'play baby toddler', 'play costume', 'play costume set', 'player', 'player men', 'playtex', 'playtex woman', 'playtex woman 18', 'playtex woman plus', 'playtex woman secret', 'plaza', 'plaza astoria', 'pleaser', 'pleaser woman', 'pleaser woman seduce', 'pleat', 'pleat front', 'pleated', 'pleated cuffed', 'pleated cuffed pant', 'pleated pant', 'plug', 'plumeria', 'plumeria flower', 'plunge', 'plunge bra', 'plus', 'plus size', 'plus size classic', 'plus size fit', 'plus size lace', 'plus size long', 'plus size low', 'plus size queen', 'plus size relaxed', 'plus size seamless', 'plus size sexy', 'plus size sheer', 'plus size sport', 'plus size wide', 'plus size woman', 'plush', 'plush fleece', 'plush robe', 'pocket', 'pocket bootcut', 'pocket bootcut jean', 'pocket crew', 'pocket crew neck', 'pocket henley', 'pocket henley shirt', 'pocket jean', 'pocket long', 'pocket long sleeve', 'pocket pant', 'pocket shirt', 'pocket short', 'pocket square', 'pocket tee', 'pocket wallet', 'pocket watch', 'pocket watch chain', 'poem', 'point', 'point collar', 'pointed', 'poke', 'polar', 'polar fleece', 'polar moc', 'polarized', 'polarized sunglass', 'polarized sunglass acutint', 'police', 'polish', 'polish fl', 'polish fl oz', 'polish plain', 'polish plain dome', 'polish size', 'polish size 12', 'polished', 'polished 14k', 'polished 14k gold', 'polished 925', 'polished 925 sterling', 'polished classy', 'polished classy domed', 'polishing', 'polishing cloth', 'polka', 'polka dot', 'polka dot vintage', 'polo', 'polo assn', 'polo assn classic', 'polo assn junior', 'polo assn men', 'polo assn sport', 'polo assn woman', 'polo ralph', 'polo ralph lauren', 'polo shirt', 'poly', 'polycarbonate', 'polyester', 'polyurethane', 'polyurethane band', 'polyurethane watch', 'pom', 'pom pom', 'poncho', 'poncho top', 'ponte', 'pony', 'pool', 'pop', 'pop fashionwear', 'popcorn', 'popcorn chain', 'popcorn chain necklace', 'poplin', 'poplin shirt', 'poplin solid', 'porcelain', 'port', 'port authority', 'port authority lady', 'port authority men', 'port authority woman', 'port company', 'portable', 'porter', 'porter street', 'porter street watch', 'post', 'post back', 'post earring', 'post stud', 'post woman', 'posture', 'posture bra', 'potter', 'potter officially', 'potter officially licensed', 'pouch', 'pouch brief', 'pouch silk', 'power', 'power fleece', 'power performance', 'power short', 'power stretch', 'powerflex', 'powergrid', 'powertrain', 'pr', 'prana', 'prana woman', 'pratt', 'pratt hart', 'prayer', 'pre', 'pre tied', 'precious', 'precious gemstone', 'precision', 'premier', 'premier leather', 'premium', 'premium 100', 'premium 100 cotton', 'premium cotton', 'premium stretch', 'premium winter', 'prescription', 'preshrunk', 'press', 'prestige', 'pretend', 'pretend play', 'pretty', 'pretty woman', 'pride', 'prime', 'prime pristine', 'princess', 'princess costume', 'princess cubic', 'princess cubic zirconia', 'princess cut', 'princess cut cubic', 'princess cut cz', 'princess leia', 'princess leia costume', 'print', 'print beaded', 'print beaded halter', 'print dress', 'print faux', 'print faux leather', 'print legging', 'print one', 'print one size', 'print scarf', 'printed', 'printed blouse', 'printed blouse india', 'pristine', 'pro', 'pro cotton', 'pro cotton fleece', 'pro diver', 'pro diver automatic', 'pro diver collection', 'pro diver gold', 'pro diver stainless', 'pro swimsuit', 'pro trek', 'pro vegan', 'pro woman', 'product', 'professional', 'professional clog', 'professional grade', 'profile', 'profile dyed', 'profile dyed cotton', 'progrid', 'progrid kinvara', 'progrid kinvara running', 'prom', 'promise', 'promise ring', 'prong', 'prong belt', 'prong buckle', 'prophecy', 'prophecy running', 'prophecy running shoe', 'propper', 'propper men', 'protection', 'protection color', 'protection hat', 'protective', 'protector', 'pth', 'pth victory', 'pu', 'pu faux', 'pu faux leather', 'pu leather', 'puff', 'puff sleeve', 'pull', 'pull barely', 'pull barely bootcut', 'pull jean', 'pull legging', 'pull short', 'pullover', 'pullover bra', 'pullover eco', 'pullover eco fleece', 'pullover sweater', 'puma', 'puma men', 'puma unisex', 'puma woman', 'pump', 'punisher', 'punk', 'puppy', 'puppy men', 'puppy woman', 'pure', 'pure genius', 'purple', 'purpose', 'purpose water', 'purpose water shoe', 'purse', 'purse bag', 'purse mid', 'purse mid size', 'purse organizer', 'purse shoulder', 'push', 'push bra', 'pushbacks', 'pushbacks gold', 'puzzle', 'pvc', 'pw', 'quality', 'quarter', 'quarter athletic', 'quarter athletic sock', 'quarter sock', 'quarter zip', 'queen', 'queenberry', 'queenberry sterling', 'quick', 'quilt', 'quilt lined', 'quilt lined sandstone', 'quilt lined yukon', 'quilted', 'quilted flannel', 'quilted flannel lined', 'qupid', 'qupid woman', 'rabbit', 'rabbit fur', 'race', 'race car', 'racer', 'racer back', 'racer running', 'racer running shoe', 'racerback', 'racerback tank', 'racerback tank top', 'rachel', 'rack', 'rafaelian', 'rage', 'ragg', 'raglan', 'rago', 'rago woman', 'rain', 'rain boot', 'rain boot toddler', 'rain coat', 'rain jacket', 'rain winter', 'rain winter boot', 'rainbow', 'rainbow sandal', 'rainforest', 'rainy', 'rally', 'ralph', 'ralph lauren', 'ralph lauren men', 'ralph lauren woman', 'rampage', 'rampage woman', 'random', 'ranger', 'rash', 'rash guard', 'rashguard', 'rasta', 'rated', 'rated woman', 'ray', 'ray ban', 'ray ban men', 'ray ban woman', 'rayon', 'reaction', 'reaction men', 'reaction woman', 'read', 'reader', 'reader analog', 'reader analog leather', 'reader date', 'reader date expansion', 'reader day', 'reader day date', 'ready', 'real', 'realflex', 'realflex transition', 'realtree', 'rebecca', 'recovery', 'rectangle', 'rectangular', 'rectangular pendant', 'rectangular pendant necklace', 'rectangular sunglass', 'reducer', 'reducer ring', 'reducer ring guard', 'reebok', 'reebok men', 'reebok men realflex', 'reebok woman', 'reebok woman easytone', 'reebok woman realflex', 'reebok woman smoothflex', 'reef', 'reef men', 'reef men leather', 'reef phantom', 'reef phantom men', 'reef woman', 'reef woman girl', 'reef woman reef', 'reflection', 'reflection panty', 'reflection panty hose', 'reflection woman', 'reg', 'regal', 'regatta', 'regetta', 'regetta jewelry', 'reggae', 'regina', 'regular', 'regular big', 'regular big tall', 'regular fit', 'regular fit jean', 'regular fit straight', 'regular sized', 'regular sized wide', 'regular wide', 'regular wide calf', 'reindeer', 'reinforced', 'reinforced cushion', 'reinforced cushion full', 'relax', 'relaxed', 'relaxed fit', 'relaxed fit carpenter', 'relaxed fit jean', 'relaxed fit memory', 'relaxed fit plain', 'relaxed fit pleated', 'relaxed fit straight', 'relaxed straight', 'relaxed straight fit', 'relaxed straight jean', 'relaxed straight leg', 'release', 'relic', 'relief', 'removable', 'remover', 'renaissance', 'rene', 'rene rofe', 'rene rofe woman', 'renee', 'renee woman', 'reneeze', 'renegade', 'repair', 'repair kit', 'repair tool', 'repair tool kit', 'replacement', 'research', 'resin', 'resin band', 'resin color', 'resin digital', 'resin sport', 'resin sport watch', 'resin strap', 'resin strap watch', 'resin watch', 'resistant', 'resistant comfort', 'resistant comfort fit', 'resistant relaxed', 'resistant relaxed fit', 'resistant resin', 'resistant resin color', 'resistor', 'retainer', 'retreez', 'retro', 'reusable', 'reversible', 'reversible belt', 'reversible casual', 'reversible casual jean', 'reversible leather', 'reversible paisley', 'reversible paisley pashmina', 'revolution', 'rex', 'rey', 'rey shapewear', 'rey shapewear woman', 'rfid', 'rfid blocking', 'rfid blocking passport', 'rhinestone', 'rhinestone accent', 'rhinestone accented', 'rhinestone accented gold', 'rhinestone accented watch', 'rhinestone bezel', 'rhinestone chronograph', 'rhinestone chronograph watch', 'rhinestone face', 'rhinestone face bling', 'rhinestone stretch', 'rhode', 'rhode island', 'rhode island novelty', 'rhodium', 'rhodium finish', 'rhodium finish size', 'rhodium plated', 'rhodium plated sterling', 'rhonda', 'rialto', 'rib', 'rib tank', 'rib tank top', 'ribbed', 'ribbon', 'ride', 'ride running', 'ride running shoe', 'rider', 'ridge', 'ridge plus', 'riding', 'riding boot', 'riggs', 'riggs workwear', 'riggs workwear carpenter', 'riggs workwear men', 'right', 'rim', 'rimless', 'rimmed', 'rimmed style', 'ring', 'ring 10', 'ring 14g', 'ring 3mm', 'ring available', 'ring available size', 'ring banana', 'ring banana barbell', 'ring body', 'ring body jewelry', 'ring come', 'ring come box', 'ring come free', 'ring comfort', 'ring comfort fit', 'ring ct', 'ring earring', 'ring free', 'ring guard', 'ring guard ring', 'ring hand', 'ring hand chain', 'ring holder', 'ring holder jewelry', 'ring jewelry', 'ring men', 'ring men woman', 'ring mm', 'ring set', 'ring simulated', 'ring size', 'ring size 10', 'ring size 12', 'ring size adjuster', 'ring size reducer', 'ring sold', 'ring sold piece', 'ring sterling', 'ring sterling rhodium', 'ring wedding', 'ring wedding band', 'ring woman', 'ringer', 'rio', 'ripple', 'ripple junction', 'ripple junction doctor', 'ripstop', 'ripstop series', 'ripstop series gear', 'rise', 'rise brief', 'rise brief pack', 'rite', 'rite srt', 'rite srt sm', 'river', 'river apparel', 'ro', 'ro hommerson', 'ro hommerson woman', 'road', 'roamans', 'roamans woman', 'roamans woman plus', 'robbins', 'robbins woman', 'robe', 'robe long', 'robeez', 'robin', 'rock', 'rockabilly', 'rockabilly swing', 'rockabilly swing evening', 'rocket', 'rocket dog', 'rocket dog woman', 'rocket volleyball', 'rocket volleyball shoe', 'rockland', 'rockland luggage', 'rockport', 'rockport cobb', 'rockport cobb hill', 'rockport men', 'rockport woman', 'rofe', 'rofe woman', 'rofe woman crotchless', 'role', 'role play', 'role play costume', 'roll', 'rolling', 'rolling backpack', 'rolo', 'rolo chain', 'rolo chain necklace', 'rom', 'roman', 'roman gladiator', 'roman gladiator sandal', 'romantic', 'romeo', 'romper', 'rondelle', 'rondelle crystal', 'rondelle crystal spacers', 'room', 'rope', 'rope chain', 'rope chain necklace', 'rope leather', 'rope leather bracelet', 'rosebud', 'rosegold', 'rosegold tone', 'rosetta', 'rosette', 'rossa', 'rossa men', 'rossa woman', 'rossa woman lightweight', 'rossa woman satin', 'rotating', 'rothco', 'rothco camo', 'rothco canvas', 'rothco shirt', 'rothco vintage', 'rothco vintage paratrooper', 'rothco woman', 'round', 'round analog', 'round ball', 'round ball stud', 'round bead', 'round circle', 'round clear', 'round cubic', 'round cubic zirconia', 'round cut', 'round cut swarovski', 'round cz', 'round cz lady', 'round earring', 'round face', 'round gemstone', 'round gemstone bead', 'round hoop', 'round hoop earring', 'round metal', 'round princess', 'round shape', 'round solitaire', 'round stud', 'round stud earring', 'round toe', 'row', 'row spike', 'roxy', 'roxy woman', 'roxy woman lido', 'royal', 'royal robbins', 'royal robbins woman', 'rubber', 'rubber band', 'rubber jelly', 'rubber strap', 'rubber watch', 'rubie', 'rubie costume', 'rubie costume co', 'rubie costume woman', 'ruched', 'ruched sleeve', 'ruffle', 'ruffle trim', 'ruffled', 'rugby', 'rugged', 'rugged wear', 'rugged wear classic', 'rugged wear relaxed', 'rumblers', 'run', 'run 100', 'run ride', 'run running', 'run running shoe', 'runner', 'running', 'running shoe', 'running shoe infant', 'running shoe little', 'running shoe toddler', 'running thick', 'running thick padded', 'running thin', 'running thin padded', 'runway', 'russell', 'russell athletic', 'russell athletic men', 'russell athletic woman', 'russian', 'russian diver', 'russian diver collection', 'russian diver dial', 'rx', 'ryka', 'ryka woman', 'sabrina', 'sackpack', 'safari', 'safe', 'safety', 'safety toe', 'safety toe boot', 'sag', 'sag harbor', 'sag harbor woman', 'sailor', 'sailor nautical', 'sak', 'sak kendra', 'sakkas', 'sakkas eagle', 'sakkas embroidered', 'sakkas men', 'sakkas petite', 'sakkas petite high', 'sakkas woman', 'sale', 'salomon', 'salomon men', 'salomon men speedcross', 'salomon woman', 'salomon woman xr', 'salt', 'sam', 'sam edelman', 'sam edelman woman', 'samba', 'samsonite', 'samsonite lift', 'samsonite lift spinner', 'samsonite luggage', 'samsonite luggage aspire', 'samsonite luggage hyperspace', 'samsung', 'samurai', 'san', 'sandal', 'sandal flat', 'sandal flip', 'sandal flip flop', 'sandal infant', 'sandal toddler', 'sandal toddler little', 'sandal woman', 'sandalfoot', 'sanded', 'sanded duck', 'sandstone', 'sandy', 'sanita', 'sanita woman', 'sanita woman professional', 'sanrah', 'santa', 'santa cruz', 'santana', 'sanuk', 'sanuk men', 'sanuk men vagabond', 'sanuk woman', 'sanuk woman yoga', 'sara', 'sarah', 'sarong', 'sarong choice', 'sarong choice color', 'sarong woman', 'sarto', 'sarto woman', 'sash', 'sassy', 'sassy skinny', 'sassy skinny jean', 'satchel', 'satchel handbag', 'sateen', 'sateen solid', 'satin', 'satin bow', 'satin charmeuse', 'satin feel', 'satin feel beaded', 'satin glove', 'satin pajama', 'satin robe', 'satin robe long', 'saucony', 'saucony boy', 'saucony men', 'saucony men progrid', 'saucony original', 'saucony original men', 'saucony original woman', 'saucony woman', 'saucony woman cohesion', 'saucony woman grid', 'saucony woman progrid', 'savane', 'savane men', 'savane men select', 'sbicca', 'sbicca woman', 'scale', 'scarf', 'scarf diff', 'scarf diff color', 'scarf different', 'scarf different color', 'scarf multi', 'scarf multi color', 'scarf shawl', 'scarf shawl wrap', 'scarf soft', 'scarf woman', 'scarf wrap', 'scarf wrap shawl', 'scarf_tradinginc', 'scarleton', 'scarleton large', 'scarleton quilted', 'scholl', 'scholl woman', 'school', 'school bag', 'schylling', 'scoop', 'scoop neck', 'scoop neck shirt', 'scoop neck tee', 'scraper', 'scratch', 'screen', 'screen led', 'screen led watch', 'screw', 'screw back', 'scrub', 'scrub pant', 'scrub set', 'scrub shirt', 'scrub top', 'scrub woman', 'scrunch', 'scuff', 'scuff slipper', 'sculpt', 'se', 'se watch', 'sea', 'sea turtle', 'seal', 'seam', 'seamless', 'seamless bandeau', 'seamless bandeau strapless', 'seamless legging', 'seamless tailored', 'seamless underwire', 'seamless underwire bra', 'seaside', 'season', 'sebago', 'sebago men', 'sebago woman', 'second', 'second skinny', 'second skinny smoother', 'secret', 'secret wish', 'secretary', 'section', 'secure', 'security', 'seduce', 'see', 'seek', 'seeker', 'seiko', 'seiko automatic', 'seiko automatic stainless', 'seiko men', 'seiko woman', 'select', 'select edition', 'select edition pleated', 'self', 'self adhesive', 'self adhesive silicone', 'self tie', 'self tie bowknot', 'semi', 'semi precious', 'semi precious gemstone', 'semi sheer', 'semi sheer gauzy', 'sensitive', 'sensor', 'separate', 'separate blazer', 'separate blazer pant', 'sequin', 'sequin trim', 'sequined', 'ser', 'series', 'series gear', 'series gear duffle', 'series shock', 'series shock 200m', 'set', 'set 10', 'set 100', 'set 100 cotton', 'set 12', 'set 18', 'set 8mm', 'set luggage', 'set luggage tag', 'set men', 'set one', 'set one size', 'set pack', 'set pair', 'set seven', 'set sterling', 'set stud', 'set stud earring', 'sethroberts', 'setting', 'seuss', 'seven', 'seven apparel', 'seven pack', 'seven pack panty', 'seven til', 'seven til woman', 'several', 'several color', 'sexi', 'sexy', 'sexy lace', 'sexy woman', 'seychelles', 'seychelles woman', 'seymour', 'shade', 'shadowline', 'shadowline woman', 'shadowline woman plus', 'shalimar', 'shamballah', 'shape', 'shape pendant', 'shape pendant necklace', 'shape ups', 'shaped', 'shaper', 'shaper corset', 'shapewear', 'shapewear lace', 'shapewear lace smooth', 'shapewear seamless', 'shapewear woman', 'shapewear woman molded', 'shaping', 'shaping wirefree', 'shaping wirefree bra', 'shark', 'shawl', 'shawl collar', 'shawl scarf', 'shawl scarf wrap', 'shawl wrap', 'shawl wrap stole', 'shearling', 'sheath', 'shedrain', 'sheepskin', 'sheer', 'sheer gauzy', 'sheer gauzy cotton', 'sheer lace', 'sheer mini', 'sheer mini rib', 'sheer nylon', 'sheer thigh', 'sheer thigh high', 'sheer waist', 'shelf', 'shelf bra', 'shell', 'shell jacket', 'shemagh', 'sherpa', 'sherpa lined', 'sherpa lined sandstone', 'sherpa lining', 'shi', 'shi woman', 'shield', 'shift', 'shimmer', 'shine', 'shiny', 'shiny metallic', 'ship', 'shirley', 'shirley hollywood', 'shirred', 'shirring', 'shirring detail', 'shirt', 'shirt big', 'shirt big tall', 'shirt blouse', 'shirt blouse top', 'shirt bra', 'shirt button', 'shirt cape', 'shirt cape mask', 'shirt cotton', 'shirt dress', 'shirt large', 'shirt long', 'shirt long sleeve', 'shirt multipack', 'shirt pack', 'shirt pocket', 'shirt regular', 'shirt regular big', 'shirt regular fit', 'shirt short', 'shirt short sleeve', 'shirt small', 'shirt stay', 'shirt tee', 'shirt top', 'shock', 'shock 200m', 'shock 200m wr', 'shock absorber', 'shock absorber woman', 'shock resin', 'shock resistant', 'shock resistant resin', 'shock watch', 'shoe', 'shoe 18', 'shoe 18 woman', 'shoe chain', 'shoe color', 'shoe cover', 'shoe faux', 'shoe faux suede', 'shoe flat', 'shoe horn', 'shoe horn made', 'shoe infant', 'shoe infant toddler', 'shoe lace', 'shoe little', 'shoe little kid', 'shoe men', 'shoe men shoe', 'shoe platform', 'shoe polish', 'shoe size', 'shoe size 10', 'shoe size 12', 'shoe stiletto', 'shoe stretcher', 'shoe toddler', 'shoe toddler little', 'shoe tree', 'shoe woman', 'shoehorn', 'shoelace', 'shoelace light', 'shoelace light shoe', 'shopper', 'shopper tote', 'shopper tote handbag', 'shoppewatch', 'shoreline', 'short', 'short boot', 'short length', 'short length girdle', 'short panty', 'short pocket', 'short sleeve', 'short sleeve crew', 'short sleeve heavyweight', 'short sleeve neck', 'short sleeve oxford', 'short sleeve pique', 'short sleeve pocket', 'short sleeve polo', 'short sleeve rashguard', 'short sleeve shirt', 'short sleeve solid', 'short sleeve tee', 'short sleeve top', 'short sleeve work', 'short sleeved', 'short swim', 'shoulder', 'shoulder bag', 'shoulder dress', 'shoulder handbag', 'shoulder handbag purse', 'shoulder long', 'shoulder long sleeve', 'shoulder self', 'shoulder self tie', 'shoulder short', 'shoulder short sleeve', 'shoulder tote', 'show', 'show liner', 'show liner sock', 'show sock', 'show sock pack', 'shower', 'shrug', 'shuffle', 'shuv', 'side', 'side snap', 'side zip', 'side zip boot', 'sided', 'sidekick', 'sider', 'sider woman', 'sidewalk', 'sidewalk surfer', 'sideways', 'sideways cross', 'sierra', 'sierra loop', 'sierra loop backpack', 'sierra men', 'sierra woman', 'sign', 'signature', 'signature casual', 'signature casual belt', 'signature edition', 'signature khaki', 'signature support', 'silhouette', 'silicon', 'silicon link', 'silicon link watch', 'silicone', 'silicone band', 'silicone ceramic', 'silicone ceramic style', 'silicone covered', 'silicone covered gold', 'silicone crystal', 'silicone gel', 'silicone jelly', 'silicone jelly watch', 'silicone link', 'silicone link watch', 'silicone nipple', 'silicone nipple cover', 'silicone nu', 'silicone nu color', 'silicone rubber', 'silicone rubber jelly', 'silicone watch', 'silk', 'silk blend', 'silk jacquard', 'silk pajama', 'silk reflection', 'silk reflection panty', 'silk reflection woman', 'silk scarf', 'silk touch', 'silkweight', 'silky', 'silky ity', 'silky sheer', 'silvercloseout', 'silvercloseout stainless', 'silvercloseout stainless steel', 'silvertone', 'silvertone clear', 'silvertone clear iced', 'silvertone iced', 'silvertone iced cross', 'simple', 'simple 10mm', 'simple 10mm gemstone', 'simple 6mm', 'simple 6mm gemstone', 'simple 8mm', 'simple 8mm gemstone', 'simple basic', 'simple dome', 'simple dome couple', 'simple leverback', 'simple leverback round', 'simple minimalist', 'simple minimalist thin', 'simplicity', 'simplicity woman', 'simpson', 'simpson woman', 'simulated', 'simulated color', 'simulated cz', 'simulated gemstone', 'simulated howlite', 'simulated shell', 'simulated stone', 'singapore', 'singapore chain', 'single', 'single breasted', 'single layer', 'single watch', 'single watch winder', 'singlet', 'sister', 'six', 'six pack', 'sixty', 'size', 'size 10', 'size 10 11', 'size 10 13', 'size 11', 'size 12', 'size 13', 'size 14', 'size 15', 'size 16', 'size 30', 'size 30 inch', 'size adjuster', 'size adjuster size', 'size available', 'size bra', 'size canvas', 'size canvas military', 'size classic', 'size cotton', 'size fit', 'size fit pack', 'size fit tube', 'size ironman', 'size ironman sleek', 'size lace', 'size long', 'size low', 'size low cut', 'size plus', 'size queen', 'size reducer', 'size reducer ring', 'size relaxed', 'size relaxed fit', 'size seamless', 'size sexy', 'size sheer', 'size sheer lace', 'size small', 'size sock', 'size sport', 'size sport knit', 'size style', 'size style caf', 'size tear', 'size tear drop', 'size watch', 'size wide', 'size woman', 'size woman empire', 'size xl', 'sized', 'sized wide', 'sized wide calf', 'sizing', 'sizing tool', 'skagen', 'skagen men', 'skagen woman', 'skamp', 'skamp hikini', 'skate', 'skate shoe', 'skater', 'skechers', 'skechers cali', 'skechers cali woman', 'skechers kid', 'skechers men', 'skechers performance', 'skechers performance men', 'skechers performance woman', 'skechers sport', 'skechers sport men', 'skechers sport woman', 'skechers usa', 'skechers usa men', 'skechers usa woman', 'skechers woman', 'skechers woman bikers', 'skechers woman keepsake', 'skechers woman plus', 'skechers woman reggae', 'skechers woman shape', 'skechers woman world', 'skechers work', 'skechers work men', 'skechers work woman', 'skele', 'skele toe', 'skele toe ez', 'skeleton', 'skeleton watch', 'ski', 'skid', 'skid slipper', 'skid slipper sock', 'skimmer', 'skin', 'skinny', 'skinny belt', 'skinny headband', 'skinny jean', 'skinny legging', 'skinny smoother', 'skinny stretch', 'skirt', 'skirt dress', 'skull', 'sky', 'sl', 'slate', 'sleek', 'sleek 50', 'sleek 50 classic', 'sleep', 'sleep lounge', 'sleep lounge pant', 'sleep pant', 'sleep play', 'sleep short', 'sleeper', 'sleepwear', 'sleepwear woman', 'sleeve', 'sleeve blouse', 'sleeve blouse top', 'sleeve bolero', 'sleeve button', 'sleeve cardigan', 'sleeve casual', 'sleeve compression', 'sleeve cotton', 'sleeve crew', 'sleeve crew neck', 'sleeve double', 'sleeve dress', 'sleeve fitted', 'sleeve heavyweight', 'sleeve jersey', 'sleeve knit', 'sleeve leotard', 'sleeve long', 'sleeve longer', 'sleeve longer length', 'sleeve loose', 'sleeve mock', 'sleeve neck', 'sleeve neck shirt', 'sleeve open', 'sleeve oxford', 'sleeve oxford shirt', 'sleeve pajama', 'sleeve performance', 'sleeve pique', 'sleeve pique polo', 'sleeve pocket', 'sleeve pocket shirt', 'sleeve polo', 'sleeve polo shirt', 'sleeve pullover', 'sleeve raglan', 'sleeve rashguard', 'sleeve scoop', 'sleeve scoop neck', 'sleeve semi', 'sleeve shirt', 'sleeve snap', 'sleeve solid', 'sleeve solid pique', 'sleeve stretch', 'sleeve stretch poplin', 'sleeve tee', 'sleeve thermal', 'sleeve thermal top', 'sleeve top', 'sleeve tunic', 'sleeve turtleneck', 'sleeve work', 'sleeve work shirt', 'sleeved', 'sleeveless', 'sleeveless dress', 'sleeveless long', 'sleeveless neck', 'slender', 'slender secret', 'slide', 'slide sandal', 'slide slipper', 'slider', 'slider buckle', 'slim', 'slim fit', 'slim fit jean', 'slim fit solid', 'slim straight', 'slim straight fit', 'slim straight jean', 'slim wallet', 'slimfold', 'slimfold wallet', 'slimme', 'slimmer', 'slimming', 'slimming cocktail', 'slimming cocktail dress', 'sling', 'sling bag', 'sling bag genuine', 'slingback', 'slingback flat', 'slingback pump', 'slingback sandal', 'slip', 'slip dress', 'slip fashion', 'slip fashion sneaker', 'slip flat', 'slip loafer', 'slip resistant', 'slip shoe', 'slip sneaker', 'slip thru', 'slip walking', 'slip walking shoe', 'slipper', 'slipper boot', 'slipper bootie', 'slipper international', 'slipper international men', 'slipper international woman', 'slipper shoe', 'slipper sock', 'slit', 'slogger', 'slogger woman', 'slot', 'slouch', 'slouch boot', 'slouch boot regular', 'slouch fashion', 'slouchy', 'slouchy boot', 'slouchy knit', 'slub', 'slytherin', 'sm', 'small', 'small endless', 'small medium', 'small pony', 'small sterling', 'smart', 'smart design', 'smartouch', 'smartwool', 'smartwool men', 'smocked', 'smocked bodice', 'smocked bodice handkerchief', 'smocking', 'smoking', 'smooth', 'smooth back', 'smooth leather', 'smooth wire', 'smooth wire free', 'smoother', 'smoothflex', 'smoothflex cushrun', 'smoothflex cushrun running', 'smoothing', 'smoothy', 'snake', 'snake chain', 'snake chain necklace', 'snake print', 'snap', 'snap front', 'sneaker', 'sneaker infant', 'sneaker infant toddler', 'sneaker little', 'sneaker little kid', 'sneaker toddler', 'sneaker toddler little', 'snip', 'snoozies', 'snoozies woman', 'snowboarding', 'snowboarding winter', 'snowboarding winter hat', 'snowflake', 'soccer', 'soccer cleat', 'soccer cleat little', 'soccer shoe', 'social', 'society', 'sock', 'sock 10', 'sock 12', 'sock 12 pair', 'sock assorted', 'sock big', 'sock casual', 'sock casual cotton', 'sock green', 'sock knee', 'sock knee high', 'sock large', 'sock little', 'sock medium', 'sock men', 'sock men original', 'sock men woman', 'sock mismatched', 'sock non', 'sock non slip', 'sock one', 'sock one size', 'sock pack', 'sock pair', 'sock pair pack', 'sock shoe', 'sock shoe size', 'sock size', 'sock size 11', 'sock sock', 'sock value', 'sock value pack', 'sock woman', 'sock woman men', 'sock woman pack', 'soda', 'soda woman', 'sodial', 'sodial tm', 'sof', 'sof sole', 'sof sole athletic', 'soffe', 'soffe woman', 'sofia', 'sofie', 'sofie woman', 'sofie woman 100', 'soft', 'soft cup', 'soft cup bra', 'soft cushion', 'soft faux', 'soft faux fur', 'soft fleece', 'soft footbed', 'soft footed', 'soft footed tight', 'soft knit', 'soft leather', 'soft lightweight', 'soft plush', 'soft shell', 'soft shell jacket', 'soft shoulder', 'soft solid', 'soft stretch', 'soft style', 'soft style woman', 'soft toe', 'softshell', 'softshell jacket', 'softsole', 'softspots', 'softwalk', 'softwalk woman', 'soho', 'sol', 'solar', 'solar atomic', 'solar atomic watch', 'solar digital', 'solar multi', 'solar multi function', 'solar runner', 'solar sport', 'solar watch', 'sold', 'sold piece', 'sole', 'sole athletic', 'soleil', 'solid', 'solid color', 'solid dress', 'solid dress shirt', 'solid durafast', 'solid genuine', 'solid knit', 'solid long', 'solid long sleeve', 'solid microfiber', 'solid opaque', 'solid pack', 'solid pique', 'solid pique polo', 'solid plain', 'solid polo', 'solid short', 'solid short sleeve', 'solid spread', 'solid spread collar', 'solid sterling', 'solid titanium', 'solid woven', 'solitaire', 'solitaire earring', 'solitaire engagement', 'solitaire pendant', 'solitaire pendant necklace', 'solitaire ring', 'solitaire ring sterling', 'solmate', 'solmate sock', 'solmate sock mismatched', 'son', 'sonic', 'sonic compression', 'sophie', 'sorel', 'sorel men', 'sorel woman', 'sorel woman nakiska', 'sorrelli', 'soul', 'southpole', 'southpole junior', 'southpole junior basic', 'southpole men', 'southpole men basic', 'soybu', 'soybu woman', 'spa', 'spa robe', 'spa woman', 'space', 'spacer', 'spacer bead', 'spacer bead charm', 'spacer bead fit', 'spacer charm', 'spacers', 'spacers protection', 'spacers protection color', 'spade', 'spaghetti', 'spaghetti strap', 'spaghetti strap tank', 'spalding', 'spalding woman', 'spandex', 'spandex legging', 'spanx', 'spanx woman', 'spanx woman power', 'sparkle', 'sparkling', 'sparkly', 'spartan', 'spasilk', 'spasilk baby', 'spec', 'special', 'specialty', 'specialty collection', 'specialty collection dial', 'specialty collection swiss', 'specialty stainless', 'specialty stainless steel', 'speed', 'speedcross', 'speedo', 'speedo men', 'speedo men upf', 'speedo woman', 'speedo woman race', 'speedway', 'sperry', 'sperry men', 'sperry top', 'sperry top sider', 'sperry woman', 'spider', 'spider man', 'spiderman', 'spiderman movie', 'spiga', 'spike', 'spinner', 'spinner 21', 'spinner luggage', 'spinner luggage set', 'spinner wheel', 'spiral', 'spirit', 'spirit traveltime', 'spirit woman', 'splash', 'splendid', 'splice', 'split', 'split sole', 'splitter', 'sponge', 'sport', 'sport analog', 'sport analog dive', 'sport bra', 'sport brief', 'sport crew', 'sport digital', 'sport knit', 'sport men', 'sport men 40', 'sport men energy', 'sport men vigor', 'sport performance', 'sport running', 'sport shirt', 'sport shoe', 'sport side', 'sport sock', 'sport unisex', 'sport watch', 'sport watch band', 'sport woman', 'sport woman 45', 'sport woman premium', 'sport woman solid', 'sportswear', 'sportswear woman', 'sporty', 'spot', 'spread', 'spread collar', 'spread collar dress', 'spree', 'sprig', 'spring', 'spring bar', 'spring fever', 'spring fleece', 'spring step', 'spring step woman', 'squad', 'square', 'square cut', 'square leg', 'square neck', 'square sunglass', 'square woman', 'srt', 'srt sm', 'st', 'stability', 'stackable', 'stacy', 'stacy adam', 'stacy adam men', 'stag', 'stain', 'stain resistant', 'stain resistant relaxed', 'stainless', 'stainless steel', 'stainless steel analog', 'stainless steel automatic', 'stainless steel bracelet', 'stainless steel carbon', 'stainless steel clasp', 'stainless steel clear', 'stainless steel cubic', 'stainless steel dial', 'stainless steel dive', 'stainless steel eternity', 'stainless steel expansion', 'stainless steel gold', 'stainless steel ip', 'stainless steel leather', 'stainless steel link', 'stainless steel men', 'stainless steel mesh', 'stainless steel multi', 'stainless steel nose', 'stainless steel pendant', 'stainless steel ring', 'stainless steel solar', 'stainless steel sport', 'stainless steel tone', 'stainless steel two', 'stainless steel watch', 'stainless steel woman', 'stand', 'standard', 'star', 'star core', 'star core ox', 'star fashion', 'star fashion woman', 'star sterling', 'star trek', 'star vixen', 'star vixen woman', 'star war', 'star war men', 'star war princess', 'starfish', 'stargazer', 'starter', 'stash', 'statement', 'statement necklace', 'statement ring', 'station', 'station necklace', 'stay', 'steam', 'steampunk', 'steel', 'steel 14g', 'steel analog', 'steel automatic', 'steel automatic watch', 'steel barbell', 'steel body', 'steel boned', 'steel bracelet', 'steel bracelet watch', 'steel carbon', 'steel carbon fiber', 'steel clasp', 'steel clear', 'steel cubic', 'steel cubic zirconia', 'steel dial', 'steel dial watch', 'steel dive', 'steel dive watch', 'steel eternity', 'steel expansion', 'steel flexible', 'steel flexible bar', 'steel gold', 'steel gold ip', 'steel ip', 'steel leather', 'steel leather watch', 'steel link', 'steel men', 'steel men necklace', 'steel mesh', 'steel multi', 'steel multi function', 'steel nose', 'steel nose stud', 'steel pendant', 'steel pendant necklace', 'steel ring', 'steel solar', 'steel solar watch', 'steel sport', 'steel toe', 'steel toe boot', 'steel tone', 'steel two', 'steel two tone', 'steel watch', 'steel watch band', 'steel watch canvas', 'steel watch date', 'steel watch dial', 'steel watch leather', 'steel watch link', 'steel woman', 'steen', 'steen mountain', 'stella', 'step', 'step woman', 'stephen', 'stephen joseph', 'stereo', 'sterling', 'sterling 00', 'sterling 00 carat', 'sterling 100', 'sterling 100 facet', 'sterling 14k', 'sterling 14k gold', 'sterling 1mm', 'sterling 1mm box', 'sterling 2mm', 'sterling 4mm', 'sterling 5mm', 'sterling 6mm', 'sterling 6mm round', 'sterling 7mm', 'sterling 8mm', 'sterling 925', 'sterling aaa', 'sterling aaa cubic', 'sterling accent', 'sterling accented', 'sterling bead', 'sterling birthstone', 'sterling birthstone color', 'sterling birthstones', 'sterling birthstones color', 'sterling box', 'sterling box chain', 'sterling carat', 'sterling celtic', 'sterling charm', 'sterling city', 'sterling cluster', 'sterling cluster swarovski', 'sterling color', 'sterling core', 'sterling core european', 'sterling core spacer', 'sterling created', 'sterling crystal', 'sterling crystal ball', 'sterling crystal heart', 'sterling cubic', 'sterling cubic zirconia', 'sterling cushion', 'sterling cushion cut', 'sterling cut', 'sterling cut rope', 'sterling cz', 'sterling detailed', 'sterling dichroic', 'sterling dichroic glass', 'sterling double', 'sterling earring', 'sterling filigree', 'sterling fit', 'sterling fit european', 'sterling flower', 'sterling freshwater', 'sterling gemstone', 'sterling genuine', 'sterling genuine created', 'sterling gold', 'sterling gold plated', 'sterling green', 'sterling green ring', 'sterling heart', 'sterling heart shape', 'sterling high', 'sterling high polish', 'sterling inch', 'sterling italian', 'sterling leverback', 'sterling leverback dangle', 'sterling love', 'sterling loving', 'sterling loving family', 'sterling medium', 'sterling mm', 'sterling mm magnetic', 'sterling multi', 'sterling multicolor', 'sterling pendant', 'sterling princess', 'sterling princess cut', 'sterling purple', 'sterling rhodium', 'sterling rhodium finish', 'sterling ring', 'sterling round', 'sterling round cubic', 'sterling round cut', 'sterling simulated', 'sterling small', 'sterling spacer', 'sterling spacer bead', 'sterling stud', 'sterling stud earring', 'sterling swarovski', 'sterling swarovski crystal', 'sterling swarovski element', 'sterling swarovski zirconia', 'sterling true', 'sterling true friend', 'sterling twisted', 'steve', 'steve madden', 'steve madden legwear', 'steve madden men', 'steve madden woman', 'steven', 'steven steve', 'steven steve madden', 'stevens', 'stevens men', 'stick', 'stiff', 'stiletto', 'stirrup', 'stitch', 'stitching', 'stocking', 'stole', 'stone', 'stone king', 'stone king 925', 'stone king sterling', 'stone ring', 'stonewashed', 'stop', 'stopper', 'storage', 'storage case', 'storage organizer', 'storage organizer travel', 'store', 'storm', 'str', 'straight', 'straight fit', 'straight fit five', 'straight fit flat', 'straight fit jean', 'straight fit pant', 'straight jean', 'straight leg', 'straight leg jean', 'straight leg pant', 'straight wig', 'straight wig 100cm', 'strand', 'strand bracelet', 'strand necklace', 'strap', 'strap band', 'strap band 20mm', 'strap buckle', 'strap sandal', 'strap sneaker', 'strap tank', 'strap tank top', 'strap watch', 'strap watch date', 'strap watch set', 'strapless', 'strapless bra', 'strapless tube', 'strapless tube top', 'strappy', 'stream', 'street', 'street watch', 'street woman', 'strength', 'stretch', 'stretch belt', 'stretch bikini', 'stretch bikini panty', 'stretch boxer', 'stretch boxer brief', 'stretch boy', 'stretch boy brief', 'stretch bracelet', 'stretch bracelet set', 'stretch bracelet woman', 'stretch brief', 'stretch brief panty', 'stretch cotton', 'stretch headband', 'stretch hipster', 'stretch hipster panty', 'stretch knit', 'stretch lace', 'stretch legging', 'stretch long', 'stretch pack', 'stretch pant', 'stretch pencil', 'stretch pencil skirt', 'stretch poplin', 'stretch twill', 'stretch twill pant', 'stretcher', 'stretching', 'stretchy', 'stretchy headband', 'stretchy legging', 'stria', 'stride', 'stride rite', 'stride rite srt', 'strike', 'string', 'string bikini', 'string bracelet', 'string thong', 'stripe', 'stripe pant', 'stripe retro', 'striped', 'striped shirt', 'structured', 'stud', 'stud earring', 'stud earring 00', 'stud earring 10', 'stud earring 14k', 'stud earring 5mm', 'stud earring 6mm', 'stud earring 8mm', 'stud earring 925', 'stud earring cttw', 'stud earring screw', 'stud earring set', 'stud earring silicone', 'stud earring sterling', 'stud earring woman', 'stud hoop', 'studded', 'student', 'stuhrling', 'stuhrling original', 'stuhrling original men', 'stunning', 'style', 'style 1950', 'style 1950 rockabilly', 'style adjustable', 'style band', 'style band crystal', 'style bead', 'style bead charm', 'style bow', 'style caf', 'style pencil', 'style pencil wiggle', 'style silicone', 'style sunglass', 'style watch', 'style woman', 'stylish', 'sub', 'sub sport', 'sub sport men', 'suede', 'suede boot', 'suede classic', 'suede platform', 'sugar', 'sugar woman', 'suit', 'suit separate', 'suit separate blazer', 'suitcase', 'suitcase galaxy', 'suitcase galaxy one', 'suki', 'sully', 'summer', 'summer beach', 'summer dress', 'summit', 'sun', 'sun hat', 'sun protection', 'sun protection hat', 'sun protective', 'sundress', 'sunflower', 'sunglass', 'sunglass acutint', 'sunglass acutint uv', 'sunglass case', 'sunglass gold', 'sunglass several', 'sunglass several color', 'sunglass uv400', 'sunrise', 'sunville', 'super', 'super 60', 'super dc', 'super dc hero', 'super pro', 'super pro swimsuit', 'super soft', 'superfeet', 'superfeet woman', 'superhero', 'superior', 'superjeweler', 'superman', 'superman boy', 'superman boy long', 'superman costume', 'supplex', 'support', 'support bra', 'support full', 'support full figure', 'support minimizer', 'support minimizer bra', 'support sport', 'support sport bra', 'support underwire', 'support wire', 'support wire free', 'supporter', 'supreme', 'surf', 'surf men', 'surf woman', 'surfer', 'surfwalker', 'surfwalker pro', 'surgical', 'surgical stainless', 'surgical stainless steel', 'surgical steel', 'surgical steel 14g', 'surplus', 'survivor', 'suspender', 'suspender men', 'swarovski', 'swarovski crystal', 'swarovski crystal accented', 'swarovski element', 'swarovski element clear', 'swarovski element crystal', 'swarovski element multicolor', 'swarovski zirconia', 'swarovski zirconia cttw', 'sweat', 'sweater', 'sweater knit', 'sweater necklace', 'sweatpant', 'sweatpants', 'sweatshirt', 'sweet', 'sweet low', 'sweetheart', 'swg', 'swg eyewear', 'swim', 'swim diaper', 'swim shirt', 'swim short', 'swim suit', 'swim trunk', 'swimsuit', 'swimsuit set', 'swimsuit swimwear', 'swimwear', 'swing', 'swing dress', 'swing evening', 'swing evening dress', 'swing party', 'swing party dress', 'swirl', 'swiss', 'swiss men', 'swiss woman', 'switchflops', 'sword', 'sydney', 'symbol', 'synergy', 'synergy classic', 'synergy classic nylon', 'synthetic', 'system', 'sz', 'sz 14', 'tab', 'tablet', 'tactical', 'tactical boot', 'tactical pant', 'tag', 'tagless', 'tail', 'tailored', 'tall', 'tall boot', 'tall dri', 'tall dri power', 'tall fleece', 'tall short', 'tall short sleeve', 'tall size', 'tamarac', 'tamarac slipper', 'tamarac slipper international', 'tanga', 'tank', 'tank dress', 'tank top', 'tankini', 'tanzanite', 'tap', 'taper', 'tapered', 'tapestry', 'tapp', 'tapp collection', 'tardis', 'tarnish', 'tarnish resistant', 'tartan', 'tassel', 'taylor', 'taylor men', 'taylor men leather', 'taylor star', 'taylor star core', 'tea', 'team', 'team basic', 'tear', 'tear drop', 'teardrop', 'teardrop earring', 'tec', 'tec men', 'tec woman', 'tech', 'tech performance', 'technology', 'techsun', 'teddy', 'tee', 'tee shirt', 'teen', 'teen 925', 'teen 925 sterling', 'teen fit european', 'teen girl', 'temp', 'tempt', 'tempt wacoal', 'tempt wacoal woman', 'tennis', 'tennis bracelet', 'tennis shoe', 'terra', 'terrain', 'terramar', 'terramar men', 'terramar men thermasilk', 'terry', 'teva', 'teva kid', 'teva men', 'teva woman', 'teva woman cabrillo', 'teva woman mush', 'tex', 'texere', 'texture', 'textured', 'theft', 'theory', 'thermal', 'thermal lined', 'thermal long', 'thermal sock', 'thermal top', 'thermasilk', 'thick', 'thick padded', 'thick padded crew', 'thigh', 'thigh high', 'thigh high sock', 'thigh high stocking', 'thigh slimmer', 'thin', 'thin padded', 'thin stackable', 'thong', 'thong panty', 'thong sandal', 'thong set', 'thorlos', 'thorlos unisex', 'thorlos woman', 'thorogood', 'thorogood men', 'three', 'three pack', 'three stone', 'thru', 'thule', 'thumb', 'thumb hole', 'thumb ring', 'tiara', 'tibetan', 'tibetan buddhist', 'tide', 'tie', 'tie bowknot', 'tie bowknot colorblock', 'tie dye', 'tie necktie', 'tied', 'tiffany', 'tiger', 'tiger eye', 'tight', 'tights', 'til', 'til woman', 'timberland', 'timberland men', 'timberland pro', 'timberland pro woman', 'timberland woman', 'timbuk2', 'time', 'time machine', 'time machine analog', 'timeless', 'timer', 'timex', 'timex boy', 'timex boy time', 'timex full', 'timex full size', 'timex ironman', 'timex ironman classic', 'timex men', 'timex men easy', 'timex men expedition', 'timex unisex', 'timex woman', 'timex woman easy', 'timex woman indiglo', 'timex woman weekender', 'tingley', 'tingley men', 'tiny', 'tip', 'tir', 'titanium', 'titanium stainless', 'titanium watch', 'tm', 'tm vintage', 'toast', 'tobeinstyle', 'tobeinstyle woman', 'toddler', 'toddler boy', 'toddler little', 'toddler little kid', 'toddler pajama', 'toe', 'toe boot', 'toe men', 'toe men cotton', 'toe oxford', 'toe pump', 'toe ring', 'toe sock', 'toe woman', 'toe woman pack', 'toe work', 'toe work boot', 'toggle', 'toiletry', 'tom', 'tom woman', 'tommy', 'tommy hilfiger', 'tommy hilfiger men', 'tommy hilfiger woman', 'tomson', 'tone', 'tone bangle', 'tone bangle watch', 'tone bracelet', 'tone bracelet watch', 'tone celtic', 'tone ceramic', 'tone crystal', 'tone dress', 'tone dress watch', 'tone ip', 'tone leather', 'tone stainless', 'tone stainless steel', 'tone watch', 'tongue', 'toogoo', 'tool', 'tool kit', 'top', 'top blouse', 'top blouse shirt', 'top bottom', 'top bra', 'top handle', 'top jewelry', 'top jewelry case', 'top made', 'top made usa', 'top moda', 'top moda woman', 'top shirt', 'top sider', 'top sider woman', 'top sneaker', 'top thigh', 'top thigh high', 'tortoise', 'total', 'total weight', 'tote', 'tote bag', 'tote handbag', 'tote one', 'tote one size', 'tote purse', 'tote shoulder', 'tote shoulder handbag', 'totoro', 'touch', 'touch screen', 'touch screen led', 'touchscreen', 'tough', 'tough solar', 'tough solar atomic', 'tough vermont', 'tour', 'tourister', 'tourister luggage', 'tourister luggage fieldbrook', 'tourister luggage splash', 'towel', 'towelselections', 'towelselections woman', 'towelselections woman robe', 'toy', 'tr', 'tr cross', 'tr cross training', 'track', 'traction', 'traction cleat', 'traditional', 'traffic', 'trail', 'trail running', 'trail running shoe', 'train', 'trainer', 'training', 'training pant', 'training shoe', 'transition', 'transparent', 'travel', 'travel bag', 'travel case', 'travel case lock', 'travel gear', 'travel gear pack', 'travel organizer', 'travel wallet', 'traveler', 'traveler choice', 'travelon', 'travelon id', 'travelon id boarding', 'travelon set', 'travelpro', 'travelpro luggage', 'travelpro luggage maxlite', 'tray', 'tree', 'tree life', 'trek', 'trench', 'trench coat', 'trendsblue', 'trendy', 'tri', 'tri blend', 'tri color', 'tri running', 'tri running shoe', 'triangle', 'triathlon', 'tribal', 'tricot', 'trifold', 'trifold wallet', 'trim', 'trimmed', 'triple', 'triumph', 'troll', 'trooper', 'tropic', 'tropical', 'trotter', 'trotter woman', 'trouser', 'trouser pant', 'trouser sock', 'truck', 'trucker', 'true', 'true comfort', 'true comfort cotton', 'true friend', 'trunk', 'trust', 'tsa', 'tsa approved', 'tsubo', 'tsubo woman', 'tube', 'tube dress', 'tube dress coverup', 'tube hoop', 'tube hoop earring', 'tube run', 'tube run 100', 'tube sock', 'tube top', 'tube top bra', 'tuff', 'tuff cloth', 'tuff cloth ripstop', 'tummy', 'tune', 'tungsten', 'tungsten carbide', 'tungsten carbide mm', 'tungsten metal', 'tungsten metal men', 'tungsten ring', 'tungsten ring men', 'tunic', 'tunic shirt', 'tunic sweater', 'tunic top', 'tunic top woman', 'tunnel', 'tunnel plug', 'turkey', 'turkish', 'turkish cotton', 'turkish glass', 'turkish glass bead', 'turn', 'turn cuff', 'turn cuff sock', 'turtle', 'turtle neck', 'turtleneck', 'turtleneck long', 'turtleneck long sleeve', 'tutu', 'tuxedo', 'twilight', 'twill', 'twill cap', 'twill pant', 'twill shirt', 'twill short', 'twin', 'twinkle', 'twist', 'twisted', 'two', 'two button', 'two layer', 'two layer thermal', 'two pack', 'two piece', 'two pocket', 'two row', 'two tone', 'two tone bracelet', 'two tone dress', 'two tone ip', 'two tone stainless', 'two tone watch', 'tx', 'tx skate', 'tx skate shoe', 'type', 'type 5mm', 'tyr', 'tyr sport', 'tyr sport men', 'tyr sport woman', 'ua', 'ua heatgear', 'ugg', 'ugg men', 'ugg woman', 'uk', 'ukala', 'ukala woman', 'ukala woman sydney', 'ultimate', 'ultimate men', 'ultimate men pack', 'ultimate woman', 'ultimate woman pack', 'ultra', 'ultra lites', 'ultra soft', 'ultraclub', 'umbra', 'umbra muse', 'umbrella', 'un', 'undercover', 'undershirt', 'underwear', 'underwear classic', 'underwear pack', 'underwire', 'underwire bra', 'underwire sport', 'underwire sport bra', 'underworks', 'uniform', 'uniform men', 'unique', 'unisex', 'unisex adult', 'unisex baby', 'unisex baby pack', 'unisex duet', 'unisex kid', 'universal', 'unlined', 'up2date', 'up2date fashion', 'upf', 'upf 50', 'upright', 'ups', 'uptown', 'uptown girl', 'urban', 'usa', 'usa flag', 'usa made', 'usa men', 'usa men relaxed', 'usa woman', 'usb', 'use', 'utility', 'uv', 'uv blocker', 'uv blocker fishing', 'uv sun', 'uv400', 'uxcell', 'vader', 'vagabond', 'value', 'value pack', 'van', 'van heusen', 'van heusen men', 'vanity', 'vanity fair', 'vanity fair woman', 'variety', 'various', 'various color', 'vary', 'vasque', 'vasque men', 'vassarette', 'vassarette woman', 'vegan', 'velour', 'velrose', 'velvet', 'venetian', 'vent', 'vented', 'ventilator', 'venture', 'vera', 'vera bradley', 'vermont', 'version', 'vertical', 'vest', 'vibram', 'vibram fivefingers', 'vibram men', 'vickie', 'victorian', 'victorian gothic', 'victory', 'vigor', 'vine', 'vintage', 'vintage 1950', 'vintage 1950 rockabilly', 'vintage collection', 'vintage inspired', 'vintage paratrooper', 'vintage paratrooper fatigue', 'vintage retro', 'vintage stainless', 'vintage stainless steel', 'vintage straight', 'vintage straight leg', 'vintage style', 'vintage style 1950', 'vinyl', 'vionic', 'vionic woman', 'vir', 'vir jewel', 'visconti', 'viscose', 'vision', 'visor', 'visor hat', 'vita', 'vita woman', 'vivian', 'vivobarefoot', 'vivobarefoot men', 'vivobarefoot woman', 'voguestrap', 'volatile', 'volatile woman', 'volcom', 'volcom men', 'volley', 'volleyball', 'volleyball shoe', 'voltaic', 'wacoal', 'wacoal woman', 'wacoal woman full', 'waffle', 'waffle knit', 'waist', 'waist cincher', 'waist cincher bustier', 'waist pant', 'waist stretch', 'waist stretch pencil', 'waistband', 'waisted', 'walk', 'walker', 'walking', 'walking cradle', 'walking cradle woman', 'walking dead', 'walking shoe', 'walkstar', 'wall', 'wall mount', 'wallet', 'wallet card', 'wallet purse', 'wallet rfid', 'wallet rfid blocking', 'wallflower', 'wallflower junior', 'wallflower plus', 'wallflower plus size', 'wand', 'wanted', 'wanted shoe', 'wanted shoe woman', 'war', 'wardrobe', 'warm', 'warm beanie', 'warm beanie snowboarding', 'warm winter', 'warmer', 'warner', 'warner woman', 'wash', 'washable', 'washed', 'washed cotton', 'washed duck', 'watch', 'watch band', 'watch box', 'watch bracelet', 'watch canvas', 'watch case', 'watch chain', 'watch crystal', 'watch date', 'watch date feature', 'watch dial', 'watch gold', 'watch hat', 'watch large', 'watch large face', 'watch leather', 'watch leather band', 'watch link', 'watch link bracelet', 'watch men', 'watch orange', 'watch repair', 'watch repair kit', 'watch repair tool', 'watch resin', 'watch resin band', 'watch rubber', 'watch rubber band', 'watch rubber strap', 'watch set', 'watch strap', 'watch strap band', 'watch tone', 'watch tool', 'watch tool kit', 'watch two', 'watch winder', 'watch woman', 'watchband', 'water', 'water resistant', 'water sandal', 'water shoe', 'watercolor', 'waterproof', 'waterproof boot', 'waterproof boot toddler', 'waterproof breathable', 'waterproof hiking', 'waterproof hiking boot', 'waterproof hiking shoe', 'waterproof insulated', 'waterproof rain', 'waterproof watch', 'waterproof winter', 'waterproof winter boot', 'wave', 'wave creation', 'wave prophecy', 'wave prophecy running', 'wave rider', 'way', 'wayfarer', 'wayfarer sunglass', 'wear', 'wear bra', 'wear classic', 'wear classic fit', 'wear men', 'wear relaxed', 'weather', 'weather boot', 'weave', 'weave pajama', 'weave pajama set', 'weave wrap', 'weave wrap around', 'web', 'web belt', 'wedding', 'wedding 3mm', 'wedding 3mm band', 'wedding band', 'wedding band ring', 'wedding band thumb', 'wedding band tungsten', 'wedding ring', 'wedge', 'wedge boot', 'wedge pump', 'wedge sandal', 'weekend', 'weekend hidden', 'weekend hidden expandable', 'weekender', 'weekender 38mm watch', 'weekender classic', 'weekender classic casual', 'weekender slip', 'weekender slip thru', 'weekender watch', 'weight', 'weight cubic', 'weight cubic zirconia', 'weight two', 'weight two layer', 'weil', 'wessex', 'west', 'west blvd', 'west blvd woman', 'west coast', 'west woman', 'western', 'western boot', 'western chief', 'western cowboy', 'western cowboy boot', 'wet', 'wet look', 'wheel', 'wheel spinner', 'wheeled', 'wheeled backpack', 'wheeled luggage', 'whisper', 'wholesale', 'wicking', 'wide', 'wide brim', 'wide calf', 'wide leg', 'wide ring', 'width', 'wig', 'wiggle', 'wiggle dress', 'wigwam', 'wigwam men', 'wild', 'wildflower', 'wildflower collection', 'willow', 'wind', 'winder', 'window', 'windproof', 'wing', 'wingtip', 'wingtip oxford', 'wink', 'wink flat', 'wink flat belly', 'winter', 'winter boot', 'winter glove', 'winter hat', 'winter scarf', 'wire', 'wire earring', 'wire free', 'wire free bra', 'wirefree', 'wirefree bra', 'wireless', 'wish', 'within', 'within woman', 'within woman plus', 'wolf', 'wolverine', 'wolverine men', 'woman', 'woman 10', 'woman 10 pack', 'woman 100', 'woman 100 cashmere', 'woman 12', 'woman 18', 'woman 18 hour', 'woman 512', 'woman 515', 'woman 529', 'woman 6886', 'woman 75', 'woman 925', 'woman 925 sterling', 'woman absolute', 'woman absolute workout', 'woman adult', 'woman air', 'woman ak', 'woman ankle', 'woman artisan', 'woman artisan clark', 'woman ashland', 'woman back', 'woman ballet', 'woman ballet shoe', 'woman barefoot', 'woman basic', 'woman batwing', 'woman bella', 'woman belt', 'woman benton', 'woman benton spring', 'woman berryessa', 'woman bikers', 'woman boat', 'woman body', 'woman boot', 'woman bra', 'woman breeze', 'woman button', 'woman cabrillo', 'woman cabrillo universal', 'woman camisole', 'woman canvas', 'woman caslynn', 'woman casual', 'woman cat', 'woman champion', 'woman chiffon', 'woman clark', 'woman classic', 'woman classic fit', 'woman cobbler', 'woman cohesion', 'woman comfort', 'woman comfort fit', 'woman comfort revolution', 'woman comfortsoft', 'woman comfortsoft cotton', 'woman compression', 'woman control', 'woman cool', 'woman cool comfort', 'woman core', 'woman cotton', 'woman cotton stretch', 'woman cowl', 'woman cowl neck', 'woman cozy', 'woman crew', 'woman crocband', 'woman crochet', 'woman crotchless', 'woman custom', 'woman custom flex', 'woman cyprus', 'woman double', 'woman dream', 'woman dress', 'woman dri', 'woman dri power', 'woman duet', 'woman easy', 'woman easy reader', 'woman easytone', 'woman el', 'woman elastic', 'woman electra', 'woman ella', 'woman embroidered', 'woman empire', 'woman empire waist', 'woman enchantment', 'woman encore', 'woman essential', 'woman eye', 'woman fashion', 'woman faux', 'woman faux leather', 'woman faux suede', 'woman favorite', 'woman fence', 'woman fence net', 'woman fiona', 'woman firm', 'woman firm control', 'woman first', 'woman fishnet', 'woman flat', 'woman fleece', 'woman fleece lined', 'woman flip', 'woman floral', 'woman front', 'woman front close', 'woman full', 'woman full figure', 'woman fulton', 'woman furry', 'woman gel', 'woman gel contend', 'woman gel kayano', 'woman gel nimbus', 'woman gel noosa', 'woman genuine', 'woman genuine leather', 'woman getta', 'woman getta pump', 'woman gift', 'woman girl', 'woman give', 'woman give go', 'woman gizeh', 'woman gizeh thong', 'woman go', 'woman go run', 'woman go walk', 'woman gold', 'woman grid', 'woman gt', 'woman gt 1000', 'woman gypsy', 'woman haley', 'woman halter', 'woman harvest', 'woman heart', 'woman heath', 'woman high', 'woman illumination', 'woman ina', 'woman indiglo', 'woman indiglo easy', 'woman jazz', 'woman jean', 'woman jersey', 'woman junior', 'woman kadee', 'woman kayla', 'woman keepsake', 'woman kessa', 'woman kilty', 'woman kimono', 'woman knee', 'woman knee sock', 'woman knit', 'woman la', 'woman lace', 'woman lacy', 'woman lady', 'woman latin', 'woman leather', 'woman legging', 'woman leigh', 'woman leopard', 'woman lexi', 'woman leyden', 'woman lido', 'woman light', 'woman lightweight', 'woman line', 'woman line slip', 'woman lollipop', 'woman long', 'woman long sleeve', 'woman lorelei', 'woman love', 'woman low', 'woman loyal', 'woman lrw200h', 'woman lulu', 'woman luxe', 'woman mary', 'woman mary jane', 'woman maternity', 'woman mayari', 'woman mayari birko', 'woman melbourne', 'woman melissa', 'woman men', 'woman mesh', 'woman microfiber', 'woman mid', 'woman mid calf', 'woman mid rise', 'woman mimosa', 'woman mix', 'woman modern', 'woman molded', 'woman motion', 'woman mush', 'woman neck', 'woman new', 'woman nikki', 'woman nylon', 'woman one', 'woman one fab', 'woman one smooth', 'woman opaque', 'woman open', 'woman original', 'woman pack', 'woman pack cotton', 'woman pair', 'woman pair pack', 'woman passion', 'woman passion comfort', 'woman patricia', 'woman patricia ii', 'woman perfect', 'woman perfectly', 'woman petite', 'woman pfg', 'woman piece', 'woman piece lace', 'woman plated', 'woman pleated', 'woman plus', 'woman plus size', 'woman plush', 'woman polka', 'woman polka dot', 'woman porcelain', 'woman power', 'woman powertrain', 'woman premium', 'woman princess', 'woman print', 'woman printed', 'woman pro', 'woman professional', 'woman progrid', 'woman prom', 'woman pu', 'woman pure', 'woman pure genius', 'woman realflex', 'woman reef', 'woman reggae', 'woman regular', 'woman relaxed', 'woman relaxed fit', 'woman rhinestone', 'woman ring', 'woman robe', 'woman roman', 'woman roman gladiator', 'woman rumblers', 'woman running', 'woman sandal', 'woman sandy', 'woman sanrah', 'woman sarah', 'woman sassy', 'woman satin', 'woman scoop', 'woman scoop neck', 'woman scrub', 'woman seamless', 'woman seaside', 'woman second', 'woman second skinny', 'woman secret', 'woman seduce', 'woman sequin', 'woman sexy', 'woman seymour', 'woman shalimar', 'woman shape', 'woman shape ups', 'woman shapewear', 'woman shapewear lace', 'woman sheepskin', 'woman sheer', 'woman sheer thigh', 'woman sherpa', 'woman shiny', 'woman shirt', 'woman shoe', 'woman shoe faux', 'woman shoe platform', 'woman shoe size', 'woman short', 'woman short sleeve', 'woman shoulder', 'woman shoulder self', 'woman show', 'woman shuv', 'woman side', 'woman signature', 'woman signature support', 'woman silk', 'woman sixty', 'woman size', 'woman skele', 'woman skele toe', 'woman skinny', 'woman sky', 'woman sleeve', 'woman sleeveless', 'woman slender', 'woman slender secret', 'woman slim', 'woman slim fit', 'woman slip', 'woman slipper', 'woman slouch', 'woman smooth', 'woman smoothflex', 'woman smoothflex cushrun', 'woman soft', 'woman soft shoulder', 'woman sole', 'woman solid', 'woman solid color', 'woman sophie', 'woman spa', 'woman sport', 'woman stainless', 'woman stainless steel', 'woman strapless', 'woman stretch', 'woman stripe', 'woman striped', 'woman sugar', 'woman summer', 'woman sunglass', 'woman super', 'woman sweet', 'woman sweetheart', 'woman teen', 'woman teen 925', 'woman teen fit', 'woman teen rondelle', 'woman terry', 'woman thermal', 'woman thermal long', 'woman thigh', 'woman training', 'woman travel', 'woman tree', 'woman true', 'woman two', 'woman ultimate', 'woman ultra', 'woman un', 'woman underwear', 'woman uptown', 'woman uptown girl', 'woman vintage', 'woman waist', 'woman waist cincher', 'woman walkstar', 'woman warm', 'woman warm beanie', 'woman watch', 'woman wave', 'woman weekender', 'woman wide', 'woman winter', 'woman within', 'woman within woman', 'woman woman', 'woman wool', 'woman wool blend', 'woman work', 'woman world', 'woman yoga', 'woman zen', 'wonder', 'wonder woman', 'wonderwink', 'wonderwink woman', 'wonderwink woman scrub', 'wood', 'wooden', 'woodland', 'wool', 'wool beret', 'wool blend', 'wool boot', 'wool boot sock', 'woolrich', 'woolrich men', 'woolrich woman', 'word', 'work', 'work boot', 'work dungaree', 'work glove', 'work men', 'work pant', 'work shirt', 'work shoe', 'work short', 'work weekend', 'work woman', 'workout', 'workout legging', 'workwear', 'workwear carpenter', 'workwear carpenter jean', 'workwear men', 'workwear pocket', 'world', 'world pride', 'world sarong', 'world sarong woman', 'world traveler', 'woven', 'woven boxer', 'woven microfiber', 'woven microfiber men', 'woven plain', 'woven plain weave', 'wrangler', 'wrangler men', 'wrangler men genuine', 'wrangler men riggs', 'wrangler men rugged', 'wrangler riggs', 'wrangler riggs workwear', 'wrangler woman', 'wrap', 'wrap around', 'wrap around leather', 'wrap shawl', 'wrap stole', 'wrap top', 'wrapper', 'wrightsock', 'wrinkle', 'wrinkle free', 'wrist', 'wrist watch', 'wristband', 'wristlet', 'wristwatch', 'xl', 'xloop', 'xmas', 'xoxo', 'xoxo woman', 'xr', 'xxl', 'yarn', 'year', 'year battery', 'yoga', 'yoga pant', 'yogacolors', 'yogacolors crystal', 'yogi', 'york', 'york men', 'york woman', 'young', 'youth', 'youyoupifa', 'yukon', 'zanheadgear', 'zebra', 'zehui', 'zehui woman', 'zen', 'zig', 'zip', 'zip boot', 'zip fleece', 'zip front', 'zip hood', 'zip hooded', 'zip hoodie', 'zip mock', 'zipper', 'zippered', 'zirconia', 'zirconia cttw', 'zirconia cz', 'zirconia cz eternity', 'zirconia engagement', 'zirconia engagement ring', 'zirconia halo', 'zirconia pendant', 'zirconia pendant necklace', 'zirconia ring', 'zirconia round', 'zirconia stud', 'zirconia stud earring', 'zombie', 'zoned', 'zoned support']\n"
     ]
    }
   ],
   "source": [
    "# Check the feature/column names \n",
    "vocab = cvec.get_feature_names()\n",
    "print(vocab)"
   ]
  },
  {
   "cell_type": "markdown",
   "metadata": {},
   "source": [
    "Remove words that are just integers"
   ]
  },
  {
   "cell_type": "code",
   "execution_count": 49,
   "metadata": {},
   "outputs": [],
   "source": [
    "keep_words = []     # instantiate an empty list \n",
    "for word in vocab:  # loop through the list words/strings\n",
    "    try:\n",
    "        [int(i) for i in word.split(\" \")]  # try to turn each word in the string into an integer \n",
    "    except:                               # if it gets an error = not an integer\n",
    "        keep_words.append(word)           # add it tot he keep words list"
   ]
  },
  {
   "cell_type": "code",
   "execution_count": 50,
   "metadata": {},
   "outputs": [
    {
     "data": {
      "text/plain": [
       "['00 carat',\n",
       " '00 carat total',\n",
       " '00g',\n",
       " '0mm',\n",
       " '10 cttw',\n",
       " '10 cttw color',\n",
       " '10 inch',\n",
       " '10 pack',\n",
       " '10 pack cotton',\n",
       " '10 running']"
      ]
     },
     "execution_count": 50,
     "metadata": {},
     "output_type": "execute_result"
    }
   ],
   "source": [
    "keep_words[:10]"
   ]
  },
  {
   "cell_type": "markdown",
   "metadata": {},
   "source": [
    "Turn newly created feaures matrix into a DataFrame."
   ]
  },
  {
   "cell_type": "code",
   "execution_count": 51,
   "metadata": {},
   "outputs": [],
   "source": [
    "feature_names_df = pd.DataFrame(names_features.toarray(),\n",
    "                         columns= cvec.get_feature_names())"
   ]
  },
  {
   "cell_type": "code",
   "execution_count": 52,
   "metadata": {},
   "outputs": [
    {
     "data": {
      "text/html": [
       "<div>\n",
       "<style scoped>\n",
       "    .dataframe tbody tr th:only-of-type {\n",
       "        vertical-align: middle;\n",
       "    }\n",
       "\n",
       "    .dataframe tbody tr th {\n",
       "        vertical-align: top;\n",
       "    }\n",
       "\n",
       "    .dataframe thead th {\n",
       "        text-align: right;\n",
       "    }\n",
       "</style>\n",
       "<table border=\"1\" class=\"dataframe\">\n",
       "  <thead>\n",
       "    <tr style=\"text-align: right;\">\n",
       "      <th></th>\n",
       "      <th>00</th>\n",
       "      <th>00 carat</th>\n",
       "      <th>00 carat total</th>\n",
       "      <th>00g</th>\n",
       "      <th>01</th>\n",
       "      <th>02</th>\n",
       "      <th>03</th>\n",
       "      <th>05</th>\n",
       "      <th>0mm</th>\n",
       "      <th>10</th>\n",
       "      <th>...</th>\n",
       "      <th>zirconia halo</th>\n",
       "      <th>zirconia pendant</th>\n",
       "      <th>zirconia pendant necklace</th>\n",
       "      <th>zirconia ring</th>\n",
       "      <th>zirconia round</th>\n",
       "      <th>zirconia stud</th>\n",
       "      <th>zirconia stud earring</th>\n",
       "      <th>zombie</th>\n",
       "      <th>zoned</th>\n",
       "      <th>zoned support</th>\n",
       "    </tr>\n",
       "  </thead>\n",
       "  <tbody>\n",
       "    <tr>\n",
       "      <th>0</th>\n",
       "      <td>0</td>\n",
       "      <td>0</td>\n",
       "      <td>0</td>\n",
       "      <td>0</td>\n",
       "      <td>0</td>\n",
       "      <td>0</td>\n",
       "      <td>0</td>\n",
       "      <td>0</td>\n",
       "      <td>0</td>\n",
       "      <td>0</td>\n",
       "      <td>...</td>\n",
       "      <td>0</td>\n",
       "      <td>0</td>\n",
       "      <td>0</td>\n",
       "      <td>0</td>\n",
       "      <td>0</td>\n",
       "      <td>0</td>\n",
       "      <td>0</td>\n",
       "      <td>0</td>\n",
       "      <td>0</td>\n",
       "      <td>0</td>\n",
       "    </tr>\n",
       "    <tr>\n",
       "      <th>1</th>\n",
       "      <td>0</td>\n",
       "      <td>0</td>\n",
       "      <td>0</td>\n",
       "      <td>0</td>\n",
       "      <td>0</td>\n",
       "      <td>0</td>\n",
       "      <td>0</td>\n",
       "      <td>0</td>\n",
       "      <td>0</td>\n",
       "      <td>0</td>\n",
       "      <td>...</td>\n",
       "      <td>0</td>\n",
       "      <td>0</td>\n",
       "      <td>0</td>\n",
       "      <td>0</td>\n",
       "      <td>0</td>\n",
       "      <td>0</td>\n",
       "      <td>0</td>\n",
       "      <td>0</td>\n",
       "      <td>0</td>\n",
       "      <td>0</td>\n",
       "    </tr>\n",
       "    <tr>\n",
       "      <th>2</th>\n",
       "      <td>0</td>\n",
       "      <td>0</td>\n",
       "      <td>0</td>\n",
       "      <td>0</td>\n",
       "      <td>0</td>\n",
       "      <td>0</td>\n",
       "      <td>0</td>\n",
       "      <td>0</td>\n",
       "      <td>0</td>\n",
       "      <td>0</td>\n",
       "      <td>...</td>\n",
       "      <td>0</td>\n",
       "      <td>0</td>\n",
       "      <td>0</td>\n",
       "      <td>0</td>\n",
       "      <td>0</td>\n",
       "      <td>0</td>\n",
       "      <td>0</td>\n",
       "      <td>0</td>\n",
       "      <td>0</td>\n",
       "      <td>0</td>\n",
       "    </tr>\n",
       "    <tr>\n",
       "      <th>3</th>\n",
       "      <td>0</td>\n",
       "      <td>0</td>\n",
       "      <td>0</td>\n",
       "      <td>0</td>\n",
       "      <td>0</td>\n",
       "      <td>0</td>\n",
       "      <td>0</td>\n",
       "      <td>0</td>\n",
       "      <td>0</td>\n",
       "      <td>0</td>\n",
       "      <td>...</td>\n",
       "      <td>0</td>\n",
       "      <td>0</td>\n",
       "      <td>0</td>\n",
       "      <td>0</td>\n",
       "      <td>0</td>\n",
       "      <td>0</td>\n",
       "      <td>0</td>\n",
       "      <td>0</td>\n",
       "      <td>0</td>\n",
       "      <td>0</td>\n",
       "    </tr>\n",
       "    <tr>\n",
       "      <th>4</th>\n",
       "      <td>0</td>\n",
       "      <td>0</td>\n",
       "      <td>0</td>\n",
       "      <td>0</td>\n",
       "      <td>0</td>\n",
       "      <td>0</td>\n",
       "      <td>0</td>\n",
       "      <td>0</td>\n",
       "      <td>0</td>\n",
       "      <td>0</td>\n",
       "      <td>...</td>\n",
       "      <td>0</td>\n",
       "      <td>0</td>\n",
       "      <td>0</td>\n",
       "      <td>0</td>\n",
       "      <td>0</td>\n",
       "      <td>0</td>\n",
       "      <td>0</td>\n",
       "      <td>0</td>\n",
       "      <td>0</td>\n",
       "      <td>0</td>\n",
       "    </tr>\n",
       "  </tbody>\n",
       "</table>\n",
       "<p>5 rows × 10000 columns</p>\n",
       "</div>"
      ],
      "text/plain": [
       "   00  00 carat  00 carat total  00g  01  02  03  05  0mm  10  ...  \\\n",
       "0   0         0               0    0   0   0   0   0    0   0  ...   \n",
       "1   0         0               0    0   0   0   0   0    0   0  ...   \n",
       "2   0         0               0    0   0   0   0   0    0   0  ...   \n",
       "3   0         0               0    0   0   0   0   0    0   0  ...   \n",
       "4   0         0               0    0   0   0   0   0    0   0  ...   \n",
       "\n",
       "   zirconia halo  zirconia pendant  zirconia pendant necklace  zirconia ring  \\\n",
       "0              0                 0                          0              0   \n",
       "1              0                 0                          0              0   \n",
       "2              0                 0                          0              0   \n",
       "3              0                 0                          0              0   \n",
       "4              0                 0                          0              0   \n",
       "\n",
       "   zirconia round  zirconia stud  zirconia stud earring  zombie  zoned  \\\n",
       "0               0              0                      0       0      0   \n",
       "1               0              0                      0       0      0   \n",
       "2               0              0                      0       0      0   \n",
       "3               0              0                      0       0      0   \n",
       "4               0              0                      0       0      0   \n",
       "\n",
       "   zoned support  \n",
       "0              0  \n",
       "1              0  \n",
       "2              0  \n",
       "3              0  \n",
       "4              0  \n",
       "\n",
       "[5 rows x 10000 columns]"
      ]
     },
     "execution_count": 52,
     "metadata": {},
     "output_type": "execute_result"
    }
   ],
   "source": [
    "feature_names_df.head()"
   ]
  },
  {
   "cell_type": "code",
   "execution_count": 53,
   "metadata": {
    "scrolled": true
   },
   "outputs": [
    {
     "data": {
      "text/plain": [
       "0    13726\n",
       "1        6\n",
       "Name: zombie, dtype: int64"
      ]
     },
     "execution_count": 53,
     "metadata": {},
     "output_type": "execute_result"
    }
   ],
   "source": [
    "# Check value counts of a specific feature \n",
    "feature_names_df['zombie'].value_counts()"
   ]
  },
  {
   "cell_type": "markdown",
   "metadata": {},
   "source": [
    "Find the column names that intersect with the words in the keep list "
   ]
  },
  {
   "cell_type": "code",
   "execution_count": 54,
   "metadata": {},
   "outputs": [
    {
     "data": {
      "text/plain": [
       "Index(['00 carat', '00 carat total', '00g', '0mm', '10 cttw', '10 cttw color',\n",
       "       '10 inch', '10 pack', '10 pack cotton', '10 running',\n",
       "       ...\n",
       "       'zirconia halo', 'zirconia pendant', 'zirconia pendant necklace',\n",
       "       'zirconia ring', 'zirconia round', 'zirconia stud',\n",
       "       'zirconia stud earring', 'zombie', 'zoned', 'zoned support'],\n",
       "      dtype='object', length=9885)"
      ]
     },
     "execution_count": 54,
     "metadata": {},
     "output_type": "execute_result"
    }
   ],
   "source": [
    "feature_names_df.columns.intersection(keep_words)"
   ]
  },
  {
   "cell_type": "markdown",
   "metadata": {},
   "source": [
    "Create a DataFrame with the just the non-integer words "
   ]
  },
  {
   "cell_type": "code",
   "execution_count": 55,
   "metadata": {},
   "outputs": [],
   "source": [
    "feature_names_df = feature_names_df[feature_names_df.columns.intersection(keep_words)]"
   ]
  },
  {
   "cell_type": "markdown",
   "metadata": {},
   "source": [
    "Use a dictionary comprhension to check the features of a row."
   ]
  },
  {
   "cell_type": "code",
   "execution_count": 56,
   "metadata": {},
   "outputs": [
    {
     "data": {
      "text/plain": [
       "{'box': 1,\n",
       " 'box case': 1,\n",
       " 'case': 1,\n",
       " 'case lock': 1,\n",
       " 'jewelry': 1,\n",
       " 'jewelry box': 1,\n",
       " 'jewelry box case': 1,\n",
       " 'leather': 1,\n",
       " 'leather jewelry': 1,\n",
       " 'leather jewelry box': 1,\n",
       " 'lock': 1,\n",
       " 'organizer': 1,\n",
       " 'organizer travel': 1,\n",
       " 'organizer travel case': 1,\n",
       " 'storage': 1,\n",
       " 'storage organizer': 1,\n",
       " 'storage organizer travel': 1,\n",
       " 'travel': 1,\n",
       " 'travel case': 1,\n",
       " 'travel case lock': 1}"
      ]
     },
     "execution_count": 56,
     "metadata": {},
     "output_type": "execute_result"
    }
   ],
   "source": [
    "box = feature_names_df.loc[1].to_dict()\n",
    "\n",
    "{k:v for k,v in box.items() if v != 0}"
   ]
  },
  {
   "cell_type": "code",
   "execution_count": 57,
   "metadata": {},
   "outputs": [
    {
     "data": {
      "text/plain": [
       "(13732, 9885)"
      ]
     },
     "execution_count": 57,
     "metadata": {},
     "output_type": "execute_result"
    }
   ],
   "source": [
    "# Check number of rows and columns - eliminated an additional 115 columns by getting rid of ones names with integers.\n",
    "feature_names_df.shape"
   ]
  },
  {
   "cell_type": "code",
   "execution_count": 58,
   "metadata": {},
   "outputs": [
    {
     "data": {
      "text/html": [
       "<div>\n",
       "<style scoped>\n",
       "    .dataframe tbody tr th:only-of-type {\n",
       "        vertical-align: middle;\n",
       "    }\n",
       "\n",
       "    .dataframe tbody tr th {\n",
       "        vertical-align: top;\n",
       "    }\n",
       "\n",
       "    .dataframe thead th {\n",
       "        text-align: right;\n",
       "    }\n",
       "</style>\n",
       "<table border=\"1\" class=\"dataframe\">\n",
       "  <thead>\n",
       "    <tr style=\"text-align: right;\">\n",
       "      <th></th>\n",
       "      <th>00 carat</th>\n",
       "      <th>00 carat total</th>\n",
       "      <th>00g</th>\n",
       "      <th>0mm</th>\n",
       "      <th>10 cttw</th>\n",
       "      <th>10 cttw color</th>\n",
       "      <th>10 inch</th>\n",
       "      <th>10 pack</th>\n",
       "      <th>10 pack cotton</th>\n",
       "      <th>10 running</th>\n",
       "      <th>...</th>\n",
       "      <th>zirconia halo</th>\n",
       "      <th>zirconia pendant</th>\n",
       "      <th>zirconia pendant necklace</th>\n",
       "      <th>zirconia ring</th>\n",
       "      <th>zirconia round</th>\n",
       "      <th>zirconia stud</th>\n",
       "      <th>zirconia stud earring</th>\n",
       "      <th>zombie</th>\n",
       "      <th>zoned</th>\n",
       "      <th>zoned support</th>\n",
       "    </tr>\n",
       "  </thead>\n",
       "  <tbody>\n",
       "    <tr>\n",
       "      <th>0</th>\n",
       "      <td>0</td>\n",
       "      <td>0</td>\n",
       "      <td>0</td>\n",
       "      <td>0</td>\n",
       "      <td>0</td>\n",
       "      <td>0</td>\n",
       "      <td>0</td>\n",
       "      <td>0</td>\n",
       "      <td>0</td>\n",
       "      <td>0</td>\n",
       "      <td>...</td>\n",
       "      <td>0</td>\n",
       "      <td>0</td>\n",
       "      <td>0</td>\n",
       "      <td>0</td>\n",
       "      <td>0</td>\n",
       "      <td>0</td>\n",
       "      <td>0</td>\n",
       "      <td>0</td>\n",
       "      <td>0</td>\n",
       "      <td>0</td>\n",
       "    </tr>\n",
       "    <tr>\n",
       "      <th>1</th>\n",
       "      <td>0</td>\n",
       "      <td>0</td>\n",
       "      <td>0</td>\n",
       "      <td>0</td>\n",
       "      <td>0</td>\n",
       "      <td>0</td>\n",
       "      <td>0</td>\n",
       "      <td>0</td>\n",
       "      <td>0</td>\n",
       "      <td>0</td>\n",
       "      <td>...</td>\n",
       "      <td>0</td>\n",
       "      <td>0</td>\n",
       "      <td>0</td>\n",
       "      <td>0</td>\n",
       "      <td>0</td>\n",
       "      <td>0</td>\n",
       "      <td>0</td>\n",
       "      <td>0</td>\n",
       "      <td>0</td>\n",
       "      <td>0</td>\n",
       "    </tr>\n",
       "    <tr>\n",
       "      <th>2</th>\n",
       "      <td>0</td>\n",
       "      <td>0</td>\n",
       "      <td>0</td>\n",
       "      <td>0</td>\n",
       "      <td>0</td>\n",
       "      <td>0</td>\n",
       "      <td>0</td>\n",
       "      <td>0</td>\n",
       "      <td>0</td>\n",
       "      <td>0</td>\n",
       "      <td>...</td>\n",
       "      <td>0</td>\n",
       "      <td>0</td>\n",
       "      <td>0</td>\n",
       "      <td>0</td>\n",
       "      <td>0</td>\n",
       "      <td>0</td>\n",
       "      <td>0</td>\n",
       "      <td>0</td>\n",
       "      <td>0</td>\n",
       "      <td>0</td>\n",
       "    </tr>\n",
       "    <tr>\n",
       "      <th>3</th>\n",
       "      <td>0</td>\n",
       "      <td>0</td>\n",
       "      <td>0</td>\n",
       "      <td>0</td>\n",
       "      <td>0</td>\n",
       "      <td>0</td>\n",
       "      <td>0</td>\n",
       "      <td>0</td>\n",
       "      <td>0</td>\n",
       "      <td>0</td>\n",
       "      <td>...</td>\n",
       "      <td>0</td>\n",
       "      <td>0</td>\n",
       "      <td>0</td>\n",
       "      <td>0</td>\n",
       "      <td>0</td>\n",
       "      <td>0</td>\n",
       "      <td>0</td>\n",
       "      <td>0</td>\n",
       "      <td>0</td>\n",
       "      <td>0</td>\n",
       "    </tr>\n",
       "    <tr>\n",
       "      <th>4</th>\n",
       "      <td>0</td>\n",
       "      <td>0</td>\n",
       "      <td>0</td>\n",
       "      <td>0</td>\n",
       "      <td>0</td>\n",
       "      <td>0</td>\n",
       "      <td>0</td>\n",
       "      <td>0</td>\n",
       "      <td>0</td>\n",
       "      <td>0</td>\n",
       "      <td>...</td>\n",
       "      <td>0</td>\n",
       "      <td>0</td>\n",
       "      <td>0</td>\n",
       "      <td>0</td>\n",
       "      <td>0</td>\n",
       "      <td>0</td>\n",
       "      <td>0</td>\n",
       "      <td>0</td>\n",
       "      <td>0</td>\n",
       "      <td>0</td>\n",
       "    </tr>\n",
       "  </tbody>\n",
       "</table>\n",
       "<p>5 rows × 9885 columns</p>\n",
       "</div>"
      ],
      "text/plain": [
       "   00 carat  00 carat total  00g  0mm  10 cttw  10 cttw color  10 inch  \\\n",
       "0         0               0    0    0        0              0        0   \n",
       "1         0               0    0    0        0              0        0   \n",
       "2         0               0    0    0        0              0        0   \n",
       "3         0               0    0    0        0              0        0   \n",
       "4         0               0    0    0        0              0        0   \n",
       "\n",
       "   10 pack  10 pack cotton  10 running  ...  zirconia halo  zirconia pendant  \\\n",
       "0        0               0           0  ...              0                 0   \n",
       "1        0               0           0  ...              0                 0   \n",
       "2        0               0           0  ...              0                 0   \n",
       "3        0               0           0  ...              0                 0   \n",
       "4        0               0           0  ...              0                 0   \n",
       "\n",
       "   zirconia pendant necklace  zirconia ring  zirconia round  zirconia stud  \\\n",
       "0                          0              0               0              0   \n",
       "1                          0              0               0              0   \n",
       "2                          0              0               0              0   \n",
       "3                          0              0               0              0   \n",
       "4                          0              0               0              0   \n",
       "\n",
       "   zirconia stud earring  zombie  zoned  zoned support  \n",
       "0                      0       0      0              0  \n",
       "1                      0       0      0              0  \n",
       "2                      0       0      0              0  \n",
       "3                      0       0      0              0  \n",
       "4                      0       0      0              0  \n",
       "\n",
       "[5 rows x 9885 columns]"
      ]
     },
     "execution_count": 58,
     "metadata": {},
     "output_type": "execute_result"
    }
   ],
   "source": [
    "feature_names_df.head()"
   ]
  },
  {
   "cell_type": "markdown",
   "metadata": {},
   "source": [
    "### Add name features "
   ]
  },
  {
   "cell_type": "markdown",
   "metadata": {},
   "source": [
    "Merge `categories` with `feature_names_df` on the index."
   ]
  },
  {
   "cell_type": "code",
   "execution_count": 59,
   "metadata": {},
   "outputs": [],
   "source": [
    "cats_feats = pd.merge(categories, feature_names_df, right_index=True, left_index=True)"
   ]
  },
  {
   "cell_type": "code",
   "execution_count": 60,
   "metadata": {},
   "outputs": [
    {
     "data": {
      "text/html": [
       "<div>\n",
       "<style scoped>\n",
       "    .dataframe tbody tr th:only-of-type {\n",
       "        vertical-align: middle;\n",
       "    }\n",
       "\n",
       "    .dataframe tbody tr th {\n",
       "        vertical-align: top;\n",
       "    }\n",
       "\n",
       "    .dataframe thead th {\n",
       "        text-align: right;\n",
       "    }\n",
       "</style>\n",
       "<table border=\"1\" class=\"dataframe\">\n",
       "  <thead>\n",
       "    <tr style=\"text-align: right;\">\n",
       "      <th></th>\n",
       "      <th>asin</th>\n",
       "      <th>name_x</th>\n",
       "      <th>arts_crafts_sewing</th>\n",
       "      <th>automotive</th>\n",
       "      <th>baby_products</th>\n",
       "      <th>beauty_personal_care</th>\n",
       "      <th>cell_phones_accessories</th>\n",
       "      <th>clothing_shoes_jewelry</th>\n",
       "      <th>electronics</th>\n",
       "      <th>health_household</th>\n",
       "      <th>...</th>\n",
       "      <th>zirconia halo</th>\n",
       "      <th>zirconia pendant</th>\n",
       "      <th>zirconia pendant necklace</th>\n",
       "      <th>zirconia ring</th>\n",
       "      <th>zirconia round</th>\n",
       "      <th>zirconia stud</th>\n",
       "      <th>zirconia stud earring</th>\n",
       "      <th>zombie</th>\n",
       "      <th>zoned</th>\n",
       "      <th>zoned support</th>\n",
       "    </tr>\n",
       "  </thead>\n",
       "  <tbody>\n",
       "    <tr>\n",
       "      <th>0</th>\n",
       "      <td>0000031887</td>\n",
       "      <td>Mystiqueshapes Girls Ballet Tutu Neon Lime Green</td>\n",
       "      <td>0.0</td>\n",
       "      <td>0.0</td>\n",
       "      <td>0.0</td>\n",
       "      <td>0.0</td>\n",
       "      <td>0.0</td>\n",
       "      <td>0.0</td>\n",
       "      <td>0.0</td>\n",
       "      <td>0.0</td>\n",
       "      <td>...</td>\n",
       "      <td>0</td>\n",
       "      <td>0</td>\n",
       "      <td>0</td>\n",
       "      <td>0</td>\n",
       "      <td>0</td>\n",
       "      <td>0</td>\n",
       "      <td>0</td>\n",
       "      <td>0</td>\n",
       "      <td>0</td>\n",
       "      <td>0</td>\n",
       "    </tr>\n",
       "    <tr>\n",
       "      <th>1</th>\n",
       "      <td>0123456479</td>\n",
       "      <td>SHINING IMAGE HUGE PINK LEATHER JEWELRY BOX / CASE / STORAGE / ORGANIZER WITH TRAVEL CASE AND LOCK</td>\n",
       "      <td>0.0</td>\n",
       "      <td>0.0</td>\n",
       "      <td>0.0</td>\n",
       "      <td>0.0</td>\n",
       "      <td>0.0</td>\n",
       "      <td>1.0</td>\n",
       "      <td>0.0</td>\n",
       "      <td>0.0</td>\n",
       "      <td>...</td>\n",
       "      <td>0</td>\n",
       "      <td>0</td>\n",
       "      <td>0</td>\n",
       "      <td>0</td>\n",
       "      <td>0</td>\n",
       "      <td>0</td>\n",
       "      <td>0</td>\n",
       "      <td>0</td>\n",
       "      <td>0</td>\n",
       "      <td>0</td>\n",
       "    </tr>\n",
       "    <tr>\n",
       "      <th>2</th>\n",
       "      <td>1608299953</td>\n",
       "      <td>Learn French: Rosetta Stone French - Level 1</td>\n",
       "      <td>0.0</td>\n",
       "      <td>0.0</td>\n",
       "      <td>0.0</td>\n",
       "      <td>0.0</td>\n",
       "      <td>0.0</td>\n",
       "      <td>0.0</td>\n",
       "      <td>0.0</td>\n",
       "      <td>0.0</td>\n",
       "      <td>...</td>\n",
       "      <td>0</td>\n",
       "      <td>0</td>\n",
       "      <td>0</td>\n",
       "      <td>0</td>\n",
       "      <td>0</td>\n",
       "      <td>0</td>\n",
       "      <td>0</td>\n",
       "      <td>0</td>\n",
       "      <td>0</td>\n",
       "      <td>0</td>\n",
       "    </tr>\n",
       "    <tr>\n",
       "      <th>3</th>\n",
       "      <td>1617160377</td>\n",
       "      <td>Learn Italian: Rosetta Stone Italian - Level 1</td>\n",
       "      <td>0.0</td>\n",
       "      <td>0.0</td>\n",
       "      <td>0.0</td>\n",
       "      <td>0.0</td>\n",
       "      <td>0.0</td>\n",
       "      <td>0.0</td>\n",
       "      <td>0.0</td>\n",
       "      <td>0.0</td>\n",
       "      <td>...</td>\n",
       "      <td>0</td>\n",
       "      <td>0</td>\n",
       "      <td>0</td>\n",
       "      <td>0</td>\n",
       "      <td>0</td>\n",
       "      <td>0</td>\n",
       "      <td>0</td>\n",
       "      <td>0</td>\n",
       "      <td>0</td>\n",
       "      <td>0</td>\n",
       "    </tr>\n",
       "    <tr>\n",
       "      <th>4</th>\n",
       "      <td>B00001W0KA</td>\n",
       "      <td>Buzz Lightyear Boy's Deluxe Toy Story Costume</td>\n",
       "      <td>0.0</td>\n",
       "      <td>0.0</td>\n",
       "      <td>0.0</td>\n",
       "      <td>0.0</td>\n",
       "      <td>0.0</td>\n",
       "      <td>0.0</td>\n",
       "      <td>0.0</td>\n",
       "      <td>0.0</td>\n",
       "      <td>...</td>\n",
       "      <td>0</td>\n",
       "      <td>0</td>\n",
       "      <td>0</td>\n",
       "      <td>0</td>\n",
       "      <td>0</td>\n",
       "      <td>0</td>\n",
       "      <td>0</td>\n",
       "      <td>0</td>\n",
       "      <td>0</td>\n",
       "      <td>0</td>\n",
       "    </tr>\n",
       "  </tbody>\n",
       "</table>\n",
       "<p>5 rows × 10699 columns</p>\n",
       "</div>"
      ],
      "text/plain": [
       "         asin  \\\n",
       "0  0000031887   \n",
       "1  0123456479   \n",
       "2  1608299953   \n",
       "3  1617160377   \n",
       "4  B00001W0KA   \n",
       "\n",
       "                                                                                               name_x  \\\n",
       "0                                                    Mystiqueshapes Girls Ballet Tutu Neon Lime Green   \n",
       "1  SHINING IMAGE HUGE PINK LEATHER JEWELRY BOX / CASE / STORAGE / ORGANIZER WITH TRAVEL CASE AND LOCK   \n",
       "2                                                        Learn French: Rosetta Stone French - Level 1   \n",
       "3                                                      Learn Italian: Rosetta Stone Italian - Level 1   \n",
       "4                                                       Buzz Lightyear Boy's Deluxe Toy Story Costume   \n",
       "\n",
       "   arts_crafts_sewing  automotive  baby_products  beauty_personal_care  \\\n",
       "0                 0.0         0.0            0.0                   0.0   \n",
       "1                 0.0         0.0            0.0                   0.0   \n",
       "2                 0.0         0.0            0.0                   0.0   \n",
       "3                 0.0         0.0            0.0                   0.0   \n",
       "4                 0.0         0.0            0.0                   0.0   \n",
       "\n",
       "   cell_phones_accessories  clothing_shoes_jewelry  electronics  \\\n",
       "0                      0.0                     0.0          0.0   \n",
       "1                      0.0                     1.0          0.0   \n",
       "2                      0.0                     0.0          0.0   \n",
       "3                      0.0                     0.0          0.0   \n",
       "4                      0.0                     0.0          0.0   \n",
       "\n",
       "   health_household  ...  zirconia halo  zirconia pendant  \\\n",
       "0               0.0  ...              0                 0   \n",
       "1               0.0  ...              0                 0   \n",
       "2               0.0  ...              0                 0   \n",
       "3               0.0  ...              0                 0   \n",
       "4               0.0  ...              0                 0   \n",
       "\n",
       "   zirconia pendant necklace  zirconia ring  zirconia round  zirconia stud  \\\n",
       "0                          0              0               0              0   \n",
       "1                          0              0               0              0   \n",
       "2                          0              0               0              0   \n",
       "3                          0              0               0              0   \n",
       "4                          0              0               0              0   \n",
       "\n",
       "   zirconia stud earring  zombie  zoned  zoned support  \n",
       "0                      0       0      0              0  \n",
       "1                      0       0      0              0  \n",
       "2                      0       0      0              0  \n",
       "3                      0       0      0              0  \n",
       "4                      0       0      0              0  \n",
       "\n",
       "[5 rows x 10699 columns]"
      ]
     },
     "execution_count": 60,
     "metadata": {},
     "output_type": "execute_result"
    }
   ],
   "source": [
    "cats_feats.head()"
   ]
  },
  {
   "cell_type": "markdown",
   "metadata": {},
   "source": [
    "Check that the 814 category columns were successfully added."
   ]
  },
  {
   "cell_type": "code",
   "execution_count": 61,
   "metadata": {},
   "outputs": [
    {
     "data": {
      "text/plain": [
       "(13732, 10699)"
      ]
     },
     "execution_count": 61,
     "metadata": {},
     "output_type": "execute_result"
    }
   ],
   "source": [
    "cats_feats.shape"
   ]
  },
  {
   "cell_type": "markdown",
   "metadata": {},
   "source": [
    "Drop `asin` column and set `name` to index."
   ]
  },
  {
   "cell_type": "code",
   "execution_count": 62,
   "metadata": {},
   "outputs": [],
   "source": [
    "cats_feats = cats_feats.set_index('name_x').drop(columns='asin')"
   ]
  },
  {
   "cell_type": "code",
   "execution_count": 63,
   "metadata": {},
   "outputs": [
    {
     "data": {
      "text/plain": [
       "(13732, 10697)"
      ]
     },
     "execution_count": 63,
     "metadata": {},
     "output_type": "execute_result"
    }
   ],
   "source": [
    "cats_feats.shape"
   ]
  },
  {
   "cell_type": "code",
   "execution_count": 64,
   "metadata": {},
   "outputs": [],
   "source": [
    "cats_feats_sparse = sparse.csr_matrix(cats_feats.fillna(0))"
   ]
  },
  {
   "cell_type": "code",
   "execution_count": 65,
   "metadata": {},
   "outputs": [
    {
     "data": {
      "text/plain": [
       "<13732x10697 sparse matrix of type '<class 'numpy.float64'>'\n",
       "\twith 220665 stored elements in Compressed Sparse Row format>"
      ]
     },
     "execution_count": 65,
     "metadata": {},
     "output_type": "execute_result"
    }
   ],
   "source": [
    "cats_feats_sparse"
   ]
  },
  {
   "cell_type": "markdown",
   "metadata": {},
   "source": [
    "Check similiarity of every item to every other item with pairwise distances & newly added features. "
   ]
  },
  {
   "cell_type": "code",
   "execution_count": 66,
   "metadata": {},
   "outputs": [],
   "source": [
    "recommender2 = pairwise_distances(cats_feats, metric='cosine')"
   ]
  },
  {
   "cell_type": "code",
   "execution_count": 67,
   "metadata": {},
   "outputs": [
    {
     "data": {
      "text/plain": [
       "array([[0.   , 0.488, 0.332, ..., 0.566, 0.387, 0.371],\n",
       "       [0.488, 0.   , 0.465, ..., 0.649, 0.528, 0.47 ],\n",
       "       [0.332, 0.465, 0.   , ..., 0.587, 0.415, 0.342],\n",
       "       ...,\n",
       "       [0.566, 0.649, 0.587, ..., 0.   , 0.517, 0.573],\n",
       "       [0.387, 0.528, 0.415, ..., 0.517, 0.   , 0.423],\n",
       "       [0.371, 0.47 , 0.342, ..., 0.573, 0.423, 0.   ]])"
      ]
     },
     "execution_count": 67,
     "metadata": {},
     "output_type": "execute_result"
    }
   ],
   "source": [
    "recommender2.round(3)"
   ]
  },
  {
   "cell_type": "code",
   "execution_count": 68,
   "metadata": {},
   "outputs": [
    {
     "data": {
      "text/html": [
       "<div>\n",
       "<style scoped>\n",
       "    .dataframe tbody tr th:only-of-type {\n",
       "        vertical-align: middle;\n",
       "    }\n",
       "\n",
       "    .dataframe tbody tr th {\n",
       "        vertical-align: top;\n",
       "    }\n",
       "\n",
       "    .dataframe thead th {\n",
       "        text-align: right;\n",
       "    }\n",
       "</style>\n",
       "<table border=\"1\" class=\"dataframe\">\n",
       "  <thead>\n",
       "    <tr style=\"text-align: right;\">\n",
       "      <th>name_x</th>\n",
       "      <th>Mystiqueshapes Girls Ballet Tutu Neon Lime Green</th>\n",
       "      <th>SHINING IMAGE HUGE PINK LEATHER JEWELRY BOX / CASE / STORAGE / ORGANIZER WITH TRAVEL CASE AND LOCK</th>\n",
       "      <th>Learn French: Rosetta Stone French - Level 1</th>\n",
       "      <th>Learn Italian: Rosetta Stone Italian - Level 1</th>\n",
       "      <th>Buzz Lightyear Boy's Deluxe Toy Story Costume</th>\n",
       "      <th>Woody Deluxe Child - Size: Child S(4-6)</th>\n",
       "      <th>Lewis N. Clark Stash</th>\n",
       "      <th>Lewis N. Clark Deluxe Neck Stash, Beige</th>\n",
       "      <th>Lewis N. Clark Add-A-Bag Travel Luggage Strap, Black, One Size</th>\n",
       "      <th>Buzz Lightyear Jet Pack</th>\n",
       "      <th>...</th>\n",
       "      <th>Sakkas Everyday Essentials Caftan Tank Dress/Cover Up</th>\n",
       "      <th>Sakkas Natalie Sequin Tie Dye Blouse</th>\n",
       "      <th>Sakkas Malvina Marbled Embroidery Cap Sleeves Blouse/Top</th>\n",
       "      <th>Lindy Bop 'Ophelia' Vintage 1950's Floral Spring Garden Party Picnic Dress</th>\n",
       "      <th>Free to Live Women's Fold Over High Waisted Flowy Floor Length Maxi Skirt</th>\n",
       "      <th>Rampage Womens Ultra Cute Embroidered Heather Jersey Night Shirt (Small-3X)</th>\n",
       "      <th>14k Gold-Bonded Sterling Silver Tri-Color Hoop Earrings</th>\n",
       "      <th>Classic Designs Stretch Poplin Elastic Waist Cargo Capri</th>\n",
       "      <th>TendzArt Azules Poly Span Floral Print Full Length Long Maxi Skirt - Made in USA (Medium, Purple+Mint+Yellow)</th>\n",
       "      <th>Kenneth Cole Reaction Easy To Remember, Black, One Size</th>\n",
       "    </tr>\n",
       "    <tr>\n",
       "      <th>name_x</th>\n",
       "      <th></th>\n",
       "      <th></th>\n",
       "      <th></th>\n",
       "      <th></th>\n",
       "      <th></th>\n",
       "      <th></th>\n",
       "      <th></th>\n",
       "      <th></th>\n",
       "      <th></th>\n",
       "      <th></th>\n",
       "      <th></th>\n",
       "      <th></th>\n",
       "      <th></th>\n",
       "      <th></th>\n",
       "      <th></th>\n",
       "      <th></th>\n",
       "      <th></th>\n",
       "      <th></th>\n",
       "      <th></th>\n",
       "      <th></th>\n",
       "      <th></th>\n",
       "    </tr>\n",
       "  </thead>\n",
       "  <tbody>\n",
       "    <tr>\n",
       "      <th>Mystiqueshapes Girls Ballet Tutu Neon Lime Green</th>\n",
       "      <td>0.000</td>\n",
       "      <td>0.488</td>\n",
       "      <td>0.332</td>\n",
       "      <td>0.318</td>\n",
       "      <td>0.306</td>\n",
       "      <td>0.362</td>\n",
       "      <td>0.316</td>\n",
       "      <td>0.344</td>\n",
       "      <td>0.435</td>\n",
       "      <td>0.322</td>\n",
       "      <td>...</td>\n",
       "      <td>0.347</td>\n",
       "      <td>0.415</td>\n",
       "      <td>0.395</td>\n",
       "      <td>0.370</td>\n",
       "      <td>0.340</td>\n",
       "      <td>0.442</td>\n",
       "      <td>0.429</td>\n",
       "      <td>0.566</td>\n",
       "      <td>0.387</td>\n",
       "      <td>0.371</td>\n",
       "    </tr>\n",
       "    <tr>\n",
       "      <th>SHINING IMAGE HUGE PINK LEATHER JEWELRY BOX / CASE / STORAGE / ORGANIZER WITH TRAVEL CASE AND LOCK</th>\n",
       "      <td>0.488</td>\n",
       "      <td>0.000</td>\n",
       "      <td>0.465</td>\n",
       "      <td>0.454</td>\n",
       "      <td>0.444</td>\n",
       "      <td>0.454</td>\n",
       "      <td>0.424</td>\n",
       "      <td>0.446</td>\n",
       "      <td>0.493</td>\n",
       "      <td>0.424</td>\n",
       "      <td>...</td>\n",
       "      <td>0.474</td>\n",
       "      <td>0.528</td>\n",
       "      <td>0.512</td>\n",
       "      <td>0.493</td>\n",
       "      <td>0.491</td>\n",
       "      <td>0.551</td>\n",
       "      <td>0.518</td>\n",
       "      <td>0.649</td>\n",
       "      <td>0.528</td>\n",
       "      <td>0.470</td>\n",
       "    </tr>\n",
       "    <tr>\n",
       "      <th>Learn French: Rosetta Stone French - Level 1</th>\n",
       "      <td>0.332</td>\n",
       "      <td>0.465</td>\n",
       "      <td>0.000</td>\n",
       "      <td>0.036</td>\n",
       "      <td>0.274</td>\n",
       "      <td>0.333</td>\n",
       "      <td>0.285</td>\n",
       "      <td>0.313</td>\n",
       "      <td>0.409</td>\n",
       "      <td>0.291</td>\n",
       "      <td>...</td>\n",
       "      <td>0.348</td>\n",
       "      <td>0.428</td>\n",
       "      <td>0.399</td>\n",
       "      <td>0.371</td>\n",
       "      <td>0.369</td>\n",
       "      <td>0.448</td>\n",
       "      <td>0.402</td>\n",
       "      <td>0.587</td>\n",
       "      <td>0.415</td>\n",
       "      <td>0.342</td>\n",
       "    </tr>\n",
       "    <tr>\n",
       "      <th>Learn Italian: Rosetta Stone Italian - Level 1</th>\n",
       "      <td>0.318</td>\n",
       "      <td>0.454</td>\n",
       "      <td>0.036</td>\n",
       "      <td>0.000</td>\n",
       "      <td>0.260</td>\n",
       "      <td>0.320</td>\n",
       "      <td>0.271</td>\n",
       "      <td>0.300</td>\n",
       "      <td>0.397</td>\n",
       "      <td>0.277</td>\n",
       "      <td>...</td>\n",
       "      <td>0.334</td>\n",
       "      <td>0.417</td>\n",
       "      <td>0.387</td>\n",
       "      <td>0.358</td>\n",
       "      <td>0.356</td>\n",
       "      <td>0.437</td>\n",
       "      <td>0.390</td>\n",
       "      <td>0.579</td>\n",
       "      <td>0.403</td>\n",
       "      <td>0.329</td>\n",
       "    </tr>\n",
       "    <tr>\n",
       "      <th>Buzz Lightyear Boy's Deluxe Toy Story Costume</th>\n",
       "      <td>0.306</td>\n",
       "      <td>0.444</td>\n",
       "      <td>0.274</td>\n",
       "      <td>0.260</td>\n",
       "      <td>0.000</td>\n",
       "      <td>0.265</td>\n",
       "      <td>0.258</td>\n",
       "      <td>0.254</td>\n",
       "      <td>0.386</td>\n",
       "      <td>0.264</td>\n",
       "      <td>...</td>\n",
       "      <td>0.323</td>\n",
       "      <td>0.406</td>\n",
       "      <td>0.377</td>\n",
       "      <td>0.347</td>\n",
       "      <td>0.345</td>\n",
       "      <td>0.427</td>\n",
       "      <td>0.380</td>\n",
       "      <td>0.571</td>\n",
       "      <td>0.392</td>\n",
       "      <td>0.317</td>\n",
       "    </tr>\n",
       "  </tbody>\n",
       "</table>\n",
       "<p>5 rows × 13732 columns</p>\n",
       "</div>"
      ],
      "text/plain": [
       "name_x                                                                                              Mystiqueshapes Girls Ballet Tutu Neon Lime Green  \\\n",
       "name_x                                                                                                                                                 \n",
       "Mystiqueshapes Girls Ballet Tutu Neon Lime Green                                                                                               0.000   \n",
       "SHINING IMAGE HUGE PINK LEATHER JEWELRY BOX / CASE / STORAGE / ORGANIZER WITH TRAVEL CASE AND LOCK                                             0.488   \n",
       "Learn French: Rosetta Stone French - Level 1                                                                                                   0.332   \n",
       "Learn Italian: Rosetta Stone Italian - Level 1                                                                                                 0.318   \n",
       "Buzz Lightyear Boy's Deluxe Toy Story Costume                                                                                                  0.306   \n",
       "\n",
       "name_x                                                                                              SHINING IMAGE HUGE PINK LEATHER JEWELRY BOX / CASE / STORAGE / ORGANIZER WITH TRAVEL CASE AND LOCK  \\\n",
       "name_x                                                                                                                                                                                                   \n",
       "Mystiqueshapes Girls Ballet Tutu Neon Lime Green                                                                                                                                                 0.488   \n",
       "SHINING IMAGE HUGE PINK LEATHER JEWELRY BOX / CASE / STORAGE / ORGANIZER WITH TRAVEL CASE AND LOCK                                                                                               0.000   \n",
       "Learn French: Rosetta Stone French - Level 1                                                                                                                                                     0.465   \n",
       "Learn Italian: Rosetta Stone Italian - Level 1                                                                                                                                                   0.454   \n",
       "Buzz Lightyear Boy's Deluxe Toy Story Costume                                                                                                                                                    0.444   \n",
       "\n",
       "name_x                                                                                              Learn French: Rosetta Stone French - Level 1  \\\n",
       "name_x                                                                                                                                             \n",
       "Mystiqueshapes Girls Ballet Tutu Neon Lime Green                                                                                           0.332   \n",
       "SHINING IMAGE HUGE PINK LEATHER JEWELRY BOX / CASE / STORAGE / ORGANIZER WITH TRAVEL CASE AND LOCK                                         0.465   \n",
       "Learn French: Rosetta Stone French - Level 1                                                                                               0.000   \n",
       "Learn Italian: Rosetta Stone Italian - Level 1                                                                                             0.036   \n",
       "Buzz Lightyear Boy's Deluxe Toy Story Costume                                                                                              0.274   \n",
       "\n",
       "name_x                                                                                              Learn Italian: Rosetta Stone Italian - Level 1  \\\n",
       "name_x                                                                                                                                               \n",
       "Mystiqueshapes Girls Ballet Tutu Neon Lime Green                                                                                             0.318   \n",
       "SHINING IMAGE HUGE PINK LEATHER JEWELRY BOX / CASE / STORAGE / ORGANIZER WITH TRAVEL CASE AND LOCK                                           0.454   \n",
       "Learn French: Rosetta Stone French - Level 1                                                                                                 0.036   \n",
       "Learn Italian: Rosetta Stone Italian - Level 1                                                                                               0.000   \n",
       "Buzz Lightyear Boy's Deluxe Toy Story Costume                                                                                                0.260   \n",
       "\n",
       "name_x                                                                                              Buzz Lightyear Boy's Deluxe Toy Story Costume  \\\n",
       "name_x                                                                                                                                              \n",
       "Mystiqueshapes Girls Ballet Tutu Neon Lime Green                                                                                            0.306   \n",
       "SHINING IMAGE HUGE PINK LEATHER JEWELRY BOX / CASE / STORAGE / ORGANIZER WITH TRAVEL CASE AND LOCK                                          0.444   \n",
       "Learn French: Rosetta Stone French - Level 1                                                                                                0.274   \n",
       "Learn Italian: Rosetta Stone Italian - Level 1                                                                                              0.260   \n",
       "Buzz Lightyear Boy's Deluxe Toy Story Costume                                                                                               0.000   \n",
       "\n",
       "name_x                                                                                              Woody Deluxe Child - Size: Child S(4-6)  \\\n",
       "name_x                                                                                                                                        \n",
       "Mystiqueshapes Girls Ballet Tutu Neon Lime Green                                                                                      0.362   \n",
       "SHINING IMAGE HUGE PINK LEATHER JEWELRY BOX / CASE / STORAGE / ORGANIZER WITH TRAVEL CASE AND LOCK                                    0.454   \n",
       "Learn French: Rosetta Stone French - Level 1                                                                                          0.333   \n",
       "Learn Italian: Rosetta Stone Italian - Level 1                                                                                        0.320   \n",
       "Buzz Lightyear Boy's Deluxe Toy Story Costume                                                                                         0.265   \n",
       "\n",
       "name_x                                                                                              Lewis N. Clark Stash  \\\n",
       "name_x                                                                                                                     \n",
       "Mystiqueshapes Girls Ballet Tutu Neon Lime Green                                                                   0.316   \n",
       "SHINING IMAGE HUGE PINK LEATHER JEWELRY BOX / CASE / STORAGE / ORGANIZER WITH TRAVEL CASE AND LOCK                 0.424   \n",
       "Learn French: Rosetta Stone French - Level 1                                                                       0.285   \n",
       "Learn Italian: Rosetta Stone Italian - Level 1                                                                     0.271   \n",
       "Buzz Lightyear Boy's Deluxe Toy Story Costume                                                                      0.258   \n",
       "\n",
       "name_x                                                                                              Lewis N. Clark Deluxe Neck Stash, Beige  \\\n",
       "name_x                                                                                                                                        \n",
       "Mystiqueshapes Girls Ballet Tutu Neon Lime Green                                                                                      0.344   \n",
       "SHINING IMAGE HUGE PINK LEATHER JEWELRY BOX / CASE / STORAGE / ORGANIZER WITH TRAVEL CASE AND LOCK                                    0.446   \n",
       "Learn French: Rosetta Stone French - Level 1                                                                                          0.313   \n",
       "Learn Italian: Rosetta Stone Italian - Level 1                                                                                        0.300   \n",
       "Buzz Lightyear Boy's Deluxe Toy Story Costume                                                                                         0.254   \n",
       "\n",
       "name_x                                                                                              Lewis N. Clark Add-A-Bag Travel Luggage Strap, Black, One Size  \\\n",
       "name_x                                                                                                                                                               \n",
       "Mystiqueshapes Girls Ballet Tutu Neon Lime Green                                                                                                             0.435   \n",
       "SHINING IMAGE HUGE PINK LEATHER JEWELRY BOX / CASE / STORAGE / ORGANIZER WITH TRAVEL CASE AND LOCK                                                           0.493   \n",
       "Learn French: Rosetta Stone French - Level 1                                                                                                                 0.409   \n",
       "Learn Italian: Rosetta Stone Italian - Level 1                                                                                                               0.397   \n",
       "Buzz Lightyear Boy's Deluxe Toy Story Costume                                                                                                                0.386   \n",
       "\n",
       "name_x                                                                                              Buzz Lightyear Jet Pack  \\\n",
       "name_x                                                                                                                        \n",
       "Mystiqueshapes Girls Ballet Tutu Neon Lime Green                                                                      0.322   \n",
       "SHINING IMAGE HUGE PINK LEATHER JEWELRY BOX / CASE / STORAGE / ORGANIZER WITH TRAVEL CASE AND LOCK                    0.424   \n",
       "Learn French: Rosetta Stone French - Level 1                                                                          0.291   \n",
       "Learn Italian: Rosetta Stone Italian - Level 1                                                                        0.277   \n",
       "Buzz Lightyear Boy's Deluxe Toy Story Costume                                                                         0.264   \n",
       "\n",
       "name_x                                                                                              ...  \\\n",
       "name_x                                                                                              ...   \n",
       "Mystiqueshapes Girls Ballet Tutu Neon Lime Green                                                    ...   \n",
       "SHINING IMAGE HUGE PINK LEATHER JEWELRY BOX / CASE / STORAGE / ORGANIZER WITH TRAVEL CASE AND LOCK  ...   \n",
       "Learn French: Rosetta Stone French - Level 1                                                        ...   \n",
       "Learn Italian: Rosetta Stone Italian - Level 1                                                      ...   \n",
       "Buzz Lightyear Boy's Deluxe Toy Story Costume                                                       ...   \n",
       "\n",
       "name_x                                                                                              Sakkas Everyday Essentials Caftan Tank Dress/Cover Up  \\\n",
       "name_x                                                                                                                                                      \n",
       "Mystiqueshapes Girls Ballet Tutu Neon Lime Green                                                                                                    0.347   \n",
       "SHINING IMAGE HUGE PINK LEATHER JEWELRY BOX / CASE / STORAGE / ORGANIZER WITH TRAVEL CASE AND LOCK                                                  0.474   \n",
       "Learn French: Rosetta Stone French - Level 1                                                                                                        0.348   \n",
       "Learn Italian: Rosetta Stone Italian - Level 1                                                                                                      0.334   \n",
       "Buzz Lightyear Boy's Deluxe Toy Story Costume                                                                                                       0.323   \n",
       "\n",
       "name_x                                                                                              Sakkas Natalie Sequin Tie Dye Blouse  \\\n",
       "name_x                                                                                                                                     \n",
       "Mystiqueshapes Girls Ballet Tutu Neon Lime Green                                                                                   0.415   \n",
       "SHINING IMAGE HUGE PINK LEATHER JEWELRY BOX / CASE / STORAGE / ORGANIZER WITH TRAVEL CASE AND LOCK                                 0.528   \n",
       "Learn French: Rosetta Stone French - Level 1                                                                                       0.428   \n",
       "Learn Italian: Rosetta Stone Italian - Level 1                                                                                     0.417   \n",
       "Buzz Lightyear Boy's Deluxe Toy Story Costume                                                                                      0.406   \n",
       "\n",
       "name_x                                                                                              Sakkas Malvina Marbled Embroidery Cap Sleeves Blouse/Top  \\\n",
       "name_x                                                                                                                                                         \n",
       "Mystiqueshapes Girls Ballet Tutu Neon Lime Green                                                                                                       0.395   \n",
       "SHINING IMAGE HUGE PINK LEATHER JEWELRY BOX / CASE / STORAGE / ORGANIZER WITH TRAVEL CASE AND LOCK                                                     0.512   \n",
       "Learn French: Rosetta Stone French - Level 1                                                                                                           0.399   \n",
       "Learn Italian: Rosetta Stone Italian - Level 1                                                                                                         0.387   \n",
       "Buzz Lightyear Boy's Deluxe Toy Story Costume                                                                                                          0.377   \n",
       "\n",
       "name_x                                                                                              Lindy Bop 'Ophelia' Vintage 1950's Floral Spring Garden Party Picnic Dress  \\\n",
       "name_x                                                                                                                                                                           \n",
       "Mystiqueshapes Girls Ballet Tutu Neon Lime Green                                                                                                                         0.370   \n",
       "SHINING IMAGE HUGE PINK LEATHER JEWELRY BOX / CASE / STORAGE / ORGANIZER WITH TRAVEL CASE AND LOCK                                                                       0.493   \n",
       "Learn French: Rosetta Stone French - Level 1                                                                                                                             0.371   \n",
       "Learn Italian: Rosetta Stone Italian - Level 1                                                                                                                           0.358   \n",
       "Buzz Lightyear Boy's Deluxe Toy Story Costume                                                                                                                            0.347   \n",
       "\n",
       "name_x                                                                                              Free to Live Women's Fold Over High Waisted Flowy Floor Length Maxi Skirt  \\\n",
       "name_x                                                                                                                                                                          \n",
       "Mystiqueshapes Girls Ballet Tutu Neon Lime Green                                                                                                                        0.340   \n",
       "SHINING IMAGE HUGE PINK LEATHER JEWELRY BOX / CASE / STORAGE / ORGANIZER WITH TRAVEL CASE AND LOCK                                                                      0.491   \n",
       "Learn French: Rosetta Stone French - Level 1                                                                                                                            0.369   \n",
       "Learn Italian: Rosetta Stone Italian - Level 1                                                                                                                          0.356   \n",
       "Buzz Lightyear Boy's Deluxe Toy Story Costume                                                                                                                           0.345   \n",
       "\n",
       "name_x                                                                                              Rampage Womens Ultra Cute Embroidered Heather Jersey Night Shirt (Small-3X)  \\\n",
       "name_x                                                                                                                                                                            \n",
       "Mystiqueshapes Girls Ballet Tutu Neon Lime Green                                                                                                                          0.442   \n",
       "SHINING IMAGE HUGE PINK LEATHER JEWELRY BOX / CASE / STORAGE / ORGANIZER WITH TRAVEL CASE AND LOCK                                                                        0.551   \n",
       "Learn French: Rosetta Stone French - Level 1                                                                                                                              0.448   \n",
       "Learn Italian: Rosetta Stone Italian - Level 1                                                                                                                            0.437   \n",
       "Buzz Lightyear Boy's Deluxe Toy Story Costume                                                                                                                             0.427   \n",
       "\n",
       "name_x                                                                                              14k Gold-Bonded Sterling Silver Tri-Color Hoop Earrings  \\\n",
       "name_x                                                                                                                                                        \n",
       "Mystiqueshapes Girls Ballet Tutu Neon Lime Green                                                                                                      0.429   \n",
       "SHINING IMAGE HUGE PINK LEATHER JEWELRY BOX / CASE / STORAGE / ORGANIZER WITH TRAVEL CASE AND LOCK                                                    0.518   \n",
       "Learn French: Rosetta Stone French - Level 1                                                                                                          0.402   \n",
       "Learn Italian: Rosetta Stone Italian - Level 1                                                                                                        0.390   \n",
       "Buzz Lightyear Boy's Deluxe Toy Story Costume                                                                                                         0.380   \n",
       "\n",
       "name_x                                                                                              Classic Designs Stretch Poplin Elastic Waist Cargo Capri  \\\n",
       "name_x                                                                                                                                                         \n",
       "Mystiqueshapes Girls Ballet Tutu Neon Lime Green                                                                                                       0.566   \n",
       "SHINING IMAGE HUGE PINK LEATHER JEWELRY BOX / CASE / STORAGE / ORGANIZER WITH TRAVEL CASE AND LOCK                                                     0.649   \n",
       "Learn French: Rosetta Stone French - Level 1                                                                                                           0.587   \n",
       "Learn Italian: Rosetta Stone Italian - Level 1                                                                                                         0.579   \n",
       "Buzz Lightyear Boy's Deluxe Toy Story Costume                                                                                                          0.571   \n",
       "\n",
       "name_x                                                                                              TendzArt Azules Poly Span Floral Print Full Length Long Maxi Skirt - Made in USA (Medium, Purple+Mint+Yellow)  \\\n",
       "name_x                                                                                                                                                                                                              \n",
       "Mystiqueshapes Girls Ballet Tutu Neon Lime Green                                                                                                                                                            0.387   \n",
       "SHINING IMAGE HUGE PINK LEATHER JEWELRY BOX / CASE / STORAGE / ORGANIZER WITH TRAVEL CASE AND LOCK                                                                                                          0.528   \n",
       "Learn French: Rosetta Stone French - Level 1                                                                                                                                                                0.415   \n",
       "Learn Italian: Rosetta Stone Italian - Level 1                                                                                                                                                              0.403   \n",
       "Buzz Lightyear Boy's Deluxe Toy Story Costume                                                                                                                                                               0.392   \n",
       "\n",
       "name_x                                                                                              Kenneth Cole Reaction Easy To Remember, Black, One Size  \n",
       "name_x                                                                                                                                                       \n",
       "Mystiqueshapes Girls Ballet Tutu Neon Lime Green                                                                                                      0.371  \n",
       "SHINING IMAGE HUGE PINK LEATHER JEWELRY BOX / CASE / STORAGE / ORGANIZER WITH TRAVEL CASE AND LOCK                                                    0.470  \n",
       "Learn French: Rosetta Stone French - Level 1                                                                                                          0.342  \n",
       "Learn Italian: Rosetta Stone Italian - Level 1                                                                                                        0.329  \n",
       "Buzz Lightyear Boy's Deluxe Toy Story Costume                                                                                                         0.317  \n",
       "\n",
       "[5 rows x 13732 columns]"
      ]
     },
     "execution_count": 68,
     "metadata": {},
     "output_type": "execute_result"
    }
   ],
   "source": [
    "recommender_df = pd.DataFrame(recommender2.round(3), index=cats_feats.index, columns=cats_feats.index)\n",
    "recommender_df.head()"
   ]
  },
  {
   "cell_type": "code",
   "execution_count": 69,
   "metadata": {},
   "outputs": [
    {
     "data": {
      "text/plain": [
       "(13732, 13732)"
      ]
     },
     "execution_count": 69,
     "metadata": {},
     "output_type": "execute_result"
    }
   ],
   "source": [
    "recommender_df.shape"
   ]
  },
  {
   "cell_type": "markdown",
   "metadata": {},
   "source": [
    "A search query to find the exact title of an item."
   ]
  },
  {
   "cell_type": "code",
   "execution_count": 131,
   "metadata": {},
   "outputs": [
    {
     "data": {
      "text/plain": [
       "432                                                                         Shadowline Women's Silhouette 53 Inch Sleeveless Long Gown\n",
       "1643                                                                              3 Bone Hoop Skirt Bridal Wedding Gown Slip (CH130DS)\n",
       "1761                                                        Shadowline Women's Plus-Size Silhouette 53 Inch Short Cap Sleeve Long Gown\n",
       "1783                                     SeXy Sheer Stretch Lace Nightgown Long Gown Thong Panty Set Black or Red Color: Red, ONE SIZE\n",
       "2889                                                                                Shadowline Women's Petals 53 Inch Sleeve Long Gown\n",
       "4914                                                                      Del Rossa Womens Soild Color Satin Robe, Short Dressing Gown\n",
       "4994                                                     Melissa & Doug Princess Role Play Costume Set (3 pcs)- Pink Gown, Tiara, Wand\n",
       "5435                                                                      Only Necessities Women's Plus Size Long Silky Lace-Trim Gown\n",
       "5570                                                               Long Satin Bandage Evening Gown Formal Bridesmaid Prom Dress Brooch\n",
       "6820                                                       Exquisite Form Women's Coloratura Sleepwear Short Flutter Sleeve Gown 30109\n",
       "9181                                                                                            Clarks Women's Society Gown Ankle Boot\n",
       "9388                                                                                                    Gerber Baby Girls' 2 Pack Gown\n",
       "10997    Dare to Wear Renaissance Corset Dress: Timeless Victorian Gothic Witchy Women's Gown for Everyday Halloween Cosplay Festivals\n",
       "11878                                                             Ladies Lace and Ruffle Trim Nylon Gown in 15 Solid Colors Sizes M-3X\n",
       "12375                                                                          KOH KOH Sleeve V-Neck Formal Fall Cocktail Evening Gown\n",
       "12969                                               Zehui Women Party Ball Gown Chiffon Vogue Boho Evening Long Casual Dress with Belt\n",
       "12971                                              Zehui Boho Women V-neck Floral Chiffon Beach Long Maxi Party Ball Gown Summer Dress\n",
       "13092                                                    KOH KOH Womens Long Summer Sexy One Shoulder Evening Cocktail Gown Maxi Dress\n",
       "13201                                                                          KOH KOH Sexy Sleeveless Summer Formal Flowy Casual Gown\n",
       "13556                                                                                                   Gerber Unisex Baby 2 Pack Gown\n",
       "13619                                                                                       Komar Kids Big Girls'  Jersey Gowns Purple\n",
       "Name: name, dtype: object"
      ]
     },
     "execution_count": 131,
     "metadata": {},
     "output_type": "execute_result"
    }
   ],
   "source": [
    "q = \"Gown\"\n",
    "categories.loc[categories['name'].str.contains(q), 'name'] "
   ]
  },
  {
   "cell_type": "markdown",
   "metadata": {},
   "source": [
    "Check Buzz Lightyear kid's costume again to compare to original and to the no max features model.\n"
   ]
  },
  {
   "cell_type": "code",
   "execution_count": 71,
   "metadata": {
    "scrolled": true
   },
   "outputs": [
    {
     "data": {
      "text/plain": [
       "name_x\n",
       "California Costumes Toys Hercules                             0.090\n",
       "Storybook Cinderella Prestige                                 0.090\n",
       "California Costumes Toys Vampire Girl                         0.107\n",
       "The Elder Wand, The Wand of Professor Dumbledore              0.125\n",
       "Child's Red and Black Spanish Princess Costume, Small         0.127\n",
       "Rubie's Deluxe George Washington Children's Costume, Large    0.135\n",
       "Disney Frozen Enchanting Dress - Anna                         0.135\n",
       "Thor Child Movie Hammer                                       0.136\n",
       "Spiderman Muscle - Size: Child M(7-8)                         0.147\n",
       "DC Super Heroes Child's Batgirl Costume, Large                0.153\n",
       "Name: Buzz Lightyear Boy's Deluxe Toy Story Costume, dtype: float64"
      ]
     },
     "execution_count": 71,
     "metadata": {},
     "output_type": "execute_result"
    }
   ],
   "source": [
    "recommender_df[\"Buzz Lightyear Boy's Deluxe Toy Story Costume\"].sort_values()[1:11]\n"
   ]
  },
  {
   "cell_type": "markdown",
   "metadata": {},
   "source": [
    "A pink jewelry box. "
   ]
  },
  {
   "cell_type": "code",
   "execution_count": 106,
   "metadata": {},
   "outputs": [
    {
     "data": {
      "text/plain": [
       "name_x\n",
       "Enchantmints Unicorn Music Jewelry Box                                                   0.035\n",
       "Orb Factory Sticky Mosaics: Jewelry Box                                                  0.036\n",
       "Schylling Iridescent Fairy Jewelry Box                                                   0.037\n",
       "Enchantmints Horse Ranch Music Jewelry Box                                               0.051\n",
       "Lenox Childhood Memories Ballerina Jewelry Box                                           0.051\n",
       "Schylling - Pink Jewel Jewelry Box                                                       0.057\n",
       "Schylling Iridescent Ballerina Jewelry Box                                               0.068\n",
       "Mele & Co. Renee Jewelry Box - 10.5W x 2.25H in.                                         0.083\n",
       "Sueded Jewelry Box with 24 Sections in Red - Maria - Jewelry Boxes by Mele - 0054522M    0.084\n",
       "Travelon Jewelry Roll- Leopard                                                           0.104\n",
       "Name: Fairy Tale Jewelry Box, dtype: float64"
      ]
     },
     "execution_count": 106,
     "metadata": {},
     "output_type": "execute_result"
    }
   ],
   "source": [
    "recommender_df['Fairy Tale Jewelry Box'].sort_values()[1:11]"
   ]
  },
  {
   "cell_type": "markdown",
   "metadata": {},
   "source": [
    "A baby beanie that looks like a football."
   ]
  },
  {
   "cell_type": "code",
   "execution_count": 107,
   "metadata": {},
   "outputs": [
    {
     "data": {
      "text/plain": [
       "name_x\n",
       "Zutano Unisex Baby Cozie Shaggy Hat                               0.156\n",
       "Babysoy Janey Baby Hat                                            0.191\n",
       "Lauren Madison Baby Boy Christening Socks with Cross Appliques    0.196\n",
       "Babylegs Baby Boys' Monsters Leg Warmer                           0.196\n",
       "Sunday Afternoons Kids Play Hat                                   0.207\n",
       "Mud Pie Jeweled Flower Socks                                      0.209\n",
       "Mud Pie Baby Girl's Birthday Tutu Dress                           0.210\n",
       "i play. Baby Boys' Classic Flap Sun Protection Hat                0.211\n",
       "Mud Pie Baby-Girls Newborn Tulle Puff Socks                       0.213\n",
       "Pearl iZUMi Transfer Hat                                          0.215\n",
       "Name: Mud Pie Baby Boys' Football Hat, dtype: float64"
      ]
     },
     "execution_count": 107,
     "metadata": {},
     "output_type": "execute_result"
    }
   ],
   "source": [
    "recommender_df[\"Mud Pie Baby Boys' Football Hat\"].sort_values()[1:11]"
   ]
  },
  {
   "cell_type": "markdown",
   "metadata": {},
   "source": [
    "Search by row index."
   ]
  },
  {
   "cell_type": "code",
   "execution_count": 114,
   "metadata": {},
   "outputs": [
    {
     "data": {
      "text/plain": [
       "name_x\n",
       "U.S. Polo Assn. Men's Basic Vest Small Horse                   0.157\n",
       "U.S. Polo Assn. Men's Classic Polo Shirt                       0.162\n",
       "U.S. Polo Assn. Men's Striped V-Neck T-Shirt                   0.165\n",
       "Columbia Men's Bugaboo Interchange Jacket                      0.165\n",
       "U.S. Polo Assn. Men's Striped T-shirt                          0.166\n",
       "Free Country Men's 3 in 1 Systems Jacket                       0.168\n",
       "Members Only Men's Iconic Classic Racer Jacket                 0.172\n",
       "Down Under Australian Oilskin Drover                           0.174\n",
       "U.S. Polo Assn. Men's Hoodie with Nubby Polar Fleece Lining    0.179\n",
       "U.S. Polo Assn. Men's Side Stripe Fleece Pants                 0.182\n",
       "Name: U.S. Polo Assn. Men's Short Snorkel Jacket, dtype: float64"
      ]
     },
     "execution_count": 114,
     "metadata": {},
     "output_type": "execute_result"
    }
   ],
   "source": [
    "recommender_df[\"U.S. Polo Assn. Men's Short Snorkel Jacket\"].sort_values()[1:11]"
   ]
  },
  {
   "cell_type": "code",
   "execution_count": 124,
   "metadata": {},
   "outputs": [
    {
     "data": {
      "text/plain": [
       "name_x\n",
       "Secret Wishes Star Wars Princess Leia Costume                 0.065\n",
       "Secret Wishes Maid Costume                                    0.162\n",
       "Secret Wishes Women's Adult Supergirl Costume                 0.173\n",
       "InCharacter Wretched Witch Adult Costume-                     0.202\n",
       "Secret Wishes Batman Arkham City Sexy Harley Quinn Costume    0.223\n",
       "Secret Wishes Adult Cecilia Wig                               0.232\n",
       "Secret Wishes Adult Cecilia Wig                               0.232\n",
       "DC Comics Deluxe Batgirl Adult Costume                        0.238\n",
       "Star Wars Princess Leia Costume                               0.243\n",
       "elope Where's Waldo Adult Costume Kit                         0.257\n",
       "Name: Secret Wishes Star Wars Princess Leia Prisoner Adult Costume, dtype: float64"
      ]
     },
     "execution_count": 124,
     "metadata": {},
     "output_type": "execute_result"
    }
   ],
   "source": [
    "recommender_df[\"Secret Wishes Star Wars Princess Leia Prisoner Adult Costume\"].sort_values()[1:11]"
   ]
  },
  {
   "cell_type": "code",
   "execution_count": null,
   "metadata": {},
   "outputs": [],
   "source": []
  },
  {
   "cell_type": "code",
   "execution_count": 125,
   "metadata": {},
   "outputs": [
    {
     "data": {
      "text/html": [
       "<div>\n",
       "<style scoped>\n",
       "    .dataframe tbody tr th:only-of-type {\n",
       "        vertical-align: middle;\n",
       "    }\n",
       "\n",
       "    .dataframe tbody tr th {\n",
       "        vertical-align: top;\n",
       "    }\n",
       "\n",
       "    .dataframe thead th {\n",
       "        text-align: right;\n",
       "    }\n",
       "</style>\n",
       "<table border=\"1\" class=\"dataframe\">\n",
       "  <thead>\n",
       "    <tr style=\"text-align: right;\">\n",
       "      <th></th>\n",
       "      <th>asin</th>\n",
       "      <th>name</th>\n",
       "      <th>arts_crafts_sewing</th>\n",
       "      <th>automotive</th>\n",
       "      <th>baby_products</th>\n",
       "      <th>beauty_personal_care</th>\n",
       "      <th>cell_phones_accessories</th>\n",
       "      <th>clothing_shoes_jewelry</th>\n",
       "      <th>electronics</th>\n",
       "      <th>health_household</th>\n",
       "      <th>...</th>\n",
       "      <th>trunks</th>\n",
       "      <th>umbrellas</th>\n",
       "      <th>underwear</th>\n",
       "      <th>wallets</th>\n",
       "      <th>wear_to_work</th>\n",
       "      <th>wrist_watches</th>\n",
       "      <th>arm_warmers</th>\n",
       "      <th>baseball_caps</th>\n",
       "      <th>berets</th>\n",
       "      <th>overall_mean</th>\n",
       "    </tr>\n",
       "  </thead>\n",
       "  <tbody>\n",
       "    <tr>\n",
       "      <th>2611</th>\n",
       "      <td>B001B6N6SK</td>\n",
       "      <td>Secret Wishes Star Wars Princess Leia Prisoner Adult Costume</td>\n",
       "      <td>0.0</td>\n",
       "      <td>0.0</td>\n",
       "      <td>0.0</td>\n",
       "      <td>0.0</td>\n",
       "      <td>0.0</td>\n",
       "      <td>1.0</td>\n",
       "      <td>0.0</td>\n",
       "      <td>0.0</td>\n",
       "      <td>...</td>\n",
       "      <td>0.0</td>\n",
       "      <td>0.0</td>\n",
       "      <td>0.0</td>\n",
       "      <td>0.0</td>\n",
       "      <td>0.0</td>\n",
       "      <td>0.0</td>\n",
       "      <td>0.0</td>\n",
       "      <td>0.0</td>\n",
       "      <td>0.0</td>\n",
       "      <td>3.55</td>\n",
       "    </tr>\n",
       "  </tbody>\n",
       "</table>\n",
       "<p>1 rows × 814 columns</p>\n",
       "</div>"
      ],
      "text/plain": [
       "            asin  \\\n",
       "2611  B001B6N6SK   \n",
       "\n",
       "                                                              name  \\\n",
       "2611  Secret Wishes Star Wars Princess Leia Prisoner Adult Costume   \n",
       "\n",
       "      arts_crafts_sewing  automotive  baby_products  beauty_personal_care  \\\n",
       "2611                 0.0         0.0            0.0                   0.0   \n",
       "\n",
       "      cell_phones_accessories  clothing_shoes_jewelry  electronics  \\\n",
       "2611                      0.0                     1.0          0.0   \n",
       "\n",
       "      health_household  ...  trunks  umbrellas  underwear  wallets  \\\n",
       "2611               0.0  ...     0.0        0.0        0.0      0.0   \n",
       "\n",
       "      wear_to_work  wrist_watches  arm_warmers  baseball_caps  berets  \\\n",
       "2611           0.0            0.0          0.0            0.0     0.0   \n",
       "\n",
       "      overall_mean  \n",
       "2611          3.55  \n",
       "\n",
       "[1 rows x 814 columns]"
      ]
     },
     "execution_count": 125,
     "metadata": {},
     "output_type": "execute_result"
    }
   ],
   "source": [
    "categories[categories['name'] == \"Secret Wishes Star Wars Princess Leia Prisoner Adult Costume\"]"
   ]
  },
  {
   "cell_type": "code",
   "execution_count": 75,
   "metadata": {},
   "outputs": [
    {
     "data": {
      "text/plain": [
       "{'clothing_shoes_jewelry': 1.0,\n",
       " 'skateboarding': 1.0,\n",
       " 'women': 1.0,\n",
       " 'shoes': 1.0,\n",
       " 'athletic_x': 1.0,\n",
       " 'overall_mean': 4.55,\n",
       " 'authentic': 1.0,\n",
       " 'van': 1.0}"
      ]
     },
     "execution_count": 75,
     "metadata": {},
     "output_type": "execute_result"
    }
   ],
   "source": [
    "foo = cats_feats.loc['Van Authentic'].to_dict()\n",
    "\n",
    "{k:v for k,v in foo.items() if v != 0}"
   ]
  },
  {
   "cell_type": "markdown",
   "metadata": {},
   "source": [
    "Save to csv"
   ]
  },
  {
   "cell_type": "code",
   "execution_count": 76,
   "metadata": {},
   "outputs": [],
   "source": [
    "# recommender_df.to_csv('data/recommender.csv')\n",
    "\n",
    "# recommender_df = pd.read_csv('data/recommender.csv').set_index('name_x')\n",
    "\n",
    "# list(recommender_df[\"Mud Pie Baby Boys' Football Hat\"].sort_values()[1:11].index)"
   ]
  },
  {
   "cell_type": "markdown",
   "metadata": {},
   "source": [
    "## TF-IDF"
   ]
  },
  {
   "cell_type": "markdown",
   "metadata": {},
   "source": [
    "Import & Instantiate TfIdfVectorizer"
   ]
  },
  {
   "cell_type": "code",
   "execution_count": 77,
   "metadata": {},
   "outputs": [],
   "source": [
    "# Import\n",
    "from sklearn.feature_extraction.text import TfidfVectorizer\n",
    "\n",
    "#Instantiate. Remove all color stop words \n",
    "tfidf = TfidfVectorizer(analyzer='word',\n",
    "                        stop_words=list_of_colors,\n",
    "                        binary=True,         # If True, all non-zero term counts are set to 1. however, outputs will not be only 0/1 values, only that the tf term in tf-idf is binary.\n",
    "                        ngram_range=(1, 3),\n",
    "                        max_features=10000,  # maximum number of features, n most frequent \n",
    "                        min_df=2,            # minimum number of documents a word must appear in   \n",
    "                        norm='l2',           # scores without this parameter seemed overfit, l2 is better than l1 in this case because we already have a sparse matrix\n",
    "#                        smooth_idf=False,\n",
    "#                         use_idf=False\n",
    "                   )"
   ]
  },
  {
   "cell_type": "markdown",
   "metadata": {},
   "source": [
    "Fit transform the TFI-Df to the `name_split` column"
   ]
  },
  {
   "cell_type": "code",
   "execution_count": 78,
   "metadata": {},
   "outputs": [
    {
     "name": "stderr",
     "output_type": "stream",
     "text": [
      "/Users/rachelkoenig/anaconda3/lib/python3.7/site-packages/sklearn/feature_extraction/text.py:301: UserWarning: Your stop_words may be inconsistent with your preprocessing. Tokenizing the stop words generated tokens ['acid', 'african', 'alice', 'antique', 'apple', 'army', 'ash', 'baby', 'banana', 'barn', 'bell', 'bondi', 'brick', 'bright', 'brown', 'bubble', 'burnished', 'burnt', 'camouflage', 'candy', 'car', 'carolina', 'celestial', 'charm', 'chinese', 'cobalt', 'cocoa', 'columbia', 'cool', 'cornflower', 'cotta', 'cotton', 'coyote', 'cyber', 'dark', 'deep', 'dodger', 'dune', 'dust', 'electric', 'fern', 'flamingo', 'french', 'fusion', 'go', 'gold', 'golden', 'gras', 'green', 'grey', 'gum', 'harvest', 'heart', 'hollywood', 'hot', 'hunter', 'jungle', 'kelly', 'khaki', 'lace', 'lagoon', 'lapis', 'lavender', 'lazuli', 'light', 'lime', 'mango', 'mardi', 'medium', 'mist', 'moss', 'neon', 'new', 'ocean', 'old', 'orange', 'oxford', 'pacific', 'pale', 'paradise', 'pastel', 'persian', 'pine', 'powder', 'purple', 'quick', 'reef', 'royal', 'safety', 'sap', 'sea', 'shamrock', 'sheen', 'shocking', 'sky', 'slate', 'solid', 'spring', 'steel', 'sugar', 'sweet', 'tango', 'terra', 'titanium', 'true', 'ua', 'ultra', 'vegas', 'vivid', 'wild', 'yale'] not in stop_words.\n",
      "  'stop_words.' % sorted(inconsistent))\n"
     ]
    },
    {
     "data": {
      "text/plain": [
       "(13732, 10000)"
      ]
     },
     "execution_count": 78,
     "metadata": {},
     "output_type": "execute_result"
    }
   ],
   "source": [
    "tfidf_matrix = tfidf.fit_transform(names['name_split'])\n",
    "\n",
    "#Output the shape of tfidf_matrix\n",
    "tfidf_matrix.shape"
   ]
  },
  {
   "cell_type": "code",
   "execution_count": 79,
   "metadata": {},
   "outputs": [],
   "source": [
    "tfidf_vocab = tfidf.get_feature_names()"
   ]
  },
  {
   "cell_type": "code",
   "execution_count": 80,
   "metadata": {},
   "outputs": [],
   "source": [
    "keep_words = []     # instantiate an empty list \n",
    "for word in tfidf_vocab:  # loop through the list words/strings\n",
    "    try:\n",
    "        [int(i) for i in word.split(\" \")]  # try to turn each word in the string into an integer \n",
    "    except:                               # if it gets an error = not an integer\n",
    "        keep_words.append(word)           # add it tot he keep words list"
   ]
  },
  {
   "cell_type": "code",
   "execution_count": 81,
   "metadata": {},
   "outputs": [],
   "source": [
    "feature_names_tfidf = pd.DataFrame(tfidf_matrix.toarray(),\n",
    "                         columns= tfidf.get_feature_names())"
   ]
  },
  {
   "cell_type": "code",
   "execution_count": 82,
   "metadata": {},
   "outputs": [
    {
     "data": {
      "text/html": [
       "<div>\n",
       "<style scoped>\n",
       "    .dataframe tbody tr th:only-of-type {\n",
       "        vertical-align: middle;\n",
       "    }\n",
       "\n",
       "    .dataframe tbody tr th {\n",
       "        vertical-align: top;\n",
       "    }\n",
       "\n",
       "    .dataframe thead th {\n",
       "        text-align: right;\n",
       "    }\n",
       "</style>\n",
       "<table border=\"1\" class=\"dataframe\">\n",
       "  <thead>\n",
       "    <tr style=\"text-align: right;\">\n",
       "      <th></th>\n",
       "      <th>00</th>\n",
       "      <th>00 carat</th>\n",
       "      <th>00 carat total</th>\n",
       "      <th>00g</th>\n",
       "      <th>01</th>\n",
       "      <th>02</th>\n",
       "      <th>03</th>\n",
       "      <th>05</th>\n",
       "      <th>0mm</th>\n",
       "      <th>10</th>\n",
       "      <th>...</th>\n",
       "      <th>zirconia halo</th>\n",
       "      <th>zirconia pendant</th>\n",
       "      <th>zirconia pendant necklace</th>\n",
       "      <th>zirconia ring</th>\n",
       "      <th>zirconia round</th>\n",
       "      <th>zirconia stud</th>\n",
       "      <th>zirconia stud earring</th>\n",
       "      <th>zombie</th>\n",
       "      <th>zoned</th>\n",
       "      <th>zoned support</th>\n",
       "    </tr>\n",
       "  </thead>\n",
       "  <tbody>\n",
       "    <tr>\n",
       "      <th>0</th>\n",
       "      <td>0.0</td>\n",
       "      <td>0.0</td>\n",
       "      <td>0.0</td>\n",
       "      <td>0.0</td>\n",
       "      <td>0.0</td>\n",
       "      <td>0.0</td>\n",
       "      <td>0.0</td>\n",
       "      <td>0.0</td>\n",
       "      <td>0.0</td>\n",
       "      <td>0.0</td>\n",
       "      <td>...</td>\n",
       "      <td>0.0</td>\n",
       "      <td>0.0</td>\n",
       "      <td>0.0</td>\n",
       "      <td>0.0</td>\n",
       "      <td>0.0</td>\n",
       "      <td>0.0</td>\n",
       "      <td>0.0</td>\n",
       "      <td>0.0</td>\n",
       "      <td>0.0</td>\n",
       "      <td>0.0</td>\n",
       "    </tr>\n",
       "    <tr>\n",
       "      <th>1</th>\n",
       "      <td>0.0</td>\n",
       "      <td>0.0</td>\n",
       "      <td>0.0</td>\n",
       "      <td>0.0</td>\n",
       "      <td>0.0</td>\n",
       "      <td>0.0</td>\n",
       "      <td>0.0</td>\n",
       "      <td>0.0</td>\n",
       "      <td>0.0</td>\n",
       "      <td>0.0</td>\n",
       "      <td>...</td>\n",
       "      <td>0.0</td>\n",
       "      <td>0.0</td>\n",
       "      <td>0.0</td>\n",
       "      <td>0.0</td>\n",
       "      <td>0.0</td>\n",
       "      <td>0.0</td>\n",
       "      <td>0.0</td>\n",
       "      <td>0.0</td>\n",
       "      <td>0.0</td>\n",
       "      <td>0.0</td>\n",
       "    </tr>\n",
       "    <tr>\n",
       "      <th>2</th>\n",
       "      <td>0.0</td>\n",
       "      <td>0.0</td>\n",
       "      <td>0.0</td>\n",
       "      <td>0.0</td>\n",
       "      <td>0.0</td>\n",
       "      <td>0.0</td>\n",
       "      <td>0.0</td>\n",
       "      <td>0.0</td>\n",
       "      <td>0.0</td>\n",
       "      <td>0.0</td>\n",
       "      <td>...</td>\n",
       "      <td>0.0</td>\n",
       "      <td>0.0</td>\n",
       "      <td>0.0</td>\n",
       "      <td>0.0</td>\n",
       "      <td>0.0</td>\n",
       "      <td>0.0</td>\n",
       "      <td>0.0</td>\n",
       "      <td>0.0</td>\n",
       "      <td>0.0</td>\n",
       "      <td>0.0</td>\n",
       "    </tr>\n",
       "    <tr>\n",
       "      <th>3</th>\n",
       "      <td>0.0</td>\n",
       "      <td>0.0</td>\n",
       "      <td>0.0</td>\n",
       "      <td>0.0</td>\n",
       "      <td>0.0</td>\n",
       "      <td>0.0</td>\n",
       "      <td>0.0</td>\n",
       "      <td>0.0</td>\n",
       "      <td>0.0</td>\n",
       "      <td>0.0</td>\n",
       "      <td>...</td>\n",
       "      <td>0.0</td>\n",
       "      <td>0.0</td>\n",
       "      <td>0.0</td>\n",
       "      <td>0.0</td>\n",
       "      <td>0.0</td>\n",
       "      <td>0.0</td>\n",
       "      <td>0.0</td>\n",
       "      <td>0.0</td>\n",
       "      <td>0.0</td>\n",
       "      <td>0.0</td>\n",
       "    </tr>\n",
       "    <tr>\n",
       "      <th>4</th>\n",
       "      <td>0.0</td>\n",
       "      <td>0.0</td>\n",
       "      <td>0.0</td>\n",
       "      <td>0.0</td>\n",
       "      <td>0.0</td>\n",
       "      <td>0.0</td>\n",
       "      <td>0.0</td>\n",
       "      <td>0.0</td>\n",
       "      <td>0.0</td>\n",
       "      <td>0.0</td>\n",
       "      <td>...</td>\n",
       "      <td>0.0</td>\n",
       "      <td>0.0</td>\n",
       "      <td>0.0</td>\n",
       "      <td>0.0</td>\n",
       "      <td>0.0</td>\n",
       "      <td>0.0</td>\n",
       "      <td>0.0</td>\n",
       "      <td>0.0</td>\n",
       "      <td>0.0</td>\n",
       "      <td>0.0</td>\n",
       "    </tr>\n",
       "  </tbody>\n",
       "</table>\n",
       "<p>5 rows × 10000 columns</p>\n",
       "</div>"
      ],
      "text/plain": [
       "    00  00 carat  00 carat total  00g   01   02   03   05  0mm   10  ...  \\\n",
       "0  0.0       0.0             0.0  0.0  0.0  0.0  0.0  0.0  0.0  0.0  ...   \n",
       "1  0.0       0.0             0.0  0.0  0.0  0.0  0.0  0.0  0.0  0.0  ...   \n",
       "2  0.0       0.0             0.0  0.0  0.0  0.0  0.0  0.0  0.0  0.0  ...   \n",
       "3  0.0       0.0             0.0  0.0  0.0  0.0  0.0  0.0  0.0  0.0  ...   \n",
       "4  0.0       0.0             0.0  0.0  0.0  0.0  0.0  0.0  0.0  0.0  ...   \n",
       "\n",
       "   zirconia halo  zirconia pendant  zirconia pendant necklace  zirconia ring  \\\n",
       "0            0.0               0.0                        0.0            0.0   \n",
       "1            0.0               0.0                        0.0            0.0   \n",
       "2            0.0               0.0                        0.0            0.0   \n",
       "3            0.0               0.0                        0.0            0.0   \n",
       "4            0.0               0.0                        0.0            0.0   \n",
       "\n",
       "   zirconia round  zirconia stud  zirconia stud earring  zombie  zoned  \\\n",
       "0             0.0            0.0                    0.0     0.0    0.0   \n",
       "1             0.0            0.0                    0.0     0.0    0.0   \n",
       "2             0.0            0.0                    0.0     0.0    0.0   \n",
       "3             0.0            0.0                    0.0     0.0    0.0   \n",
       "4             0.0            0.0                    0.0     0.0    0.0   \n",
       "\n",
       "   zoned support  \n",
       "0            0.0  \n",
       "1            0.0  \n",
       "2            0.0  \n",
       "3            0.0  \n",
       "4            0.0  \n",
       "\n",
       "[5 rows x 10000 columns]"
      ]
     },
     "execution_count": 82,
     "metadata": {},
     "output_type": "execute_result"
    }
   ],
   "source": [
    "feature_names_tfidf.head()"
   ]
  },
  {
   "cell_type": "code",
   "execution_count": 83,
   "metadata": {},
   "outputs": [
    {
     "data": {
      "text/plain": [
       "0.000000    13368\n",
       "0.147891        5\n",
       "0.132128        3\n",
       "0.137835        3\n",
       "0.175644        2\n",
       "Name: classic, dtype: int64"
      ]
     },
     "execution_count": 83,
     "metadata": {},
     "output_type": "execute_result"
    }
   ],
   "source": [
    "feature_names_tfidf['classic'].value_counts().head()"
   ]
  },
  {
   "cell_type": "code",
   "execution_count": 84,
   "metadata": {},
   "outputs": [],
   "source": [
    "feature_names_tfidf = feature_names_tfidf[feature_names_tfidf.columns.intersection(keep_words)]"
   ]
  },
  {
   "cell_type": "code",
   "execution_count": 85,
   "metadata": {},
   "outputs": [
    {
     "data": {
      "text/plain": [
       "(13732, 9885)"
      ]
     },
     "execution_count": 85,
     "metadata": {},
     "output_type": "execute_result"
    }
   ],
   "source": [
    "feature_names_tfidf.shape"
   ]
  },
  {
   "cell_type": "code",
   "execution_count": 86,
   "metadata": {},
   "outputs": [],
   "source": [
    "df2 = pd.merge(categories, feature_names_tfidf, right_index=True, left_index=True)"
   ]
  },
  {
   "cell_type": "code",
   "execution_count": 87,
   "metadata": {},
   "outputs": [],
   "source": [
    "df2 = df2.set_index('name_x').drop(columns='asin')"
   ]
  },
  {
   "cell_type": "code",
   "execution_count": 88,
   "metadata": {},
   "outputs": [
    {
     "data": {
      "text/html": [
       "<div>\n",
       "<style scoped>\n",
       "    .dataframe tbody tr th:only-of-type {\n",
       "        vertical-align: middle;\n",
       "    }\n",
       "\n",
       "    .dataframe tbody tr th {\n",
       "        vertical-align: top;\n",
       "    }\n",
       "\n",
       "    .dataframe thead th {\n",
       "        text-align: right;\n",
       "    }\n",
       "</style>\n",
       "<table border=\"1\" class=\"dataframe\">\n",
       "  <thead>\n",
       "    <tr style=\"text-align: right;\">\n",
       "      <th></th>\n",
       "      <th>arts_crafts_sewing</th>\n",
       "      <th>automotive</th>\n",
       "      <th>baby_products</th>\n",
       "      <th>beauty_personal_care</th>\n",
       "      <th>cell_phones_accessories</th>\n",
       "      <th>clothing_shoes_jewelry</th>\n",
       "      <th>electronics</th>\n",
       "      <th>health_household</th>\n",
       "      <th>home_kitchen</th>\n",
       "      <th>industrial_scientific</th>\n",
       "      <th>...</th>\n",
       "      <th>zirconia halo</th>\n",
       "      <th>zirconia pendant</th>\n",
       "      <th>zirconia pendant necklace</th>\n",
       "      <th>zirconia ring</th>\n",
       "      <th>zirconia round</th>\n",
       "      <th>zirconia stud</th>\n",
       "      <th>zirconia stud earring</th>\n",
       "      <th>zombie</th>\n",
       "      <th>zoned</th>\n",
       "      <th>zoned support</th>\n",
       "    </tr>\n",
       "    <tr>\n",
       "      <th>name_x</th>\n",
       "      <th></th>\n",
       "      <th></th>\n",
       "      <th></th>\n",
       "      <th></th>\n",
       "      <th></th>\n",
       "      <th></th>\n",
       "      <th></th>\n",
       "      <th></th>\n",
       "      <th></th>\n",
       "      <th></th>\n",
       "      <th></th>\n",
       "      <th></th>\n",
       "      <th></th>\n",
       "      <th></th>\n",
       "      <th></th>\n",
       "      <th></th>\n",
       "      <th></th>\n",
       "      <th></th>\n",
       "      <th></th>\n",
       "      <th></th>\n",
       "      <th></th>\n",
       "    </tr>\n",
       "  </thead>\n",
       "  <tbody>\n",
       "    <tr>\n",
       "      <th>Mystiqueshapes Girls Ballet Tutu Neon Lime Green</th>\n",
       "      <td>0.0</td>\n",
       "      <td>0.0</td>\n",
       "      <td>0.0</td>\n",
       "      <td>0.0</td>\n",
       "      <td>0.0</td>\n",
       "      <td>0.0</td>\n",
       "      <td>0.0</td>\n",
       "      <td>0.0</td>\n",
       "      <td>0.0</td>\n",
       "      <td>0.0</td>\n",
       "      <td>...</td>\n",
       "      <td>0.0</td>\n",
       "      <td>0.0</td>\n",
       "      <td>0.0</td>\n",
       "      <td>0.0</td>\n",
       "      <td>0.0</td>\n",
       "      <td>0.0</td>\n",
       "      <td>0.0</td>\n",
       "      <td>0.0</td>\n",
       "      <td>0.0</td>\n",
       "      <td>0.0</td>\n",
       "    </tr>\n",
       "    <tr>\n",
       "      <th>SHINING IMAGE HUGE PINK LEATHER JEWELRY BOX / CASE / STORAGE / ORGANIZER WITH TRAVEL CASE AND LOCK</th>\n",
       "      <td>0.0</td>\n",
       "      <td>0.0</td>\n",
       "      <td>0.0</td>\n",
       "      <td>0.0</td>\n",
       "      <td>0.0</td>\n",
       "      <td>1.0</td>\n",
       "      <td>0.0</td>\n",
       "      <td>0.0</td>\n",
       "      <td>0.0</td>\n",
       "      <td>0.0</td>\n",
       "      <td>...</td>\n",
       "      <td>0.0</td>\n",
       "      <td>0.0</td>\n",
       "      <td>0.0</td>\n",
       "      <td>0.0</td>\n",
       "      <td>0.0</td>\n",
       "      <td>0.0</td>\n",
       "      <td>0.0</td>\n",
       "      <td>0.0</td>\n",
       "      <td>0.0</td>\n",
       "      <td>0.0</td>\n",
       "    </tr>\n",
       "    <tr>\n",
       "      <th>Learn French: Rosetta Stone French - Level 1</th>\n",
       "      <td>0.0</td>\n",
       "      <td>0.0</td>\n",
       "      <td>0.0</td>\n",
       "      <td>0.0</td>\n",
       "      <td>0.0</td>\n",
       "      <td>0.0</td>\n",
       "      <td>0.0</td>\n",
       "      <td>0.0</td>\n",
       "      <td>0.0</td>\n",
       "      <td>0.0</td>\n",
       "      <td>...</td>\n",
       "      <td>0.0</td>\n",
       "      <td>0.0</td>\n",
       "      <td>0.0</td>\n",
       "      <td>0.0</td>\n",
       "      <td>0.0</td>\n",
       "      <td>0.0</td>\n",
       "      <td>0.0</td>\n",
       "      <td>0.0</td>\n",
       "      <td>0.0</td>\n",
       "      <td>0.0</td>\n",
       "    </tr>\n",
       "    <tr>\n",
       "      <th>Learn Italian: Rosetta Stone Italian - Level 1</th>\n",
       "      <td>0.0</td>\n",
       "      <td>0.0</td>\n",
       "      <td>0.0</td>\n",
       "      <td>0.0</td>\n",
       "      <td>0.0</td>\n",
       "      <td>0.0</td>\n",
       "      <td>0.0</td>\n",
       "      <td>0.0</td>\n",
       "      <td>0.0</td>\n",
       "      <td>0.0</td>\n",
       "      <td>...</td>\n",
       "      <td>0.0</td>\n",
       "      <td>0.0</td>\n",
       "      <td>0.0</td>\n",
       "      <td>0.0</td>\n",
       "      <td>0.0</td>\n",
       "      <td>0.0</td>\n",
       "      <td>0.0</td>\n",
       "      <td>0.0</td>\n",
       "      <td>0.0</td>\n",
       "      <td>0.0</td>\n",
       "    </tr>\n",
       "    <tr>\n",
       "      <th>Buzz Lightyear Boy's Deluxe Toy Story Costume</th>\n",
       "      <td>0.0</td>\n",
       "      <td>0.0</td>\n",
       "      <td>0.0</td>\n",
       "      <td>0.0</td>\n",
       "      <td>0.0</td>\n",
       "      <td>0.0</td>\n",
       "      <td>0.0</td>\n",
       "      <td>0.0</td>\n",
       "      <td>0.0</td>\n",
       "      <td>0.0</td>\n",
       "      <td>...</td>\n",
       "      <td>0.0</td>\n",
       "      <td>0.0</td>\n",
       "      <td>0.0</td>\n",
       "      <td>0.0</td>\n",
       "      <td>0.0</td>\n",
       "      <td>0.0</td>\n",
       "      <td>0.0</td>\n",
       "      <td>0.0</td>\n",
       "      <td>0.0</td>\n",
       "      <td>0.0</td>\n",
       "    </tr>\n",
       "  </tbody>\n",
       "</table>\n",
       "<p>5 rows × 10697 columns</p>\n",
       "</div>"
      ],
      "text/plain": [
       "                                                                                                    arts_crafts_sewing  \\\n",
       "name_x                                                                                                                   \n",
       "Mystiqueshapes Girls Ballet Tutu Neon Lime Green                                                                   0.0   \n",
       "SHINING IMAGE HUGE PINK LEATHER JEWELRY BOX / CASE / STORAGE / ORGANIZER WITH TRAVEL CASE AND LOCK                 0.0   \n",
       "Learn French: Rosetta Stone French - Level 1                                                                       0.0   \n",
       "Learn Italian: Rosetta Stone Italian - Level 1                                                                     0.0   \n",
       "Buzz Lightyear Boy's Deluxe Toy Story Costume                                                                      0.0   \n",
       "\n",
       "                                                                                                    automotive  \\\n",
       "name_x                                                                                                           \n",
       "Mystiqueshapes Girls Ballet Tutu Neon Lime Green                                                           0.0   \n",
       "SHINING IMAGE HUGE PINK LEATHER JEWELRY BOX / CASE / STORAGE / ORGANIZER WITH TRAVEL CASE AND LOCK         0.0   \n",
       "Learn French: Rosetta Stone French - Level 1                                                               0.0   \n",
       "Learn Italian: Rosetta Stone Italian - Level 1                                                             0.0   \n",
       "Buzz Lightyear Boy's Deluxe Toy Story Costume                                                              0.0   \n",
       "\n",
       "                                                                                                    baby_products  \\\n",
       "name_x                                                                                                              \n",
       "Mystiqueshapes Girls Ballet Tutu Neon Lime Green                                                              0.0   \n",
       "SHINING IMAGE HUGE PINK LEATHER JEWELRY BOX / CASE / STORAGE / ORGANIZER WITH TRAVEL CASE AND LOCK            0.0   \n",
       "Learn French: Rosetta Stone French - Level 1                                                                  0.0   \n",
       "Learn Italian: Rosetta Stone Italian - Level 1                                                                0.0   \n",
       "Buzz Lightyear Boy's Deluxe Toy Story Costume                                                                 0.0   \n",
       "\n",
       "                                                                                                    beauty_personal_care  \\\n",
       "name_x                                                                                                                     \n",
       "Mystiqueshapes Girls Ballet Tutu Neon Lime Green                                                                     0.0   \n",
       "SHINING IMAGE HUGE PINK LEATHER JEWELRY BOX / CASE / STORAGE / ORGANIZER WITH TRAVEL CASE AND LOCK                   0.0   \n",
       "Learn French: Rosetta Stone French - Level 1                                                                         0.0   \n",
       "Learn Italian: Rosetta Stone Italian - Level 1                                                                       0.0   \n",
       "Buzz Lightyear Boy's Deluxe Toy Story Costume                                                                        0.0   \n",
       "\n",
       "                                                                                                    cell_phones_accessories  \\\n",
       "name_x                                                                                                                        \n",
       "Mystiqueshapes Girls Ballet Tutu Neon Lime Green                                                                        0.0   \n",
       "SHINING IMAGE HUGE PINK LEATHER JEWELRY BOX / CASE / STORAGE / ORGANIZER WITH TRAVEL CASE AND LOCK                      0.0   \n",
       "Learn French: Rosetta Stone French - Level 1                                                                            0.0   \n",
       "Learn Italian: Rosetta Stone Italian - Level 1                                                                          0.0   \n",
       "Buzz Lightyear Boy's Deluxe Toy Story Costume                                                                           0.0   \n",
       "\n",
       "                                                                                                    clothing_shoes_jewelry  \\\n",
       "name_x                                                                                                                       \n",
       "Mystiqueshapes Girls Ballet Tutu Neon Lime Green                                                                       0.0   \n",
       "SHINING IMAGE HUGE PINK LEATHER JEWELRY BOX / CASE / STORAGE / ORGANIZER WITH TRAVEL CASE AND LOCK                     1.0   \n",
       "Learn French: Rosetta Stone French - Level 1                                                                           0.0   \n",
       "Learn Italian: Rosetta Stone Italian - Level 1                                                                         0.0   \n",
       "Buzz Lightyear Boy's Deluxe Toy Story Costume                                                                          0.0   \n",
       "\n",
       "                                                                                                    electronics  \\\n",
       "name_x                                                                                                            \n",
       "Mystiqueshapes Girls Ballet Tutu Neon Lime Green                                                            0.0   \n",
       "SHINING IMAGE HUGE PINK LEATHER JEWELRY BOX / CASE / STORAGE / ORGANIZER WITH TRAVEL CASE AND LOCK          0.0   \n",
       "Learn French: Rosetta Stone French - Level 1                                                                0.0   \n",
       "Learn Italian: Rosetta Stone Italian - Level 1                                                              0.0   \n",
       "Buzz Lightyear Boy's Deluxe Toy Story Costume                                                               0.0   \n",
       "\n",
       "                                                                                                    health_household  \\\n",
       "name_x                                                                                                                 \n",
       "Mystiqueshapes Girls Ballet Tutu Neon Lime Green                                                                 0.0   \n",
       "SHINING IMAGE HUGE PINK LEATHER JEWELRY BOX / CASE / STORAGE / ORGANIZER WITH TRAVEL CASE AND LOCK               0.0   \n",
       "Learn French: Rosetta Stone French - Level 1                                                                     0.0   \n",
       "Learn Italian: Rosetta Stone Italian - Level 1                                                                   0.0   \n",
       "Buzz Lightyear Boy's Deluxe Toy Story Costume                                                                    0.0   \n",
       "\n",
       "                                                                                                    home_kitchen  \\\n",
       "name_x                                                                                                             \n",
       "Mystiqueshapes Girls Ballet Tutu Neon Lime Green                                                             0.0   \n",
       "SHINING IMAGE HUGE PINK LEATHER JEWELRY BOX / CASE / STORAGE / ORGANIZER WITH TRAVEL CASE AND LOCK           0.0   \n",
       "Learn French: Rosetta Stone French - Level 1                                                                 0.0   \n",
       "Learn Italian: Rosetta Stone Italian - Level 1                                                               0.0   \n",
       "Buzz Lightyear Boy's Deluxe Toy Story Costume                                                                0.0   \n",
       "\n",
       "                                                                                                    industrial_scientific  \\\n",
       "name_x                                                                                                                      \n",
       "Mystiqueshapes Girls Ballet Tutu Neon Lime Green                                                                      0.0   \n",
       "SHINING IMAGE HUGE PINK LEATHER JEWELRY BOX / CASE / STORAGE / ORGANIZER WITH TRAVEL CASE AND LOCK                    0.0   \n",
       "Learn French: Rosetta Stone French - Level 1                                                                          0.0   \n",
       "Learn Italian: Rosetta Stone Italian - Level 1                                                                        0.0   \n",
       "Buzz Lightyear Boy's Deluxe Toy Story Costume                                                                         0.0   \n",
       "\n",
       "                                                                                                    ...  \\\n",
       "name_x                                                                                              ...   \n",
       "Mystiqueshapes Girls Ballet Tutu Neon Lime Green                                                    ...   \n",
       "SHINING IMAGE HUGE PINK LEATHER JEWELRY BOX / CASE / STORAGE / ORGANIZER WITH TRAVEL CASE AND LOCK  ...   \n",
       "Learn French: Rosetta Stone French - Level 1                                                        ...   \n",
       "Learn Italian: Rosetta Stone Italian - Level 1                                                      ...   \n",
       "Buzz Lightyear Boy's Deluxe Toy Story Costume                                                       ...   \n",
       "\n",
       "                                                                                                    zirconia halo  \\\n",
       "name_x                                                                                                              \n",
       "Mystiqueshapes Girls Ballet Tutu Neon Lime Green                                                              0.0   \n",
       "SHINING IMAGE HUGE PINK LEATHER JEWELRY BOX / CASE / STORAGE / ORGANIZER WITH TRAVEL CASE AND LOCK            0.0   \n",
       "Learn French: Rosetta Stone French - Level 1                                                                  0.0   \n",
       "Learn Italian: Rosetta Stone Italian - Level 1                                                                0.0   \n",
       "Buzz Lightyear Boy's Deluxe Toy Story Costume                                                                 0.0   \n",
       "\n",
       "                                                                                                    zirconia pendant  \\\n",
       "name_x                                                                                                                 \n",
       "Mystiqueshapes Girls Ballet Tutu Neon Lime Green                                                                 0.0   \n",
       "SHINING IMAGE HUGE PINK LEATHER JEWELRY BOX / CASE / STORAGE / ORGANIZER WITH TRAVEL CASE AND LOCK               0.0   \n",
       "Learn French: Rosetta Stone French - Level 1                                                                     0.0   \n",
       "Learn Italian: Rosetta Stone Italian - Level 1                                                                   0.0   \n",
       "Buzz Lightyear Boy's Deluxe Toy Story Costume                                                                    0.0   \n",
       "\n",
       "                                                                                                    zirconia pendant necklace  \\\n",
       "name_x                                                                                                                          \n",
       "Mystiqueshapes Girls Ballet Tutu Neon Lime Green                                                                          0.0   \n",
       "SHINING IMAGE HUGE PINK LEATHER JEWELRY BOX / CASE / STORAGE / ORGANIZER WITH TRAVEL CASE AND LOCK                        0.0   \n",
       "Learn French: Rosetta Stone French - Level 1                                                                              0.0   \n",
       "Learn Italian: Rosetta Stone Italian - Level 1                                                                            0.0   \n",
       "Buzz Lightyear Boy's Deluxe Toy Story Costume                                                                             0.0   \n",
       "\n",
       "                                                                                                    zirconia ring  \\\n",
       "name_x                                                                                                              \n",
       "Mystiqueshapes Girls Ballet Tutu Neon Lime Green                                                              0.0   \n",
       "SHINING IMAGE HUGE PINK LEATHER JEWELRY BOX / CASE / STORAGE / ORGANIZER WITH TRAVEL CASE AND LOCK            0.0   \n",
       "Learn French: Rosetta Stone French - Level 1                                                                  0.0   \n",
       "Learn Italian: Rosetta Stone Italian - Level 1                                                                0.0   \n",
       "Buzz Lightyear Boy's Deluxe Toy Story Costume                                                                 0.0   \n",
       "\n",
       "                                                                                                    zirconia round  \\\n",
       "name_x                                                                                                               \n",
       "Mystiqueshapes Girls Ballet Tutu Neon Lime Green                                                               0.0   \n",
       "SHINING IMAGE HUGE PINK LEATHER JEWELRY BOX / CASE / STORAGE / ORGANIZER WITH TRAVEL CASE AND LOCK             0.0   \n",
       "Learn French: Rosetta Stone French - Level 1                                                                   0.0   \n",
       "Learn Italian: Rosetta Stone Italian - Level 1                                                                 0.0   \n",
       "Buzz Lightyear Boy's Deluxe Toy Story Costume                                                                  0.0   \n",
       "\n",
       "                                                                                                    zirconia stud  \\\n",
       "name_x                                                                                                              \n",
       "Mystiqueshapes Girls Ballet Tutu Neon Lime Green                                                              0.0   \n",
       "SHINING IMAGE HUGE PINK LEATHER JEWELRY BOX / CASE / STORAGE / ORGANIZER WITH TRAVEL CASE AND LOCK            0.0   \n",
       "Learn French: Rosetta Stone French - Level 1                                                                  0.0   \n",
       "Learn Italian: Rosetta Stone Italian - Level 1                                                                0.0   \n",
       "Buzz Lightyear Boy's Deluxe Toy Story Costume                                                                 0.0   \n",
       "\n",
       "                                                                                                    zirconia stud earring  \\\n",
       "name_x                                                                                                                      \n",
       "Mystiqueshapes Girls Ballet Tutu Neon Lime Green                                                                      0.0   \n",
       "SHINING IMAGE HUGE PINK LEATHER JEWELRY BOX / CASE / STORAGE / ORGANIZER WITH TRAVEL CASE AND LOCK                    0.0   \n",
       "Learn French: Rosetta Stone French - Level 1                                                                          0.0   \n",
       "Learn Italian: Rosetta Stone Italian - Level 1                                                                        0.0   \n",
       "Buzz Lightyear Boy's Deluxe Toy Story Costume                                                                         0.0   \n",
       "\n",
       "                                                                                                    zombie  \\\n",
       "name_x                                                                                                       \n",
       "Mystiqueshapes Girls Ballet Tutu Neon Lime Green                                                       0.0   \n",
       "SHINING IMAGE HUGE PINK LEATHER JEWELRY BOX / CASE / STORAGE / ORGANIZER WITH TRAVEL CASE AND LOCK     0.0   \n",
       "Learn French: Rosetta Stone French - Level 1                                                           0.0   \n",
       "Learn Italian: Rosetta Stone Italian - Level 1                                                         0.0   \n",
       "Buzz Lightyear Boy's Deluxe Toy Story Costume                                                          0.0   \n",
       "\n",
       "                                                                                                    zoned  \\\n",
       "name_x                                                                                                      \n",
       "Mystiqueshapes Girls Ballet Tutu Neon Lime Green                                                      0.0   \n",
       "SHINING IMAGE HUGE PINK LEATHER JEWELRY BOX / CASE / STORAGE / ORGANIZER WITH TRAVEL CASE AND LOCK    0.0   \n",
       "Learn French: Rosetta Stone French - Level 1                                                          0.0   \n",
       "Learn Italian: Rosetta Stone Italian - Level 1                                                        0.0   \n",
       "Buzz Lightyear Boy's Deluxe Toy Story Costume                                                         0.0   \n",
       "\n",
       "                                                                                                    zoned support  \n",
       "name_x                                                                                                             \n",
       "Mystiqueshapes Girls Ballet Tutu Neon Lime Green                                                              0.0  \n",
       "SHINING IMAGE HUGE PINK LEATHER JEWELRY BOX / CASE / STORAGE / ORGANIZER WITH TRAVEL CASE AND LOCK            0.0  \n",
       "Learn French: Rosetta Stone French - Level 1                                                                  0.0  \n",
       "Learn Italian: Rosetta Stone Italian - Level 1                                                                0.0  \n",
       "Buzz Lightyear Boy's Deluxe Toy Story Costume                                                                 0.0  \n",
       "\n",
       "[5 rows x 10697 columns]"
      ]
     },
     "execution_count": 88,
     "metadata": {},
     "output_type": "execute_result"
    }
   ],
   "source": [
    "df2.head()"
   ]
  },
  {
   "cell_type": "code",
   "execution_count": 89,
   "metadata": {},
   "outputs": [
    {
     "data": {
      "text/plain": [
       "(13732, 10697)"
      ]
     },
     "execution_count": 89,
     "metadata": {},
     "output_type": "execute_result"
    }
   ],
   "source": [
    "df2.shape"
   ]
  },
  {
   "cell_type": "code",
   "execution_count": 90,
   "metadata": {},
   "outputs": [
    {
     "data": {
      "text/plain": [
       "0.000000    13368\n",
       "0.147891        5\n",
       "0.132128        3\n",
       "0.137835        3\n",
       "0.175644        2\n",
       "Name: classic, dtype: int64"
      ]
     },
     "execution_count": 90,
     "metadata": {},
     "output_type": "execute_result"
    }
   ],
   "source": [
    "df2['classic'].value_counts().head()"
   ]
  },
  {
   "cell_type": "code",
   "execution_count": 91,
   "metadata": {},
   "outputs": [],
   "source": [
    "tfidf_sparse = sparse.csr_matrix(df2.fillna(0))"
   ]
  },
  {
   "cell_type": "code",
   "execution_count": 92,
   "metadata": {},
   "outputs": [
    {
     "data": {
      "text/plain": [
       "<13732x10697 sparse matrix of type '<class 'numpy.float64'>'\n",
       "\twith 220665 stored elements in Compressed Sparse Row format>"
      ]
     },
     "execution_count": 92,
     "metadata": {},
     "output_type": "execute_result"
    }
   ],
   "source": [
    "tfidf_sparse"
   ]
  },
  {
   "cell_type": "code",
   "execution_count": 93,
   "metadata": {},
   "outputs": [],
   "source": [
    "recommender5 = pairwise_distances(df2, metric='cosine')"
   ]
  },
  {
   "cell_type": "code",
   "execution_count": 94,
   "metadata": {},
   "outputs": [
    {
     "data": {
      "text/plain": [
       "(13732, 13732)"
      ]
     },
     "execution_count": 94,
     "metadata": {},
     "output_type": "execute_result"
    }
   ],
   "source": [
    "recommender5.shape"
   ]
  },
  {
   "cell_type": "code",
   "execution_count": 95,
   "metadata": {},
   "outputs": [],
   "source": [
    "recommender_tfidf = pd.DataFrame(recommender5.round(3), index=df2.index, columns=df2.index)"
   ]
  },
  {
   "cell_type": "code",
   "execution_count": 121,
   "metadata": {},
   "outputs": [
    {
     "data": {
      "text/plain": [
       "5570    Long Satin Bandage Evening Gown Formal Bridesmaid Prom Dress Brooch\n",
       "Name: name, dtype: object"
      ]
     },
     "execution_count": 121,
     "metadata": {},
     "output_type": "execute_result"
    }
   ],
   "source": [
    "q = \"Prom Dress\"\n",
    "categories.loc[categories['name'].str.contains(q), 'name'][:]"
   ]
  },
  {
   "cell_type": "code",
   "execution_count": 97,
   "metadata": {},
   "outputs": [
    {
     "data": {
      "text/plain": [
       "name_x\n",
       "California Costumes Toys Hercules                                                                                   0.025\n",
       "California Costumes Toys Vampire Girl                                                                               0.026\n",
       "Rubies Star Wars Classic Child's Deluxe Jedi Knight Costume, Medium                                                 0.029\n",
       "Rubie's Deluxe George Washington Children's Costume, Large                                                          0.031\n",
       "Super DC Heroes Deluxe Muscle Chest Superman Costume, Child's Large                                                 0.032\n",
       "DC Comics Wonder Woman Toddler Costume Red Caped T-Shirt                                                            0.033\n",
       "Forum Novelties Sparkle Princess Costume, Toddler Size                                                              0.033\n",
       "Child's Red and Black Spanish Princess Costume, Small                                                               0.033\n",
       "Melissa & Doug Chef Role-Play Costume Set (Pretend Play, Materials, Machine-Washable, 17.5” H x 24” W x 0.75” L)    0.034\n",
       "DC Super Heroes Child's Batgirl Costume, Large                                                                      0.035\n",
       "Name: Buzz Lightyear Boy's Deluxe Toy Story Costume, dtype: float64"
      ]
     },
     "execution_count": 97,
     "metadata": {},
     "output_type": "execute_result"
    }
   ],
   "source": [
    "recommender_tfidf[\"Buzz Lightyear Boy's Deluxe Toy Story Costume\"].sort_values()[1:11]"
   ]
  },
  {
   "cell_type": "code",
   "execution_count": 130,
   "metadata": {},
   "outputs": [
    {
     "data": {
      "text/plain": [
       "name_x\n",
       "Secret Wishes Star Wars Princess Leia Costume                     0.013\n",
       "Secret Wishes Maid Costume                                        0.025\n",
       "Secret Wishes Women's Adult Supergirl Costume                     0.027\n",
       "Secret Wishes Batman Arkham City Sexy Harley Quinn Costume        0.033\n",
       "DC Comics Secret Wishes Wonder Woman Corset Costume               0.036\n",
       "DC Comics Deluxe Batgirl Adult Costume                            0.038\n",
       "InCharacter Wretched Witch Adult Costume-                         0.039\n",
       "Secret Wishes Women's Dark Knight Rises Adult Catwoman Costume    0.042\n",
       "California Costumes Deluxe Hooded Robe Adult Costume              0.043\n",
       "Name: Secret Wishes Star Wars Princess Leia Prisoner Adult Costume, dtype: float64"
      ]
     },
     "execution_count": 130,
     "metadata": {},
     "output_type": "execute_result"
    }
   ],
   "source": [
    "recommender_tfidf[\"Secret Wishes Star Wars Princess Leia Prisoner Adult Costume\"].sort_values()[1:10]"
   ]
  },
  {
   "cell_type": "code",
   "execution_count": 122,
   "metadata": {},
   "outputs": [
    {
     "data": {
      "text/plain": [
       "name_x\n",
       "Ever-Pretty Sleeveless V-Neck Semi-Formal Maxi Evening Dress 09016                  0.030\n",
       "Ever-Pretty Sleeveless V-Neck Semi-Formal Maxi Evening Dress 09016                  0.034\n",
       "50s Strapless Satin Bridesmaid Bridesmaid Dress Homecoming                          0.034\n",
       "Wild Zebra Inspired Graphic Print Beaded Halter Smocked Bodice Long/Maxi Dress      0.035\n",
       "Sakkas Stonewashed Rayon Embroidered Adjustable Spaghetti Straps Long Dress         0.036\n",
       "Arlyn Perez V Neck Floral Lace 3/4 Sleeve Cocktail Party Mini Dress                 0.036\n",
       "Columbia Women's Saturday Trail Stretch Dress                                       0.036\n",
       "Funfash Plus Size Women Blue Black Empire Waist A Line Block Long Maxi New Dress    0.036\n",
       "Funfash Plus Size Women Empire Waist A Line Slimming Cocktail Dress Made in USA     0.037\n",
       "Funfash Plus Size Women Empire Waist A Line Slimming Cocktail Dress Made in USA     0.037\n",
       "Name: Long Satin Bandage Evening Gown Formal Bridesmaid Prom Dress Brooch, dtype: float64"
      ]
     },
     "execution_count": 122,
     "metadata": {},
     "output_type": "execute_result"
    }
   ],
   "source": [
    "recommender_tfidf[\"Long Satin Bandage Evening Gown Formal Bridesmaid Prom Dress Brooch\"].sort_values()[1:11]"
   ]
  },
  {
   "cell_type": "code",
   "execution_count": 128,
   "metadata": {},
   "outputs": [
    {
     "data": {
      "text/plain": [
       "name_x\n",
       "Kanu Surf Men's Barracuda Swim Trunk                                                     0.007\n",
       "Kanu Surf Men's Barracuda Swim Trunks (Regular & Extended Sizes)                         0.010\n",
       "Speedo Surf Runner Volley Swim Trunks, Red Pepper, X-Large                               0.027\n",
       "Speedo Men's Marina Swim Trunk                                                           0.029\n",
       "Speedo Men's Marina Swim Trunk- Manufacturer Discontinued - Manufacturer Discontinued    0.032\n",
       "Zehui Mens Swimwear Sexy Sport Shorts Tie Rope Swim Trunks                               0.032\n",
       "Speedo Men's Poly Mesh Square Leg Swimsuit                                               0.048\n",
       "Kanu Surf Men's CB Rashguard UPF 50+ Swim Shirt                                          0.060\n",
       "Kanu Surf Men's Solid Rashguard UPF 50+ Swim Shirt                                       0.062\n",
       "Mens Solid Color with Racing Stripe Skate Surf Board Short/Swim Trunks                   0.076\n",
       "Name: Kanu Surf Men's Havana Swim Trunk, dtype: float64"
      ]
     },
     "execution_count": 128,
     "metadata": {},
     "output_type": "execute_result"
    }
   ],
   "source": [
    "recommender_tfidf[\"Kanu Surf Men's Havana Swim Trunk\"].sort_values()[1:11]"
   ]
  },
  {
   "cell_type": "code",
   "execution_count": 138,
   "metadata": {},
   "outputs": [
    {
     "data": {
      "text/html": [
       "<div>\n",
       "<style scoped>\n",
       "    .dataframe tbody tr th:only-of-type {\n",
       "        vertical-align: middle;\n",
       "    }\n",
       "\n",
       "    .dataframe tbody tr th {\n",
       "        vertical-align: top;\n",
       "    }\n",
       "\n",
       "    .dataframe thead th {\n",
       "        text-align: right;\n",
       "    }\n",
       "</style>\n",
       "<table border=\"1\" class=\"dataframe\">\n",
       "  <thead>\n",
       "    <tr style=\"text-align: right;\">\n",
       "      <th></th>\n",
       "      <th>asin</th>\n",
       "      <th>name</th>\n",
       "      <th>arts_crafts_sewing</th>\n",
       "      <th>automotive</th>\n",
       "      <th>baby_products</th>\n",
       "      <th>beauty_personal_care</th>\n",
       "      <th>cell_phones_accessories</th>\n",
       "      <th>clothing_shoes_jewelry</th>\n",
       "      <th>electronics</th>\n",
       "      <th>health_household</th>\n",
       "      <th>...</th>\n",
       "      <th>trunks</th>\n",
       "      <th>umbrellas</th>\n",
       "      <th>underwear</th>\n",
       "      <th>wallets</th>\n",
       "      <th>wear_to_work</th>\n",
       "      <th>wrist_watches</th>\n",
       "      <th>arm_warmers</th>\n",
       "      <th>baseball_caps</th>\n",
       "      <th>berets</th>\n",
       "      <th>overall_mean</th>\n",
       "    </tr>\n",
       "  </thead>\n",
       "  <tbody>\n",
       "    <tr>\n",
       "      <th>5205</th>\n",
       "      <td>B004DNVOW8</td>\n",
       "      <td>Kanu Surf Men's Havana Swim Trunk</td>\n",
       "      <td>0.0</td>\n",
       "      <td>0.0</td>\n",
       "      <td>0.0</td>\n",
       "      <td>0.0</td>\n",
       "      <td>0.0</td>\n",
       "      <td>1.0</td>\n",
       "      <td>0.0</td>\n",
       "      <td>0.0</td>\n",
       "      <td>...</td>\n",
       "      <td>1.0</td>\n",
       "      <td>0.0</td>\n",
       "      <td>0.0</td>\n",
       "      <td>0.0</td>\n",
       "      <td>0.0</td>\n",
       "      <td>0.0</td>\n",
       "      <td>0.0</td>\n",
       "      <td>0.0</td>\n",
       "      <td>0.0</td>\n",
       "      <td>3.86</td>\n",
       "    </tr>\n",
       "  </tbody>\n",
       "</table>\n",
       "<p>1 rows × 814 columns</p>\n",
       "</div>"
      ],
      "text/plain": [
       "            asin                               name  arts_crafts_sewing  \\\n",
       "5205  B004DNVOW8  Kanu Surf Men's Havana Swim Trunk                 0.0   \n",
       "\n",
       "      automotive  baby_products  beauty_personal_care  \\\n",
       "5205         0.0            0.0                   0.0   \n",
       "\n",
       "      cell_phones_accessories  clothing_shoes_jewelry  electronics  \\\n",
       "5205                      0.0                     1.0          0.0   \n",
       "\n",
       "      health_household  ...  trunks  umbrellas  underwear  wallets  \\\n",
       "5205               0.0  ...     1.0        0.0        0.0      0.0   \n",
       "\n",
       "      wear_to_work  wrist_watches  arm_warmers  baseball_caps  berets  \\\n",
       "5205           0.0            0.0          0.0            0.0     0.0   \n",
       "\n",
       "      overall_mean  \n",
       "5205          3.86  \n",
       "\n",
       "[1 rows x 814 columns]"
      ]
     },
     "execution_count": 138,
     "metadata": {},
     "output_type": "execute_result"
    }
   ],
   "source": [
    "categories[categories['name'] == \"Kanu Surf Men's Havana Swim Trunk\"]"
   ]
  },
  {
   "cell_type": "code",
   "execution_count": 100,
   "metadata": {
    "scrolled": true
   },
   "outputs": [
    {
     "data": {
      "text/plain": [
       "{'clothing_shoes_jewelry': 1.0,\n",
       " 'leggings': 1.0,\n",
       " 'women': 1.0,\n",
       " 'clothing_x': 1.0,\n",
       " 'overall_mean': 4.67,\n",
       " 'cute': 0.4385577715363202,\n",
       " 'kitten': 0.5380193559519271,\n",
       " 'lady': 0.33487446394786097,\n",
       " 'legging': 0.3414623253931198,\n",
       " 'space': 0.5380193559519271}"
      ]
     },
     "execution_count": 100,
     "metadata": {},
     "output_type": "execute_result"
    }
   ],
   "source": [
    "foo = df2.loc[\"Cute Space Kitten Ladies Leggings\"].to_dict()\n",
    "\n",
    "{k:v for k,v in foo.items() if v != 0}"
   ]
  },
  {
   "cell_type": "code",
   "execution_count": 101,
   "metadata": {},
   "outputs": [
    {
     "data": {
      "text/plain": [
       "{'clothing_shoes_jewelry': 1.0,\n",
       " 'leggings': 1.0,\n",
       " 'women': 1.0,\n",
       " 'clothing_x': 1.0,\n",
       " 'overall_mean': 4.36,\n",
       " 'color': 0.31743096179852204,\n",
       " 'legging': 0.39432616643279106,\n",
       " 'premium': 0.4364655720922731,\n",
       " 'warm': 0.47820533447493535,\n",
       " 'woman': 0.12969510242520035,\n",
       " 'woman premium': 0.5547441769166043}"
      ]
     },
     "execution_count": 101,
     "metadata": {},
     "output_type": "execute_result"
    }
   ],
   "source": [
    "bar = df2.loc[\"Yelete Women's Premium Color Warm Legging\"].to_dict()\n",
    "\n",
    "{k:v for k,v in bar.items() if v != 0}"
   ]
  },
  {
   "cell_type": "code",
   "execution_count": 102,
   "metadata": {},
   "outputs": [],
   "source": [
    "#recommender_tfidf.to_csv('data/tfidf_recommender.csv')"
   ]
  },
  {
   "cell_type": "code",
   "execution_count": null,
   "metadata": {},
   "outputs": [],
   "source": []
  }
 ],
 "metadata": {
  "kernelspec": {
   "display_name": "Python 3",
   "language": "python",
   "name": "python3"
  },
  "language_info": {
   "codemirror_mode": {
    "name": "ipython",
    "version": 3
   },
   "file_extension": ".py",
   "mimetype": "text/x-python",
   "name": "python",
   "nbconvert_exporter": "python",
   "pygments_lexer": "ipython3",
   "version": "3.7.3"
  }
 },
 "nbformat": 4,
 "nbformat_minor": 2
}
