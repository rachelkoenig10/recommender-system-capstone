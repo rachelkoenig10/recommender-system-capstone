{
 "cells": [
  {
   "cell_type": "code",
   "execution_count": 65,
   "metadata": {},
   "outputs": [],
   "source": [
    "from requests import get\n",
    "import requests\n",
    "from bs4 import BeautifulSoup\n",
    "\n",
    "import pandas as pd, requests\n",
    "from selenium import webdriver\n",
    "import time"
   ]
  },
  {
   "cell_type": "code",
   "execution_count": 24,
   "metadata": {},
   "outputs": [],
   "source": [
    "url = 'https://www.amazon.com/gp/product/'"
   ]
  },
  {
   "cell_type": "code",
   "execution_count": 27,
   "metadata": {},
   "outputs": [],
   "source": [
    "driver = webdriver.Chrome(executable_path=\"../chromedriver/macos/chromedriver\") "
   ]
  },
  {
   "cell_type": "code",
   "execution_count": 5,
   "metadata": {},
   "outputs": [],
   "source": [
    "soup = BeautifulSoup(driver.page_source, 'lxml')"
   ]
  },
  {
   "cell_type": "code",
   "execution_count": 6,
   "metadata": {},
   "outputs": [],
   "source": [
    "asin_set = ['B00971NLBS',\n",
    " 'B000LW1TRU',\n",
    " 'B004XG2154',\n",
    " 'B00573TJPW',\n",
    " 'B008CROQ26',\n",
    " 'B002PO5WVQ',\n",
    " 'B0083QLONK',\n",
    " 'B004NNVGNA',\n",
    " 'B00B2I96SG',\n",
    " 'B000WFZU30',\n",
    " 'B0041IXMS4',\n",
    " 'B00EK94MS8',\n",
    " 'B00023K6CW',\n",
    " 'B006786SRS',\n",
    " 'B008NQNM4O',\n",
    " 'B008SCLAW4',\n",
    " 'B008INYYTY',\n",
    " 'B0030RBFK4',\n",
    " 'B007WZJYTY',\n",
    " 'B008OQV632',\n",
    " 'B006D8SSOS',\n",
    " 'B007NYUVIM',\n",
    " 'B000XPIX74',\n",
    " 'B001GNUHEO',\n",
    " 'B00EJRG2QQ',\n",
    " 'B000W11C6I',\n",
    " 'B005QNUHA4',\n",
    " 'B00ANNGWRY',\n",
    " 'B005FN0LZQ',\n",
    " 'B00EP6T15A']"
   ]
  },
  {
   "cell_type": "code",
   "execution_count": 26,
   "metadata": {},
   "outputs": [
    {
     "data": {
      "text/plain": [
       "30"
      ]
     },
     "execution_count": 26,
     "metadata": {},
     "output_type": "execute_result"
    }
   ],
   "source": [
    "len(asin_set)"
   ]
  },
  {
   "cell_type": "code",
   "execution_count": 73,
   "metadata": {},
   "outputs": [],
   "source": [
    "sample = ['B00971NLBS','B000LW1TRU','B007NYUVIM', 'B004XG2154']"
   ]
  },
  {
   "cell_type": "code",
   "execution_count": 72,
   "metadata": {},
   "outputs": [
    {
     "data": {
      "text/plain": [
       "1564947653.9115598"
      ]
     },
     "execution_count": 72,
     "metadata": {},
     "output_type": "execute_result"
    }
   ],
   "source": [
    "t0 = time.time()\n"
   ]
  },
  {
   "cell_type": "code",
   "execution_count": 80,
   "metadata": {},
   "outputs": [
    {
     "name": "stdout",
     "output_type": "stream",
     "text": [
      "https://www.amazon.com/gp/product/B00971NLBS\n",
      "https://www.amazon.com/gp/product/B000LW1TRU\n",
      "https://www.amazon.com/gp/product/B007NYUVIM\n",
      "https://www.amazon.com/gp/product/B004XG2154\n"
     ]
    }
   ],
   "source": [
    "samplelist_of_dicts = []\n",
    "for i in sample:\n",
    "    print(f'https://www.amazon.com/gp/product/{i}')\n",
    "    driver.get(f'https://www.amazon.com/gp/product/{i}')\n",
    "    soup = BeautifulSoup(driver.page_source, 'lxml') \n",
    "    product_info = {}\n",
    "    if soup.find_all('span', {'class': 'selection'}):\n",
    "        product_info['color'] = soup.find_all('span', {'class': 'selection'})\n",
    "        samplelist_of_dicts.append(product_info)\n",
    "        time.sleep(1)\n",
    "    elif soup.find_all('div', {'class': 'a-row a-spacing-micro'}):\n",
    "        product_info['color'] = soup.find_all('div', {'class': 'a-row a-spacing-micro'})\n",
    "        samplelist_of_dicts.append(product_info)\n",
    "        time.sleep(1)\n",
    "    else: \n",
    "        product_info['color'] = 'unknown color' \n",
    "        samplelist_of_dicts.append(product_info)\n",
    "        time.sleep(1)"
   ]
  },
  {
   "cell_type": "code",
   "execution_count": 81,
   "metadata": {},
   "outputs": [
    {
     "data": {
      "text/plain": [
       "[{'color': [<span class=\"selection\">\n",
       "       \n",
       "           Little Boys\n",
       "       \n",
       "   </span>, <span class=\"selection\">\n",
       "       \n",
       "           Black\n",
       "       \n",
       "   </span>]}, {'color': [<span class=\"selection\">\n",
       "       \n",
       "           Black\n",
       "       \n",
       "   </span>, <span class=\"selection\">\n",
       "       \n",
       "           Adult / Unisex\n",
       "       \n",
       "   </span>, <span class=\"selection\">\n",
       "       \n",
       "           Full Mask\n",
       "       \n",
       "   </span>]}, {'color': 'unknown color'}, {'color': [<div class=\"a-row a-spacing-micro\">\n",
       "   <strong>\n",
       "                             Size:\n",
       "                           </strong>\n",
       "               Shoe Size: 11-15\n",
       "                       </div>,\n",
       "   <div class=\"a-row a-spacing-micro\">\n",
       "   <strong>\n",
       "                             Color:\n",
       "                           </strong>\n",
       "               White\n",
       "                       </div>]}]"
      ]
     },
     "execution_count": 81,
     "metadata": {},
     "output_type": "execute_result"
    }
   ],
   "source": [
    "samplelist_of_dicts"
   ]
  },
  {
   "cell_type": "code",
   "execution_count": 84,
   "metadata": {},
   "outputs": [
    {
     "name": "stdout",
     "output_type": "stream",
     "text": [
      "https://www.amazon.com/gp/product/B00971NLBS\n",
      "https://www.amazon.com/gp/product/B000LW1TRU\n",
      "https://www.amazon.com/gp/product/B004XG2154\n",
      "https://www.amazon.com/gp/product/B00573TJPW\n",
      "https://www.amazon.com/gp/product/B008CROQ26\n",
      "https://www.amazon.com/gp/product/B002PO5WVQ\n",
      "https://www.amazon.com/gp/product/B0083QLONK\n",
      "https://www.amazon.com/gp/product/B004NNVGNA\n",
      "https://www.amazon.com/gp/product/B00B2I96SG\n",
      "https://www.amazon.com/gp/product/B000WFZU30\n"
     ]
    }
   ],
   "source": [
    "list_of_dicts = []\n",
    "for i in asin_set[:10]:\n",
    "    print(f'https://www.amazon.com/gp/product/{i}')\n",
    "    driver.get(f'https://www.amazon.com/gp/product/{i}')\n",
    "    soup = BeautifulSoup(driver.page_source, 'lxml') \n",
    "    product_info = {}\n",
    "    try:\n",
    "        product_info['asin'] = i\n",
    "        product_info['name'] = soup.find('span', {'id':'productTitle'}).text.strip()\n",
    "\n",
    "        product_info['description'] = soup.find('ul', {'class':'a-unordered-list a-vertical a-spacing-none'}).text.strip()\n",
    "        \n",
    "        product_info['category'] = soup.find('ul', {'class': 'a-unordered-list a-horizontal a-size-small'}).text.strip()\n",
    "        \n",
    "        if soup.find_all('span', {'class': 'selection'}):\n",
    "            product_info['color'] = soup.find_all('span', {'class': 'selection'})\n",
    "            list_of_dicts.append(product_info)\n",
    "            time.sleep(1)\n",
    "        elif soup.find_all('div', {'class': 'a-row a-spacing-micro'}):\n",
    "            product_info['color'] = soup.find_all('div', {'class': 'a-row a-spacing-micro'})\n",
    "            list_of_dicts.append(product_info)\n",
    "            time.sleep(1)\n",
    "        #print(product_info)\n",
    "#         list_of_dicts.append(product_info)\n",
    "#         time.sleep(1)\n",
    "    except:\n",
    "        product_info['asin'] = i\n",
    "        \n",
    "        product_info['name'] = 'unknown product name'\n",
    "\n",
    "        product_info['description'] = 'unknown details'\n",
    "        \n",
    "        product_info['category'] = 'unknown category'\n",
    "        \n",
    "        product_info['color'] = 'unknown color' \n",
    "        list_of_dicts.append(product_info)\n",
    "        time.sleep(1)\n"
   ]
  },
  {
   "cell_type": "code",
   "execution_count": 85,
   "metadata": {},
   "outputs": [
    {
     "data": {
      "text/plain": [
       "[{'asin': 'B00971NLBS',\n",
       "  'name': \"American Exchange  Boys' Dress Shirt with Tie and Pocket Square\",\n",
       "  'description': '65% Polyester/35% Cotton\\n\\t\\t\\t\\t\\t\\t\\t\\n\\t\\t\\t\\t\\t\\t\\n \\n\\t\\t\\t\\t\\t\\t\\tImported\\n\\t\\t\\t\\t\\t\\t\\t\\n\\t\\t\\t\\t\\t\\t\\n \\n\\t\\t\\t\\t\\t\\t\\tMachine Wash\\n\\t\\t\\t\\t\\t\\t\\t\\n\\t\\t\\t\\t\\t\\t\\n \\n\\t\\t\\t\\t\\t\\t\\tThree-piece dress set featuring long-sleeve button-front shirt with coordinating tie and pocket square.\\n\\t\\t\\t\\t\\t\\t\\t\\n\\t\\t\\t\\t\\t\\t\\n \\n\\t\\t\\t\\t\\t\\t\\tPlease Note: assorted ties/pocket squares. Tie and pocket square may vary from the one pictured',\n",
       "  'category': 'Clothing, Shoes & Jewelry\\n            \\n\\n\\n             ›\\n         \\n\\n\\n                Boys\\n            \\n\\n\\n             ›\\n         \\n\\n\\n                Clothing\\n            \\n\\n\\n             ›\\n         \\n\\n\\n                Button-Down & Dress Shirts\\n            \\n\\n\\n             ›\\n         \\n\\n\\n                 Dress Shirts',\n",
       "  'color': [<span class=\"selection\">\n",
       "       \n",
       "           Little Boys\n",
       "       \n",
       "   </span>, <span class=\"selection\">\n",
       "       \n",
       "           Black\n",
       "       \n",
       "   </span>]},\n",
       " {'asin': 'B000LW1TRU',\n",
       "  'name': 'Zanheadgear WNFM114 Neoprene Full Face Mask, Black',\n",
       "  'description': 'This fits your\\xa0.\\n    \\n\\n\\n Make sure this fits\\nby entering your model number.\\n\\n\\n\\n    P.when(\"ReplacementPartsBulletLoader\").execute(function(module){ module.initializeDPX(); })\\n\\n \\n\\t\\t\\t\\t\\t\\t\\tPERFECT FIT KEEPS EARS AND NOSE WARM: Neoprene is the perfect insulator. Made with 100% Genuine Neoprene with stitched outer piping to ensure a great fit and long-lasting durability. Available in Full and Half Mask styles in a variety of patterns\\n\\t\\t\\t\\t\\t\\t\\t\\n\\t\\t\\t\\t\\t\\t\\n \\n\\t\\t\\t\\t\\t\\t\\tSUPERIOR FACE PROTECTION: Protect your head and face from the elements. Wind, dust, cold, snow, rain, you name it this mask will protect you. Perfect for chilly mornings or windy days\\n\\t\\t\\t\\t\\t\\t\\t\\n\\t\\t\\t\\t\\t\\t\\n \\n\\t\\t\\t\\t\\t\\t\\tULTRA COMFORTABLE & VERSATILE: Ideal for Motorcycling, Skiing, Running, Biking, Trekking, Mountain Climbing, Snowboarding, Airsoft paintball, Hunting, Tactical training, Cycling and other outdoor activities!\\n\\t\\t\\t\\t\\t\\t\\t\\n\\t\\t\\t\\t\\t\\t\\n \\n\\t\\t\\t\\t\\t\\t\\tBREATHABILITY: Air Vents around the nose and mouth increase breathability and help prevent eyewear from fogging\\n\\t\\t\\t\\t\\t\\t\\t\\n\\t\\t\\t\\t\\t\\t\\n \\n\\t\\t\\t\\t\\t\\t\\tREVERSIBLE: All Neoprene Facemasks can be worn with the design side out, or reversed to solid black, 2 for 1 value',\n",
       "  'category': 'Automotive\\n            \\n\\n\\n             ›\\n         \\n\\n\\n                Motorcycle & Powersports\\n            \\n\\n\\n             ›\\n         \\n\\n\\n                Protective Gear\\n            \\n\\n\\n             ›\\n         \\n\\n\\n                Riding Headwear\\n            \\n\\n\\n             ›\\n         \\n\\n\\n                 Face Masks',\n",
       "  'color': [<span class=\"selection\">\n",
       "       \n",
       "           Black\n",
       "       \n",
       "   </span>, <span class=\"selection\">\n",
       "       \n",
       "           Adult / Unisex\n",
       "       \n",
       "   </span>, <span class=\"selection\">\n",
       "       \n",
       "           Full Mask\n",
       "       \n",
       "   </span>]},\n",
       " {'asin': 'B004XG2154',\n",
       "  'name': \"Fruit Of The Loom Men's 5 Pack Crew Socks\",\n",
       "  'description': '68% Cotton, 31% Polyester, 1% Spandex\\n\\t\\t\\t\\t\\t\\t\\t\\n\\t\\t\\t\\t\\t\\t\\n \\n\\t\\t\\t\\t\\t\\t\\tMachine wash\\n\\t\\t\\t\\t\\t\\t\\t\\n\\t\\t\\t\\t\\t\\t\\n \\n\\t\\t\\t\\t\\t\\t\\tFive-pack set of crew socks with reinforced toe and heel',\n",
       "  'category': 'Clothing, Shoes & Jewelry\\n            \\n\\n\\n             ›\\n         \\n\\n\\n                Men\\n            \\n\\n\\n             ›\\n         \\n\\n\\n                Clothing\\n            \\n\\n\\n             ›\\n         \\n\\n\\n                Socks\\n            \\n\\n\\n             ›\\n         \\n\\n\\n                 Casual Socks',\n",
       "  'color': [<div class=\"a-row a-spacing-micro\">\n",
       "   <strong>\n",
       "                             Size:\n",
       "                           </strong>\n",
       "               Shoe Size: 11-15\n",
       "                       </div>, <div class=\"a-row a-spacing-micro\">\n",
       "   <strong>\n",
       "                             Color:\n",
       "                           </strong>\n",
       "               White\n",
       "                       </div>]},\n",
       " {'asin': 'B00573TJPW',\n",
       "  'name': \"Naughty Monkey Women's Rabbit Heart Wedge Boot\",\n",
       "  'description': '100% Leather\\n\\t\\t\\t\\t\\t\\t\\t\\n\\t\\t\\t\\t\\t\\t\\n \\n\\t\\t\\t\\t\\t\\t\\tRubber sole\\n\\t\\t\\t\\t\\t\\t\\t\\n\\t\\t\\t\\t\\t\\t\\n \\n\\t\\t\\t\\t\\t\\t\\tShaft measures approximately 18.5\" from arch\\n\\t\\t\\t\\t\\t\\t\\t\\n\\t\\t\\t\\t\\t\\t\\n \\n\\t\\t\\t\\t\\t\\t\\tHeel measures approximately 4\"\\n\\t\\t\\t\\t\\t\\t\\t\\n\\t\\t\\t\\t\\t\\t\\n \\n\\t\\t\\t\\t\\t\\t\\tPlatform measures approximately 1\"\\n\\t\\t\\t\\t\\t\\t\\t\\n\\t\\t\\t\\t\\t\\t\\n \\n\\t\\t\\t\\t\\t\\t\\tBoot opening measures approximately 15\" around',\n",
       "  'category': 'Clothing, Shoes & Jewelry\\n            \\n\\n\\n             ›\\n         \\n\\n\\n                Women\\n            \\n\\n\\n             ›\\n         \\n\\n\\n                Shoes\\n            \\n\\n\\n             ›\\n         \\n\\n\\n                Boots\\n            \\n\\n\\n             ›\\n         \\n\\n\\n                 Knee-High',\n",
       "  'color': [<span class=\"selection\">\n",
       "       \n",
       "           Chocolate\n",
       "       \n",
       "   </span>]},\n",
       " {'asin': 'B008CROQ26',\n",
       "  'name': 'Noble Mount Mens 2-Pack Premium Knit Sleep/Lounge Pants',\n",
       "  'description': '60% Cotton / 40% Polyester\\n\\t\\t\\t\\t\\t\\t\\t\\n\\t\\t\\t\\t\\t\\t\\n \\n\\t\\t\\t\\t\\t\\t\\tComfortable, everyday lounge pant\\n\\t\\t\\t\\t\\t\\t\\t\\n\\t\\t\\t\\t\\t\\t\\n \\n\\t\\t\\t\\t\\t\\t\\tElastic waistband with drawstring for comfort sizing\\n\\t\\t\\t\\t\\t\\t\\t\\n\\t\\t\\t\\t\\t\\t\\n \\n\\t\\t\\t\\t\\t\\t\\tTwo side seam pockets\\n\\t\\t\\t\\t\\t\\t\\t\\n\\t\\t\\t\\t\\t\\t\\n \\n\\t\\t\\t\\t\\t\\t\\tRelaxed,roomy fit to ensure maximum comfort while lounging and sleeping.\\n\\t\\t\\t\\t\\t\\t\\t\\n\\t\\t\\t\\t\\t\\t\\n \\n\\t\\t\\t\\t\\t\\t\\tIMPORTANT NOTE: NOBLE MOUNT BRANDED ITEMS ARE ONLY SOLD BY NVIE DESIGNS IN THE US. OTHER SELLERS MAY BE SELLING COUNTERFIET ITEMS. PLEASE CHECK THE SELLER BEFORE YOU PLACE THE ORDER',\n",
       "  'category': 'Clothing, Shoes & Jewelry\\n            \\n\\n\\n             ›\\n         \\n\\n\\n                Men\\n            \\n\\n\\n             ›\\n         \\n\\n\\n                Clothing\\n            \\n\\n\\n             ›\\n         \\n\\n\\n                Sleep & Lounge\\n            \\n\\n\\n             ›\\n         \\n\\n\\n                 Sleep Bottoms',\n",
       "  'color': [<div class=\"a-row a-spacing-micro\">\n",
       "   <strong>\n",
       "                             Size:\n",
       "                           </strong>\n",
       "               X-Large\n",
       "                       </div>, <div class=\"a-row a-spacing-micro\">\n",
       "   <strong>\n",
       "                             Color:\n",
       "                           </strong>\n",
       "               Charcoal/Black\n",
       "                       </div>]},\n",
       " {'asin': 'B002PO5WVQ',\n",
       "  'name': 'Watch Box for 10 Wood Finish XL Extra Large Compartments Fits 63mm Soft Cushions Clearance Glass Window',\n",
       "  'description': 'Montego Watch Storage Box For 10 Timepieces - Fits Extra Large Watches\\n\\t\\t\\t\\t\\t\\t\\t\\n\\t\\t\\t\\t\\t\\t\\n \\n\\t\\t\\t\\t\\t\\t\\tWatch Box Can be Placed on a Desk, Night Stand or Dresser. Perfect for Those who Collect Watches\\n\\t\\t\\t\\t\\t\\t\\t\\n\\t\\t\\t\\t\\t\\t\\n \\n\\t\\t\\t\\t\\t\\t\\tCompartments Hold Watches (Fits Watch Cases up to 63mm) Soft Cushions to fit Ladies and Mens Watches or Bracelets, Watch Case Provides Wide Compartments, and Clearance in Lid\\n\\t\\t\\t\\t\\t\\t\\t\\n\\t\\t\\t\\t\\t\\t\\n \\n\\t\\t\\t\\t\\t\\t\\tWood Constructed Watch Box Accommodates 10 Watches, Beige Interior, Large Storage Wells, Clearance, and See-thru\\n\\t\\t\\t\\t\\t\\t\\t\\n\\t\\t\\t\\t\\t\\t\\n \\n\\t\\t\\t\\t\\t\\t\\tWatch Case Dimension: 14.5\" L x 8.5\" W x 3.75\" H Compartment Size: L 3.75\" x W 2.5\" x H 2.75\"',\n",
       "  'category': 'Clothing, Shoes & Jewelry\\n            \\n\\n\\n             ›\\n         \\n\\n\\n                Shoe, Jewelry & Watch Accessories\\n            \\n\\n\\n             ›\\n         \\n\\n\\n                Watch Accessories\\n            \\n\\n\\n             ›\\n         \\n\\n\\n                 Cabinets & Cases',\n",
       "  'color': [<span class=\"selection\">\n",
       "       \n",
       "           Cherry\n",
       "       \n",
       "   </span>]},\n",
       " {'asin': 'B0083QLONK',\n",
       "  'name': \"Maidenform Women's Two-Hook 3/4 Inch Bra Extender\",\n",
       "  'description': '100% Nylon\\n\\t\\t\\t\\t\\t\\t\\t\\n\\t\\t\\t\\t\\t\\t\\n \\n\\t\\t\\t\\t\\t\\t\\tHook and Eye closure\\n\\t\\t\\t\\t\\t\\t\\t\\n\\t\\t\\t\\t\\t\\t\\n \\n\\t\\t\\t\\t\\t\\t\\tHand Wash\\n\\t\\t\\t\\t\\t\\t\\t\\n\\t\\t\\t\\t\\t\\t\\n \\n\\t\\t\\t\\t\\t\\t\\t1\" high\\n\\t\\t\\t\\t\\t\\t\\t\\n\\t\\t\\t\\t\\t\\t\\n \\n\\t\\t\\t\\t\\t\\t\\t8\" wide\\n\\t\\t\\t\\t\\t\\t\\t\\n\\t\\t\\t\\t\\t\\t\\n \\n\\t\\t\\t\\t\\t\\t\\tPack of three bra extenders with hook-and-eye closures\\n\\t\\t\\t\\t\\t\\t\\t\\n\\t\\t\\t\\t\\t\\t\\n \\n\\t\\t\\t\\t\\t\\t\\tHooks onto bra\\'s hook and eyes to extend the reach of bra',\n",
       "  'category': 'Clothing, Shoes & Jewelry\\n            \\n\\n\\n             ›\\n         \\n\\n\\n                Women\\n            \\n\\n\\n             ›\\n         \\n\\n\\n                Clothing\\n            \\n\\n\\n             ›\\n         \\n\\n\\n                Lingerie, Sleep & Lounge\\n            \\n\\n\\n             ›\\n         \\n\\n\\n                Lingerie\\n            \\n\\n\\n             ›\\n         \\n\\n\\n                Accessories\\n            \\n\\n\\n             ›\\n         \\n\\n\\n                 Bra Extenders',\n",
       "  'color': [<span class=\"selection\">One Size</span>,\n",
       "   <span class=\"selection\">Multi (White/Nude/Black)</span>]},\n",
       " {'asin': 'B004NNVGNA',\n",
       "  'name': \"Kamik Women's Snowfling Insulated Boot\",\n",
       "  'description': '100% Textile\\n\\t\\t\\t\\t\\t\\t\\t\\n\\t\\t\\t\\t\\t\\t\\n \\n\\t\\t\\t\\t\\t\\t\\tImported\\n\\t\\t\\t\\t\\t\\t\\t\\n\\t\\t\\t\\t\\t\\t\\n \\n\\t\\t\\t\\t\\t\\t\\tRubber sole\\n\\t\\t\\t\\t\\t\\t\\t\\n\\t\\t\\t\\t\\t\\t\\n \\n\\t\\t\\t\\t\\t\\t\\tShaft measures approximately 8.75\" from arch\\n\\t\\t\\t\\t\\t\\t\\t\\n\\t\\t\\t\\t\\t\\t\\n \\n\\t\\t\\t\\t\\t\\t\\tHeel measures approximately 0.5\"',\n",
       "  'category': 'Clothing, Shoes & Jewelry\\n            \\n\\n\\n             ›\\n         \\n\\n\\n                Women\\n            \\n\\n\\n             ›\\n         \\n\\n\\n                Shoes\\n            \\n\\n\\n             ›\\n         \\n\\n\\n                Boots\\n            \\n\\n\\n             ›\\n         \\n\\n\\n                 Mid-Calf',\n",
       "  'color': [<span class=\"selection\">\n",
       "       \n",
       "           Red\n",
       "       \n",
       "   </span>]},\n",
       " {'asin': 'B00B2I96SG',\n",
       "  'name': \"U.S. Polo Assn. Women's Signature Straight Jean\",\n",
       "  'description': '98% Cotton/2% Spandex\\n\\t\\t\\t\\t\\t\\t\\t\\n\\t\\t\\t\\t\\t\\t\\n \\n\\t\\t\\t\\t\\t\\t\\tImported\\n\\t\\t\\t\\t\\t\\t\\t\\n\\t\\t\\t\\t\\t\\t\\n \\n\\t\\t\\t\\t\\t\\t\\tMachine Wash\\n\\t\\t\\t\\t\\t\\t\\t\\n\\t\\t\\t\\t\\t\\t\\n \\n\\t\\t\\t\\t\\t\\t\\tMidrise jean with straight slightly-tapered leg featuring whiskering and fading\\n\\t\\t\\t\\t\\t\\t\\t\\n\\t\\t\\t\\t\\t\\t\\n \\n\\t\\t\\t\\t\\t\\t\\tFive-pocket styling\\n\\t\\t\\t\\t\\t\\t\\t\\n\\t\\t\\t\\t\\t\\t\\n \\n\\t\\t\\t\\t\\t\\t\\tZip fly with button',\n",
       "  'category': 'Clothing, Shoes & Jewelry\\n            \\n\\n\\n             ›\\n         \\n\\n\\n                Women\\n            \\n\\n\\n             ›\\n         \\n\\n\\n                Clothing\\n            \\n\\n\\n             ›\\n         \\n\\n\\n                 Jeans',\n",
       "  'color': [<div class=\"a-row a-spacing-micro\">\n",
       "   <strong>\n",
       "                             Size:\n",
       "                           </strong>\n",
       "               6\n",
       "                       </div>, <div class=\"a-row a-spacing-micro\">\n",
       "   <strong>\n",
       "                             Color:\n",
       "                           </strong>\n",
       "               Light Antique\n",
       "                       </div>]}]"
      ]
     },
     "execution_count": 85,
     "metadata": {},
     "output_type": "execute_result"
    }
   ],
   "source": [
    "list_of_dicts"
   ]
  },
  {
   "cell_type": "code",
   "execution_count": 87,
   "metadata": {},
   "outputs": [],
   "source": [
    "sampledf = pd.DataFrame(list_of_dicts)"
   ]
  },
  {
   "cell_type": "code",
   "execution_count": null,
   "metadata": {},
   "outputs": [],
   "source": []
  },
  {
   "cell_type": "code",
   "execution_count": 70,
   "metadata": {},
   "outputs": [],
   "source": [
    "product30 = pd.DataFrame(list_of_dicts)"
   ]
  },
  {
   "cell_type": "code",
   "execution_count": 71,
   "metadata": {},
   "outputs": [],
   "source": [
    "product30.to_csv('product30.csv')"
   ]
  },
  {
   "cell_type": "code",
   "execution_count": null,
   "metadata": {},
   "outputs": [],
   "source": []
  }
 ],
 "metadata": {
  "kernelspec": {
   "display_name": "Python 3",
   "language": "python",
   "name": "python3"
  },
  "language_info": {
   "codemirror_mode": {
    "name": "ipython",
    "version": 3
   },
   "file_extension": ".py",
   "mimetype": "text/x-python",
   "name": "python",
   "nbconvert_exporter": "python",
   "pygments_lexer": "ipython3",
   "version": "3.7.3"
  }
 },
 "nbformat": 4,
 "nbformat_minor": 2
}
